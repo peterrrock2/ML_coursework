{
 "cells": [
  {
   "attachments": {},
   "cell_type": "markdown",
   "id": "54d67933",
   "metadata": {},
   "source": [
    "# Problem Set 2 - Decision Trees, Ensemble Methods\n",
    "***\n",
    "**Name**: Peter Rock\n",
    "***\n",
    "\n",
    "This assignment is due on Canvas by **11:59PM on Wednesday February 22**.\n",
    "\n",
    "Submit only this Jupyter notebook to Canvas with the name format `PS2_<yourname>.ipynb`. Do not compress it using tar, rar, zip, etc.\n",
    "Your solutions to analysis questions should be done in Markdown directly below the associated question.\n",
    "\n",
    "Remember that you are encouraged to discuss the problems with your classmates and instructors, \n",
    "but **you must write all code and solutions on your own**, and list any people or sources consulted.\n",
    "The only exception to this rule is that you may copy code directly from your own solution to homework 1.\n",
    "***"
   ]
  },
  {
   "cell_type": "markdown",
   "id": "6b19ba6a",
   "metadata": {},
   "source": [
    "## Overview \n",
    "\n",
    "Your task for this homework is to build a decision tree classifier from scratch. Of course, we provide some initial classes\n",
    "that you'll be editing. Since last two problems will use the scikit-learn's DecisionTreeClassifier, your solution\n",
    "does not have to be efficient as long as it passes the sanity checks in a reasonable time (typically less than ~1min).\n",
    "\n",
    "We will run a small comparison between our implementation and Scikit's in Problem 2 to make sure we didn't miss anything.\n",
    "\n",
    "The third part will introduce k-fold cross validation to find out how deep is the best decision tree classifier. The last problem\n",
    "requires a _weak learner_ (implemented as `base` model), so we'll use a decision tree that yields lower performance. But with _Ensemble Methods_,\n",
    "we will be able to improve the performance by aggregating predictions from multiple weak learners.\n",
    "For the ensemble methods, we'll explore bagging, Random Forest, and boosting (AdaBoost).\n",
    "\n",
    "Any Machine Learning interview will almost certainly have a question or two about decision trees and how they're trained.\n",
    "So understanding the code and trying to implement everything on your own will be the best way to prepare for such interviews.\n",
    "\n",
    "Also remember, if your code is correct then the sanity checks should pass without any major issue.\n",
    "But if the sanity checks pass that does not necessarily imply your code is 100% correct.\n",
    "\n",
    "Happy coding!"
   ]
  },
  {
   "cell_type": "code",
   "execution_count": 1,
   "id": "4a79c515",
   "metadata": {},
   "outputs": [],
   "source": [
    "import numpy as np\n",
    "import matplotlib.pylab as plt\n",
    "import tests\n",
    "import data\n",
    "from sklearn.tree import DecisionTreeClassifier\n",
    "%matplotlib inline"
   ]
  },
  {
   "cell_type": "markdown",
   "id": "78586b46",
   "metadata": {},
   "source": [
    "### Problem 1 - Decision Trees [30 points]\n",
    "***\n",
    "The goal of this problem is to implement the core elements of the Decision Tree classifier.\n",
    "We do not expect a highly efficient implementation of the functions since the ensemble methods will use the implementation from scikit-learn.\n",
    "\n",
    "\n",
    "|Age|Salary|Colorado Resident| Has Siblings | College degree|\n",
    "|:------:|:-----------:| :----------:| :----------:|--:|\n",
    "| 37 | 44,000 | Yes | No  | Yes|\n",
    "| 61 | 52,000 | Yes | No  | No |\n",
    "| 23 | 44,000 | No  | No  | Yes|\n",
    "| 39 | 38,000 | No  | Yes | Yes|\n",
    "| 48 | 49,000 | No  | No  | Yes|\n",
    "| 57 | 92,000 | No  | Yes | No |\n",
    "| 38 | 41,000 | No  | Yes | Yes|\n",
    "| 27 | 35,000 | Yes | No  | No |\n",
    "| 23 | 26,000 | Yes | No  | No |\n",
    "| 38 | 45,000 | No  | No  | No |\n",
    "| 32 | 50,000 | No  | No  | Yes|\n",
    "| 25 | 52,000 | Yes | No  | Yes|"
   ]
  },
  {
   "cell_type": "code",
   "execution_count": 2,
   "id": "9fea8fd8",
   "metadata": {},
   "outputs": [],
   "source": [
    "features = np.array([\n",
    "    [37, 44000, 1, 0],\n",
    "    [61, 52000, 1, 0],\n",
    "    [23, 44000, 0, 0],\n",
    "    [39, 38000, 0, 1],\n",
    "    [48, 49000, 0, 0],\n",
    "    [57, 92000, 0, 1],\n",
    "    [38, 41000, 0, 1],\n",
    "    [27, 35000, 1, 0],\n",
    "    [23, 26000, 1, 0],\n",
    "    [38, 45000, 0, 0],\n",
    "    [32, 50000, 0, 0],\n",
    "    [25, 52000, 1, 0]\n",
    "])\n",
    "labels = np.array([1, 0, 1, 1, 1, 0, 1, 0, 0, 0, 1, 1])"
   ]
  },
  {
   "attachments": {},
   "cell_type": "markdown",
   "id": "0c2708ac",
   "metadata": {},
   "source": [
    "Each leaf node (terminal node) in a decision tree has a label value assigned to it. The same label will be assigned\n",
    "to all samples that reach the leaf node.\n",
    "- 1.1 [2 pts] What is the best accuracy for a baseline classifier that predicts one label for all rows on the dataset above?\n",
    "which label should it predict?"
   ]
  },
  {
   "attachments": {},
   "cell_type": "markdown",
   "id": "6688d12d",
   "metadata": {},
   "source": [
    "% Write-up for 1.1 <br>\n",
    "#BEGIN <br>\n",
    "For the baseline classifier given above, the best label to predict would be \"Yes\" for the college degree since 7/12 of \n",
    "the entries in the table have that label. This gives us an accuracy of ~58.3%\n",
    "\n",
    "#END<br>"
   ]
  },
  {
   "cell_type": "markdown",
   "id": "85ab7f5e",
   "metadata": {},
   "source": [
    "- 1.2 [3 pts] Complete `compute_label` to return the label that should be assigned to the leaf node based on training labels in `y`.\n",
    "\n",
    "If more than one label are possible, choose the one with the lowest value (e.g, if both `0` and `1` are possible,\n",
    "choose `0`)"
   ]
  },
  {
   "cell_type": "code",
   "execution_count": 3,
   "id": "56f33221",
   "metadata": {},
   "outputs": [],
   "source": [
    "class Node:\n",
    "    \"\"\"Base class for LeafNode and ParentNode\"\"\"\n",
    "    left_child = None\n",
    "    right_child = None\n",
    "    def feature_importance(self, importance_dict):\n",
    "        return importance_dict\n",
    "\n",
    "class LeafNode(Node):\n",
    "    def __init__(self, y):\n",
    "        \"\"\"\n",
    "        :param y: 1-d array containing labels, of shape (num_points,)\n",
    "        \"\"\"\n",
    "        self.label = self.compute_label(y)\n",
    "\n",
    "    @staticmethod\n",
    "    def compute_label(y):\n",
    "        \"\"\"\n",
    "        return the label that yields best performance if predicted of all instances in y\n",
    "        :param y:  1-d array containing labels\n",
    "        :return: single label, integer\n",
    "        \"\"\"\n",
    "        node_label = None\n",
    "        #Workspace 1.2\n",
    "        #TODO: Return the label that should be assigned to the leaf node\n",
    "        #In case of multiple possible labels, choose the one with the lowest value\n",
    "        #Make no assumptions about the number of class labels\n",
    "        #BEGIN\n",
    "        label_count = {}\n",
    "        for item in y:\n",
    "            label_count[item] = label_count.get(item, 0) + 1;\n",
    "            \n",
    "        max_count = max(label_count.values())\n",
    "        possible_labels = []\n",
    "        \n",
    "        for key, value in label_count.items():\n",
    "            if value == max_count:\n",
    "                possible_labels.append(key)\n",
    "        #END\n",
    "        return min(possible_labels)\n",
    "\n",
    "\n",
    "    def predict(self, x):\n",
    "        \"\"\"\n",
    "        return the label for one obervation x\n",
    "        :param x: one sample, of shape (num_features)\n",
    "        :return: label, integer\n",
    "        \"\"\"\n",
    "        return self.label"
   ]
  },
  {
   "cell_type": "code",
   "execution_count": 4,
   "id": "84bcaed5",
   "metadata": {},
   "outputs": [
    {
     "name": "stdout",
     "output_type": "stream",
     "text": [
      "Question 1.2: [PASS]\n"
     ]
    }
   ],
   "source": [
    "# Test cell, uncomment to run the tests\n",
    "tests.test_leaf(LeafNode)"
   ]
  },
  {
   "cell_type": "markdown",
   "id": "64ce396b",
   "metadata": {},
   "source": [
    "The tree also contains _parent nodes_. They can either be parents of: leaf nodes, parent nodes, or a combination of the two.\n",
    "Each parent node has a left and a right child. A parent node is used when we can reduce the impurity of the labels by splitting\n",
    "the training instances based on a certain threshold.\n",
    "\n",
    "First, we'll need to choose an impurity measure. For classification,\n",
    "there are two mainstream measures: _gini index_ and _entropy_. We'll be using the former for our implementation.\n",
    "\n",
    "\\begin{align}\n",
    "\\text{Gini}(y) = 1 - \\sum_{c}  (p_c)^2 \\text{  and  Entropy}(y) = -\\sum_{c}  p_c . \\log p_c ,\n",
    "\\end{align}\n",
    "\n",
    "where $p_c$ is the probability of occurrence (ratio)  of class $c$ among the labels in $y$. *Make sure that the log function being used for entropy is np.log() as it calculates $log_e()$*  \n",
    "\n",
    "- 1.3 [3 pts] Complete the function `gini` that returns the gini index of labels in `y`.\n",
    "\n",
    "_Hint: Make sure you handle multi-class labels\n",
    "(not just binary)._"
   ]
  },
  {
   "cell_type": "code",
   "execution_count": 5,
   "id": "02dd7e96",
   "metadata": {},
   "outputs": [],
   "source": [
    "def gini(y):\n",
    "    \"\"\"\n",
    "    :param y: 1-d array contains labels, of shape (num_points,)\n",
    "    :return: float, entropy measure of the labels\n",
    "    \"\"\"\n",
    "    # Workspace 1.3\n",
    "    #TODO: Compute the gini index of the labels\n",
    "    #BEGIN\n",
    "    label_count = {}\n",
    "    for item in y:\n",
    "        label_count[item] = label_count.get(item, 0) + 1\n",
    "    \n",
    "    gini_index = 1 - sum((float(item)/len(y))**2 for item in label_count.values())\n",
    "    #END\n",
    "    return gini_index\n"
   ]
  },
  {
   "cell_type": "code",
   "execution_count": 6,
   "id": "7aaca0a2",
   "metadata": {},
   "outputs": [
    {
     "name": "stdout",
     "output_type": "stream",
     "text": [
      "Question 1.3: [PASS]\n"
     ]
    }
   ],
   "source": [
    "# Test cell, uncomment to run the tests\n",
    "tests.test_gini(gini)"
   ]
  },
  {
   "cell_type": "markdown",
   "id": "b0ab1108",
   "metadata": {},
   "source": [
    "Now that we're at a parent node, we decide to partition our label instances in $S$ to two parts indexed by $P_1$ and $P_2$,\n",
    "and we want to compute how much this split reduces the impurity.\n",
    "\n",
    "Using the impurity measure $\\mathcal{M}$, this impurity reduction is computed as follows:\n",
    "\\begin{align}\n",
    "\\text{Reduction}(S, {P_1, P_2}) = \\mathcal{M}(S) - \\big[\n",
    "    \\frac{|P_1|}{|S|} .\\mathcal{M}(S[P_1]) + \\frac{|P_2|}{|S|}.\\mathcal{M}(S[P_2])\n",
    "    \\big],\n",
    "\\end{align}\n",
    "\n",
    "where $|A|$ denotes the size of the set $A$.\n",
    "\n",
    "The main questions will be based on the entropy measure, in which case the `Reduction` is also called _information gain_\n",
    "(reducing the entropy implies that the partitioning decision variable and the labels have a higher mutual information).\n",
    "\n",
    "-  1.4 [3 pts] Complete the `impurity_reduction` function to return the impurity reduction of the split using the provided measure."
   ]
  },
  {
   "cell_type": "code",
   "execution_count": 7,
   "id": "45773a08",
   "metadata": {},
   "outputs": [],
   "source": [
    "def impurity_reduction(y, left_indices, right_indices, impurity_measure=gini):\n",
    "    \"\"\"\n",
    "    :param y: all labels\n",
    "    :param left_indices: the indices of the elements of y that belong to the left child\n",
    "    :param right_indices: the indices of the elements of y that belong to the right child\n",
    "    :param impurity_measure: function that takes 1d-array of labels and returns the impurity measure, defaults to gini\n",
    "    :return: impurity reduction of the split\n",
    "    \"\"\"\n",
    "    impurity_reduce = 0\n",
    "    # Workspace 1.4\n",
    "    #BEGIN\n",
    "    p1 = y[left_indices]\n",
    "    p2 = y[right_indices]\n",
    "    impurity_reduce = impurity_measure(list(y)) - ( float(len(p1)/len(y))*impurity_measure(p1) + \n",
    "                                              float(len(p2)/len(y))*impurity_measure(p2) )\n",
    "\n",
    "    #END\n",
    "    return impurity_reduce"
   ]
  },
  {
   "cell_type": "code",
   "execution_count": 8,
   "id": "b17ba29f",
   "metadata": {},
   "outputs": [
    {
     "name": "stdout",
     "output_type": "stream",
     "text": [
      "Question 1.4: [PASS]\n"
     ]
    }
   ],
   "source": [
    "# Test cell, uncomment to run the tests\n",
    "tests.test_information_gain(impurity_reduction, gini)"
   ]
  },
  {
   "cell_type": "markdown",
   "id": "90c4dadd",
   "metadata": {},
   "source": [
    "We'll use `best_partition` to look up for the feature and threshold that yields the partition with the best impurity reduction.\n",
    "\n",
    "For each feature:\n",
    " - Compute all possible thresholds (use `split_values`)\n",
    " - For each threshold:\n",
    "    - Split to `(left_indices, right_indices)` based on the threshold\n",
    "    - Compute the impurity reduction of the split\n",
    "\n",
    "The function then returns the feature and the threshold that yield the best impurity reduction (and the reduction value)\n",
    "\n",
    " - 1.5 [5 pts] Complete `best_partition`.\n",
    " \n",
    " _Hint: `split_values` is provided as a helper function. It takes the feature column and returns\n",
    "the set of thresholds_"
   ]
  },
  {
   "cell_type": "code",
   "execution_count": 9,
   "id": "115b4d3a",
   "metadata": {},
   "outputs": [],
   "source": [
    "def split_values(feature_values):\n",
    "    \"\"\"\n",
    "    Helper function to return the split values. if feature consists of the values f1 < f2 < f3 then\n",
    "    this returns [(f2 + f1)/2, (f3 + f2)/2]\n",
    "    :param feature_values: 1-d array of shape (num_points)\n",
    "    :return: array of shape (max(m-1, 1),) where m is the number of unique values in feature_values\n",
    "    \"\"\"\n",
    "    unique_values = np.unique(feature_values)\n",
    "    if unique_values.shape[0] == 1:\n",
    "        return unique_values\n",
    "    return (unique_values[1:] + unique_values[:-1]) / 2\n",
    "\n",
    "\n",
    "def best_partition(X, y, impurity_measure=gini):\n",
    "    \"\"\"\n",
    "    :param X: features array, shape (num_samples, num_features)\n",
    "    :param y: labels of instances in X, shape (num_samples)\n",
    "    :param impurity_measure: function that takes 1d-array of labels and returns the impurity measure\n",
    "    :return: Return the best value and its corresponding threshold by splitting based on the different features.\n",
    "    \"\"\"\n",
    "\n",
    "    best_feature, best_threshold, best_reduction = 0, 0, -np.inf\n",
    "\n",
    "    #Workspace 1.5\n",
    "    #TODO: Complete the function as detailed in the question and return description\n",
    "    #BEGIN\n",
    "    for i in range(len(X[0])):\n",
    "        feature_values = X[:,i]\n",
    "        possible_splits = split_values(feature_values)\n",
    "        \n",
    "        \n",
    "        for threshold in possible_splits:\n",
    "            left_indices = [j for j in range(len(feature_values)) if feature_values[j] < threshold]\n",
    "            right_indices = [j for j in range(len(feature_values)) if feature_values[j] >= threshold]\n",
    "            \n",
    "            reduction = impurity_reduction(y, left_indices, right_indices, gini)\n",
    "            \n",
    "            if reduction > best_reduction:\n",
    "                best_reduction = reduction\n",
    "                best_threshold = threshold\n",
    "                best_feature = i\n",
    "            \n",
    "    #END\n",
    "    return best_feature, best_threshold, best_reduction"
   ]
  },
  {
   "cell_type": "code",
   "execution_count": 10,
   "id": "7e88a62e",
   "metadata": {},
   "outputs": [
    {
     "name": "stdout",
     "output_type": "stream",
     "text": [
      "Question 1.5: [PASS]\n"
     ]
    }
   ],
   "source": [
    "# Test cell, uncomment to run the tests\n",
    "# If you chose to not use split_values, then this test will likely fail\n",
    "tests.test_best_partition(best_partition, gini)"
   ]
  },
  {
   "cell_type": "markdown",
   "id": "5d515d5f",
   "metadata": {},
   "source": [
    "We provide the implementation of the parent node below. Note that the `left_child` will take instance for which\n",
    "`feature_id` value is < `feature_threshold`. We should construct our decision tree as such."
   ]
  },
  {
   "cell_type": "code",
   "execution_count": 11,
   "id": "6d1c2e52",
   "metadata": {},
   "outputs": [],
   "source": [
    "class ParentNode:\n",
    "\n",
    "    def __init__(self, feature_id, feature_threshold, left_child: Node, right_child: Node, weighted_impurity=0):\n",
    "        \"\"\"\n",
    "        Initialize a parent node.\n",
    "        :param feature_id: the feature index on which the splitting will be done\n",
    "        :param feature_threshold: the feature threshold. Left child takes item with features[features_id] < threshold\n",
    "        :param left_child: left child node\n",
    "        :param right_child: right child node\n",
    "        :param weighted_impurity: weighted impurity reduction, optional (used for the bonus question)\n",
    "        \"\"\"\n",
    "        self.feature_id = feature_id\n",
    "        self.threshold = feature_threshold\n",
    "        self.left_child = left_child\n",
    "        self.right_child = right_child\n",
    "        self.weighted_impurity = weighted_impurity\n",
    "\n",
    "    def feature_importance(self, importance_dict):\n",
    "        \"\"\"\n",
    "        :param importance_dict: dictionary, keys are features indices adn value are feature importances\n",
    "        :return: updated feature importrances dictionary\n",
    "        \"\"\"\n",
    "        #Workspace 2.5.a (bonus)\n",
    "        #BEGIN\n",
    "        left_weight = len(self.left_child) / (len(self.left_child) + len(self.right_child))\n",
    "        right_weight = len(self.right_child) / (len(self.left_child) + len(self.right_child))\n",
    "        importance_dict[self.feature_id] += (self.weighted_impurity * (1 - (left_weight ** 2) - (right_weight ** 2)))\n",
    "        importance_dict = self.left_child.feature_importance(importance_dict)\n",
    "        importance_dict = self.right_child.feature_importance(importance_dict)\n",
    "        #END\n",
    "        return importance_dict\n",
    "\n",
    "    def predict(self, x):\n",
    "        \"\"\"\n",
    "        Predict the label of row x. If we're a leaf node, return the value of the leaf. Otherwise, call predict\n",
    "        of the left/right child (depending on x[feature_index).\n",
    "        This will be called by DecisionTree.predict\n",
    "        :param x: 1-d array of shape (num_features)\n",
    "        :return: integer, the label for x\n",
    "        \"\"\"\n",
    "        if x[self.feature_id] < self.threshold:\n",
    "            label = self.left_child.predict(x)\n",
    "        else:\n",
    "            label = self.right_child.predict(x)\n",
    "        return label"
   ]
  },
  {
   "cell_type": "markdown",
   "id": "8998d641",
   "metadata": {},
   "source": [
    "Now we tackle the core of a decision tree. The tree is built in a recursive way. The recursion in `DecisionTree.build` works as follows:\n",
    "- Parameters: `min_samples_split`, `impurity_measure`\n",
    "- Inputs: `features`, `labels`, `depth`\n",
    "- Base case of the recursion, return a leaf node if either:\n",
    "    - `depth` is 0\n",
    "    - `labels` contains less than `min_samples_split` elements\n",
    "    - There is no impurity reduction (reduction<=0 for all splits)\n",
    "- Recursion (there is a split with impurity reduction > 0):\n",
    "    - create the left and right child nodes with `depth - 1`\n",
    "    - return the parent node\n",
    "\n",
    "The left child node will contain instances for which the feature with index `best_feature` is strictly lower than\n",
    "`best_threshold` of the partition. The right child takes the remaining instances.\n",
    "\n",
    "- 1.6 [6 pts] Complete `build` method of `DecisionTree`\n",
    "- 1.7 [2 pts] Complete the `score` method that returns the accuracy on the given data"
   ]
  },
  {
   "cell_type": "code",
   "execution_count": 12,
   "id": "5a45c1dc",
   "metadata": {},
   "outputs": [],
   "source": [
    "class DecisionTree:\n",
    "\n",
    "    def __init__(self, max_depth=-1, min_samples_split=2, impurity_measure=gini):\n",
    "        \"\"\"\n",
    "        Initialize the decision tree\n",
    "        :param max_depth: maximum depth of the tree\n",
    "        :param min_samples_split: minimum number of samples required for a split\n",
    "        :param impurity_measure: impurity measure function to use for best_partition, default to entropy\n",
    "        \"\"\"\n",
    "        self.max_depth = max_depth\n",
    "        self.min_samples_split = min_samples_split\n",
    "        self.impurity_measure = impurity_measure\n",
    "        self.root = None\n",
    "        self.num_features = None\n",
    "        \n",
    "        return\n",
    "\n",
    "    # def build(self, X, y, depth)->Node:\\\n",
    "    def build(self, X, y, depth):\n",
    "        \"\"\"\n",
    "        Recursive method used to build the decision tree nodes\n",
    "        :param X: data that are used to build the tree, of shape (num_samples, num_features)\n",
    "        :param y: labels of the samples in features, of shape (num_samples)\n",
    "        :param depth: depth of the tree to create\n",
    "        :return: the root node of the tree\n",
    "        \"\"\"\n",
    "        # Workspace 1.6\n",
    "        #BEGIN\n",
    "        # self.root = None\n",
    "        # measure = self.impurity_measure\n",
    "        # min_samples = self.min_samples_split\n",
    "        # depth = min(depth, self.max_depth)\n",
    "    \n",
    "        \n",
    "        if depth < 1 or len(y) < self.min_samples_split:\n",
    "            return LeafNode(y)\n",
    "        \n",
    "        best_feature, best_threshold, best_reduction = best_partition(X,y,self.impurity_measure)\n",
    "        \n",
    "        if best_reduction == 0:\n",
    "            return LeafNode(y)\n",
    "        \n",
    "        right_ind = np.where(X[:, best_feature] < best_threshold)\n",
    "        left_ind = np.where(X[:, best_feature] >= best_threshold)\n",
    "        \n",
    "        \n",
    "        right_data = np.delete(X, obj = right_ind, axis=0)\n",
    "        right_y = np.delete(y, obj = right_ind, axis=0)\n",
    "        left_data = np.delete(X, obj = left_ind, axis=0)\n",
    "        left_y = np.delete(y, obj = left_ind, axis=0)\n",
    "        \n",
    "        left_node = self.build(left_data,left_y,depth-1)\n",
    "        right_node = self.build(right_data,right_y,depth-1)\n",
    "        \n",
    "        \n",
    "        def imp_red(y, left_indices, right_indices, impurity_measure=self.impurity_measure):\n",
    "            impurity_reduce = 0\n",
    "            p1 = y[left_indices]\n",
    "            p2 = y[right_indices]\n",
    "            impurity_reduce = impurity_measure(y) - ( float(len(p1)/len(y))*impurity_measure(p1) + \n",
    "                                                    float(len(p2)/len(y))*impurity_measure(p2) )\n",
    "            return impurity_reduce\n",
    "        \n",
    "        impurity_red = (len(y))*imp_red(y= y, left_indices= left_ind, right_indices= right_ind)\n",
    "        \n",
    "        return ParentNode(feature_id= best_feature, feature_threshold= best_threshold, left_child= left_node, right_child= right_node, weighted_impurity= impurity_red)\n",
    "\n",
    "        # END\n",
    "\n",
    "\n",
    "    def fit(self, X, y):\n",
    "        \"\"\"\n",
    "        :param X: Training samples\n",
    "        :param y: training labels\n",
    "        :return: trained classifier\n",
    "        \"\"\"\n",
    "        self.num_features = X.shape[1]\n",
    "        self.root = self.build(X, y, self.max_depth)\n",
    "        return self\n",
    "\n",
    "    def compute_importance(self, features_names=None):\n",
    "        \"\"\"\n",
    "        Compute the normalized feature importances\n",
    "        :param features_names: Name of features to use, defaults to integers\n",
    "        :return: Dictionary with feature_name: feature_importance\n",
    "        \"\"\"\n",
    "        if features_names is None:\n",
    "            features_names = [\"feat_%i\" % i for i in range(self.num_features)]\n",
    "        feats_importances = {i:0.0 for i in range(self.num_features)} # to include\n",
    "        # Workspace 2.5.b (bonus)\n",
    "        # ToDo: Call the root's feature and importance and scale values in feats_importance to sum to 1\n",
    "        total_importances = 1\n",
    "        #BEGIN\n",
    "        def traverse_tree(node, feats_importances):\n",
    "            if isinstance(node, LeafNode):\n",
    "                return\n",
    "\n",
    "            feats_importances[node.feature_id] += node.weighted_impurity\n",
    "            traverse_tree(node.left_child, feats_importances)\n",
    "            traverse_tree(node.right_child, feats_importances)\n",
    "        \n",
    "        \n",
    "        traverse_tree(self.root, feats_importances)\n",
    "        \n",
    "        total_importance = sum(feats_importances.values())\n",
    "        feats_importances = {key: value / total_importance for key, value in feats_importances.items()}\n",
    "        #END\n",
    "        return {features_names[k] :v for k,v in feats_importances.items() if v>0}\n",
    "\n",
    "    def predict(self, X):\n",
    "        \"\"\"\n",
    "        Loops through rows of X and predicts the labels one row at a time\n",
    "        \"\"\"\n",
    "        y_hat = np.zeros((X.shape[0],), int)\n",
    "        for i in range(X.shape[0]):\n",
    "            y_hat[i] = self.root.predict(X[i])\n",
    "        return y_hat\n",
    "\n",
    "    def score(self, X, y):\n",
    "        \"\"\"\n",
    "        Return the mean accuracy on the given test data and labels.\n",
    "        :param X: Test samples, shape (num_points, num_features)\n",
    "        :param y: true labels for X, shape (num_points,)\n",
    "        :return: mean accuracy\n",
    "        \"\"\"\n",
    "        accuracy = 0\n",
    "        # Workspace 1.7\n",
    "        #BEGIN\n",
    "        y_hat = self.predict(X)\n",
    "        accuracy = np.sum(y_hat == y)/len(y)\n",
    "        #END\n",
    "        return accuracy"
   ]
  },
  {
   "cell_type": "code",
   "execution_count": 13,
   "id": "5110b85c",
   "metadata": {},
   "outputs": [
    {
     "name": "stdout",
     "output_type": "stream",
     "text": [
      "Question 1.6: [PASS]\n"
     ]
    }
   ],
   "source": [
    "# Test cell, uncomment to run the tests\n",
    "# If you chose to not use split_values, then this test will likely fail\n",
    "tests.test_tree_build(DecisionTree, gini)"
   ]
  },
  {
   "cell_type": "markdown",
   "id": "27de221c",
   "metadata": {},
   "source": [
    "- 1.8 [2 pts] We want to evaluate our `DecisionTree(max_depth=3, min_samples_split=2`.\n",
    "What's the accuracy we achieve on the training data using the tree? ( we train and evaluate using `(features, labels)`)"
   ]
  },
  {
   "cell_type": "code",
   "execution_count": 14,
   "id": "2a9c03a5",
   "metadata": {},
   "outputs": [
    {
     "name": "stdout",
     "output_type": "stream",
     "text": [
      "The accuracy on the training data set is 91.67%\n"
     ]
    }
   ],
   "source": [
    "# Workspace 1.8\n",
    "#BEGIN\n",
    "tree = DecisionTree(max_depth=3, min_samples_split=2)\n",
    "tree.fit(features, labels)\n",
    "print(f\"The accuracy on the training data set is {tree.score(features, labels)*100:0.2f}%\")\n",
    "#END"
   ]
  },
  {
   "cell_type": "markdown",
   "id": "afef1ee7",
   "metadata": {},
   "source": [
    "- 1.9 [2 pts] Using `min_samples_split=2`, what is the minimum depth so that our `DecisionTree` fits perfectly our\n",
    "training data `(labels, features)`."
   ]
  },
  {
   "cell_type": "code",
   "execution_count": 15,
   "id": "b3f30066",
   "metadata": {},
   "outputs": [
    {
     "name": "stdout",
     "output_type": "stream",
     "text": [
      "0.5833333333333334\n",
      "0.75\n",
      "0.9166666666666666\n",
      "0.9166666666666666\n",
      "0.9166666666666666\n",
      "1.0\n"
     ]
    }
   ],
   "source": [
    "# Workspace 1.9\n",
    "# To show that the minimum required depth is n, you can provide the accuracy for depth = (n-1) and depth = n\n",
    "#BEGIN\n",
    "\n",
    "score = 0\n",
    "it = 0\n",
    "\n",
    "while score != 1 and it < 10:\n",
    "    tree = DecisionTree(max_depth=it)\n",
    "    tree.fit(features, labels)\n",
    "    score = tree.score(features, labels)\n",
    "    print(score)\n",
    "    it += 1\n",
    "        \n",
    "\n",
    "\n",
    "#END"
   ]
  },
  {
   "cell_type": "markdown",
   "id": "e86af7ea",
   "metadata": {},
   "source": [
    "We provide an example below to display the structure of a decision tree. Look at print_tree() in tests.\\_\\_init\\_\\_.py to understand how this visualization is working.\n",
    "- 1.10 (2pts) Edit it to show the tree for the required minimum depth found in 1.8"
   ]
  },
  {
   "cell_type": "code",
   "execution_count": 16,
   "id": "04c048ef",
   "metadata": {},
   "outputs": [
    {
     "name": "stdout",
     "output_type": "stream",
     "text": [
      "                  ┌│label: 0\n",
      "       ┌|salary  │┘\n",
      "       │|36500.00│┐\n",
      "       │          │       ┌│label: 1\n",
      "       │          └|age  │┘\n",
      "       │           |37.50│┐\n",
      "       │                  └│label: 1\n",
      "|age  │┘\n",
      "|52.50│┐\n",
      "       └│label: 0\n"
     ]
    }
   ],
   "source": [
    "tree = DecisionTree(max_depth=3, min_samples_split=3).fit(features, labels)\n",
    "tests.print_tree(tree, [\"age\", \"salary\", \"resident\", \"siblings\"])"
   ]
  },
  {
   "cell_type": "markdown",
   "id": "cc8f63d1",
   "metadata": {},
   "source": [
    "### Problem 2: DecisionTree vs DecisionTreeClassifier [6 points]\n",
    "\n",
    "We've just showed that our decision tree is better than the naive NaiveBayes! Let see how it compares to scikit's\n",
    "DecisionTreeClassifier.\n",
    "\n",
    "First, we'll need a fancier dataset. We are going to predict the level of usage of a bike sharing system in Washington, DC using the decision trees.\n",
    "\n",
    "We start by loading preprocessed data that we'll use. Since the original Bike Sharing\n",
    " [dataset](https://archive.ics.uci.edu/ml/datasets/bike+sharing+dataset)\n",
    " is for regression, we have to transform `BikeSharing.y_train` and `BikeSharing.y_test` to discrete values reflecting the level of usage.\n",
    "We have included this dataset with the homework -- you can find it in the data directory.\n",
    "\n",
    "|Bike Rentals| Label|\n",
    "|:----------:|--:|\n",
    "| $ P < $2000|0|\n",
    "|2000$\\leq P < $ 4000| 1 |\n",
    "|4000$ \\leq P < $ 6000| 2 |\n",
    "|6000$ \\leq P $ | 3 |\n",
    "\n",
    "- 2.1 [3 pts] Start by transforming `y_train` and `y_test` of `bike_sharing` to discrete values using the provided ranges"
   ]
  },
  {
   "cell_type": "code",
   "execution_count": 17,
   "id": "0eef24c4",
   "metadata": {},
   "outputs": [
    {
     "name": "stdout",
     "output_type": "stream",
     "text": [
      "[0 1 2] (584, 12)\n",
      "[0 1 2] (147, 12)\n"
     ]
    }
   ],
   "source": [
    "bike_sharing = data.BikeSharing()\n",
    "#Workspace 2.1\n",
    "#TODO: Discretize y_train and y_test\n",
    "#BEGIN\n",
    "A1 = np.logical_and(bike_sharing.y_train >= 2000, bike_sharing.y_train < 4000).astype(int)\n",
    "A2 = np.logical_and(bike_sharing.y_train >= 4000, bike_sharing.y_train < 6000).astype(int)*2\n",
    "A3 = (bike_sharing.y_train >= 6000).astype(int)*3\n",
    "bike_sharing.y_train = np.add(A1, A2, A3)\n",
    "\n",
    "A1 = np.logical_and(bike_sharing.y_test >= 2000, bike_sharing.y_test < 4000).astype(int)\n",
    "A2 = np.logical_and(bike_sharing.y_test >= 4000, bike_sharing.y_test < 6000).astype(int)*2\n",
    "A3 = (bike_sharing.y_test >= 6000).astype(int)*3\n",
    "bike_sharing.y_test = np.add(A1, A2, A3)\n",
    "\n",
    "#END\n",
    "print(np.unique(bike_sharing.y_train), bike_sharing.X_train.shape)\n",
    "print(np.unique(bike_sharing.y_test), bike_sharing.X_test.shape)"
   ]
  },
  {
   "cell_type": "markdown",
   "id": "a442f677",
   "metadata": {},
   "source": [
    "- 2.2 [3 pts] Compare our `DecisionTree` and scikit's `DecisionTreeClassifier` on the bike sharing dataset by reporting the accuracies on the test data.\n",
    "\n",
    " [scikit's `DecisionTreeClassifier`](https://scikit-learn.org/stable/modules/generated/sklearn.tree.DecisionTreeClassifier.html)\n",
    "uses Gini Index by default and shuffles the features before each split. Refer to the documentation for more information about how to change the impurity measure if you are curious.\n",
    "\n",
    "Use `max_depth = 5, min_samples_split=2, random_state=11` for the comparison."
   ]
  },
  {
   "cell_type": "code",
   "execution_count": 18,
   "id": "f3478446",
   "metadata": {},
   "outputs": [
    {
     "name": "stdout",
     "output_type": "stream",
     "text": [
      "0.7074829931972789\n",
      "0.7074829931972789\n"
     ]
    }
   ],
   "source": [
    "# Workspace 2.2.a\n",
    "#BEGIN\n",
    "tree = DecisionTree(max_depth=5, min_samples_split=2)\n",
    "tree.fit(bike_sharing.X_train, bike_sharing.y_train)\n",
    "tree_score = tree.score(bike_sharing.X_test,bike_sharing.y_test)\n",
    "\n",
    "sktree = DecisionTreeClassifier(max_depth= 5, min_samples_split= 2, random_state= 11)\n",
    "sktree.fit(bike_sharing.X_train, bike_sharing.y_train)\n",
    "sk_score = sktree.score(bike_sharing.X_test, bike_sharing.y_test)\n",
    "\n",
    "print(tree_score)\n",
    "print(sk_score)\n",
    "#END"
   ]
  },
  {
   "attachments": {},
   "cell_type": "markdown",
   "id": "da8c1771",
   "metadata": {},
   "source": [
    "% Write-up for 2.2.b <br>\n",
    "#BEGIN <br>\n",
    "Hey look! They are the same! It's almost like we are implementing the same method.\n",
    "\n",
    "#END<br>"
   ]
  },
  {
   "cell_type": "markdown",
   "id": "baf3eab2",
   "metadata": {},
   "source": [
    "### Bonus questions\n",
    "We've implemented `DecisionTree` to handle different measures of impurity. We want now to compare our implementation\n",
    "to the standard `DecisionTreeClassifier` using Gini index.\n",
    "- **(Bonus)** 2.3  [2 pts] Complete `entropy` function\n",
    "_hint: for the log function, use `np.log` and the convention `0 * log(0) = 0`._"
   ]
  },
  {
   "cell_type": "code",
   "execution_count": 19,
   "id": "b4463621",
   "metadata": {},
   "outputs": [],
   "source": [
    "def entropy(y):\n",
    "    \"\"\"\n",
    "    :param y: 1-d array contains labels, of shape (num_points,)\n",
    "    :return: float, gini index the labels\n",
    "    \"\"\"\n",
    "    entropy_value = 0\n",
    "    # Workspace 2.3\n",
    "    #TODO: Compute the gini index of the labels in y\n",
    "    #BEGIN\n",
    "    label_counts = np.unique(y, return_counts=True)[1]\n",
    "    label_probs = label_counts / len(y)\n",
    "    for i in range(len(label_probs)):\n",
    "        if label_probs[i] != 0:\n",
    "            entropy_value -= label_probs[i]*np.log(label_probs[i])\n",
    "            \n",
    "    #END\n",
    "    return entropy_value"
   ]
  },
  {
   "cell_type": "markdown",
   "id": "cb0e489f",
   "metadata": {},
   "source": [
    "- **(Bonus)** 2.4 [2 pts] Perform the same comparison as in 2.2 with entropy but without setting the random state.\n",
    "How do you explain the result?"
   ]
  },
  {
   "cell_type": "code",
   "execution_count": 20,
   "id": "8bede95c",
   "metadata": {},
   "outputs": [
    {
     "name": "stdout",
     "output_type": "stream",
     "text": [
      "1.0872810748980641\n",
      "1.0872810748980641\n"
     ]
    }
   ],
   "source": [
    "np.random.seed(2) # to fix the randomness in DecisionTreeClassifier\n",
    "# Workspace 2.4.a\n",
    "#BEGIN\n",
    "tree = DecisionTree(max_depth=5, min_samples_split=2)\n",
    "tree.fit(bike_sharing.X_train, bike_sharing.y_train)\n",
    "tree_score = entropy(tree.predict(bike_sharing.X_test))\n",
    "\n",
    "sktree = DecisionTreeClassifier(max_depth= 5, min_samples_split= 2, random_state= 11)\n",
    "sktree.fit(bike_sharing.X_train, bike_sharing.y_train)\n",
    "sk_score = entropy(sktree.predict(bike_sharing.X_test))\n",
    "\n",
    "print(tree_score)\n",
    "print(sk_score)\n",
    "#END"
   ]
  },
  {
   "attachments": {},
   "cell_type": "markdown",
   "id": "ddcc7efe",
   "metadata": {},
   "source": [
    "% Write-up for 2.4.b <br>\n",
    "#BEGIN <br>\n",
    "Again, it looks like we are getting the same thing.\n",
    "\n",
    "#END<br>"
   ]
  },
  {
   "cell_type": "markdown",
   "id": "c8540fc0",
   "metadata": {},
   "source": [
    "**(Bonus)**\n",
    "\n",
    "Now we can be a bit more ambitious and compute the importance of each feature in our decision tree. The importance of feature $f$\n",
    "is the sum of the weighted impurity reduction of parent nodes that are split based on the feature $f$.\n",
    "\n",
    "The weighted impurity reduction of $node_i$ is the following:\n",
    "\n",
    "\\begin{align}\n",
    "\\frac{N_{\\text{node}_i}}{N_\\text{total}} \\times \\text{impurity reduction}({\\text{node}_i}),\n",
    "\\end{align}\n",
    "\n",
    "where $N$ is the total number of training samples, and $N_{\\text{node}_i}$ is the number of training samples that at $node_i$.\n",
    "\n",
    "Since we scale the feature importances in `DecisionTree` to sum to 1, we don't have to divide by $N_\\text{total}$\n",
    "and we can simply use:\n",
    "\n",
    "\\begin{align}\n",
    "\\text{weighted impurity}(\\text{node}_i) = N_{\\text{node}_i} \\times \\text{impurity reduction}({\\text{node}_i}),\n",
    "\\end{align}\n",
    "\n",
    "Practically, we use a dictionary `feats_importances` that maps feature indices to their importances.\n",
    "- Start with `feats_importance[f]=0` for all `f`\n",
    "- Start the recursion from the root node:\n",
    "    - Current node is split based on feature `i`\n",
    "    - add weighted impurity reduction to `feature_importance[i]`\n",
    "    - ask right and left child to do the same\n",
    "- Scale the values in `feats_importance` to sum to 1   \n",
    "- return `feats_importance`\n",
    "\n",
    "You can provide `weighted_impurity` directly when initializing the parent nodes in `DecisionTree.build`.\n",
    "\n",
    "- **(Bonus)** 2.5 [4 pts] Complete `ParentNode`'s `feature_importance`, `DecisionTree`'s `compute_importance`, and \n",
    "compare our implementation to that of scikits on bike sharing data.\n",
    "\n",
    "Use `random_state=0, splitter=\"best\"` for scikit and `max_depth=3`, `min_samples_split=2`, gini index for both.\n",
    "Note that scikit's DecisonTreeClassifier always uses Gini for the feature importance computation (even if `criterion` is set to Entropy)."
   ]
  },
  {
   "cell_type": "code",
   "execution_count": 21,
   "id": "0dd6e011",
   "metadata": {},
   "outputs": [
    {
     "name": "stdout",
     "output_type": "stream",
     "text": [
      "{'feat_0': 0.4335196321909901, 'feat_6': 0.007242151288705777, 'feat_7': 0.024450627160232018, 'feat_8': 0.1628433274287988, 'feat_9': 0.2972642691279419, 'feat_10': 0.07467999280333125}\n"
     ]
    },
    {
     "data": {
      "text/plain": [
       "{'feat_0': 0.48699189929686826,\n",
       " 'feat_7': 0.033216667706865294,\n",
       " 'feat_8': 0.17307448774626863,\n",
       " 'feat_9': 0.30671694524999776}"
      ]
     },
     "execution_count": 21,
     "metadata": {},
     "output_type": "execute_result"
    }
   ],
   "source": [
    "# Workspace 2.5\n",
    "# Compare feature importances of DecisionTree(gini) to DecisionTreeClassifier\n",
    "# Exclude features with 0 importance from both\n",
    "#BEGIN\n",
    "tree = DecisionTree(max_depth=5, min_samples_split=2)\n",
    "tree.fit(bike_sharing.X_train, bike_sharing.y_train)\n",
    "tree_import = tree.compute_importance()\n",
    "print(tree_import)\n",
    "\n",
    "sktree = DecisionTreeClassifier(max_depth= 3, min_samples_split= 2, random_state= 0, splitter=\"best\")\n",
    "sktree.fit(bike_sharing.X_train, bike_sharing.y_train)\n",
    "sk_import = {}\n",
    "for i in range(len(sktree.feature_importances_)):\n",
    "    if sktree.feature_importances_[i] > 0:\n",
    "        sk_import[\"feat_%i\"%i] = sktree.feature_importances_[i]\n",
    "sk_import\n",
    "#END"
   ]
  },
  {
   "cell_type": "markdown",
   "id": "3c9d2f5d",
   "metadata": {},
   "source": [
    "### Problem 3 - Model Selection via Cross Validation [16 points]\n",
    "***\n",
    "In this problem, we will be working with scikit-learn `DecisionTreeClassifier`. We want to figure out the best `max_depth`\n",
    " for our dataset.\n",
    "\n",
    "In the bike sharing dataset, we only have a training set and a test set. The question then is how do we perform the model\n",
    " selection seen in Problem Set 1?\n",
    "\n",
    "One way to do so is via **the cross validation set approach** which basically means setting aside a portion of\n",
    "our training data to use as a validation set. The goal is to use the validation set to find the best hyperparameters\n",
    "for our model (`max_depth` in the case of decision trees).\n",
    "\n",
    "- 3.1 [3 points] complete the `cross_validate` function to train the classifier on the training set and\n",
    "return the accuracy on the validation set based on provided indices."
   ]
  },
  {
   "cell_type": "code",
   "execution_count": 22,
   "id": "10a6a80a",
   "metadata": {},
   "outputs": [],
   "source": [
    "def cross_validate(classifier, X, y, train_indices, valid_indices):\n",
    "    \"\"\"\n",
    "    Train classifier on training set and validate on the validation set\n",
    "    :param classifier: the classifier to use\n",
    "    :param X: all data of shape (num_samples, num_features)\n",
    "    :param y: all labels of shape (num_samples)\n",
    "    :param train_indices:  indices to be used for training the model\n",
    "    :param valid_indices:  indices to be used for validating the model\n",
    "    :return: he accuracy of the classifier on the validation set\n",
    "    \"\"\"\n",
    "    valid_accuracy = 0\n",
    "    #Workspace 3.1\n",
    "    #TODO: train and validate the model based on provided indices\n",
    "    #Hint: use score method of the classifier\n",
    "    #BEGIN \n",
    "    classifier.fit(X[train_indices], y[train_indices])\n",
    "    valid_accuracy = classifier.score(X[valid_indices], y[valid_indices])\n",
    "    #END\n",
    "    return valid_accuracy"
   ]
  },
  {
   "cell_type": "markdown",
   "id": "c3be981d",
   "metadata": {},
   "source": [
    "- 3.2 [2 points] Report the validation accuracy using the validation set approach for scikit-learn `DecisionTreeClassifier` with `max_depth=3`\n",
    " when using the last 100 training points as a validation set and the rest as training set."
   ]
  },
  {
   "cell_type": "code",
   "execution_count": 23,
   "id": "89fc7e4c",
   "metadata": {},
   "outputs": [
    {
     "name": "stdout",
     "output_type": "stream",
     "text": [
      "The validation accuracy is 0.75\n"
     ]
    }
   ],
   "source": [
    "#Workspace 3.2\n",
    "#TODO: Report the cross validation accuracy using the last 100 training points as validation set\n",
    "#and the rest of the training points as training\n",
    "#BEGIN \n",
    "l = len(bike_sharing.X_train)\n",
    "end = l - 100\n",
    "\n",
    "sk_tree = DecisionTreeClassifier(max_depth=3)\n",
    "score = cross_validate(sk_tree, bike_sharing.X_train, bike_sharing.y_train, np.arange(0,end), np.arange(end,l))\n",
    "\n",
    "print(f\"The validation accuracy is {score}\")\n",
    "#END"
   ]
  },
  {
   "cell_type": "markdown",
   "id": "c337cc29",
   "metadata": {},
   "source": [
    "The issue with the validation set approach is that we're reducing the size of our training data,\n",
    " and the lower number of samples implies higher uncertainty.\n",
    "\n",
    "A work-around is to use *k-fold cross validation*.\n",
    "We start by partitioning the training data into k different and equally size partitions.\n",
    "Then for each of the k runs, we keep a different chunk for the validation while using the remaining k-1 for training.\n",
    "We note the validation accuracy during each of the k runs.\n",
    "\n",
    "After each of the k-folds has been used as a validation set, the average of the k recorded accuracies becomes the performance of our model.\n",
    "The k-fold cross validation method gives us a better estimate on how well the model would perform on new unseen data\n",
    " (test set) while allowing it to train on a larger portion of the dataset.\n",
    "- 3.3 [5 points] Complete `k_fold_cv`. Use the helper function `generate_folds` that generates the partition of indices to k different chunks."
   ]
  },
  {
   "cell_type": "code",
   "execution_count": 24,
   "id": "bea027e1",
   "metadata": {},
   "outputs": [],
   "source": [
    "def generate_folds(size, k):\n",
    "    \"\"\"\n",
    "    Shuffles and partition range(size) to to k contiguous chunks then generates the train/valid indices for the k-fold\n",
    "    To use as a generator, for an example run:\n",
    "        for train_idx, valid_idx in generate_folds(10,3): print(train_idx, valid_idx)\n",
    "    :param size: size of the range that should be split\n",
    "    :param k: number of folds\n",
    "    :return: iterable of different k splits, each is a tuple (train_indices, valid_indices)\n",
    "             where len(valid_indices)~ size/k\n",
    "    \"\"\"\n",
    "    permutation = np.random.RandomState(seed=42).permutation(size)\n",
    "    split_sizes = [size//k + (i < (size % k)) for i in range(k)] # we split the remainder amongst the first folds\n",
    "    start = 0\n",
    "    for i in range(k):\n",
    "        # valid indices of i-th split for which start <= σ < start + size_split[i]\n",
    "        # for_valid is True in position where condition is true, False otherwise\n",
    "        for_valid = np.logical_and(start<= permutation, permutation< start + split_sizes[i])\n",
    "        start += split_sizes[i] # update the start of the fold\n",
    "        valid_indices = np.where(for_valid)[0]\n",
    "        # train indices of i-th split for which σ <start or  start + size_split[i] <= σ\n",
    "        # ~bool_array is negation of bool_array\n",
    "        train_indices = np.where(~for_valid)[0]\n",
    "        yield train_indices, valid_indices\n",
    "\n",
    "def k_fold_cv(classifier, k, X, y):\n",
    "    \"\"\"\n",
    "    This function performs k-fold cross validation\n",
    "    :param classifier: a classifier to be used\n",
    "    :param k: number of folds\n",
    "    :param X: all training data of shape (num_samples, num_features)\n",
    "    :param y: all labels of shape (num_samples)\n",
    "    :return: the average accuracy of the classifier in k-runs\n",
    "    \"\"\"\n",
    "    mean_accuracy = 0\n",
    "    #Workspace 3.3\n",
    "    #BEGIN\n",
    "    folds = generate_folds(len(X), k)\n",
    "    for train_indices, valid_indices in folds:\n",
    "        mean_accuracy += cross_validate(classifier, X, y, train_indices, valid_indices)\n",
    "    \n",
    "    mean_accuracy /=  k\n",
    "    #END\n",
    "    return mean_accuracy"
   ]
  },
  {
   "cell_type": "markdown",
   "id": "d5ef576d",
   "metadata": {},
   "source": [
    "- 3.4 [4 points] Consider depths from 1 to 10. Perform hyperparameter search by doing 8-fold cross validation for each depth. What is the best value of `max_depth` and what is the best cross validation accuracy you find over the validation splits?"
   ]
  },
  {
   "cell_type": "code",
   "execution_count": 25,
   "id": "4df77689",
   "metadata": {},
   "outputs": [
    {
     "name": "stdout",
     "output_type": "stream",
     "text": [
      "Cross validation accuracy for chosen best max_depth 3: 0.761986\n"
     ]
    }
   ],
   "source": [
    "np.random.seed(4)  # changing the seed might yield different results\n",
    "best_depth, best_accuracy = -1, 0\n",
    "\n",
    "#Workspace 3.4\n",
    "#TODO: \n",
    "#BEGIN \n",
    "for it in range(1,11):\n",
    "    tree = DecisionTreeClassifier(max_depth=it)\n",
    "    cross_accuracy = k_fold_cv(classifier=tree, k=8, X=bike_sharing.X_train, y=bike_sharing.y_train)\n",
    "    if cross_accuracy > best_accuracy:\n",
    "        best_accuracy = cross_accuracy\n",
    "        best_depth = it\n",
    "\n",
    "#END\n",
    "print(\"Cross validation accuracy for chosen best max_depth %d: %f\" % (best_depth, best_accuracy))"
   ]
  },
  {
   "cell_type": "markdown",
   "id": "b665a5d5",
   "metadata": {},
   "source": [
    "- 3.5 [2 pts] Train a new model on the entire training set with the best `max_depth` you found above. Report the accuracy of the new model."
   ]
  },
  {
   "cell_type": "code",
   "execution_count": 26,
   "id": "9b890ea4",
   "metadata": {},
   "outputs": [
    {
     "name": "stdout",
     "output_type": "stream",
     "text": [
      "accuracy of the best model on the testing set 0.6802721088435374\n"
     ]
    }
   ],
   "source": [
    "test_accuracy = 0\n",
    "#Workspace 3.5\n",
    "#BEGIN \n",
    "tree = DecisionTreeClassifier(max_depth= best_depth)\n",
    "tree.fit(bike_sharing.X_train, bike_sharing.y_train)\n",
    "test_accuracy = tree.score(bike_sharing.X_test, bike_sharing.y_test)\n",
    "#END\n",
    "print (\"accuracy of the best model on the testing set\", test_accuracy)"
   ]
  },
  {
   "cell_type": "markdown",
   "id": "656d47cb",
   "metadata": {},
   "source": [
    "Problem 4  - Decision Tree Ensembles: Bagging, Random Forests and Boosting [48 points]\n",
    "---"
   ]
  },
  {
   "cell_type": "markdown",
   "id": "f9e84980",
   "metadata": {},
   "source": [
    "### Training Data for Decision tree Ensembles\n",
    "***\n",
    "Please do not change this class"
   ]
  },
  {
   "cell_type": "code",
   "execution_count": 27,
   "id": "5549a72c",
   "metadata": {},
   "outputs": [],
   "source": [
    "# import numpy as np\n",
    "from sklearn.base import clone\n",
    "from collections import Counter\n",
    "import itertools"
   ]
  },
  {
   "cell_type": "code",
   "execution_count": 28,
   "id": "1dab322d",
   "metadata": {},
   "outputs": [],
   "source": [
    "class ThreesAndEights:\n",
    "    \"\"\"\n",
    "    Class to store MNIST data\n",
    "    \"\"\"\n",
    "\n",
    "    def __init__(self, location):\n",
    "\n",
    "        import pickle, gzip\n",
    "\n",
    "        # Load the dataset\n",
    "        f = gzip.open(location, 'rb')\n",
    "\n",
    "        # Split the data set \n",
    "#         X_train, y_train, X_valid, y_valid = pickle.load(f)\n",
    "        train_set, valid_set, test_set = pickle.load(f)\n",
    "    \n",
    "        X_train, y_train = train_set\n",
    "        X_valid, y_valid = valid_set\n",
    "\n",
    "        # Extract only 3's and 8's for training set \n",
    "        self.X_train = X_train[np.logical_or( y_train==3, y_train == 8), :]\n",
    "        self.y_train = y_train[np.logical_or( y_train==3, y_train == 8)]\n",
    "        self.y_train = np.array([1 if y == 8 else -1 for y in self.y_train])\n",
    "        \n",
    "        # Shuffle the training data \n",
    "        shuff = np.arange(self.X_train.shape[0])\n",
    "        np.random.shuffle(shuff)\n",
    "        self.X_train = self.X_train[shuff,:]\n",
    "        self.y_train = self.y_train[shuff]\n",
    "\n",
    "        # Extract only 3's and 8's for validation set \n",
    "        self.X_valid = X_valid[np.logical_or( y_valid==3, y_valid == 8), :]\n",
    "        self.y_valid = y_valid[np.logical_or( y_valid==3, y_valid == 8)]\n",
    "        self.y_valid = np.array([1 if y == 8 else -1 for y in self.y_valid])\n",
    "        \n",
    "        f.close()"
   ]
  },
  {
   "cell_type": "code",
   "execution_count": 29,
   "id": "91f5bc1b",
   "metadata": {},
   "outputs": [],
   "source": [
    "data = ThreesAndEights(\"data/mnist.pklz\")"
   ]
  },
  {
   "cell_type": "markdown",
   "id": "598a7edc",
   "metadata": {},
   "source": [
    "Feel free to explore this data and get comfortable with it before proceeding further."
   ]
  },
  {
   "cell_type": "markdown",
   "id": "ccafcd11",
   "metadata": {},
   "source": [
    "### Bagging\n",
    "Bootstrap aggregating, also called bagging, is a machine learning ensemble meta-algorithm designed to improve the stability and accuracy of machine learning algorithms used in statistical classification and regression. It also reduces variance and helps to avoid overfitting. Although it is usually applied to decision tree methods, it can be used with any type of method. Bagging is a special case of the model averaging approach.\n",
    "\n",
    "Given a standard training set $D$ of size n, bagging generates $N$ new training sets $D_i$, roughly each of size n * ratio, by sampling from $D$ uniformly and with replacement. By sampling with replacement, some observations may be repeated in each $D_i$ The $N$ models are fitted using the above $N$ bootstraped samples and combined by averaging the output (for regression) or voting (for classification). \n",
    "\n",
    "-Source [Wiki](https://en.wikipedia.org/wiki/Bootstrap_aggregating)"
   ]
  },
  {
   "cell_type": "markdown",
   "id": "3a662c0e",
   "metadata": {},
   "source": [
    "### Problems 4.1-4.4: Implementing Bagging [19-points]\n",
    "***\n",
    "\n",
    "We've given you a skeleton of the class `BaggingClassifier` below which will train a classifier based on the decision trees as implemented by sklearn. Your tasks are as follows, please approach step by step to understand the code flow:\n",
    "* 4.1 [5 points] Implement `bootstrap` method which takes in two parameters (`X_train, y_train`) and returns a bootstrapped training set ($D_i$)\n",
    "* 4.2 [5 points] Implement `fit` method which takes in two parameters (`X_train, y_train`) and trains `N` number of base models on different bootstrap samples. You should call `bootstrap` method to get bootstrapped training data for each of your base model\n",
    "* 4.3 [4 points] Implement `voting` method which takes the predictions from learner trained on bootstrapped data points `y_hats` and returns final prediction as per majority rule. In case of ties, return either of the class randomly.\n",
    "* 4.4 [5 points] Implement `predict` method which takes in multiple data points and returns final prediction for each one of those. Please use the `voting` method to reach consensus on final prediction."
   ]
  },
  {
   "cell_type": "code",
   "execution_count": 30,
   "id": "8be4c48f",
   "metadata": {},
   "outputs": [],
   "source": [
    "from sklearn.tree import DecisionTreeClassifier\n",
    "\n",
    "class BaggingClassifier:\n",
    "    def __init__(self, ratio = 0.73, N = 20, base=DecisionTreeClassifier(max_depth=4)):\n",
    "        \"\"\"\n",
    "        Create a new BaggingClassifier\n",
    "        \n",
    "        Args:\n",
    "            base (BaseEstimator, optional): Sklearn implementation of decision tree\n",
    "            ratio: ratio of number of data points in subsampled data to the actual training data\n",
    "            N: number of base estimator in the ensemble\n",
    "        \n",
    "        Attributes:\n",
    "            base (estimator): Sklearn implementation of decision tree\n",
    "            N: Number of decision trees\n",
    "            learners: List of models trained on bootstrapped data sample\n",
    "        \"\"\"\n",
    "        \n",
    "        assert ratio <= 1.0, \"Cannot have ratio greater than one\"\n",
    "        self.base = base\n",
    "        self.ratio = ratio\n",
    "        self.N = N\n",
    "        self.learners = []\n",
    "        \n",
    "    def fit(self, X_train, y_train):\n",
    "        \"\"\"\n",
    "        Train Bagging Ensemble Classifier on data\n",
    "        \n",
    "        Args:\n",
    "            X_train (ndarray): [n_samples x n_features] ndarray of training data   \n",
    "            y_train (ndarray): [n_samples] ndarray of data \n",
    "        \"\"\"\n",
    "        #TODO: Implement functionality to fit models on the bootstrapped samples\n",
    "        # cloning sklearn models:\n",
    "        # from sklearn.base import clone\n",
    "        # h = clone(self.base)\n",
    "        \n",
    "        #BEGIN        \n",
    "        for i in range(self.N):\n",
    "            model = clone(self.base)\n",
    "            train_data, train_label = self.bootstrap(X_train, y_train)\n",
    "            model.fit(train_data, train_label)\n",
    "            self.learners.append(model)\n",
    "            \n",
    "        \n",
    "        #this will modify learners\n",
    "        #END\n",
    "        \n",
    "    def bootstrap(self, X_train, y_train):\n",
    "        \"\"\"\n",
    "        Args:\n",
    "            n (int): total size of the training data\n",
    "            X_train (ndarray): [n_samples x n_features] ndarray of training data   \n",
    "            y_train (ndarray): [n_samples] ndarray of data\n",
    "        \n",
    "        Returns:\n",
    "            X_train (ndarray): [ratio*n_samples x n_features] ndarray of training data\n",
    "            y_train (ndarray): [ratio*n_samples] ndarray of training labels\n",
    "        \"\"\"\n",
    "        #TODO: Implement functionality to sample (with replacement) n * ratio\n",
    "        # number of data points from input examples\n",
    "        #BEGIN\n",
    "        indices = np.random.randint(0,len(X_train),int(len(X_train)*self.ratio))\n",
    "        return X_train[indices], y_train[indices]\n",
    "        #END\n",
    "    \n",
    "    def predict(self, X):\n",
    "        \"\"\"\n",
    "        BaggingClassifier prediction for data points in X\n",
    "        \n",
    "        Args:\n",
    "            X (ndarray): [n_samples x n_features] ndarray of data \n",
    "            \n",
    "        Returns:\n",
    "            yhat (ndarray): [n_samples] ndarray of predicted labels {-1,1}\n",
    "        \"\"\"\n",
    "        \n",
    "        #TODO: Using the individual classifiers trained predict the final prediction using voting mechanism\n",
    "        #BEGIN\n",
    "        y_pred = np.zeros(shape = (self.N, len(X))) #rows store the predicted y for each learner\n",
    "        for i in range(self.N):\n",
    "            y_pred[i] = self.learners[i].predict(X)\n",
    "        \n",
    "        y_pred = y_pred.T #transpose the matrix\n",
    "        y_hats = np.zeros(len(X))\n",
    "        for i in range(len(X)):\n",
    "            y_hats[i] = self.voting(y_pred[i])\n",
    "        \n",
    "        return y_hats\n",
    "        #END\n",
    "    \n",
    "    def voting(self, y_hats):\n",
    "        \"\"\"\n",
    "        Args:\n",
    "            y_hats (ndarray): [N] ndarray of data\n",
    "        Returns:\n",
    "            y_final : int, final prediction of the sample\n",
    "        \"\"\"\n",
    "        #TODO: Implement majority voting scheme and incase of ties return random label\n",
    "        #BEGIN\n",
    "        \n",
    "        counts = {item:0 for item in y_hats}\n",
    "        for item in y_hats:\n",
    "            counts[item] += 1\n",
    "        \n",
    "        max_count = max(counts.values())\n",
    "        mode = []\n",
    "        \n",
    "        for key, value in counts.items():\n",
    "            if value == max_count:\n",
    "                mode.append(key)\n",
    "        \n",
    "        # Shuffle the list to put random item at front. Does not affect lists of length 1\n",
    "        np.random.shuffle(np.array(mode))\n",
    "        return mode[0]\n",
    "        \n",
    "        #END\n",
    "        \n",
    "    def score(self, X, y):\n",
    "        y_hat = self.predict(X)\n",
    "        return np.sum(y_hat == y)/len(y)"
   ]
  },
  {
   "cell_type": "markdown",
   "id": "aba18446",
   "metadata": {},
   "source": [
    "### Problem 4.5 - BaggingClassifier for Handwritten Digit Recognition [5 points]\n",
    "***\n",
    "\n",
    "4.5 a [2 points] After you've successfully completed `BaggingClassifier` find the optimal values of `N` and `depth` using k-fold cross validation. You are allowed to use sklearn library to split your training data in folds. Keep the other hyperparameters unchanged. Use the data from `ThreesAndEights` class initialized variable `data`. \n",
    "\n",
    "Hint:  Vary `depth` up to 10, `N` up to 40. The number of decision trees `N` is generally a trade-off between 'improvement in accuracy' vs 'computation time'."
   ]
  },
  {
   "cell_type": "code",
   "execution_count": 31,
   "id": "64f03206",
   "metadata": {},
   "outputs": [],
   "source": [
    "from sklearn.model_selection import cross_val_score\n",
    "from multiprocessing.pool import ThreadPool as Pool"
   ]
  },
  {
   "cell_type": "code",
   "execution_count": 32,
   "id": "eb48c262",
   "metadata": {},
   "outputs": [
    {
     "name": "stdout",
     "output_type": "stream",
     "text": [
      "Examined depths:\n",
      "\t[ 3  5  6  7 10]\n",
      "Examined N values:\n",
      "\t[ 1 10 20 30 40]\n",
      "The best Bagging classifier accuracy score was 99.09% obtained using a tree of depth 10 and 30 bags.\n"
     ]
    }
   ],
   "source": [
    "# Just an example, change accordingly\n",
    "ratios = np.logspace(1, 5, 3, base = .9)\n",
    "depths = np.logspace(0.6, 1, 5, dtype = int)\n",
    "Ns = np.linspace(1, 40, 5, dtype = int)\n",
    "\n",
    "\n",
    "print(f\"Examined depths:\\n\\t{depths}\")\n",
    "print(f\"Examined N values:\\n\\t{Ns}\")\n",
    "#Workspace 4.5\n",
    "#BEGIN\n",
    "init_values = [(N,depth) for depth in depths for N in Ns]\n",
    "\n",
    "def score_bagging(N, depth):\n",
    "    classifier = BaggingClassifier(N=N, base=DecisionTreeClassifier(max_depth=depth))\n",
    "    classifier.fit(data.X_train, data.y_train)\n",
    "    accuracy = k_fold_cv(classifier= classifier, k = 5, X= data.X_train, y= data.y_train)\n",
    "    return accuracy, N, depth\n",
    "\n",
    "pool = Pool(24)\n",
    "outputs = []\n",
    "for result in pool.starmap(score_bagging, init_values):\n",
    "    outputs.append(result)\n",
    "   \n",
    "best_avg_score = 0\n",
    "best_N = 0\n",
    "best_depth = 0\n",
    "\n",
    "for score, n, depth in outputs:\n",
    "    if score > best_avg_score:\n",
    "        best_avg_score = score\n",
    "        best_N = n \n",
    "        best_depth = depth\n",
    "        \n",
    "\n",
    "print(f\"The best Bagging classifier accuracy score was {best_avg_score*100:0.2f}% obtained using a tree of depth {best_depth} and {best_N} bags.\")\n",
    "# END"
   ]
  },
  {
   "cell_type": "code",
   "execution_count": 33,
   "id": "1a9fcc80",
   "metadata": {},
   "outputs": [
    {
     "name": "stdout",
     "output_type": "stream",
     "text": [
      "(0.9309065048915919, 1, 3)\n",
      "(0.9375439160857553, 10, 3)\n",
      "(0.938348896799601, 20, 3)\n",
      "(0.9377453762292205, 30, 3)\n",
      "(0.9337226476000294, 40, 3)\n",
      "(0.9586650116890383, 1, 5)\n",
      "(0.9681186161716402, 10, 5)\n",
      "(0.9701300816462375, 20, 5)\n",
      "(0.9707333998966146, 30, 5)\n",
      "(0.9708338517783422, 40, 5)\n",
      "(0.9662077543187733, 1, 6)\n",
      "(0.9766673444386782, 10, 6)\n",
      "(0.9763652300934819, 20, 6)\n",
      "(0.978477501509813, 30, 6)\n",
      "(0.9773712663107856, 40, 6)\n",
      "(0.9704319430914294, 1, 7)\n",
      "(0.9844111425718717, 10, 7)\n",
      "(0.9837072206997644, 20, 7)\n",
      "(0.9825004830390082, 30, 7)\n",
      "(0.9853164740074434, 40, 7)\n",
      "(0.9770694554455945, 1, 10)\n",
      "(0.9893395061166395, 10, 10)\n",
      "(0.9905461426173936, 20, 10)\n",
      "(0.9909484559443135, 30, 10)\n",
      "(0.9907474004408552, 40, 10)\n"
     ]
    }
   ],
   "source": [
    "for item in outputs:\n",
    "    print(item)"
   ]
  },
  {
   "cell_type": "code",
   "execution_count": 34,
   "id": "3b7228d8",
   "metadata": {},
   "outputs": [
    {
     "name": "stdout",
     "output_type": "stream",
     "text": [
      "The best Bagging classifier accuracy score was 99.15% obtained using a tree of depth 10 and 18 bags.\n"
     ]
    }
   ],
   "source": [
    "# After examining the results of the previous cell, it looks like N <= 20 and depth between 7 and 10 is the sweet spot\n",
    "# for good accuracy. We now want to find \"good enough\" accuracy and reasonable computation time\n",
    "min_N = 1\n",
    "max_N = 20\n",
    "min_depth = 7\n",
    "max_depth = 10\n",
    "\n",
    "init_values = [(N,depth) for depth in range(min_depth,max_depth + 1) for N in range(min_N,max_N + 1)]\n",
    "\n",
    "\n",
    "def score_bagging(N, depth):\n",
    "    classifier = BaggingClassifier(N=N, base=DecisionTreeClassifier(max_depth=depth))\n",
    "    classifier.fit(data.X_train, data.y_train)\n",
    "    accuracy = k_fold_cv(classifier=classifier, k=5, X=data.X_train, y=data.y_train)\n",
    "    return accuracy, N, depth\n",
    "\n",
    "\n",
    "pool = Pool(24)\n",
    "outputs = []\n",
    "for result in pool.starmap(score_bagging, init_values):\n",
    "    outputs.append(result)\n",
    "\n",
    "best_avg_score = 0\n",
    "best_N = 0\n",
    "best_depth = 0\n",
    "\n",
    "for score, n, depth in outputs:\n",
    "    if score > best_avg_score:\n",
    "        best_avg_score = score\n",
    "        best_N = n\n",
    "        best_depth = depth\n",
    "\n",
    "\n",
    "print(f\"The best Bagging classifier accuracy score was {best_avg_score*100:0.2f}% obtained using a tree of depth {best_depth} and {best_N} bags.\")\n",
    "# END"
   ]
  },
  {
   "cell_type": "code",
   "execution_count": 35,
   "id": "af5b7671",
   "metadata": {},
   "outputs": [
    {
     "name": "stdout",
     "output_type": "stream",
     "text": [
      "(0.9725440627677578, 1, 7)\n",
      "(0.9653020688231955, 2, 7)\n",
      "(0.9798854969940305, 3, 7)\n",
      "(0.9754601009779137, 4, 7)\n",
      "(0.9833054637528539, 5, 7)\n",
      "(0.9805893682861371, 6, 7)\n",
      "(0.9818971142086304, 7, 7)\n",
      "(0.9843105895301422, 8, 7)\n",
      "(0.9802878103209502, 9, 7)\n",
      "(0.9838081278014996, 10, 7)\n",
      "(0.9839082762032223, 11, 7)\n",
      "(0.9846126027153368, 12, 7)\n",
      "(0.9842103905484187, 13, 7)\n",
      "(0.9803884139426806, 14, 7)\n",
      "(0.9833050085328461, 15, 7)\n",
      "(0.9853164234274425, 16, 7)\n",
      "(0.9848135064787924, 17, 7)\n",
      "(0.9851154185039853, 18, 7)\n",
      "(0.9853164740074434, 19, 7)\n",
      "(0.9837071701197633, 20, 7)\n",
      "(0.9726445146494858, 1, 8)\n",
      "(0.9722417461025581, 2, 8)\n",
      "(0.9816955023251627, 3, 8)\n",
      "(0.9839086808432294, 4, 8)\n",
      "(0.986422962106475, 5, 8)\n",
      "(0.9839083773632241, 6, 8)\n",
      "(0.9854171282091746, 7, 8)\n",
      "(0.9875289949854988, 8, 8)\n",
      "(0.9837074735997685, 9, 8)\n",
      "(0.985718837914364, 10, 8)\n",
      "(0.9858191380560892, 11, 8)\n",
      "(0.9867247223916653, 12, 8)\n",
      "(0.9855175295109015, 13, 8)\n",
      "(0.9872272347003085, 14, 8)\n",
      "(0.9879313083124185, 15, 8)\n",
      "(0.9866241187699348, 16, 8)\n",
      "(0.987730353968962, 17, 8)\n",
      "(0.9882332203376114, 18, 8)\n",
      "(0.9857186355943606, 19, 8)\n",
      "(0.9866240176099332, 20, 8)\n",
      "(0.9672134364760712, 1, 9)\n",
      "(0.976163668790015, 2, 9)\n",
      "(0.9848134558987915, 3, 9)\n",
      "(0.9861209995012812, 4, 9)\n",
      "(0.9863221561647411, 5, 9)\n",
      "(0.9878305023706847, 6, 9)\n",
      "(0.9867244694916609, 7, 9)\n",
      "(0.9867240648516539, 8, 9)\n",
      "(0.9886354830845303, 9, 9)\n",
      "(0.9901439810304765, 10, 9)\n",
      "(0.9889369398897154, 11, 9)\n",
      "(0.9871265804985772, 12, 9)\n",
      "(0.989641215821829, 13, 9)\n",
      "(0.9883336216393384, 14, 9)\n",
      "(0.9890378469914509, 15, 9)\n",
      "(0.9894401097383699, 16, 9)\n",
      "(0.9896410135018254, 17, 9)\n",
      "(0.989138197713177, 18, 9)\n",
      "(0.988735985546259, 19, 9)\n",
      "(0.988635584244532, 20, 9)\n",
      "(0.9714373723487227, 1, 10)\n",
      "(0.9753596996761867, 2, 10)\n",
      "(0.9853160693674365, 3, 10)\n",
      "(0.9830033999876585, 4, 10)\n",
      "(0.987931510632422, 5, 10)\n",
      "(0.9847131051770655, 6, 10)\n",
      "(0.9903450365339346, 7, 10)\n",
      "(0.990043427988747, 8, 10)\n",
      "(0.988836690327991, 9, 10)\n",
      "(0.9881325661358801, 10, 10)\n",
      "(0.9909487594243187, 11, 10)\n",
      "(0.9911494608677707, 12, 10)\n",
      "(0.9872274876003129, 13, 10)\n",
      "(0.9903447836339303, 14, 10)\n",
      "(0.9906469991391283, 15, 10)\n",
      "(0.9899426220470131, 16, 10)\n",
      "(0.9913509715912368, 17, 10)\n",
      "(0.9914515246329663, 18, 10)\n",
      "(0.9914515246329663, 19, 10)\n",
      "(0.9909485571043153, 20, 10)\n"
     ]
    }
   ],
   "source": [
    "for item in outputs:\n",
    "    print(item)"
   ]
  },
  {
   "cell_type": "markdown",
   "id": "58c005af",
   "metadata": {},
   "source": [
    "4.5 b [2 points] After finding optimal parameters using k-fold cross-validation,report accuracy on the validation data using the optimal parameter values."
   ]
  },
  {
   "cell_type": "code",
   "execution_count": 36,
   "id": "bb6a27ef",
   "metadata": {},
   "outputs": [
    {
     "name": "stdout",
     "output_type": "stream",
     "text": [
      "On the validation set, our choice for the optimum classifier has an accuracy of 96.76%\n"
     ]
    }
   ],
   "source": [
    "#Workspace 4.5 b\n",
    "#BEGIN\n",
    "# Will use a tree of depth 7 with 5 bags\n",
    "N = 5\n",
    "depth = 7\n",
    "\n",
    "classifier = BaggingClassifier(N=N, base=DecisionTreeClassifier(max_depth=depth))\n",
    "classifier.fit(data.X_train, data.y_train)\n",
    "y_hat = classifier.predict(data.X_valid)\n",
    "score = np.sum(y_hat == data.y_valid)/len(y_hat)\n",
    "\n",
    "print(f\"On the validation set, our choice for the optimum classifier has an accuracy of {score*100:0.2f}%\")\n",
    "#END"
   ]
  },
  {
   "cell_type": "markdown",
   "id": "587a6b4d",
   "metadata": {},
   "source": [
    "4.5 c [1 point] What is the most deciding hyperparameter? Give us a brief intuition as to why that might be."
   ]
  },
  {
   "attachments": {},
   "cell_type": "markdown",
   "id": "e757e204",
   "metadata": {},
   "source": [
    "% Write-up for 4.5.c <br>\n",
    "#BEGIN <br>\n",
    "It looks like the depth of the tree has the most effect on the accuracy of the BaggingClassifier. This actually makes\n",
    "sense when you think about the way that the bags work. If the bags are large, you already are taking a large uniform \n",
    "random sample from the dataset, and so if you have a good decision tree, having 20 or 30 bags will not be much better\n",
    "than having ~5 bags in terms of accuracy. The issue is that if you have 20 bags but only 2 levels in your tree,\n",
    "then you are, at best, deciding on a set of 6 features, which, for more complicated data sets, isn't really enough to \n",
    "give you really accurate data, so deeper trees are more desireable.\n",
    "\n",
    "Of course, really deep decision trees tend to be a bit prone to overfitting, but the bagging method helps us to mitigate\n",
    "some of that effect, and gives us a more realistic idea of how well the given decision tree might perform on an actual\n",
    "test set. However, one does need to be careful not to take too many bags, since then the classifier sees every point in\n",
    "the dataset many, many times, and can begin over-fit the training data again. \n",
    "\n",
    "#END<br>"
   ]
  },
  {
   "cell_type": "markdown",
   "id": "43c11df9",
   "metadata": {},
   "source": [
    "### Problems 4.6-4.8 Implementing Random Forest [12 points]\n",
    "Random Forest has an additional layer of randomness compared to Bagging: we also sample a random subset of the features (columns). The rest of the implementation should be similar if not exactly the same as Bagging. In addition to keeping track of the estimators (in RandomForest.estimators, we also have to store the features indices that are used by each estimator (in RandomForest.features_indices).\n",
    "\n",
    "4.6 [4 points] First, complete `bootstrap` to return a random sample of size sample_ratio* len(X_train) of labels and feature_ratio * num_features of features\n",
    "\n",
    "4.7 [4 points] Complete `fit` by building n_estimators of DecisionTreeClassifier, each trained on random sample of the data. Make sure to keep track of the sampled features for each estimator to use them in the prediction step\n",
    "\n",
    "4.8 [4 points] Complete `predict` method to return the most likely label by combining different estimators predictions."
   ]
  },
  {
   "cell_type": "code",
   "execution_count": 37,
   "id": "e9c37628",
   "metadata": {},
   "outputs": [],
   "source": [
    "class RandomForest(BaggingClassifier):\n",
    "    def __init__(self, N = 20, samples_ratio = 0.73, features_ratio = 1.0,base=DecisionTreeClassifier(max_depth=4)):\n",
    "        \"\"\"\n",
    "        Create a new BaggingClassifier\n",
    "        \n",
    "        Args:\n",
    "            N: number of base estimator in the ensemble\n",
    "            samples_ratio: ratio of number of data points in subsampled data to the actual training data\n",
    "            features_ratio: ratio of number of features to be considered in each sample\n",
    "            base (BaseEstimator, optional): Sklearn implementation of decision tree\n",
    "        \n",
    "        Attributes:\n",
    "            base (estimator): Sklearn implementation of decision tree\n",
    "            N: Number of decision trees\n",
    "            learners: List of models trained on bootstrapped data sample\n",
    "            samples_ratio: ratio of number of data points in subsampled data to the actual training data\n",
    "            features_ratio: ratio of number of features to be considered in each sample\n",
    "            features_indices_array = array to keep track of feature indices sampled for each learner model\n",
    "        \"\"\"\n",
    "        \n",
    "        assert samples_ratio <= 1.0, \"Cannot have ratio greater than one\"\n",
    "        assert features_ratio <= 1.0, \"Cannot have ratio greater than one\"\n",
    "        self.base = base\n",
    "        self.samples_ratio = samples_ratio\n",
    "        self.N = N\n",
    "        self.learners = []\n",
    "        self.features_ratio = features_ratio\n",
    "        self.features_indices_array = []\n",
    "    \n",
    "    def bootstrap(self, X_train, y_train):\n",
    "        \"\"\"\n",
    "        Args:\n",
    "            n (int): total size of the training data\n",
    "            X_train (ndarray): [n_samples x n_features] ndarray of training data   \n",
    "            y_train (ndarray): [n_samples] ndarray of data \n",
    "        Returns:\n",
    "            X_train (ndarray): [samples_ratio*n_samples x features_ratio*n_features] ndarray of training data   \n",
    "            y_train (ndarray): [samples_ratio*n_samples] ndarray of data\n",
    "            features_indices: indices of the features sampled to be used in other functions\n",
    "        \"\"\"\n",
    "        #TODO: Implement functionality to sample (with replacement) n_samples* samples_ratio number of data points \n",
    "        # from input examples and inturn sample n_features* features_ratio number of features from each data point\n",
    "        #Workspace 4.6\n",
    "        #BEGIN\n",
    "        indices = np.random.randint(0,len(X_train),int(len(X_train)*self.samples_ratio))\n",
    "        features = np.random.randint(0,len(X_train[0]),int(len(X_train[0])*self.features_ratio))\n",
    "        \n",
    "        return (X_train[indices])[:,features], y_train[indices], features\n",
    "        \n",
    "        #END\n",
    "        \n",
    "    def fit(self, X_train, y_train):\n",
    "        \"\"\"\n",
    "        Train Bagging Ensemble Classifier on data\n",
    "        \n",
    "        Args:\n",
    "            X_train (ndarray): [n_samples x n_features] ndarray of training data   \n",
    "            y_train (ndarray): [n_samples] ndarray of data \n",
    "        \"\"\"\n",
    "        #TODO: Implement functionality to fit models on the bootstrapped samples\n",
    "        # cloning sklearn models:\n",
    "        # from sklearn.base import clone\n",
    "        # h = clone(self.base)\n",
    "        #Workspace 4.7\n",
    "        #BEGIN        \n",
    "        for i in range(self.N):\n",
    "            model = clone(self.base)\n",
    "            train_data, train_label, feature_idx = self.bootstrap(X_train, y_train)\n",
    "            self.features_indices_array.append(feature_idx)\n",
    "            model.fit(train_data, train_label)\n",
    "            self.learners.append(model)\n",
    "        #END\n",
    "\n",
    "    \n",
    "    def predict(self, X):\n",
    "        \"\"\"\n",
    "        BaggingClassifier prediction for data points in X\n",
    "        \n",
    "        Args:\n",
    "            X (ndarray): [n_samples x n_features] ndarray of data \n",
    "            \n",
    "        Returns:\n",
    "            yhat (ndarray): [n_samples] ndarray of predicted labels {-1,1}\n",
    "        \"\"\"\n",
    "        #TODO: compute cumulative sum of predict proba from estimators and return the labels with highest likelihood\n",
    "        #Workspace 4.8\n",
    "        #BEGIN\n",
    "        y_pred = np.zeros(shape = (self.N, len(X))) #rows store the predicted y for each learner\n",
    "        for i in range(self.N):\n",
    "            y_pred[i] = self.learners[i].predict(X[:,self.features_indices_array[i]])\n",
    "        \n",
    "        y_pred = y_pred.T #transpose the matrix\n",
    "        y_hats = np.zeros(len(X))\n",
    "        for i in range(len(X)):\n",
    "            y_hats[i] = self.voting(y_pred[i])\n",
    "        \n",
    "        return y_hats\n",
    "        #END\n",
    "        \n",
    "    def score(self, X, y):\n",
    "        y_hat = self.predict(X)\n",
    "        return np.sum(y_hat == y)/len(y)"
   ]
  },
  {
   "cell_type": "markdown",
   "id": "5ca44a47",
   "metadata": {},
   "source": [
    "### Problems 4.9 Experimenting with Random Forest [2 points]\n",
    "4.9 [2 points] Keep the optimal hyperparameters for `N` and `depth` found in `BaggingClassifier`, please run K-fold cross-validation with a range of `features_ratio` and report an approximate ratio at which the accuracy stops to improve significantly. You may use any kind of tools necessary."
   ]
  },
  {
   "cell_type": "code",
   "execution_count": 38,
   "id": "662749cd",
   "metadata": {},
   "outputs": [
    {
     "name": "stdout",
     "output_type": "stream",
     "text": [
      "[0.03125    0.04252469 0.05786717 0.07874507 0.1071555  0.14581613\n",
      " 0.19842513 0.27001493 0.36743362 0.5       ]\n"
     ]
    },
    {
     "data": {
      "image/png": "[encoded data removed]",
      "text/plain": [
       "<Figure size 640x480 with 1 Axes>"
      ]
     },
     "metadata": {},
     "output_type": "display_data"
    },
    {
     "name": "stdout",
     "output_type": "stream",
     "text": [
      "The accuracy improvement seems to drop off somewhere around the 0.14 features_ratio\n"
     ]
    }
   ],
   "source": [
    "# Just an example, change accordingly\n",
    "features_ratios = np.logspace(1, 5, 10, base = .5)\n",
    "\n",
    "#Workspace 4.9\n",
    "#BEGIN\n",
    "print(features_ratios[::-1])\n",
    "\n",
    "accuracies_list = []\n",
    "for ratio in features_ratios:\n",
    "    classifier = RandomForest(N = 5, samples_ratio = 0.73, features_ratio = ratio, base=DecisionTreeClassifier(max_depth=5))\n",
    "    classifier.fit(data.X_train, data.y_train)\n",
    "    accuracy = k_fold_cv(classifier, 4, data.X_train, data.y_train)\n",
    "    accuracies_list.append(accuracy*100)\n",
    "    \n",
    "plt.plot(features_ratios, accuracies_list)\n",
    "plt.title(\"Fatures ratio vs. Accuracy\")\n",
    "plt.xlabel(\"Feature Ratio\")\n",
    "plt.ylabel(\"Accuacy\")\n",
    "plt.show()\n",
    "\n",
    "print(\"The accuracy improvement seems to drop off somewhere around the 0.14 features_ratio\")\n",
    "#END"
   ]
  },
  {
   "cell_type": "markdown",
   "id": "404ba8b1",
   "metadata": {},
   "source": [
    "**Boosting**\n",
    "\n",
    "There are different methods of boosting, but we'll focus in this problem on Adaptive Boosting (AdaBoost).\n",
    "The logic of AdaBoost is to \"push\" each new learner to give more importance to previously misclassified data. We present\n",
    "below the multiclass variant of AdaBoost [SAMME](https://web.stanford.edu/~hastie/Papers/samme.pdf). We denote $K$ the number of classes.\n",
    "\n",
    "AdaBosst is performed by increasing the weights of misclassified simple after each iteration:\n",
    "- Input: m samples $(X_i, y_i)_{i\\in [m]}$, number of boosting rounds $N$\n",
    "- Start with equal samples weights $W = (w_i), $ where   $w_i = \\frac{1}{\\texttt{n_samples}}$\n",
    "- at round j:\n",
    "    - Train estimator $h_j$ using current weights $W$\n",
    "    - Get the predicted $(\\hat{y}_i)$ on the training data using $h_j$\n",
    "    - Find the weighted error rate $\\epsilon_j$ using $W$: $\\epsilon_j=\\frac{\\sum_i w_i \\Delta(\\hat{y}_i, y_i)}{\\sum_i w_i}$\n",
    "    - Choose $\\alpha_j = \\log \\frac{1-\\epsilon_j}{\\epsilon_j} + \\log(K-1)$\n",
    "    - Update $W$ using: $w_i \\leftarrow w_i \\exp(\\alpha_j \\Delta(\\hat{y_i}, y_i)) $\n",
    "    - Normalize $W$ to have sum 1\n",
    "- Global estimator is $H = \\sum_j \\alpha_j h_j$,\n",
    "\n",
    "the $\\Delta$ function equals to 1 when the two argument are different, 0 otherwise.\n",
    "\n",
    "To understand how we implement $H$, imagine we have two classes, and we boosted for 3 rounds to get $(h_1, h_2, h_3)$,\n",
    "with weights $(\\alpha_1, \\alpha_2, \\alpha_3)$. When we want to predict the label of sample $x$, we get $(h_1(x), h_2(x), h_3(x)) = (0,1,0)$.\n",
    "\n",
    "In this case, label $0$ gets a weight $\\alpha_1+\\alpha_3$, while class $1$ get weight $\\alpha_2$. The predicted class is the one with\n",
    "the largest weight (1 if $\\alpha_2 > \\alpha_1 + \\alpha_3$, 0 otherwise)\n",
    "\n",
    "### Problems 4.10- 4.11 Implementing Boosting - 6 points\n",
    "\n",
    "- 4.10 [4 pts] Complete `fit` by building `n_estimators` of DecisionTreeClassifier, each trained on the same data but with different samples weights as detailed in the algorithm. Keep track of $(\\alpha_i)$\n",
    "\n",
    "_Hint: our weak learner (DecisionTreeClassifier) can take an argument `sample_weight` when calling the `fit` method, you'll have to use it to provide the weights $W$_\n",
    "\n",
    "- 4.11  [2 pts] Complete `predict` method to return the predicted label using the global estimator $H$. \n",
    "\n",
    "_Hint: use one hot encoding of the predicted labels from the weak learners and cumulate the prediction with weights $\\alpha_j$, a dictionary will also work_\n",
    "\n",
    "Notice that if the estimator is consistent (0 error rate on the training set), AdaBoost $\\alpha_j$ are no longer defined. That's why this method requires a **weak** learner like the base model we used in the previous problems."
   ]
  },
  {
   "cell_type": "code",
   "execution_count": 39,
   "id": "6f78a71d",
   "metadata": {},
   "outputs": [],
   "source": [
    "class AdaBoost(object):\n",
    "\n",
    "    def __init__(self, n_estimators, base = DecisionTreeClassifier(max_depth=4)):\n",
    "        \"\"\"\n",
    "        :param n_estimators: number of estimators/ boosting rounds\n",
    "        \"\"\"\n",
    "        self.n_estimators = n_estimators\n",
    "        self.num_classes = None\n",
    "        self.estimators = []\n",
    "        self.alphas = np.zeros(n_estimators)\n",
    "        self.base = base\n",
    "\n",
    "    def fit(self, X_train, y_train):\n",
    "\n",
    "        self.num_classes = np.unique(y_train).shape[0] # K in the algorithm\n",
    "        weights = np.ones(len(X_train)) / len(X_train) # W in the algorithm\n",
    "        # Workspace 4.10\n",
    "        #TODO: Implement Multiclass Adaboost and keep track of the alpha_j\n",
    "        #BEGIN\n",
    "        \n",
    "        for i in range(self.n_estimators):\n",
    "            classifier = clone(self.base)\n",
    "            classifier.fit(X_train, y_train, sample_weight= weights)\n",
    "            \n",
    "            y_hat = classifier.predict(X_train)\n",
    "            incorrect_bool_vec = (y_hat != y_train)\n",
    "            error_rate = np.sum(weights[incorrect_bool_vec])/np.sum(weights)\n",
    "            alpha = np.log((1-error_rate) / error_rate) + np.log(self.num_classes - 1)\n",
    "            \n",
    "            weights *= np.exp(alpha * incorrect_bool_vec)\n",
    "            weights /= np.sum(weights)\n",
    "            \n",
    "            self.estimators.append(classifier)\n",
    "            self.alphas[i] = alpha\n",
    "\n",
    "        # print(f\"alphas {self.alphas}\")\n",
    "        #END\n",
    "\n",
    "    def predict(self, X_test):\n",
    "        # Workspace 4.11\n",
    "        #TODO: get the labels returned by the global estimator defined as H\n",
    "        #Hint: Use one-hot format to accumulate alphas for different classes, or a dictionary\n",
    "        # The predicted label is the one that accumulates the largest sum of alphas\n",
    "        #Hint: We don't need predict_proba for this one\n",
    "        #BEGIN\n",
    "        # y_hat is one-hot encoding of the multi-class labels\n",
    "        # np.eye(k)[i] returns the one-hot encoding of size k for label i\n",
    "        # np.eye(4)[2] would be [0, 0, 1, 0], np.eye(4)[0] is [1,0, 0, 0]. Clever, innit?\n",
    "        \n",
    "        prediction_array = np.zeros((self.n_estimators, len(X_test)))\n",
    "        \n",
    "        for i in range(self.n_estimators):\n",
    "            prediction_array[i] = self.estimators[i].predict(X_test)\n",
    "\n",
    "        prediction_array = prediction_array.T \n",
    "        \n",
    "        alphas = self.alphas\n",
    "        \n",
    "        def voting(y):\n",
    "            nonlocal alphas\n",
    "            num_votes = {}\n",
    "            for j in range(len(y)):\n",
    "                num_votes[y[j]] = num_votes.get(y[j], 0) + alphas[j]\n",
    "            \n",
    "            max_vote = 0\n",
    "            label = None\n",
    "            for vote in num_votes:\n",
    "                if num_votes[vote] > max_vote:\n",
    "                    label = vote\n",
    "                    max_vote = num_votes[vote]\n",
    "            return label\n",
    "        answer = np.array([voting(y) for y in prediction_array])\n",
    "        #END\n",
    "        return answer"
   ]
  },
  {
   "cell_type": "code",
   "execution_count": 40,
   "id": "af5e89fd",
   "metadata": {},
   "outputs": [
    {
     "data": {
      "text/plain": [
       "array([-1.,  1., -1., ...,  1., -1.,  1.])"
      ]
     },
     "execution_count": 40,
     "metadata": {},
     "output_type": "execute_result"
    }
   ],
   "source": [
    "classifier = AdaBoost(3)\n",
    "classifier.fit(data.X_train, data.y_train)\n",
    "classifier.predict(data.X_valid)"
   ]
  },
  {
   "cell_type": "code",
   "execution_count": 41,
   "id": "5536fe92",
   "metadata": {},
   "outputs": [
    {
     "name": "stdout",
     "output_type": "stream",
     "text": [
      "Examined depths:\n",
      "\t[1 2 3 4 5 6 7 8 9]\n",
      "Examined N values:\n",
      "\t[ 1  5 10 15 20 25 30 35 40 45]\n"
     ]
    }
   ],
   "source": [
    "\n",
    "depths = np.arange(1,10)\n",
    "Ns = np.linspace(1,45,10, dtype=int)\n",
    "\n",
    "\n",
    "print(f\"Examined depths:\\n\\t{depths}\")\n",
    "print(f\"Examined N values:\\n\\t{Ns}\")\n",
    "# Workspace 4.5\n",
    "# BEGIN\n",
    "init_values = [(N, depth) for depth in depths for N in Ns]\n",
    "\n",
    "\n",
    "def ada_score(n_est=1, depth=4):\n",
    "    classifier = AdaBoost(n_estimators=n_est,\n",
    "                          base=DecisionTreeClassifier(max_depth=depth))\n",
    "    classifier.fit(data.X_train, data.y_train)\n",
    "    y_hat = classifier.predict(data.X_valid)\n",
    "    return np.sum((data.y_valid == y_hat))/len(y_hat), n_est, depth\n",
    "\n",
    "pool = Pool(24)\n",
    "outputs = []\n",
    "for result in pool.starmap(ada_score, init_values):\n",
    "    outputs.append(result)\n",
    "\n",
    "outputs = np.array(outputs)\n",
    "\n",
    "\n"
   ]
  },
  {
   "cell_type": "code",
   "execution_count": 45,
   "id": "c6fca56a",
   "metadata": {},
   "outputs": [
    {
     "data": {
      "application/vnd.jupyter.widget-view+json": {
       "model_id": "28bd060c9f124179b9eb15b07a0c7065",
       "version_major": 2,
       "version_minor": 0
      },
      "image/png": "[encoded data removed]",
      "text/html": [
       "\n",
       "            <div style=\"display: inline-block;\">\n",
       "                <div class=\"jupyter-widgets widget-label\" style=\"text-align: center;\">\n",
       "                    Figure\n",
       "                </div>\n",
       "                <img src='data:image/png;base64,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' width=640.0/>\n",
       "            </div>\n",
       "        "
      ],
      "text/plain": [
       "Canvas(toolbar=Toolbar(toolitems=[('Home', 'Reset original view', 'home', 'home'), ('Back', 'Back to previous …"
      ]
     },
     "metadata": {},
     "output_type": "display_data"
    }
   ],
   "source": [
    "%matplotlib widget\n",
    "\n",
    "fig = plt.figure()\n",
    "ax = fig.add_subplot(projection='3d')\n",
    "\n",
    "\n",
    "ax.set_proj_type('ortho')\n",
    "ax.scatter(outputs[:, 2], outputs[:, 1], outputs[:, 0])\n",
    "\n",
    "ax.set_xlabel('Depths')\n",
    "ax.set_ylabel('Num Estimators')\n",
    "ax.set_zlabel('Accuracy')\n",
    "\n",
    "plt.show()\n"
   ]
  },
  {
   "cell_type": "markdown",
   "id": "f670afea",
   "metadata": {},
   "source": [
    "### Problem 4.12 Hyperparameter tuning on Adaboost [4 points]\n",
    "4.12 a [2 points] Try out different values for `max_depth` in base model and `n_estimators` to arrive at the best evaluation metrics on `ThreesAndEights` validation set after training on `ThreesAndEights` training set."
   ]
  },
  {
   "cell_type": "code",
   "execution_count": 44,
   "id": "36e07c36",
   "metadata": {},
   "outputs": [
    {
     "name": "stdout",
     "output_type": "stream",
     "text": [
      "Examined depths:\n",
      "\t[1 2 3 4 5 6 7 8 9]\n",
      "Examined N values:\n",
      "\t[1 2 3 4 5 6 7 8 9]\n"
     ]
    }
   ],
   "source": [
    "# Workspace 4.12a\n",
    "#BEGIN\n",
    "# TODO: Report accuracy and other appropriate metrics\n",
    "# Make sure that the label values are >=0 if using np.eye for one-hot encoding\n",
    "\n",
    "depths = np.arange(1, 10)\n",
    "Ns = np.arange(1, 10, dtype=int)\n",
    "\n",
    "\n",
    "print(f\"Examined depths:\\n\\t{depths}\")\n",
    "print(f\"Examined N values:\\n\\t{Ns}\")\n",
    "# Workspace 4.5\n",
    "# BEGIN\n",
    "init_values = [(N, depth) for depth in depths for N in Ns]\n",
    "\n",
    "\n",
    "def ada_score(n_est=1, depth=4):\n",
    "    classifier = AdaBoost(n_estimators=n_est,\n",
    "                          base=DecisionTreeClassifier(max_depth=depth))\n",
    "    classifier.fit(data.X_train, data.y_train)\n",
    "    y_hat = classifier.predict(data.X_valid)\n",
    "    return np.sum((data.y_valid == y_hat))/len(y_hat), n_est, depth\n",
    "\n",
    "\n",
    "pool = Pool(24)\n",
    "outputs = []\n",
    "for result in pool.starmap(ada_score, init_values):\n",
    "    outputs.append(result)\n",
    "\n",
    "outputs = np.array(outputs)\n",
    "#END"
   ]
  },
  {
   "cell_type": "code",
   "execution_count": 46,
   "id": "26300122",
   "metadata": {},
   "outputs": [
    {
     "data": {
      "application/vnd.jupyter.widget-view+json": {
       "model_id": "d7ffc7997e1e4c319ce682e8745a3d0f",
       "version_major": 2,
       "version_minor": 0
      },
      "image/png": "[encoded data removed]",
      "text/html": [
       "\n",
       "            <div style=\"display: inline-block;\">\n",
       "                <div class=\"jupyter-widgets widget-label\" style=\"text-align: center;\">\n",
       "                    Figure\n",
       "                </div>\n",
       "                <img src='data:image/png;base64,iVBORw0KGgoAAAANSUhEUgAAAoAAAAHgCAYAAAA10dzkAAAAOXRFWHRTb2Z0d2FyZQBNYXRwbG90bGliIHZlcnNpb24zLjcuMCwgaHR0cHM6Ly9tYXRwbG90bGliLm9yZy88F64QAAAACXBIWXMAAA9hAAAPYQGoP6dpAADtdklEQVR4nOzdeXxkdZnv8c85p/YlqUoq+770vq9JA4LIKoiCCzjjFWwdvFdFx8EZBWUcxjszyDgyOOqIOoJeGEdGQdxhsBEBgYZOd3pLJ+l00tmXSiWpJLVXnXP/SFeRytKdpaq7k/zerxevGdNVp05Vkqonz/n9nq+kaZqGIAiCIAiCsGLIF/oEBEEQBEEQhPNLFICCIAiCIAgrjCgABUEQBEEQVhhRAAqCIAiCIKwwogAUBEEQBEFYYUQBKAiCIAiCsMKIAlAQBEEQBGGFEQWgIAiCIAjCCiMKQEEQBEEQhBVGFICCIAiCIAgrjCgABUEQBEEQVhhRAAqCIAiCIKwwogAUBEEQBEFYYUQBKAiCIAiCsMKIAlAQBEEQBGGFEQWgIAiCIAjCCiMKQEEQBEEQhBVGFICCIAiCIAgrjCgABUEQBEEQVhhRAAqCIAiCIKwwogAUBEEQBEFYYUQBKAiCIAiCsMKIAlAQBEEQBGGFEQWgIAiCIAjCCiMKQEEQBEEQhBVGFICCIAiCIAgrjCgABUEQBEEQVhhRAAqCIAiCIKwwogAUBEEQBEFYYUQBKAiCIAiCsMKIAlAQBEEQBGGFEQWgIAiCIAjCCiMKQEEQBEEQhBVGFICCIAiCIAgrjCgABUEQBEEQVhhRAAqCIAiCIKwwogAUBEEQBEFYYUQBKAiCIAiCsMKIAlAQBEEQBGGFEQWgIAiCIAjCCiMKQEEQBEEQhBVGFICCIAiCIAgrjCgABUEQBEEQVhhRAAqCIAiCIKwwogAUBEEQBEFYYUQBKAiCIAiCsMKIAlAQBEEQBGGFEQWgIAiCIAjCCiMKQEEQBEEQhBVGFICCIAiCIAgrjCgABUEQBEEQVhhRAAqCIAiCIKwwogAUBEEQBEFYYUQBKAiCIAiCsMKIAlAQBEEQBGGFEQWgIAiCIAjCCiMKQEEQBEEQhBVGFICCIAiCIAgrjCgABUEQBEEQVhhRAAqCIAiCIKwwogAUBEEQBEFYYUQBKAiCIAiCsMKIAlAQBEEQBGGFEQWgIAiCIAjCCiMKQEEQBEEQhBVGFICCIAiCIAgrjCgABUEQBEEQVhhRAAqCIAiCIKwwogAUBEEQBEFYYUQBKAiCIAiCsMKIAlAQBEEQBGGFEQWgIAiCIAjCCiMKQEEQBEEQhBVGFICCIAiCIAgrjCgABUEQBEEQVhhRAAqCIAiCIKwwogAUBEEQBEFYYXQX+gQEQVi5VFUlHA4jSRI6nQ5ZlpEk6UKfliAIwrInCkBBEC6IePEXCATQNA1ZllEUBb1ej6Io6HQ6UQwKgiCkiaRpmnahT0IQhJUlFosRiURQVZVoNEr8bUhVVTRNQ5IkZFlGp9MlCkLRHRQEQUgdUQAKgnDeaJqWKP4AJEkiHA4n/v/Jt1NVFVVVAZK6gzqdDkVRRDEoCIKwCKIAFAThvNA0jUgkQiwWAyaKOk3TZiwAp94vXhDGybKcKAbjl4pFQSgIgjB3ogAUBCHtJhd/k4u1uRSAMx1rancwXgiK7qAgCMLciAJQEIS0UlU1UfxNXce3kAJwssndwclrByd3B2VZTLsSBEGYShSAgiCkTXynb7w4m1rkLbYAnHqs+GOqqpp4PNEdFARBmE4UgIIgpMXknb6z7eBNZQE407FFd1AQBGFmogAUBCGlZtrpe7YNHukqAKc+zuT/4o83ecyM6A4KgrCSiAJQEISU0TSNaDRKNBoFzl78xW9/PgrAmR433hmMdwfjw6cnzx0UBEFYrkQBKAhCSsw05mUu97kQBeDUc4j/193dTTQapaysLFEMiog6QRCWIxEFJwjCosWLv2g0uuSKpcldymg0SigUAiASiSQuY08dQi26g4IgLHWiABQEYVHONuZlKYpfDoa3uoOxWCxxWTt+qXjyRpKl/pwFQVh5RAEoCMKCxce8nG2n71IW7w7GO37xtYPhcJhQKJQoFqemkgiCIFzsRAEoCMKCzGXMy3Jztu5gvFCcupFkJbwugiAsPaIAFARhXqaOeVmpRc5s3cFQKEQoFEKW5UR3MH7ZeCW+ToIgXJxEASgIwpwtZKfvShHvDiqKkugORqNRIpHItCHUojsoCMKFJgpAQRDmRNM0hoaGALBarSkrXsLhMHq9flkVQ7N1B4PBIEBSd1BE1AmCcCGIAlAQhHOK7/Q9deoUVquV6urqRR9T0zROnjxJa2srBoOB7OxssrOzycrKQqdbXm9N8+kOiog6QRDOh+X1LisIQsrFd73GEzNS0alSVZWjR48yMjLCrl27CIfDDA0N0drayvHjx8nMzMTlcpGdnY3FYllW3bHJ3cH4HP54dzD+b5PHzIjuoCAI6SAKQEEQZjV1p28qhMNhDh06hKqq1NTUJIqb7OxsVq1aRSAQwOPx4PF4pnUHnU5nYhfuchB/7lO7g5FIhHA4LLqDgiCkjSgABUGYJl07ff1+PwcOHMBut7N582ZkWU5EwcWZzWaKi4spLi4mFosxMjKCx+OhubmZcDiMw+FIFIQWi2XR53QxmdodjP8X31kc7w7GdxaL7qAgCAslCkBBEJLE16fFky9Sddl3eHiYgwcPUlhYyNq1a5EkiXNFkSuKkij2JncHBwcHaWlpwWQyJf7d4XAsu+7g5Nf9bN3ByXMHBUEQ5kIUgIIgJKRrzEtfXx9Hjx5l9erVlJWVLegYkiRhsViwWCyUlJQQjUYZHh7G4/HQ2NhIJBLB6XQmCkKz2ZySc79YzNYdPHnyJLIsU1JSIrqDgiDMmSgABUEAJoq/cDic0kxfTdM4ffo0LS0tbNmyhdzc3BSc6QSdTkdOTg45OTlomobP58Pj8TAwMMDJkycxm81J3cHl1B2b3B2Mp5AASd3BqWNmltPzFwRh8UQBKAhCYsxLKos/VVU5ceIEAwMD7N69m8zMzBSc6cwkScJms2Gz2SgrKyMajTI0NITH46GhoYFYLEZWVlaiIDQajWk7lwvhbBF1wIwbSUR3UBBWNlEACsIKl45M32g0yuHDhwkEAtTW1p73y7E6nY7c3Fxyc3PRNI3x8XE8Hg+9vb00NTVhtVoTxWBGRsay6o7NNoQ6HA4nNpJM7g6KiDpBWJlEASgIK1g6ir9gMEhdXR0Gg4Gamhr0en0KznThJEnCbrdjt9spLy8nEokkuoNHjx5F07REdzC+9nE5OVt3MF4oTp47KLqDgrAyiAJQEFagdI15GRsbo66ujuzsbDZs2HBRdtb0ej15eXnk5eWhaRpjY2MMDg7S1dXF2NgYer0+MXswIyNjWRVDs3UH42NmJkfUKYoiuoOCsIyJAlAQVph07fR1u90cPnyYiooKKisrl0ThIEkSGRkZZGRkUFlZycmTJxkbG8Pv99PV1YUkSUlrBy90NzPV5hJRN3lnsegOCsLyIQpAQVhBJhd/qZrvB9DZ2UljYyMbNmygsLAwJce8EBRFwWKxsHbtWlRVZXR0FI/HQ0dHBydOnMBut5OdnY3L5cJmsy2rYmg+3UERUScIS58oAAVhhUjHTt/4HLrOzk527NhBVlZWCs704iDLMg6HA4fDQVVVFaFQKBFR19HRkTSkOisrC51ueb2dztYdnG1ncSr/oBAEIf2W1zuWIAgziu8C1TQtZcVfLBbj6NGjeL1eampqsNlsKTjTi5fRaKSwsJDCwkJUVcXr9eLxeGhra+P48eNkZmYmCkKr1bqsiqHZuoPBYBBg2kYS0R0UhIufKAAFYZlLx07fcDjMwYMH0TSN2traZTdX71xkWcbpdOJ0OqmuriYQCCR2Fre1taHX6xPFoNPpXBHdwZki6ibvLBYE4eKyvN6VBEFISNdO33A4zOuvv47dbmfz5s3LKn93ocxmM0VFRRQVFRGLxRgZGcHj8dDS0kIwGMThcCQKQovFsqy6Y1Mj6oCktYOSJImIOkG4CIkCUBCWoanrtVK1PiscDtPX10dpaSlr1qwRH+QzmLw2EMDv9yfWDra2tmIwGHC5XImIuuVUQMd/HqbOHRTdQUG4+IgCUBCWmXSNeent7cXj8eByuVi7dm1KjrkSWCwWLBYLJSUlxGIxhoeH8Xg8NDU1EQ6HcTqdiYLxfCempNvU7mD8vxMnTmAymSgqKhLdQUG4QEQBKAjLiKZphMPhlO/0bWtr49SpUzidThwOx+JPdIVSFAWXy4XL5ULTtER30O12c/LkScxmc6IYdDgcy6o7NrkLHY1GE3+gTO4OxodPT547KAhCeogCUBCWifhO31Ru9lBVlYaGBtxuNzU1NZw+fXrxJyoAEwWR1WrFarVSWlpKNBpNdAdPnDhBNBpN6g6aTKYLfcopNVNEXXxn8dS1gyKiThBSTxSAgrAMpGOnbzQapb6+nmAwSG1t7bK7PHmx0el05OTkkJOTg6Zp+Hw+BgcH6evro7m5GYvFkigGMzMzl1V3bHJ3ML6zOD63Mr6JaeoQ6uX0/AXhQhAFoCAsYfEPyubmZiRJory8PCXFXzAYpK6uDoPBQG1tbdrGmAwODtLY2IjNZlu2cWsLIUkSNpsNm81GeXk5kUgkMWbm2LFjqKqaiKiLX+5fTmbqDsZiscSmpvil4skbSUR3UBDmRxSAgrBETd7pGwgEUraAfnR0lLq6OnJycli/fn3aiot4fFxFRQWRSGRFxK0tlF6vJy8vj7y8PDRNY2xsDI/HQ09PD6Ojo+j1emRZJjs7m4yMjGX1mp0roi5eLBoMhkRhuJyevyCkiygABWEJmrrTN1VjXtxuN/X19VRWVlJZWZmWD9LJ8XHbt29PJIisxLi1hZAkiYyMDDIyMqioqODEiROEw2ECgQCHDx8GSHrNDAbDBT7j1JppCHUsFsPv9ycKxakbSURBKAjTiXdTQVhiJhd/qcxf7ejooKmpiY0bN1JQUJCSY041NT7OarUSDocT/76S49YWSlEUrFYr1dXVaJrG6OgoHo+Hzs5OGhoayMjISLxmdrt9Wb1m5+oOyrKcWDsouoOCkEwUgIKwhMQXxqd6zEtzczNdXV3s2LGDrKysFJzpdOFwmEOHDqGqKnv27MFgMCSSI2ay0uPWFkKSJDIzM8nMzKSyspJQKJR4zTo6OhKXiePdweW23nKm7mA0GiUSiUwbQi26g8JKJ94xBWGJSMeYl3hHbnR0lNraWqxWawrOdDqfz0ddXd2i4uNmi1s7deoUgUBgWcetLZTRaKSgoICCgoKkjurp06endQeX23rL2bqDwWAQIKk7GC8Il9PzF4RzEQWgICwB6RjzEg6HOXjwIAC1tbVpWys2PDzMwYMHKSoqSll83Fzj1rKysnA6ncsqbm2hpnZUg8Fg4jVrb29Hp9ORlZWFy+Valh3V+XQHRUSdsBIsr99wQVhm4gvc47PQUlX8xTtyGRkZbNq0KW0FUl9fH0ePHmXNmjWUlpam5TFg9ri15ubmZR+3tlDxKLaioiJUVV1RHdWpEXVAojsY/7fJY2ZEd1BYjkQBKAgXqcljXiB1O33jHbni4mJWr16dtp2+8fi4LVu2kJubm/LHmM1KjltbKFmWycrKIisri1WrVhEIBKZ1VCevt1xOHdXJA6gndwcnR9SJ7qCwHIkCUBAuQlPHvKTqA6e3t5djx46ltSOnqionTpxgYGCAmpoaMjIy0vI4czHfuLWVIqZqtLh9dAwHUCSJVblWih2mRDFkNpspLi6muLg4ab1lvKM6tTu4nEztDsb/O3r0KJmZmeTn5yeNmRHdQWGpEgWgIFxkNE0jHA6nfKdva2srra2tbN26lZycnBSc6XQXe3zcueLWdDodRqOR4eHhiyJuLRJTOe0JMB6K4rToKc0yIy/y5yESU3nqUB9vto8Qiqmggd2k49p1Lt6+Knvaz9vk9ZarVq3C7/czNDTE4OAgLS0tmEympI7qcusOxl+PaDSKqqpIkjRjd3Dy3EFBWApEASgIF5H4Tl9N01JW/KmqSkNDA263O60dufMVH5cqM8WtNTY2Mj4+Pi1uLTs7G6PReF7Pzz0W4unD/Zz2+ImqGkadzNo8GzdvycNmXPhrW9fh5bW2YXJtBuwmHZqmMTAe5rkTg1S5rJRmzV60T+6olpSUJHVUGxsbiUQiy3q9Zbzgm9odDAaDiVSSeHdQRNQJF7uL+x1aEFaQdOz0jUajHDp0iHA4zJ49ezCZTCk40+nOV3xcOun1eqxWK3q9njVr1iTFrTU2NmK32xO7ZNMdt6ZqGr88OsDJgXHKsswYdQq+UJSDnV4yTArv3py/4GMf6R5Flia6fjBR1OTaDDS7/TQP+M5aAE41U0fV4/EwMDDAyZMnsVgsiWLwYuioptLk7mB87WB8Tmd809bUMTPL6fkLS58oAAXhApv8wZHKzl8gEKCurg6TyURNTU3aOnJut5vDhw9TUVGRtvi4821q3Fo4HE4MVD4fcWvdI0HaPH6KHCaMuolLqlajjhybgWM9Y7xjjWvBXcBQVEUnJ3+PJElCYuLy8EJN7qiWlZURjUYTr9nx48eJxWKJjmp8betyEh8zAyRF1MU3cc20kWQ5/K4IS5coAAXhAkrXTt/z1ZHr7OyksbExrfFxFwODwUB+fj75+fnnJW4tEFGJxFRMuuT1dEadjDcYIRCOLbgAXJ1rpbHfR1TVEoWgPxxDp0gUO1LXIdbpdOTm5pKbm4umaYyPj+PxeOjt7cXr9eL1eonFYmRnZ5ORkbGsumOzDaEOh8OJS8WTu4Miok64EEQBKAgXSLp2+rrdburr66mqqqKioiJtY17i8XE7d+7E6XSm/DEuVmeLW+vs7ESSpEXHreXYDNiNOob9EVy2t7qLw/4IOXYDDsvCI9x2lzs51jPOqUE/NoNCTNUIRlV2lmWyNt+24OPG9Y0GOdozxngwRl6Ggc1FGdiMOux2O3a7nfLyco4dOwZAKBTi6NGjaJqWtN4yXUPJL5SzdQfjheLkuYOiOyicD6IAFIQLYHLxl6quH0BHRwdNTU1p7cipqsrhw4fTHh+3VKQjbs1p0bO73MHvGwcJRmNYDTq8gQiSBJdUOtErC/9jwWnRs3dPMa+fHuFE3xgGRWZLcSa7yzIXdVyA+q5RflLXw5AvnHieldnD7N1TTK79rU00sixjsVgoLy9H0zTGxsYYHBykq6uLEydOYLfbE69Zutdbnm+zdQdDoRChUCgpok5RFNEdFNJGFICCcJ7F1/uleszL0NAQfr8/rR25WCxGd3c3JpMprfFxS9W54tbiI1XmErcWX+d3oGOEsWCU0iwztRVOthTZF32eWVYDN2zI5YYNqRvQ7Q/H+PnhPnyhKKtyrEiSRDSm0uL28WyDm9trime83+T1lpWVlYTD4cRr1tXVhSRJSd1BSdGhSCybomguEXWT5w6K7qCQKqIAFITzKL4OKJU7fWOxGIODg0QiEfbs2ZO2jlx8Zp7ZbGbXrl3Lat5buiwmbk0nS1xS6aSm3EEoqmLSy4ueAZhOLW4fA2MhypzmxPPQKTIum4GG3nHGQ9E5rVs0GAxJHdX4ess3T5zmta5G+sN6bGYjl1W7eOfmImymhV8Ov9jMtTuo0+kSPz/Lae2kcH6JAlAQzpN0jHkJhUIcPHgQVVUpLCxMW/EXj48zm83k5+eL4m8BFhq3psgSFsPF/3qrmoamMa1IVSSJsKoSU7V5H1OWZRwOB2OakZePhOmLGTEbVIZ9If5zfztvNnXw4e0u8nJcZGVlXfSzJ+drtu6gx+OhoqKC4eFhHA7HhT5NYYlaXr8tgnARii/4js8GS1XxNz4+Tl1dHZmZmWRkZKStKJscHzcyMiIuP6XIcotbK8uy4DDrGRgPk58xsd5P0zTcvhBbizLJMC384+bFZg/9YyGq86yJAjMQitE97KNjDPzjbRw/fpzMzMzEa2a1WpfVz+rk7qD4A0xIBVEACkIapWvMy9DQEIcOHaKkpIRVq1Zx4sSJRR9zKk3TaGtr49SpU4n4uJGRkZQ/jjA9bi3eHVxKcWtOi55r17n4xZF+Trl9GPUy/nCMXJuB69bnLOrnvrF/HLtJl9RdNBsVUHRotmxqNq4nEAgkdmO3tbWh1+uTOqrLrTsoCIslfiMEIU3iGzOi0SiZmZkp60b09PRw/Phx1q5dS0lJSUqOOdX5jI87deoUNpvtgsStnU+D42GO9ozhDUTIthrYXGQn0zx9/ZokSVgsFiwWy5zi1i4mV67OJtdu5EDHCEO+CGXZZmrLnRQtcr6g3aTDPR5O+pqqaaBpmM/MSjSbzYn1lpM7qi0tLQSDQRwOBy6XKxFRt5y6g4KwEKIAFIQ00DSNcDhMd3c30Wg0Jet0NE2jtbWVtra2REcuHc53fJzNZmN0dJSmpqZEIbjcxn80D/j4rze76R8LJZ7Ty6dM3F5TRLHj7NFr54pbUxQFs9nM8PDwBY9bkySJjYV2NhYufqfyZDXlTpr7fXgDETJMOjQm0lKyrAY2zbArenJHFcDv9yfWW546dQqj0XjRd1QFId1EASgIKRbf6atpWsoKGFVVOX78OB6Ph5qaGuz21H7Axl2I+LiioiIkSSISiZzXuLVUUjWNYX8EiYlLoZO/75GYyi8O9+HxhanOnVjDFlM1Tg36+c2xAT5+aemcf05mils7evQop4eD7P/jMTRVZWORgzUlOcuqo3pZlZPO4QCvtQ0zOB5GQ8Jl1XPr9sKk+YKzmdxRjcViiY5qU1MT4XA4qaNqNs89C1kQljJRAApCCk3d6ZsKkUiE+vp6wuEwtbW1ae/Inc/4uPz8fMLhiUt7Z4tbmzocOBVxa6nSMRTglVND9HpDIEGZ08Rl1dmJjRCdw0F6vEEKHabEGjZFlsjPMNI66GdwPEzOHIqYmUiywit9cKhPRjZkEI3GONYUZoeng2pTEzabNamjulRHhugVmQ/vLuLSSienhwIYdTLr821kWef/R4GiKLhcLlwuF5qm4ff76R1w82pzH4PekxRlmlhXPDGrUYxZEZYzUQAKQgqka6dvvCNnNpvT3pG7EPFxmjbzaJDzEbeWCu6xEL862s+wP0Ku3YCqQUPfOMOBCLduLyTTrCemaqgzjEeRJVA1iM3yGsxFXYeXN7pDZBgVSlwTI4D6x8I0+DXevn09mdLEZpLlELcmSRJVOVaqclI36kiSJPoDEj88FqJzWEc0loneq9IwOkptVj+ypia6g/HIRkFYLkQBKAiLlK6dvl6vl4MHD5Kbm8u6devS1ok4H/FxsViMo0ePLjg+bq5xay6X67yO/zjRP87geJjqnLeGONsMCqc8flrcfnaUZlLkMJFjM9A/FqLEOXF5UdM0BsbCVGZbyLEt/DLtwU4vABnGt/7gyLMbOOn20eQOcNOmPPLy8lZc3NpcBSIxfvBqB+1DAUocZvSKhDcY5fhImPUVq3hHpRWPx0NfXx9erxefz0cwGCQ7O/uCr7cUhMUSBaAgLMLkTF8gZR8IAwMDHD58mOrqasrLy9PWkWtqaqK7uzut8XHhcJiDBw8CpCQ+7lxxazqdbtHjP0JRFQkw6M7+/RwYC2PSJ3d7ZVlCliSG/RPdYItB4br1OfzsYC8nB3yY9TL+iEqWWc9163NQ5IV/b/3hGFPje+N/gISiatLX5hO3dqE6qufb8d4xOoeDlDrNiRxkh1lPIBzjT63D3Lgpj3K7nfLycurr6zEajYTDYY4dO5bUUc3KyppxveWIP8KfWoc5OTCO1ahjV5mDLUUXz/IFYWUTBaAgLFC8+ItGoynN52xvb6e5uZlNmzaRn5+fkmNOFYvFOHLkCGNjYwvqyM2Vz+ejrq6OjIwMNm3alJbdlouJW5vK44/xRmeA0fZWJGBtvo23VWeRPctaM4dFTzCiJn1tIr5Lw25667nuKnPgMOup6/DiHg9TmGlkV5mD0qzFbThYnWflzVMkpWyEojEkCUqdsx97tri1jo4OTpw4keioZmdnY7PZlm3B4gvFUDUtUfzFmfQK/nCMUCSG7kx8nSzL2O12iouLEx1Vj8dDd3c3jY2N03awu8fD/OsLbZwa9KPIEqqq8nLLEO/ZnMd7t+Yv29dUWDpEASgIC6CqaqLzl6riT9M0Ghsb6enpSXtHrq6uDkmSUtKRm008Pq64uJjVq1eflw+8hcatwUS35jfNY3SPRqjIBxWNl1uG6B4JcntNMfYZkizW5dk42j1K53CAPLsRDejxBnHZDFRPWau2KtfKqtzUFtq15U7+cLSDztEoEV0IVdMYD0XZXJTB5hnGo8wkHrfmcDioqqoiFAoldVSRZGyOLIryXLiys5fVQOWCTBNGnTwtp9gbjLAm1zprBN/kjmpFRQXhcHjaDvbXhiyc6I1RmWPDoJ84zuB4mN8cH2B3uSOxHEAQLpTl85ssCOdJfMxLKjN9J3fk9uzZk7bor8nxcenqyEFyfFxpaWlaHmMu5hO3dqQnSN94jNJMBZdtoih2WvS0DgY43jtGbcX0grzIYeKd63N5+ZSH3tEgkiRRmGni7auzZ+0appLLZuAD623U9YbpjSjoZIlr1rm4ojobk35h31uj0UhhYSE5efn8zwk3fzjRz3DrOFZpmA2ZDewsyUgMVF7qcWvVORa2FmfyetswdlMMk05m2B/BqJe5dh7pJVN3sI94vfzw583otAjDHjc6vR6j0UiGwUDXaIzjveOiABQuOFEACsI8TB3zkooPv1AoxMGDB5FlOa0duanxcelaVzg1Pu5ioSIxLlmI2g0UZRfjNGp4h4cScWuvuvWoUVCjelRNRZZkdLKMIk909WazNt9GhctC/2gISYL8DOO0S4rplGVWuK7aSlVVFUDKvq//fbCX5xvdmPUKDrsdbyDCgXGNgpgVvde7LOLWZEniY5eUkJdh4NXWYcJRlepcK9evz2FHSeaCjhnfwW62WEBvxGXREQqFCIXC+MZ9jAcluru66M9WL+gOdkFYWr+tgnCBpGvMS7wj53A42LRpU9p2FS6n+LiF8AYi7Gvy0DHsJ6aCTpYoyzJz1ZqCRNxaz/42Tp3oJxgK0n76NGbzxPDgUERLujw4E6NOXvR6vsVKZUHfNxrktdZhnGZ9Ytaew6KnYyjAQbfGO6/fiIw2Y9zaXNZbuv0xDp4epauuAaNeZk+Fk6vWuGa95JpOFoPCrdsLefemPIIRlQyzbtrInvmSJYldZQ5+fayfLIses8WC2WLBPRbCZYiyOtd8wXewC4IoAAXhHNI15sXj8XDo0CHKysqorq5OW0duOcXHLYSmabxyaphTgz5KnWaMOplgJMbJAR8Wg8K163LQ6XTUri7kzQ4vITVGeYETvz/AafcokXCYYJ+PFr33vIz/GPKFOen2IUsSa/NsM649TLfukRBjoShVruSlCE6LHvd4mBF/hBz7W3FqkBy3Fl9vGb9UPDlurdcb5IljPgYDGtkZVqJ+jR+/2c3JAR+ffnv5ee2eTmbSKwu+bD6TGzbk0Ng3RutgAEWZ2ARi1Cm8e2shl22Z2ASSjh3sgjBX4qdLEM5i8piXVBV+8FZHbt26dRQXF6fkmFMtt/i4hfL4InQMBSjIMGI8M9bFpFfIsxto8/jxBiJkmvVU5Vi5vNTCqx3jdI7GAD2F+bm8Y5WTSlsMj8fD8ePHicViZGVloVgykUx28p02nJbFX8bTNI3/aRxMDJaWmFjjd9uOQvbMsP4wnawGBYMiE4yqmCcVRcGoikEnY56hUzfXuLXn2yMM+GKUOo1knElACYRjHOr0cqR7jB2lC7v0ChOv4YEOL6+2DjPkj1CdY+Edq10UOc7/HyS5diP3XFvNn1qHaR4Yx2bUsassky1Fb81cTOUO9vn49re/zde+9jX6+vrYsmUL3/zmN9m9e/eMt41EIjzwwAP86Ec/oru7mzVr1vDggw9y/fXXJ24Ti8W4//77eeKJJ+jr66OwsJCPfOQj3HfffaKjeRG7uN6pBeEiomka4XA45Tt9T506xenTp9m2bRsulysFZzrdcouPW4yoqhJRVQy65CLNoJMZDUYJT5qXt7XARJENjNlFSBKUZ5nJNE/cLzc3d2KA85CXJ9/s4GBXJ75QFKtBYWeJnQ/sLCEna+HRYUd7xvjpwV5kCSqyzIkdxf9vfxeFmSbKzuMl5upcK+XZZpoHfJSc6ZqOh6KM+CNcvyHnnJfEZ4pb83g8uN1uXjrmRdEkIiGJsCGEwWDAbFCIqBptHv+iCsBnDvfx00N9hGMqelnmaPcor7UO87mrKlOaIDJXDoueGzfmciO557ztXHewe71eioqKFnxOTz75JHfffTePPPIINTU1PPzww1x33XU0NTWRmzv9PO+77z6eeOIJvv/977N27Vqee+45brnlFl599VW2bdsGwIMPPsh3vvMdfvSjH7FhwwYOHDjA3r17yczM5DOf+cyCz1VIr4vv3VoQLgKqqhIKhVK62UNVVY4ePUpXVxc1NTVpK/4CgQD79+9HlmVqamrSVvy53W72799PWVkZGzZsuCiLP4BMs54Mk45hXyTp60P+CA6LPlHgJW5vlNlanMGWooxp/yZJEv/TMs4ht4Yry8m60jwsFgsvn/bx6AvHeOWVVzh27Bi9vb2JjOO5ev30CMFIjPwMI7IsocgSxQ4T3kCUuo6RBT33hdLJErfXFFPlstDjDXLK7WPEH2FXWSbv3pQ3r2NJkoTVaqW0tJRt27ZRVlQAsgJojIx46e/vZ8jjIRKOIGsLj1vrHw3xy6MD6BWJ8iwLRQ4T5dkW+kZD/OxQ76yxgxer+A72LVu28La3vY01a9YgSRL33nsvmzdvJjs7m+9+97u0tLTM67gPPfQQd955J3v37mX9+vU88sgjWCwWHn300Rlv//jjj/PFL36RG264gcrKSj7xiU9www038PWvfz1xm1dffZX3vOc93HjjjZSXl/P+97+fa6+9ljfeeGNRr4GQXhfnO7YgXECxWCwx5iVVl30jkQgHDhxgfHyc2tratF2O9Xq9vP766zidTrZt25a2y7EdHR3U19ezceNGKisrL+rLPGa9wtbiDIJRlc7hAEO+MB1DAWKqxraSzHOmfUzmHgtR1+nFZTOQZTVgMugodmVQlONgUOeicu1GLBYLXV1dvPLKK7z55pu0trYyOjp6zgLEMx7GMGX9myRJyBKMBKILeu6LUeI0c8+11fzllRV87JJSPnd1FZ+6ovyc3b9zubQ6Cw2JqGwgNzeHrKwsvFEFPRGifSfZv38/LS0tDA8Po6rquQ94RmP/OKPBaNL4HVmScFoMNA34GA8t3SxfRVHIzs5m9erVPP/88/zqV78iGAzy3HPPsWHDBlavXs2rr756zuPEZ4BeffXVia/JsszVV1/Na6+9NuN9QqHQtD8izWYzr7zySuJ/X3LJJezbt4/m5mYADh8+zCuvvMI73/nOhTxd4TwRl4AF4Yx07fSNRqPs378fs9nM9u3b01aU+f1+3njjjbTHx7ndbnw+X1qHVafalqIMzHqFYz1jeINRSrPMbCiwU50zv3mLQ/4I/nCMIkdyZ9BmVHCPh4npzFRWZk2LW6uvr0eSpERs2Exxa5UuC0d7xlA1LbELNapqaBoUp2gNm6ZpRGIaemVuf9gYdDJbis69m1vTNMZCMXSydM6dvFdUZ/PacQMNHhXfoB+ADKuZD2yr4oqqzMRA5XjcWnztYHZ29oxxa3GKLCFJoGnApKemaRqSBItI3LuoyLLM+vXr8fl8PP300+h0Ol544YXEGKCzGRwcJBaLkZeX3MXNy8ujsbFxxvtcd911PPTQQ1x++eVUVVWxb98+nn766UT8JcA999zD6Ogoa9euRVEUYrEY//iP/8iHPvShxT1ZIa1EASgIpG+nbygUor+/n+LiYtauXZu2y6RjY2OMjIywZcuWtMbHDQ8PE4vF0hoflw6SJLEmz8bqXCtRVUMnL+z767TosRgUxkMxnJa3vpfjoRgWvYLD/NZb6nzj1t5WncX+0yO0DgZwWfWoGnj8ESqyzdSUOxb1/KOqxgtNg7zQ7GHYH6Eo08i163KoKXcs+ue8sW+cnx3qpXnAhyxL7CrN5NbtBeTYZy7WDDqZ9661sCeow6/PxKDIbC7KSGzUyMvLIy8vLyluraenh8bGRux2e1Lc2uRz31Bgx2nW0z8WoiDDiCRJRGMqw4EI71jtwrrIzuXFymaz8e53vzttx//GN77BnXfeydq1a5EkiaqqKvbu3Zt0yfi///u/+c///E9+/OMfs2HDBurr6/nsZz9LYWEhd9xxR9rOTVic5fkbIQjzMHmnL5CyIq2/v5+enh4yMzNZt25d2jpyTU1NeL3eRBJBOsQvHamqSklJyZIq/iaTJAm9svDvQ67dyPaSTP7Q7EHTJuYDjgWjDPsjvHND7rQ1g3HniluLX+L74EY7f+ww0OoJIEsSl1U5uWVL/qzHnaufHuzhl0f6URQZi17mRN84pwb9hKMql6/KXvBxWwf9/PPvT+HxRXBadMRUlf85McjpoQD337Bq1qJLliRWZRspL5/953UucWvxYjArKwunxcCHdhXxw/2dtA0FEk3ASpeF929Lz+/FUuNyuVAUhf7+/qSv9/f3z/rekZOTwzPPPJMYWVNYWMg999xDZWVl4jZ/8zd/wz333MMHP/hBADZt2kR7ezsPPPCAKAAvYqIAFFa0ePEXjUZTdskX4PTp05w8eZLc3FwMBkNair/J8XF5eXlp2+wxOT7OYrGkLT5uqXj/tgJkCQ50eOn1BrEaFa5d5+Ldm8690zMuHrdWWFiIqqp4vV48Hg+ap4cdip+a8gyys7MoK3Bhtc5+2XMuBsfDvNDkwWrUJSLusqwGuoYD/PrYAHsqnQuevfc/J9x4fBHKs0yJn/EMk0qL28frp0e4ak3qNjpNjVuLd1Q7Ozs5ceIEdrudsuxsPve2Qo4NRhgNRinLMrOnwrnoAnq5MBgM7Nixg3379nHzzTcDE5vT9u3bx1133XXW+8ZH1kQiEZ566iluvfXWxL/5/f5pfzgrijKvNZzC+ScKQGHFUlU10flL5ZiXxsZGent72bVrFwMDA4k1hak0NT5uvjsB52pqfNzRo0fT8jhLicWg8L92F3P9+lxGAhGyLG+lZSyELMs4nU6cTifV1dWJ8R9DQ0McONC+6Li19qFAohiazGnRMzAeZmAsvOA5ec0DPiz65N8dvSKjatA5HFjQMeciHreWmZlJZWVloqM6NDTEkKeDYlk+85qZsKTwUy6mavR4g5h08qK+5xfS3XffzR133MHOnTvZvXs3Dz/8MD6fj7179wJw++23U1RUxAMPPADA/v376e7uZuvWrXR3d3P//fejqiqf//znE8e86aab+Md//EdKS0vZsGEDhw4d4qGHHuKjH/3oBXmOwtyIAlBYkVRVTez0TeVmjyNHjuDz+aitrcVisTAwMJCCs0223OLjBgcHsdlsmM0XNkptvlw2Q6Kjlkrx8R/FxcXEYrEZ49biCRtzec3Mehm9IhGOqZjkt7q34ZiGfg6bNs7GadFz2uNP+pqmaUiA/TyuuZuto5rKuLUjAxFeOdKPN+JGJ0+MCvrw7iJyZ1nreLG67bbbcLvdfPnLX6avr4+tW7fy7LPPJjaGdHR0JL2nBINB7rvvPlpbW7HZbNxwww08/vjjOByOxG2++c1v8rd/+7d88pOfZGBggMLCQv73//7ffPnLXz7fT0+YB0lbasORBGGRYrEYra2tjI+Pp2xtXigUoq6uDkVR2LZtGwbDRGHQ3NxMJBJhw4YNi34MeKsjV1pamhQf19DQgKIorFmzZtGPMTk+bsuWLUnxcUeOHMFqtc5px+G5xOPjRkdHiUajWCyWRKdrLnFrMVUjFFUx6mSUFG3xbG1tJRwOs3bt2pQcL9Umx62NjIxgNBqRZRmLxcL69etnvDwfianc/5tmTg74KMkyo1cmovC6R4JcudrFJy8vW/D5vNQyxDdfbMOkl8myTGxc6RsNYTEo/OO711DsmLlAbWhowGKxUF5evuDHnqvJcWvDw8PodDqysrJwuVxz7qge6BjhH351nBgyeZkWIqrGsD/Cujwbf/+u1SmNkJuLkZERSktLGR4eTirEBGE+RAdQWDEmj3mJ/5eK4m98fJwDBw6QlZXFxo0b096RW07xcUajkdraWjRNS3S6JsetzTT+Q9U0jvaMUd85ijcYIcOkY1tJJpsK7YnxKcvVTHFrp06dYmhoiJdffjlpZEq8O6hXZP7i0lL+/aV2uoYDqIAiSWwqzOCDOwoWdT6XVTnpHA7wu+NuOoaDAGRbDXyktnjW4u98S0Xc2u+OuwlGNUqdesxnOpsWvcJJt4+6Di+XVmWd76clCIsmCkBhRZi60zdVmzI8Hg+HDh2irKwsqSOXSss5Pm7dunWJ0Tu5ubmJuLXx8XEGBwfp6emhqakJq9Wa+JBuGlZ5odmDTpaxmXS4x8L89lg/4UiMXeVLYy5hKsTj1oaGhpAkicLCwkTc2smTJzGbzYnXrMzp4O9vXE191yijwQh5diMbC+0L3vwRJ0sSH9pVxNtXZdPYP45ekdlSZL9oN13MNW4tvt5SURQ0TaNt0I9Fn/y7bdBNrHXs8YYu0LMRhMURBaCw7E0u/lI13w+gu7ubhoaGZdWRM5vN1NTUpG1Ytdvtpr6+nqqqKioqKma8jSRJ2O127HY7FRUVRCKRxId0Xf0Rnu8ExWCi1GXHqtfjMJvpHw1xoHOUDYUZ817TpmkarYN+PL4Ifm+EPNPSWxUTj1uLR65Fo1GGh4cZHBykoaGBWCyG0+mkLDub7MLslBf3RQ7TgjeSnE0kpnKke4zRYJRih4nqnJk7dAs123rL5uZmwuFwojvoNCv0jyT/XMTUibWOTsvFWewKwrmIAlBY1tK107elpYX29na2b99OdvbC56idTSQS4dChQ0Sj0bR25LxeLwcPHiQ3N5d169al7RJ2R0cHTU1NbNy4kYKCiUuPc1mCrNfrE+M/nCMB/jTehlWKMDwyQl9/H0ajCb3JgtuvZ9gfxmJIvvSonnmMmS4Pj/gjPPpaJ8d7xwhEVIiGqHQo/HXZRE7wUqXT6cjJySEnJyfRUfV4PPT19dHc3Dzv9ZYXQpvHzzf+0MZpT4CoqmHWy+wqc3DXFeWL2rgym/gsxuzsbFatWoXf72doaIjBwUGKGeFYVGZgLEieLIOso38sTH6GkV1lmSk/F0E4H0QBKCxb8Z2+mqalrPhTVZVjx44xNDR03jpy6YyPGxgY4PDhw2mPj2tqaqK7u3vR8XEmvYLdbMJssJKZl0MsGsXn89E/PMaIz8vhukG8BRM7ZCWTndfbxzjSMwrA5sIMLqtyJsZ3aJrGf77ZzZvtI+RnGCnIUBgYjnDMHeHHB7r55OXli3re/nCMl1qGqO/yokgS20syubTKed43DEzuqJaXlxOJRKbFrcXXW2ZlZZ01bu18icRUvvGHNlrcfvIzjBgUifHQxOuZYzOwd096dqXHTe6olpSUsH5DhOAv3+TNfpU29zgyGgUZev5sQxYGosDS/WNBWLlEASgsS/HNHqkc8zK5I7dnz560fVB6vV7q6urIz89Pa3xce3s7zc3NbNq0Ka3xcfFh1amIj8uyGqjOtVLX4cWgyJgNOvRmG1pI4YpVdi4pM+PxeDjRcppfnAzgDuvItpkwGo08dyJI66Cfj15SQoZJR/9YiCPdo7hsBmyJhf0yTpPM4a4x+kZD5Gcs7HvsD8d46IVWDneNokgSGvBmh5eDXV4+8/YKjLoL13HT6/Uzxq11d3cnBirPFrd2vhzpHuO0J0B+hjHxWtlNOkJRlT+e9HDbjsK0dAFnYzTouXG1jRs3Z+DTZUAsTI4SZHRkiNdfb18SHVVBmEoUgMKyMnmnL5Cy4s/v91NXV4fVaj0vHblVq1ZRVlZ20XfkziYeHydJErW1tYnROIt1xapsQpEYLYN+IjEVvSKzPt/GlWtyyDDpcDgc9GhOQh1drHZCJBQk4BvCqEnUt/l4KVPj+i2leANRglEVx5QNCyZFIhCNMRqMLrgAfOXUEIe7RinMNCUKmEA4xpvtXt44PcLbqi+OXaPzjVtL1ffwXLyBCDFVwzAlts+klwlGVXyh6HktAOOyLDo2F0/+3pUTjUYTr9m5drALwsVEFIDCsqFpGtFoNLGrNFUbPkZGRjh48CAFBQWJQPR0iMfHna+O3J49e7BYLGl5nMnxcZs2bUppfFyGScctWwvo8QYZC0axm3QUZpqSZgG2D/kx6BUcmRbADtrEPLix/jEOt/ZiHW1HMWegqCoeHxRkvrVucCys4sjUkWdfeLFzuGsUWZKSOn1mw8SO0mO9YxdNATjV2eLWJg9Uzs7Oxm63p+13ocRpxqSXGQ/FsJve+pgaDUYpcphwXkQpHDqdbtoOdo/HQ29v77Qd7BkZGaI7KFw0RAEoLAtTx7yk6k22v7+fI0eOsGrVqrQNrZ0aH5euwa5T4+PS1c2JD6suLi5m9erVaSkSFFmixDn7nDmLQUdMnbTBRAKT2YTJEmPdKhe1azLxeDxsGujhhTYvXu8omRYDvohKKAY3r8pe1CgTRZbQmL7BRdMgRTOr0262uDWPx0NHRweKoiStHdTrU7cOrjrHws5SBy+fGiIUVTHpZUaDUSTgPZvz0F2kL+JM6y3jr9nRo0eT1ltmZ2eft46qIMxEFIDCkhcv/qLRaEp3+ra3t3Py5Ek2b96ciElKtZni49JhOcXHzcWGAhuvtw0zMBYi50xcm3s8jFmvsKHAlhj/cVdBIRVH+/j9iQGGx4PotShbnTHK1F46O6OJgcrz/ZnaVpLJ/tMj+MOxxKXKsVAUnSKxpShjUc9N0zRePDnE8yfc9I+FcChhLiu1UF29qMOe0/mIW4uTJIlPv72cXLuBF096CEZUihwm3rM5j6vXpGYOZv9oiKYBHyadzKYiO+Y0bM6ZvIM9vt5ycHCQrq6upPWWLpcrrR1VQZiJKACFJS1dY15OnDhBX18fu3fvJjMzPWMeJsfH1dTUpL0jNzU+LpUmx8dt3bo1KT7uQlida+X69TnsaxqkxT2RVZth0nH9+hxW5761EUWvyNy8tZDrN+QxGozi6e0iFg6QmZmZSIswGo2Jjo3D4ZjT5exLK53Ud3l5vW2E2JkxNDpZ4orqbHaULu7n6an6Pn5S14OmaZj1CieGw7SORHHkeLhydXpGEk0lyzJOpxOn00l1dXVS3Fp7ezs6nS5poPJC1sxaDAp795Rw245CfKEoDot+0YOrYWIs0P/b38Vvjg0wFoqhyJCfYeLTV5SxtTh9I10mr7esrKwkHA4nXrP6+nokSUpab5nKjqogzEQUgMKSFR/zksqdvtFolMOHD+P3+9PekVtu8XGDg4Ps3r2bjIzFdbhSQZIkrlydzfoCO62DEwVgpctCnt0w48+JSa9g0iuMuyXCqo6SkpKkuDWPx0NjYyORSGTGuLWpDDqZT11eTk25l2O9Y8jA5qIMtpdmLury5bA/wq+PDWBQ5ERn06iFGfDHeLq+l0srnRguwA7jucStObOyGIiaCaoK4bEY1XP81bIYlJRu+Hi+cZCfHerDqJMpchiJqRq9I0H+5fetPPz+Dbhs5+eyrMFgoKCggIKCAlRVTay3bG9vn7be0mazpfQPt29/+9t87Wtfo6+vjy1btvDNb36T3bt3z3jbSCTCAw88wI9+9CO6u7tZs2YNDz74INdff33S7bq7u/nCF77A7373O/x+P9XV1Tz22GPs3LkzZectpJYoAIUlKR1jXoLBIAcPHkSn01FbW5u2v8CXa3zcnj17UjKsWtU0xoITG3nsJt2C830lSSI/w7jgnbzwVtyay+Vi9erV+P1+PB4PAwMD0+LWHA5HUiFv0MlcUunkksrU7bJu8/gZDUQoyEx+nTONMgNjYXq8Qcqz0/NHy1xNjVvz+/00tPdz//PddHgjRDUJkwJb8wN8Oa8Qm/n8roP7nxPuibV41onfb1mRKMg00uMN8VrbMDdtSs9yj7ORZRmHw4HD4aCqqippvWV7e3vSkOrFrhF+8sknufvuu3nkkUeoqanh4Ycf5rrrrqOpqYnc3Nxpt7/vvvt44okn+P73v8/atWt57rnnuOWWW3j11VfZtm0bAMPDw1x66aVceeWV/O53vyMnJ4eTJ0+mbcKAkBqiABSWlHSNeRkbG6Ouri7tHbnlGB9nMplSFh/nHgtxtGeMgbEwALl2A5sK7eTYL/wojZni1uLjPybHrcU/qNOR3GLSySiyRDSmopPf6opFVdAZpJQMmdY0jSF/BJ0spSTT12gy8/+O+ekOyOQ6bCioDI0HeL07yD/87FU+uMmReM3S1XGfbGAsjEmf/Pstn+nKDvkjaX/8uZhtvWVbWxt//dd/DUBhYSENDQ3s2bNnXu+BDz30EHfeeSd79+4F4JFHHuE3v/kNjz76KPfcc8+02z/++ON86Utf4oYbbgDgE5/4BL///e/5+te/zhNPPAHAgw8+SElJCY899ljifrNFPQoXD1EACktGunb6Dg4OUl9fT3l5OVVVVWnryIn4uLMbC0Z5rW2YkUAU15kxH10jQcZCUa5c7SLDdOHerqKqxsEOL0d6RpGQ2FxkZ1tJ5ozjP9IZt7Y6z0ZplpkWt49ihxmdLBFRNUaCMS4vtS1qdA3AsZ4xfvxmN6cG/UgSbC3O4H/tLqLYMfuO63M52jNKi9tHttWQKFDtxgjI0BIwYLI5GBwcpKWlBZPJNO/1lvNVnWPh9bYRnBYt8bseialIEpSkIc94saaut/yP//gPnnrqKb71rW9xzTXXkJ2dzQ033MBf/dVfsWbNmrMeKz6b89577006/tVXX81rr702431CodC09xGz2cwrr7yS+N+//OUvue666/jABz7AH//4R4qKivjkJz/JnXfeOe/nW15ezkc/+lE+8pGPUFpaOu/7C3MnCkBhSZhc/KVqvh+Q2I23fv16ioqKUnLMqTRN4+jRo2mPj4tEIuzfvz/t8XHj4+O0tramLD4uqmp0DAU40j1Ki9vPtuIMdGcW+5foTZweCtA5HGBdvo2+0RCaBvkZxqS5f3GhqEp9lxf3eJgsi4HtJRmL7opFYirf+mM7L7V4iMQmNnT8+lg/b1+VzaeuKEcnS+ctbk0nS/zvy8p4+IU2ukeCSEA4HKM0U89H9pQs6nvROujnq//TwpA/gsOsR9U0Xjo5RMdQgAfes3bB3cAhX4RITJuWfmLUSYRVjYycfNZWTwxUnrrecvJrNtt6y/l696Y8jnSP0eMN4TDriKoao4EYq3It1FZc/Jcs16xZwyc/+Um++tWv0tvby5EjR/jtb3+b+MP4bAYHB4nFYtOmGuTl5dHY2Djjfa677joeeughLr/8cqqqqti3bx9PP/100uO1trbyne98h7vvvpsvfvGLvPnmm3zmM5/BYDBwxx13zOv5ffazn+WHP/whX/nKV7jyyiv52Mc+xi233CIGaqeBKACFJSE+4DmVO33HxsZwu91p7cjFYjHcbjdGozGt8XGhUIjBwUGKiopYt25d2sZJ+Hw+RkdH2bJlS0qGVY/4I/ysbqLj1DcaYjwYxRuIUFPuxG7SIUkSekWmqW+cZ48P0D4cBA2KnSbevSmPtfm2xLH6RoM8/IfTnHL70DSQJCjPNvOZt1ecdWbgubzaOswfT3rINOsSkXHjoSh/aPawvSRzxqHO84lbkwwWXj89gns8TEGGkdoK51k3PazOtfLVm9fy5ukRPP4wsTEPm/KMFGYurnv1u4YBhvwRShymxM+PzaijfSjAy6eGeNfGha2NK3aaMelk/OEYVuNbHzn+iEZepp7sM91enU5HTk4OOTk5aJqGz+fD4/HQ39+f0o7qtpJMPndVBf91oIfukRCKDJevyuKje4ovSLrIYphMJq699lquvfbatD3GN77xDe68887EEPyqqir27t3Lo48+mriNqqrs3LmTf/qnfwJg27ZtHDt2jEceeWRBBeBnP/tZDh48yA9/+EM+/elP88lPfpI///M/56Mf/Sjbt29P6fNbyUQBKCwJkiSlrPhTVZW+vj4CgQB79uzBZrOd+04L4Pf76enpQVEUdu/endb4uIGBAZxOZ9qKv3h83NjYGEVFRSlLKnn+xAANfeOUOE2Y9Qptgz66RoLoO71cfqawGvaHea1vnLCqkX9mLWCL28djr3fymbdXUOQwoWkaj73WRVP/OEWOifi1cFSlxe3nB6928nc3rFrw6/JG+8QoF9uk4sVm1DHki/Bmx7lj3c4Wt/a7Vw/z01MwEpFRFAVFlinLtvCl66vPWrRmmHRctXZiY09z83hKLi+fHPBh1CX/junkiRzjzqHggo+7KsfCjtJM/tQ6PNEJ1MsMB1U0JN6zOW/GXGRJkrDZbNhsNsrKyohEIonuYCri1i6pzKKm3MnAWAijTibrIkoWSSeXy4WiKPT39yd9vb+/f9bf6ZycHJ555pnEqJ/CwkLuueceKisrE7cpKChg/fr1Sfdbt24dTz311ILPdfv27Wzfvp2vf/3r/Pu//ztf+MIX+M53vsOmTZv4zGc+w969e8XcxEUSBaCwJKTqsm84HObQoUOEw+HEeIV0iMfHmc1mMjIy0lb8xePj0hnNNTk+zuVypexS3JAvTFP/OLl2A2a9gixJ2Ex6xoJRukeCDIyHicRUhv1hxkIx1uXbEjuCrQaFk24fb7aPUOTIp8cboqFvHJfNkCgoDDqZPLuBk24fbZ4Ala6FbTCIxjRmelUlCSLR6Wkf5xKPW8vJzeOR48cZVcdwWSRUNUooHKKxJ8w///Y4//CuVWRkZCzqe9rrDXK4ewydLLG9JOOshY7LaqBlwJf0Ne3MDMMM88J/fiVJ4nNXVeKwdPJyyxD+UAy7QeaaVXbeu3Vuf0jo9fpp6y0HBwfp6elZcNyaIkvTdlMvdwaDgR07drBv3z5uvvlmYOIP4n379nHXXXed9b7xUT+RSISnnnqKW2+9NfFvl156KU1NTUm3b25upqysbMHnGolE+PnPf85jjz3G888/T21tLR/72Mfo6urii1/8Ir///e/58Y9/vODjC6IAFFYQv99PXV0dVquVkpISfD7fue+0AJPj48LhcGLHcipNjY/r6elJ+WPA9Pi42dYJLUQwohKOqVjPXHYz6RXKssx0jgTpHQngHgtRnWtl2B/BrA8njYORJAmjTqHXGwLAH44RjakYTMmX8Aw6mYg/SiB87vVRs9lclMGrrcOEo2pixl4oqqJpsKV44es5mwd8tA8FyM0wJVIoVFVF7wvR4gny/Gv15Nsm4tZcLhdOp3POo4k0TePxN7r52aFefOEYEhNdwzsvLeWdG6aP+gB4x5psDnR48fjCOC16VG1iV3amScdlVYvLLrabdHz2ygr21hbjDUTxdLXizLAuaMTP5PWWFRUVIm5tnu6++27uuOMOdu7cye7du3n44Yfx+XyJXcG33347RUVFPPDAAwDs37+f7u5utm7dSnd3N/fffz+qqvL5z38+ccy/+qu/4pJLLuGf/umfuPXWW3njjTf43ve+x/e+9715n9/Bgwd57LHH+K//+i9kWeb222/nX//1X1m7dm3iNrfccgu7du1a5CshiAJQWBHiHbmCggLWrl1LW1tbyh9jpvi45ubmlD/OTPFx6SgAJ8fHbdy4MeU7MrOtehxmPZ7xIMVnLnfaTTqcZh0Ok533bMmnMNNENKZR3zWKpr21a1PTNELRGDlndr0WOUw4LHpGAlHyJ236GPZHcJh1FDsX3ul5+6osXjk1xLGeMXTKxONHYxqbi+xcXr3wtaOBSIyYqiUNhpZlGbPJQBiZjVvXkmeMJsZ/HD9+fM5xa39qHebHB3pQJIk8uxFNgyF/mH9/qZ1Kl4U1edM733sqnHxwRwHPHOmf2GAiQbbVwMf2lFCWlZqub6ZZT6ZZz3hf6jrVU+PW4gOVRdzazG677Tbcbjdf/vKX6evrY+vWrTz77LOJjSEdHR1JHdRgMMh9991Ha2srNpuNG264gccffzxpHuGuXbv4+c9/zr333stXvvIVKioqePjhh/nQhz407/PbtWsX11xzDd/5zne4+eabZ/yjp6Kigg9+8IPzf/JCElEACsteX18fR48eZfXq1Yu6JHE2FyI+Lp3DquPxcSUlJaxatfD1c2dj0MlUmIMcbu6lt18h225GlY0oej3Xb8hNrIHbXprJS6eGaBsKUJhhRJKg1xvCYdGz80ysmsWgcNOmPP7f/i46h4NYjQr+0ETX771bchY1z85q1HHvddX8vtHN/tMjSEBNuZNr1rkWtWmgMtuC3aTDG4gmpU94A1GyrHrKsi2Y9co549ZCodC0y/LPnxgkElNxZZwpfKWJS7y9oyFePOmZsQCUJIkP7iziytUuGvrG0SsSmwrtKZkFeL5IkkRmZiaZmZkibu0s7rrrrlkv+b744otJ//uKK66goaHhnMd817vexbve9a5Fn1tra+s536etVmvSzEFhYUQBKCxbmqZx+vRpWlpa2LJly4xT7lNBxMfNX3xYtTMyyN63raKuc5TeYR9yaIQKfQzrWJCuLj/Z2dkUZpq5fXcxzxzuo8c7sRkhP9PIuzflJaVevHN9DjaDwrMn3PSPhqnItnDNOldK8nEzTDreu7WA924tWPSx4hwWPTdvzuOJN3vo8QYx6xX84Rh6ReID2wsSl4XjZotbiw8J9vl8ieJm0BeaFjkXL+KHzzHsOC/DSN4i0lMuJhcybk1YmIGBAfr6+qipqUn6+v79+1EURUTLpZAoAIVlSVVVTpw4wcDAQFo7ciI+bvZjzXaOk+PjamtrkWWZPasLCMc09IpEMBDA4/HgdruT4tbu3OnEqxqRJJnSLPO03aOSJHH5qmzeVp1F5MyxLvYP9Nt2FJJlNfDb4wP0ekNsKLBx06a8xA7o2UyOW4un49jtdjwez8SluohCICQRMUro9HokJGKqhiSx4M0wS93UuLVgMJjYjT01bi0rKyttG7eEs/vUpz7F5z//+WkFYHd3Nw8++CD79++/QGe2/IifcGHZiXfkAoEAtbW1Kdu1OpWIj0umaRoNvWO81jpE10iAHJuR2sostpdkJgqxqfFxiqIQDoeRJCkRzzU1bm14eJjBwUFONjUm4tYGI7PHrUmShEF3cRd+cZIkce26HK5dl3PWovlc9Ho9xcXFFBcXE4vFyGjro+HZdrpHgpiVAJKsEFIlSpxmrlqTnlzopcZkMiXFrcU7qq2trRw/fpzMzMxEQWi1Wi/06a4YDQ0NM87627Zt25wuRQtzJwpAYVmJd+T0ej01NTVp68iJ+Ljp6jq8PHmgi0AkRoZJT1P/OCcHxhkLFPD2NTkzxsfFx4zMZupw4PMRt3ahpOpnSFEUtlcX8dX3ZvDY65009o2hxmKszoLLXV5OHj3I0JkuV7ri1s6nEX+EZxvc1Hd5MRsULqvK4opV2dMugZ/N5I7qqlWrCJzpQsc34Oj1+ok/LAwGotGo6A6mkdFopL+/P2nOIEBvb6943VNMvJrCshHvyGVnZ7Nhw4a0FQPnIz5OVVWOHTuW9vi4eEdusfFx4ajKC01uIjGN6pyJDQa5diM93iB/aB6kzBql5cSxRcXHna+4teViQ6Gdr92yjpFAFFma2IF7vuLWzpfB8TBf/GXjRHYxEhoafzo1zKFOL3dfVbmgMTMwkXU7uaM6MjJCU1MTbreb3t5eHA4HLpeL7OxszGbzRb/UYCm59tpruffee/nFL36RWLozMjLCF7/4Ra655poLfHbLiygAhWUh3pGrqKigsrJy2XTk0hkf5/V6qaurIz8/n7Vr1y6qYPb4wgyMBsmxJc9cy7EZaOwe5KUDXVxXuyllCSIwv7i1xQ5UXqokScJpeasLnsq4tYGxEEO+CAWZxgu2U/jnh/tocfvJtRkS+dHjoSi/b/LwjjUutpcsfu1vfG2gzWZLdAnj3cFTp05hNBoTr9ly6KheaP/yL//C5ZdfTllZGdu2bQOgvr6evLw8Hn/88Qt8dsuLKACFJa+zs5PGxkY2bNhAYWFhWh5DVVWOHj3KyMgItbW1aY2Piw+rXkxH7lwGBgY4fPjwojpykxkUGZ0iTwx2PvM1TdM43etmcMSPdX0VmtmxqHVuZ3O2uLXDhw8jSVJSp0sMB1543Jo3EOGbfzzNq2ei3Sx6hRs35rB3Twl65fxegv/TqSGMOjlR/MFETN9YKMjBDm9KCsCpLBYLFouFkpISYrHYtI6q0+lMvGZLraN6MSgqKuLIkSP853/+J4cPH8ZsNrN3717+7M/+bMWO7UkXUQAKS5amaZw8eZLOzk527NhBVtbi0gpmE4+PU1WV2tratHXkpg6rTlfHKh4ft2lT6jpyWVY9a/PsvN42hMWgQy/DsbYeWocjFGTb6R5X+dWRXjYXZbK73Ik8j/VZCxGPW5s8HHhwcJCOjo5p3UExHHjCXOLWsrKy+M4hP3VdPixGBZtBwR+J8ZO6XhRZ4mOXlJ7Xc5YkianLSBPrSs/Dt1RRFFwuFy6Xi9WrV+P3+/F4PAwMDCTtYI93B5fyGtXzyWq18vGPf/xCn8ayJwpAYUmKxWIcPXoUr9dLTU3NeenIbdmyJW2XdybHx5WXl6flMabGx02e5L9YkiTxrs15jAQiNPeP0jc4zEhIoyw3k2vW55FlNTAajHCo00tehpEK17l3VUZVjWM9o/SNhsi2GthanLGgDtPk4cBVVVWEQiHqW3v51fFBfL4Oqh0y64sn4tZisYVHxsFEd+ylliH6RkPkZxi5vDprSQ1SjpsatxbvqB5s7edAuxe9DDpVRZJ1ZJp0jASi/PrYAB/cUYjVeP4+Vi6ryuLHb3YTiamJnw1fOIZBkRNDws8XSZKm7WCPd6EbGhoSO9jjBeFCN1utFA0NDXR0dBAOh5O+/u53v/sCndHyIwpAYclZTh25meLj0mGm+LhUc9mMfHhHDr96uYPTiomg3k5NZXZiXl+GSc/geISu4QAVLiuBcIyYqqKf4WUdHA/z9X2tNPaPE41pyLJEZbaZz11dSbFj4ZfVNE3jp4fdPFU/iD8cA0y86oG3hcNcPtaG3+/HYDBw+vTpc8atTdXUP879vz3JwOhEPrEG/KSuh/tvWM2q3KU9RiTeUTWP6pF0fjLNCjE1RjgSJhgMIiHj9cm09Q2xoTTnvHVUb9mSx4GOEZoH3sr11skSN2zIZXNRxnk5h9nodLppHdXluoM9lVpbW7nllls4evTomQ7vREc3/jO12D/ShLeIAlBYUnw+H3V1ddjtdjZv3py2jtxyi487ePAgsixTU1OTtvVvQ0ND1B86xCVrSlglZ3Ooa2TasGZFntg88P2XT3OoawRVhbV5Fm7ckEvZpFSPH7zayZHuUXLtRsx6hVBUpdnt51t/bOeBd69ZcIFR1+nlybpeFEWiMDO+pi3KS51RLtuwmuLoIGNjY4yOjibFrWVnZ+N0Omddk6lqGv/6Qhv9oyFybQYUeWLwco83yL++0Ma3btuw4B2pF5NcmwG9IhPVJEwGI0aDEU3TGPaF0EsqXS2NDHc0LSpuzT0W4kjPGEadzPaSzLPG7WVZDTx48zp+3+jmcNcYJr3MZVVZXFrlvKheb7GDfe7+8i//koqKCvbt20dFRQVvvPEGHo+Hz33uc/zLv/zLhT69ZUUUgMKSMTw8zMGDBykqKmLNmoUXAWezHOPj6urqcDgcbNq06bzFxyluH1KXRCgaw6ib+AAPx1TGg1GOdY/iHg+TZZmYrfbKqWHaPAH++qpK8jKM9I+GONTlxWHWJ+LQjDqZHKuBkwM+Trr9rF5gR+2VU8OEoirF9rcuvzkserpHgrzUMsSt1TqsVitr165NGg586tQpAoEADocjUdxYLJbEz2Bzv4/THj8Osw7lzPpGRZZwmvW0efyccvuXfBcQYF2BjXV5No50j6JpE3nO/kiMiCbx3i1FXHtF2YLj1jRN40f7u/ivAz34wjFkSSLbqudzV1VyWdXs63vTEdOXbmIH++xee+01XnjhBVwuF7IsI8syl112GQ888ACf+cxnOHTo0IU+xWVD9JyFJaGnp4cDBw5QXV2dtsuxqqrS0NDA6dOn2b17d9qKv2AwyBtvvEEsFktr8efxeHj99dcpLCxk8+bNaSn+4qNxGhoa2LZtWyKppMRpZlWujc7hIF3DAbpHAnR4AkRVcI+Fqcy24LIZybYaqMqx0D0S5E+tQwCMhaKEY9q07qFBJxOJqYwFows+37HgxEy8qWRJYjSQfNz4cOBVq1ZRW1tLTU0NOTk5DA8P8+abb/Laa6/R1NTE4OAgvlCEmMa04cOKNNEJDEaWx2UrWZK4753VbCvJIBRT8fgjaBpcvy6HOy8rTcStVVVVsXv3bvbs2UNBQQFjY2McPHiQP/3pT5w4cYJgMIiqqknH3tfk4YevdxGJaWRb9WSadQyOh/nHZ1voGglcoGecfvEd7BUVFezcuZPLLruMkpISAoEAhw8f5pVXXuH48eP09fVNWw+3UN/+9rcpLy9PJPK88cYbs942Eonwla98haqqKkwmE1u2bOHZZ5+d9fZf/epXkSSJz372sws6t3isIYDL5aKnpweAsrIympqaFnRMYWaiAygsCZqmnZeOnIiPm7uzxccZdDJXrMqm2GmibdCPqmmUZ1t5pWUQRZaSxnbIZ2LgTg36ASjMNOEw6RgNRjHp37r8NxqIYDPqKMta+PdmbZ6NV04NEVW1RLEWUzViqsaGQjsQmvW+8fEfk4cDezwempub8frDGNDhGY+RYzeinPm+jgajOCz6ZZW/m2s38tD71tM84MPji1DiNFHinPl7Mlvc2tjYGCMjI4yMjCQ6Xb880kdM1XDaJi4ZyxJkW/V4fBF+3zjIR2pLzufTvGAm72BXVZWxsbHEDvaGhgZ++tOfYrVacblc04rouXjyySe5++67eeSRR6ipqeHhhx/muuuuo6mpacb31/vuu48nnniC73//+6xdu5bnnnuOW265hVdffTUxpy/uzTff5Lvf/S6bN29e8PPfuHEjhw8fpqKigpqaGv75n/8Zg8HA9773vWnpIMLiiAJQWBKKioqIRhfe+TkbER83f3OJjzPqFdYXZLC+4K3F+Cd6R1E1bdo8wEhMw2GaeDuyGBRu2pzHj17votcbxGrUEQjHiKgqt2zJx2Vb+BrGq9e6eL7RTZsngNWggAS+UIxSp5lr17oYc3fP6Tjx4cDZ2dmsWrUKv99Pl3SaHx8eomtoHIMiEdNkDHqFD27PX/TO2Kiq8VrrMHWdXmQJasud7CzLvGDr3CRJYk3e/HbeT45bi0Qi6PV6zGZzIm6tpVdG0iSi0RiKoiBJZ8a8AO7x1HS+lhpZlqftYD916hS//OUvGR4eZu3atdxwww3ccMMNXH/99WRknHvjy0MPPcSdd97J3r17AXjkkUf4zW9+w6OPPso999wz7faPP/44X/rSl7jhhhsA+MQnPsHvf/97vv71r/PEE08kbjc+Ps6HPvQhvv/97/MP//APC37O9913Hz7fxKaer3zlK7zrXe/ibW97G9nZ2Tz55JMLPq4wnSgAhRVtOcXHaZrG0aNH0x4fF4lE2L9//4Li43aUOXm+0U2PN0h+hglJmtgUYlQkdpU7E7e7eXMeZr3Mr48O4PGFcdkNXLfOxU2bFrdL2mnR85V3reHJuh5eaxtG0+DyDVnctr2QHLuRMff8jxkf//EX71hPdckQvzjcS7vHR7YRdmRFcI40c+TI4ILj1sJRlX949iQvtwwR0zRA4pnD/Vy/PofPXbV0OyJ6vT4pbu037mP86fQooVAINA1ZUZBkGTQW1fVdToxGI3feeScf+MAHKC0t5bHHHuOll17i//7f/0t2djZXXXXVWe8fDoepq6vj3nvvTXxNlmWuvvpqXnvttRnvEwqFpv2BZzabeeWVV5K+9qlPfYobb7yRq6++elEF4HXXXZf4/6urq2lsbGRoaAin07mi1kKeD6IAFFasUCjE/v370x4f5/V66e3tTWtHTlVVBgYGMBgMs3bkUiEcDtPf309RUdGC4uOqcqz8r90l/HddN22eiUu+dqPCLVvy2VL0VsEqSRLXr8/lmrU5+MIxLAZl2vq6hcrPMPKXV1Zw1xXlaExft7dQkiRx5epsrlz91vd4sXFrAM+dcPNSyxBWg5LYFOMLx/hdg5vacgepC9e7cBRF4c9ry6nvayQQiWExyESiMXyBKE6DhmPsNM3N4yJubYpLL72UG2+8kQcffPCtAdhnMTg4SCwWmzZuKi8vj8bGxhnvc9111/HQQw9x+eWXU1VVxb59+3j66aeTxrH85Cc/4eDBg7z55puLej6RSASz2Ux9fT0bN25MfD1dQ/5XOlEACiuS1+tleHiYTZs2pTU+zu12EwgE2LNnT1qHVff19WEwGNi9e3da4+M8Hg/Z2dmsW7duwQXzFatdbC7O4ETvGFFVo8JpINdunPF4iiyRYUrP81HSnEYCC49bm+ylliE0jUTxB2A1KPjCMV4+NcwHlm4TMMm2kkz+9vpqvv+nTnq8QSRZoabCwV2Xl+JUQiJu7RzS1R37xje+wZ133pnYfFdVVcXevXt59NFHgYkozr/8y7/k+eefX/Qfnnq9ntLSUjHr7zwRBaCwosTj49xuN06nM23FX3xYdSQSIS8vL23FX3xYtclkwuVypa34i8fHORyOlFyKcVoMXFKVjaZpKdvZuBScLW6tsbERm82WNP5DlmWCkdisqWbh6Pw3AVzMLl+VzaVVWXSNBDHqJPIz4gWFXcStpYDL5UJRFPr7+5O+3t/fP2ssZE5ODs888wzBYBCPx0NhYSH33HNPYkNGXV0dAwMDbN++PXGfWCzGSy+9xLe+9S1CodC8OrZf+tKX+OIXv8jjjz8uOn9pJgpAYcWYHB9XWlo6sdYoDSbHxxUUFKTtr9nJ8XF+vz8tHQB/KMqBoycYGxrg0t276OjoSPljrFSzxa15PB6OHj2aGA68xilzuEtL2rkcialIwLaSDGD0gj6PVFNkadY1fyJubXEMBgM7duxg37593HzzzcDElYp9+/Zx1113nfW+JpOJoqIiIpEITz31FLfeeisAV111FUePHk267d69e1m7di1f+MIX5n25/lvf+hYtLS0UFhZSVlaG1Zo8P/PgwYPzOp4wO1EACivC1Pi47u7utBSAU+PjTp48mZYCMN6Ri8fHNTQ0pPT4MVXjueO9/OKNFkYDUQpysvGf8lEuaSz9ccYXp8njPzRNSwxUXm8ZJEsXZsAbRa/ISLKMhsT6fBvXrHXR3b68CsD5OFfcmtVqndZRXenuvvtu7rjjDnbu3Mnu3bt5+OGH8fl8iV3Bt99+O0VFRTzwwAMA7N+/n+7ubrZu3Up3dzf3338/qqry+c9/HgC73Z60Xg9IvO5Tvz4X8cJUSD9RAArL3nKNj9u1axcOhyMtj/Ps0W4ee6kZk06isjiXQETjt8f6WWMP84EtqbucPTQ0lLj06XK5zhq3tpJIkpQY/1FZWcm69eP81/52Xm3zEotF2ZQFN62TGB/xoKqqKGw4e9za5I7qSo9bu+2223C73Xz5y1+mr6+PrVu38uyzzyY2hnR0dCT9PAWDQe677z5aW1ux2WzccMMNPP7442l77/m7v/u7tBxXmE680wrLmoiPm7/B4VGeeq0Jq0HP2tK8iQ9WE+gVicZBH25flKoUPE48Pq60tJRIJHLOuLWVrMBp4+7rN3A3E5fsJsetjY+PYzQaE7nFZ4tbm8l4KMqLJz24x8KUOs1cVp01LYVlKRJxa7O76667Zr3k++KLLyb97yuuuGLeVximHkO4OIkCUFi24h25NWvWUFpampbHUFWVEydOMDAwwO7du8nMzEzL48SHVet0Ompra9M2rNrj8fCH1w+h6syU5CRv9sg062mLqgwHFndJW9M0WltbaWtrY+vWrYnhtZIk4ff7E12b1tZWDAZD4kPa6XSK8R+QiFuLR641NDQQDocZGxujvb09aUh1VlbWWTuqDb1j3PerJgbGw4mNJuXZZh68eR2Fmctn/Vw8bi0euTZ5veXhw4eRJClpN3a6fr+Ec5Nl+azFuNghnDqiABSWHU3TaGtr49SpUyI+bh7i8XFb1q3mzdAY/nAM26QEC18ohlGRsBkW/vhT4+NsNlvSLuCzxa2Fw+Fp3UFhYh2cwWCguro6KW6ttbWV48ePk5mZmXjNrFZr4sM1qmr8w7MtDIyFcVj0KLJEJKbSOhjg679v5evvW3+Bn1n6nC1ubXJ30OVyzbujKizOz3/+86T/HU8d+tGPfsTf//3fX6CzWp5EASgsK+e7I5fu+DiPx8OhQ4fOe3xczUgPvz7ah06WyDTr8YWj9HiDlGfqKLAv7G0jEolQX19PJBJJDKs+2/DameLWPB4Pg4ODtLS0YDKZksZ/iO5gctzaqlWrCAQCeDyeRNyaXq/H5XKRnZ3N6XGF7pEgdpMuMRNRr8hYDAr1XaP0eIPLqgs4m5ni1uKvWUdHB4qikJWVRSgUEt2n8+A973nPtK+9//3vZ8OGDTz55JN87GMfuwBntTyJAlBYNqLRKPX19QSDwfPSkVsO8XGqqnLs2LFp8XE3bsojEIlxoH2YNo8Pk15hd7mTLZbRBRWhgUCAuro6zGbzgoZVzzT+Iz5QOT4cePIC/1R87xt6x/jl0QHah/yUOM3ctDGXTUXnzlqdC18oyuHuMQC2FmdgMaSneDWbzUlxa/Hu4MmTJznQEyQUUTDrNFRVN5ErLEnoZIlATGU8tDKLHaPRSGFhIYWFhaiqitfrxePx4Ha7OXXqVGIY+tSOqpBetbW1fPzjH7/Qp7GsiAJQWBaCwSB1dXUYDIa0duQGBwepr69Pe3zc1I5cOsQvrUSj0WnxcSa9wv+qKeHqtTkM+sJkmHSUOM3T5n2FIjFeavHw5ulhIjGNLSWZXLnaRab5rdff6/Vy8OBB8vLyFhQfNxOdTkdOTg45OTkpiVub6o8nPfzTcy34wzEUWeJYzxgvNnv4/DVVXL3Wtahz/82xAb79x9N4g1EAHGYdn7myguvW5SzquOcyuaMKkN8/wtMdx/GFYpgiESRJQlEUxiOQbTNS6lz+3b9zkWUZp9OJ0+nE7/djt9sxGAxJHdXJa1TFDvb0CAQC/Nu//Vva/hBeqcRPq7DkjY6OUldXR05ODuvXr09bR66zs5PGxkY2bNiQ1vi4o0ePMjw8TG1tbVrj4+rq6rBYLGzfvn3WD678TBP5s1wGDEdVvvliK6+1DiEhIUtQ3+nlzdPDfP7aVWSa9QwMDHD48GGqq6spLy9PS8Gciri1ySIxjX//UzvBiIrLZkCSJDRNY8gX4Tsvt3NZlROTfmEdu8Pdo3zt96eIxFSsZ9ZXjvgjPPBcC8UOExsK7Oc4QupU5Dl477ZC/vtgLyEUdDDR9dM0dmWO09RwTMStTaHX6ykqKqKoqChpvaXYwZ46U5OG4ju4LRYLTzzxxAU8s+VHFIDCkuZ2uzl8+HDaO3InT56ks7OTHTt2pC2eaPKw6j179qRtTll8WHV+fv6iMn3rOkZ4vXWYHLsRq2HirSQcUzneM8ofmgfZ5gjT3NzMpk2bZo2ZSoezxa01NTWdczhwx2gU93gYu0mXeG0kSSLDrMPjC3Oib5xtJQtbW/qrI/2EoyqZ5reOnWHWMRKI8quj/ee1AAT45OXl5NqNPF3fx5A/wmqXldu2F/C2MgtDQ0Mibu0spq63FDvYU+Nf//Vfk96TZFkmJyeHmpoanE7nBTyz5UcUgMKSdT46cpPj4+K7VtNhcnzcli1b0vZhMTk+rry8fFHHOtE7RlRVE8UfgEGRMehkXjjcRkZxMK3DqgG8gQhP1/fx8qkhYqrGngon792aT659onieGrcWiUQSC/ynDgeOXxo9sx+CqdtTNA0kYDF/Y3SNBEEi6QNOkiQkoMebnmjCs1Fkidt2FHLr9gIiMQ29IiXOzWazibi1eZi6gz3ehY7vYI+/ZllZWWIH+1l85CMfudCnsGKIAlBYcjRNo7m5ma6urvPWkautrU17Ry4eH5euLmZ7e3tSfNx8xFSN9iE/B3tDGEwQs43DDKc50XHzEUFL67BqmNhI8aVfNtHQN36mcIH/PtjLG+0j/PPN63DZDNPuo9frZ4xbi2+4MRgMOHR68mw6urzhpEvAo4EIBZkm1ucvvEtX6bJwpHsUTdMS3+f4TujK7At3mVWSJAy6mX/uRNza/CmKgsvlwuVyoWlaYge72+0WHdVzeOyxx7DZbHzgAx9I+vpPf/pT/H4/d9xxxwU6s+VHFIDCkhLvyI2OjlJbWzstKDxVznd8XCo6crNZbHxcTNV4+eQghzq99A6GMRo0esO9WAwKBp3MSCCCw6xHVWP0DHiIqfCumjVp73K80OzhRP84LpsevTLxARpVNU57AvyuYYAP7y4+6/2nxq2Fw2EaGxsZHx/nqpwQPx6Bfm8MWZKQZBmbUcen316OYREpGTdvyee5E25GAlGsBgUNEvMW3735/F0mXygRtzZ/Z9vBfuLECaLRqOioTvLAAw/w3e9+d9rXc3Nz+fjHPy4KwBQSBaCwZITDYQ4ePAhMjAQwGKZ3eFJBxMcl6xwOcKjLS7bNgBLQYTQayHCY6BoKsK3YQX23F/doAL/fj0Gv4x0bC7hq3fRiRtM0ghEVo05Glhf/mh7tHkXTSBR/ADpZQpGhrsN7zgJwKoPBgM1mw2Aw8NHa1exuH+BXR3pp9/jIUMJcUa6nWBllbEy/4OHAq3Ot/N93reEbL7bRMxIEoDzbwmevLKfStfQuC4q4tflL9w72pa6jo4OKioppXy8rK6Ojo+MCnNHyJQpAYUkYHx/njTfeOG8duXTHxzU2NtLX17ck4uN6RwJEYhp2k46RM18z6RV0Opn1uTb2lJj4nwPNZBQ5eNvGCnaVO5O6ZJqmsa/Rzc/re+nxBnGY9dy4KY+btxQkBhAvhHGWnbiqBpYF7tKNk2WZzRX5bK6YKGSDwWCi0zXfuLWpLql0UlPuoMXtQ5IkqlyWRb0OF4v5xK2pqnqhT/eiMNsO9sHBwQXtYJ+rb3/723zta1+jr6+PLVu28M1vfpPdu3fPeNtIJMIDDzzAj370I7q7u1mzZg0PPvgg119/feI2DzzwAE8//TSNjY2YzWYuueQSHnzwQdasWTPvc8vNzeXIkSPTrogcPnw4bSOxVipRAApLQldXF3l5eaxevTptHbnzHR+3Z8+eJREfN1tWhwSMjAxjCHbxyavXUVw8c8ft10f7+fc/thJTNaxGHb2jQb770mk842E+/rbyBZ/XJZVO/ueEm7FgFJtRmcgSDseQJbh8VWrXhZpMpqThwPHxH21tbWeNW5uNIkusyUvPhqKLxdni1sbHx/F6vWiaRnZ2Nna7XXQHmdsO9iNHjpCbm7vg1+vJJ5/k7rvv5pFHHqGmpoaHH36Y6667jqamphnf9+677z6eeOIJvv/977N27Vqee+45brnlFl599VW2bdsGwB//+Ec+9alPsWvXLqLRKF/84he59tpraWhomPcynT/7sz/jM5/5DHa7ncsvvzxx/L/8y7/kgx/84IKeszAzSTtbFpMgXCSi0WhKY5haW1sZGxtjy5YtSfFx27dvT2lHrrm5mUgkwoYNG5I6ctu2bUvpsOqGhgYURWHNmjWJYdWpio9rG/Tx8/pecuwGhgd6MRqN2B3ZHDvdyyrDKO9+27ZZ/zIPRWL8xRP1uMdD5Ge8tbZp2BcGCb7751twmiaK0/mep6ppfOeldn59bIBwdKKjpFMkrqjO5m+uqUy6NDxXra2thMNh1q5dO+f7TI5bGx4ePu/DgZubm5Flmerq6rQ+TirF1wtKksTQ0FAibs3lcuF0OtM2yH0xjhw5QlZW1qx/6KRbvKP6d3/3d/z6178mGAxy0003cfPNN3P99deTkzO3QeI1NTXs2rWLb33rW8DEFYmSkhI+/elPc88990y7fWFhIV/60pf41Kc+lfja+973Psxm86xz+dxuN7m5ufzxj39MFHHzeZ4f/vCH+elPf5r43VFVldtvv51HHnkkbUt/ViLRARSWhHR1B0R83LmVZlnYVpLJoU4v/aNR9HqZsLuTHF2Qd1+xi2zn7AVzjzfIkC9Mpin5Az3DrKfXG6TF7WNXycJ21cqSxCcvL+Nt1Vm82e4lpmpsK8lgR2nmRKzZeTJb3FpLSwvBYBCHw5HI3zWbzaLTxcQuWYvFQnl5eVLc2kI7qitBvKP63e9+l8HBQVavXk11dTX/9m//xkc+8hF++9vfct111531GOFwmLq6Ou69997E12RZ5uqrr+a1116b8T6hUGjaxhSz2cwrr7wy6+N4vV6ABU1oMBgMPPnkk/zDP/wD9fX1mM1mNm3aRFlZ2byPJZydKACFFSsWi7F///60x8cFg0H279+fso7cTDRNY3h4mM7Ozlnj49xjIQbGQmSYdBQ7516IKLLE5atclDjNvFjnYdw3RoHLwA2X1WK3nn3jgtWoQydLhGMqZt5alxeJqehkCbtxcW9BkiSxuSiDzSnK6F2sqXFr8fEf8bQIo9GYNP5DDAdOjlurrq4mGAwmXjMRtzYznU5HNBrl3nvv5cEHH6S/vz+R4302g4ODxGKxaWOg8vLyaGxsnPE+1113HQ899BCXX345VVVV7Nu3j6effnrWKzKqqvLZz36WSy+9lI0bN87/yZ2xatUqVq1ateD7C+cmfpOEFSkUCjE4OEhhYWFa4+Pic+Y2bdqU1vg4j8dDOByeMT4uHFX577puXm31MB6MYdLLbCjM4MM1JWRZ53Y5RZElCm0y5foxjHlG9uypndMHca7dyM4yB39oHsSokzHpFSIxFfdYiNV5NtYX2FFj0QU976UgPhy4pKQkaThwY2MjkUgkafzHcoxb0zSNgbEwekWa88+ayWQScWvzNN+5nvPxjW98gzvvvDMxo7Sqqoq9e/fy6KOPznj7T33qUxw7duysHcKzed/73sfu3bv5whe+kPT1f/7nf+bNN9/kpz/96YKOK0wnCkBhxXG73XR2dmK1WtmwYUNa4+OGhoZwuVxpK/7iw6qj0SgFBQUzJpX8+mgfvzvWj8Oip8Rpwh+O8XrrENGYxl9dVZU0kmUsGOVwl5eoqrEu30bemXV7Xq+Xuro6jEYjBQUF8+rC/J/LK3CPh2nsG0M9s+K4LNvC566uRqfIhFO3tPOiNnk48OrVqxPdweUat/Zm+wjfebmdtsEAkgTbSjL49BXllGfPfdyNiFtLLZfLhaIo9Pf3J329v79/1rjGnJwcnnnmmURntrCwkHvuuYfKysppt73rrrv49a9/zUsvvbTgtZIvvfQS999//7Svv/Od7+TrX//6go4pzEwUgMKKEo+Pi++iS0fxp6oqR48eZWRkhMLCwrR1KCbHx+Xm5s5YlPnDMV5u8WAzKYlkjAzzxBy+hr5R2jx+qnImdum90uLhP/50GvdYGE2byKh9z+Z8rizVJ4ZVj46Ozvv55NiNfP39GznQPkL3SACXzcjucicWg8JK3YM203DgVMStdY8E+V3DAH3eECVZZm5Yn0OO/fwPY27oHeOLv2zCF4qe+T7Da63DtHkC/OBDmxd83HPFrU3tDgrJDAYDO3bsYN++fdx8883AxPvVvn37uOuuu85633hnNhKJ8NRTT3Hrrbcm/k3TND796U/z85//nBdffHHGOX5zNT4+PuNGD71ez+jo6IKPK0wnCkBhRZgaHzcyMsLY2FjKH2dqfFx7ezuRSCTljzM1Pu7EiRMz3m4sGMEXimI3Jf+qWw0Kvd4gw/6Jc+sc8vPvf2xjPBSlyGlGlmDIF+b/vdbGwOkQH7xiIj7uyJEjCzpfvSKzpzI9kX3Lwbni1uYyHPj1tmG+9Ksm/KEYKhNjen5yoIev3bKOjYULj6+DiYSVl056eKN9BEWWePuqbHaWZs76x8BPD/XiC0fJsugTtzHqZPpHQzzb4GZLCmqz2eLWBgcHaWlpWXYd1VS5++67ueOOO9i5cye7d+/m4YcfxufzsXfvXgBuv/12ioqKeOCBBwDYv38/3d3dbN26le7ubu6//35UVeXzn/984pif+tSn+PGPf8wvfvEL7HY7fX19AGRmZs57acOmTZt48skn+fKXv5z09Z/85CesX79+MU9dmEIUgMKyN1N83MjISMofx+/3c+DAgfM2rHr16tXn3BnnMOvJNOsZ8UewTdpwMRqMYjXqEl3BV1uHGPaHKc8+s6ZK0zBqYQaCYQZ0uWldYyQkO1vc2rFjx6bFrQFEYhoP7DuFLxQjwzQxE1HVNIb9ER78nxZ+dMfWBe+MDkdV/vrnJ3i9bTjxtZ8d7OM9W/K459qqGY97om8cnSwnFYiKPJGpfMrtY0uKN3SKuLW5u+2223C73Xz5y1+mr6+PrVu38uyzzyZ+xzs6OpKK5WAwyH333Udrays2m40bbriBxx9/PClS8jvf+Q4Ab3/725Me67HHHuMjH/nIvM7vb//2b3nve9/LqVOneMc73gHAvn37+PGPf8zPfvaz+T9hYVaiABSWtZUeH2fUK1y52sV/Heii90wKhz8cw+MLc2l1NmVZE3+dewMTGzEkSUJTVUZHR4nGYjjsVsYiYpH9hXSuuDW9Xk97wMDAaASrQUn87MmShFkv0+YJcMrtZ1XuwnKzf3aol9fahtErEnpFRtM0wjGNZw73cVlVFpdXT+/s5tqNdA4Hk742MfcPsqx6IPVd8clE3NrZ3XXXXbNe8n3xxReT/vcVV1xBQ0PDWY+XyqUcN910E8888wz/9E//xM9+9jPMZjNbtmzhhRdeWNBYGWF2ogAUli2fz0ddXd1F1ZFbqMXEx127PpeYpvFC0yAeXxijXuHa9bl8YHtRolgoyZoYCxOORBkfm1jn53Q4aB8OsnqBhcNcxWPBxAL+c5spbu348eMERwNEYyrhsIqqyCiKjCzLSNJEkkt8UPZCPHfCDZMylyVJwqiT8IdivNA0OGMB+K6NuRzq9DIWimIzKKjaRNfZpFe4dl0OYXf7gs9nvmaLW/N4PGmNWxMW7sYbb+TGG28EJiYp/Nd//Rd//dd/TV1dXUoDAVY6UQAKy1K8I1dcXJzW+Lj5duQWYrHxcTpF5qbNBbxjTQ6D42HsJt20kRyXVWXzi4NdNHQP4zDrsNustA8HybYaeOfGmXcHLpamaaiqmvi/sVgMWZYT/wnnZjAYsFqt7Ci3knlqCF8oil6SiEajqKpGICaRbdGRa4olkjfmKxCJTSwonEKL/9sMrlnrom3Qz5MHexkKRJEAu0nHZ68spzrHSoN73qeRMnOJW4sXgxkZGeJn8QJ56aWX+MEPfsBTTz1FYWEh733ve/n2t799oU9rWREFoLDs9Pb2cuzYMdasWUNpaWlaHmNyfNx8O3LzMTk+brHDqq1GHdZZBi+HfV7e4Rwmy5hB66hEVNXYXurggzuLE7uEU0nTNGKxGKqqoigKsiwnisFo9K3L0fKZdWTiQ/js7EaZvXtK+PeX2vFHNRRZIQYYdBo3rzLScPTwguPWaiuctHkCqJqWWO8XUycu5+4sdcx4H0mS+N9vK+OmzXkc7PSiV2Rqyhw4LBdXxNvk9Zbxjmp8vWU8ri7eHYx3qoX06evr44c//CE/+MEPGB0d5dZbbyUUCvHMM8+IDSBpIApAYdnQNI22tjZOnTrF1q1b55yNOV8XQ3xcKBLDPR4mw6Qjw7y4D9V4fNyl29Zza1ERo4EIUVXDOWkHZypNLv7kKRsFVFVN+m/y5R7RHTy7P99ZSEGGkafq++gaCVKZbeYD2wu5pNK5qLi1P99ZyPMnBhkcDycuKQNUu6zcsOHsv2OFmSYKM5fOhot43Fp+fj6apiUGuXd1dTE2Nobf7ycSiZCdnY3dbhdDqFPopptu4qWXXuLGG2/k4Ycf5vrrr0dRFB555JELfWrLligAhWVBVVUaGhpwu93U1NSQkZGeaLBgMEhdXV3a4+MGBwepr6+fFh+nqhrPNgzwu2N9DPsjGHUyl1RlscWmYp/nGjpN02hpaaG9vT0pPm6xBeW5HnO24g9IKvAmXx4W3cFzkySJd6xx8Y41rmn/tpi4tfwME//xoc388PVOXm4ZQq/IXLPOxe27i2ftKC8HkiSRmZlJZmYmlZWV1NfXo9fr8fl8dHZ2IklS4jXLyspK23vBSvG73/2Oz3zmM3ziE58QEXDnyfL97RVWjGg0yqFDhwiHw+zZsydtIx5GR0epq6vD5XJN68ilUrwjt2HDhmkJIv9zYoAfvtqOTpHINOsJRGL86kgfLU6NO7Y65/wYoUiUlw5MDKu+snY32c70Z+lO7uzNVPxNFX9945tDFtMdjMRU9p8eoXM4SJ7dwKVVWRh1qfv+xXdBLpWO0Hzj1oocJr50/cr+UJZlmczMTIqLi1HP7JT3eDy0t7fT0NBARkZG4jWz2WxL5mfhYvHKK6/wgx/8gB07drBu3To+/OEP88EPfvBCn9ayJgpAYUkLBALU1dVhMpmoqalJW1C82+3m8OHDVFRUUFlZmdb4uM7OTnbs2DFt5EE4qvLs8YGJXF7HxGVnq1GHQSfTODhG12iUtXN4nFP9o/znH+oZDKjk5OQxdNTDZdWwoTA9RaCmaYnOHzCn4m8mM3UHY7FY4vizdQf7RoN84ZlGTg36QZu4hFnsMPHAe9ZS6VrcROLukSD/8WoHfzw5hKbB5auy+ItLSihxLp1cXxG3Nn+yLONwOHA4HFRVVREMBhOvWXt7O4qiJHUH0/W+tJzU1tZSW1vLww8/zJNPPsmjjz7K3XffjaqqPP/885SUlGC3L26guZBM/FQKS1a8I5eTk8P69evT1pGLx8fN1JFLlcnxcTU1NTNm+noDEYZ84WmXaO1GHZ1RlUH/uccj9Hq8fO+5gwQ1HVtXlaHoFAZGQzzbMIDdpKM0a24FUTASY2AshMOsP+sl48mXcIGUxe/N1B2MF4NTu4MPPNfCyQEfdpMOvSITjal0Dgf4ym+befTDWxY8IHlwPMwnnzxGnzeIciZP+dnjAxzs8PIfH9pMXsbSHCci4tbmz2QyUVhYSGFhYVJHtbW1NbHe0uVyJV4z0R2cndVq5aMf/Sgf/ehHaWpq4gc/+AFf/epXueeee7jmmmv45S9/eaFPcdkQBaCwJLndburr66mqqqKioiJtHbnJ8XHpGkI6NT5utjlkNqMOs0HGH44lRbsFIyp6WcJuPHsBPDIywq9eqiMkmdm9pjhRRBU7zbQMjHOid+ycBWBM0/h14ygv/74Ob3BiDeI71uTw8beVJyWNAEkdOiCta/Vm6w52Dgc43DWGSS+jO5NEocgSVoNCqydAQ+/4gmPSnjnSR99oCKtBQT5TAKqaxsB4mKcP9/GJt6VnJuT5JOLW5m9qRzUQCCTWW7a2tqLX6xPFoOiont2aNWv453/+Zx544AF+9atf8eijj17oU1pWRAEoLDkdHR00NTWxceNGCgoK0vIY8fg4r9c7a0cuFeYTH2c2KFy5Oocn67ox+CfWAAYjMXpGgpRk6qhwzN6Jiw+rduYUkWWYvlbOpFcSucBn8/vWAL9oDmAyGrAaFEJRlZ/X9zLij/D3N61NFOKTO38LveS7UJO7g4FYkJimYZjyfHWyhC8cwzMeRFWtCypc6rtG0TQtUfzBRPoGmsbBDu/insRF6Fxxa5FIJGmg8kqOW5vMbDZTXFyc6KjGu4MnT54kGAwmRdSJjurMFEXh5ptv5uabb77Qp7KsiAJQWDI0TaOpqYnu7m527tyJ0zn3TQ/zEY+P0zSNPXv2XFTxcbdsLWAkEOHVU0OcHvRj1MlsLsrk6sJo4jLkZFOHVfeGjZyo7yWmaonba5qGPxwj9xyXLAPhGH9on7jcGc8QNhsUdIrE621DnHL7qM61nXOn7/lUlmXBbtIxHoph0L11HoFIDJNepirbnFg7OHkW4VxkGHXM9tQyTMv/rVXErc3f5LWBQKKj6vF4aGlpwWQyJXVURXdQSKfl/y4lLAuxWIz6+nrGxsaora3Fak1PPNnFHh9n1Cv8n8sreNemfHq8QTJMOlbl2mhqPDHttjPFx1lCUYqcZk65feRlGFFkiYHREE6rng0FZ78UOjAWYjysYjEkvyZWg4I3EKV9KEBVjnXBxd+IP8JPDnTzQtMgUVXjkkonf7ariCLHwjdU2E06bttRxPf/1M5IYOKSdTiqomnwvq0FlLjsifNVVZXx8XGMRiORSOScY2auXZfDH056JorJMzuKQ9GJtI1r1y9+BqXHF+a3xwfoGQlR7DRxw4ZcnBfZIOW4+catCRPi6y1LSkqS1ls2NjYSiUSSuoOpnDf67W9/m6997Wv09fWxZcsWvvnNb7J79+4ZbxuJRHjggQf40Y9+RHd3N2vWrOHBBx/k+uuvX/AxhYuDKACFJeHEiROEQiFqa2vT3pFbCvFxxU4zxWfZaTpbfJzNqOOmzfm80uKh3eMnpkGFy8IlVdnkZZz9kp3DosegSIRjyR2yUFTFoEg4LboFF3++UJS/+XkDjX1j6OSJjSI/P9zHG+0j/NutG8k/x7mdzUf2lGAxKDxZ182QL0KW1cB7txbw4ZrixNrBaDRKQ0MDwWAwMYNs6piZ+AaWeEF4+aos3r+tgKfr+xgPq0iALEu8Z3Me16ydPotvPg53j/JXP2tgLBiFiavKPPZaJ994/wY2LHDN4vl0rrg1RVGw2Ww4HA4Rt3bG5PWWq1evTnQHBwYGOHnyZGK9pd/vJy8vb8GP8+STT3L33XfzyCOPUFNTw8MPP8x1111HU1PTjO9H9913H0888QTf//73Wbt2Lc899xy33HILr776Ktu2bVvQMYWLg6TN9XqHIFxAgUBgYgF/ijpyra2tjI2NsWXLFiB98XHNzc1EIhE2bNiQFB+3ffv2lMbHNTQ0oCgKa9asSYqP27Zt26wDaof9YTQNHGZ90jq2s7nnx6/yUkeILLspsQbQMx5mXYGdb966AflMkTTf4vmXR/r4l+dbcFj06JWJYiCmagyOh/lfu4v5P5eXz+t4M4mpGmPBKFajkngMgFAoxKFDh9DpdGzZsiXxesV3E8cvC0+e9Te5IGzoHedPrcNoaFxamcWGgsXNgIuqGu//fh1dI0FMehlZklA1jWBEpTzLzH//xfakncvNzc3Iskx1dfWCH/N8CofDHD16lFgsRigUSopby87OTtsfeIt15MgRsrKyKC4uPu+PHY1GE2Nm/s//+T80NjZis9m47777eN/73kdRUdGcj1VTU8OuXbv41re+BUz8nJeUlPDpT3+ae+65Z9rtCwsL+dKXvsSnPvWpxNfe9773YTabeeKJJxZ0TOHiIDqAwpJgMBgSa7VSaSXFx03ltMz/g/bmNRYCqkyDJ4Y3EEWvSKwrsHPvtVXIi0jlONoziqqRVJgpsoROkTjQMbKgY06lyNK0LNqxsTHq6+txOp3TRgnNtrN46piZNblm1uVbE/dZrGM9o3R7gxh0cqLQkyUJgyLRMRygsW+c9ee4XH8xMxgMmM1mLBYLZWVlSXFrJ06cSBqoLOLWJuh0ukRH9Q9/+AN/+MMf+PCHP8yPf/xj7r77bjZs2MB3v/tdamtrz3qccDhMXV0d9957b+Jrsixz9dVX89prr814n1AoNG1Dj9ls5pVXXlnwMYWLgygAhRVL0zSOHz+e9vi4aDTK/v370x4fFwgE2L9//7T4uFSy6GU+XetCy8inw+Mn06ywId+GTllcRq9ZP3NnV1XBakjP25TH4+HIkSOUlpaec7j3bHMH0xFR5w9PrFGcem9Jmhhj44+ce97jUjE1bi0cDic2RYi4tZnJssyOHTsYHx/n2WefTQxKnsta4sHBQWKx2LRLyHl5eTQ2Ns54n+uuu46HHnqIyy+/nKqqKvbt28fTTz+d+CNoIccULg6iABRWpPiCa71en9aOXCgUYmBggPz8/LTGx42PjzM8PMymTZvSNqw6TpIkqnKsVGSZUrbT9/LqbH59tJ/RYBS7UUGSJPzhGEhw1ZT1dM394/z3wR5ODvgozDTxvm0F7CxzzOvxuru7aWxsZN26dUmvVygao67Di6pqbCvNnLX4nNodXGhE3Uw2FNgw62WCURWz/FZhHI6qWI0K6/LSM5LoYmAwGCgoKKCgoEDErc1RVlYWt912W9qO/41vfIM777yTtWsnxjxVVVWxd+9eMZNvGRAFoLDiBIPBRHehtrY2rfFxPT09ZGRksHHjxrTGx42MjJCXl5dUzMRUjVNuH6GoSlWOddru3cU8ZqrHvOwozeS2HYX89GAP7vEwADpZ5qo1Lq7f8NYi8ldPDfE3P28geKYLdqxnlH1Nbr5w7Sret+3cMyE1TePUqVN0dnaybdu2pOHe/3NigH/83Um8gQgaExtm7r6q6pzHnelScbwYXEh3MNOsZ++eEr7zcjv+cAxFgpgGsgR/cUkpVuPifl4jMZV9TR7+dGoIRZZ4+6psLl+VteBElHQRcWup53K5UBSF/v7+pK/39/eTn58/431ycnJ45plnCAaDeDweCgsLueeee6isrFzwMYWLg/iNEVaUeHycyWTCYrGk7UMjHh+Xk5OD0WhMS/EXj4/rGxzGb8ii0ydTPB7CZTPS2DfGt15s5bTHT0zVcNkM/PnuEt65YeG7B2GigAqHw8RiMRRFSdnzkiSJj19Wxtuqs3mtbZhoTGVHqYPtpZmJwiSmajz4fAuBcAzrmS5hfIbhN/7QyrXrcpISUqZSVZXjx48zMjLCrl27koZ7N/aN88VfNBKJqRNDoyUYD0X5x981U+wwUVMxt5mTM10qXkh3cG9tMTk2Az850EPnSJBSp4kP7Sri+kWOlwlFVf7yp8d54/QISCABvzzazzVrXfzTu9fOOEvyYjGXuLV4QWi1WkV3cAYGg4EdO3awb9++xFBlVVXZt28fd91111nvazKZKCoqIhKJ8NRTT3Hrrbcu+pjChSUKQGHFmBwfFx9NkWpT4+MGBweJRM6dsDFf8fi41uEIHeTT1uFBksIcGT3N5iI7Tx7ooX80hMtmQJElPONh/v2PbWRZ9NRUvNX1OtA+wpMHumjqHyfHZuDdWwq4aVP+tF3B8V2wGRkZtLS00NfXR3Z2diLSKhVrsyRJYn2BfdYNDq2DfnpGghj1b3UdJUnCrFfwhaIcaB/hyjUzj18Jh8McPnwYVVXZvXv3tLi9nx3qIaqqGJW3jm1UZMIxlZ8c6J5zATjVQruDkiRx06Y8btq0uIJ9qqcO9fJG+wiKLCWKvaiq8XzjIFeuHlx0gXm+nC1ura2tTcStncXdd9/NHXfcwc6dO9m9ezcPP/wwPp+PvXv3AnD77bdTVFTEAw88AMD+/fvp7u5m69atdHd3c//996OqKp///OfnfEzh4iQKQGFFmBof19ramvLHmCk+bnBwMOWPE4+Pi+mtnNYyCUQ0iuw6dMrEWJIn63roHA5QkW1JfMgXZJroHA7w22P9iQLwpZOD/N2vGglEYhh0Mu7xEI1943R4/Hz6HVWJx5tctBQXF1NUVMTo6CiDg4O0tbVx7NixRNi9y+VKrM3yh2Mc7BghEtPYUpxBljUF4z1maOqca46V3+/n0KFDWK1WNm3aNGMx0DEUQFVBUt56gHgh2D4UWMwZJ8y2kST++i527eBcPNvgRtNAmfQ8dfLEbMfnG91LpgCcSsStzd1tt92G2+3my1/+Mn19fWzdupVnn302sYmjo6Mj6ecuGAxy33330drais1m44YbbuDxxx/H4XDM+ZjCxUkUgMKyNrkjt9zi4zy6HIZ7elmdZ2NgYAxJksixG/GfjhGKqtMu55l0Ml3DE8WMqmp87+XTBCIxXDZDotgZDUZ4ur6XW7YVUuw0J9b7xWfgxT8YnE4nTqeTVatWEQwGGRwcTBSEOp2O9oidJ4778QYndrRajQofqS3hwzXFC740V+myUOIwc9rjTwyL1jSNYCSGzahjV7lj2n1GRkaor6+noKDgrMO9q1wW3mwfQdO0pDxjgKqcxRcMkZjKH096aB8KUOo0c8XqbAzKzGNm4t3WVO4sjgtF1Rm/rmkQjMz8b0uNiFs7t7vuumvWy7Mvvvhi0v++4ooraGhoWNQxhYuTKACFZSvekRsdHV2W8XH7Gt1IEtOKGrtJhzaiJeX9AgSiKiVZE7ud+0ZDdA4HsBl1Sfe3GXV4xsMc6R6lyGFKdP7OttnDZDIlui+qqnKkrY/vPX2SQETFpGgosow/pPLIy6cpcpi4au3CukyKLPGFa6v53FPH8YdjaEw0BHWyxOeursI2ZXNEf38/x48fp7q6+pzDvd+/vZCn6nsJRVX0Z4qsiKqikyU+tGtxg387hgJ8/MeH6RoOJIY6F2aa+N6HtlCePVFcnq/u4KWVTlrcPlRNS6ytVDUNSYJLKtPzx9GFdqHi1gThYicKQGFZinfkgGUbH5dzpnMXntTV0TSNTLMel81I10iQnDNrAId8YUx6hRs2TuzKiydMxKYEAanaRFFl1EkL2ukryzKvdYcJazLZdgNoGrGYiqzGGA1G+MELxynU8nC5XGRlZc27WK6pcPLDO7bx1KEeWtw+ijLN3LI1ny3Fb6WqaJpGe3s7ra2tbNy4cU5RVFU5Vh563wb+7++a6R8Lg6aRbTXwN9dUs7Vk4Yktmqbx108fp2ckODEo+8zr2Dca4u6fHeepj++c8bU92xDq+H/x201OKTmXP99VxLMNbvrHQkQ1baKIlqAy28J7Ni//y3VzjVuLdwdFRJ2wnIkCUFh2fD4fBw4cIDMzc9Y1X6mQrvi4ySbHx+3evTspPm51no3VuTZO9I2hBWPoFImhgXHKsix8cGcR/3Wgm7ZBH6oGLpuRP99dzO7yiS5PltXAzjIHL530YNLL6GQZVdMY8Ycn/q0kY8FjXtzjobcupUoSOllGhw6jGsHHRMexqanp/7d352FRle0fwL8z7PsugiIgLggqoohrZqloZZkpmZWZpWZqabtpar5mtr1mi2WrWWZl5S6QuWtqboACAoKsIsuwCTPDbOf5/eF7zm9GUVlmO3B/rqvr6hqBeZgB5jv3ee77gUqlgpeXl/CC3NS9Wd38XPBGXPdbPl5ZWVkoLy/HgAEDmnXc3vBuPtgzbxAyrtaDMYZeHd1gb9u6AJBdLsfF0vrr5wTrnerBMYZLFXKkX61D78DbDyC/3RBqnU6H+vp6uLu7Q6PRCJeJbxVcfF3tsWFaFDb+W4yD2ZWQSiQY28sXTw3qfFMFta2TSCRwcXGBi4sLunTpYnDcWkZGBnQ6nUF1kJC2pn39xpM2r6qqCsnJySavyJnr+LjU1FQolcpGh1U72tlgcv9A/JNbiUMX6sGYBAODvTA0zBudPJ0wONQbuTI51FoOXX1d4HTDHMAX7w1DYZUShVUK4TZXR1u8OrornOykLZ7xF+ztDMn/Qo5Ubz+djjFEBHogPDz8+vgWhQIymQwVFRXIzs6Gk5OTEAZbsjdLq9XiwoULUCqViI2NbdHlPFupFH07Ge9EmEq5GkzvceBJcP3Sa6W8+R3ifMBTq9VIS0sDY0w4n/bG6iB/XrF+IPR3d8DrY8Lw+piwRr9+e6V/3Bo/JaCyshKlpaXCecs6nQ6urq5wd3en6iARPQqApM0oKSlBeno6wsPDERQUZJL74DgOGRkZJj8+rqGhAWfPnr3j8XHuTna4r3dHBLJKSKRS9I38/0PhpVIJune49akRQV5O+G5aNPZlVeByhRzezna4t4c3AjwcheDQEvdHdsCWs1dQUa+Gsz1/qocWjrY2eHTA9fXpV1+Cg4OF6otMJkNGRgbUajW8vb2FQHinMNfQ0ICUlBTY2dlh4MCBVnNkWE//68fk6XQMeo234Nj1PY3hLTzVg+9sdnV1Re/evW95RB0fBo3ZSNIeSCQSuLm5wc3NDSEhIdBoNEhJSRH2FTPG4O3tLVQHTbXFhBBTogBIRI8xhsuXLyMvL8/kFbmUlBSoVCoMGTLkpgPSjaWurg5nzpyBn58fIiIimvSCbWcjgY1N81/YXR1tMaFvx0Y7fVvKz80BH02KxEd/5yK7/Prl1CBPJ8y7OxTRt9hPd2P1RS6XQyaToaysDFlZWXB2djaoDuqvsa6uDsnJyfDx8UGvXr2sKuD4uNjj0f4B+OXM9TmD/OVfiUSCiVEB8Hd3uPMXucGNnc0ZV+txMFsGiQQY1dMP4R2vh8ob9w421kjC/z+5PTs7Ozg4OMDb2xudOnVCXV0dKisrceXKFVy8eBFubm5CGHR3d6ch1EQUKAASUdOvyMXGxpq8Iufg4IBBgwaZ9Pi41NRUhIaGomvXrgYvJBodB45jcLAz3p5GUxzrBgC9Orrh2yejUFTdALWOQ4iPE2ybGDQkEglcXV3h6uoqVF/46uCFCxeg0+mEIdRSqRSZmZkIDg5GaGioVb7wvh7XDW6Odth8uhhy1fWRNVNjOmHu3SHN/lp8Z3P37t3RqXNnvL0nC7+fu3q925sxrDucj2mDOmNRXLfb7h001ZiZ9kAikcDd3R3u7u4IDQ2FWq0W9g6mpqZCIpEYVAetpRpNyI0oABLR4i/LqNVqk1bk+OPjmlORa4mioiJcvJiJgNAecPLxh5ZjsLO53sG76d8iHMiSQaPj0LuTO56MDUKfVu5VM1X440kkEnTxbv1YDTs7O/j7+8Pf3x+MMdTV1QkzB5VKJRwdHYXhvx4eHlYXYmylUrwwMhTPDQ9GjVIDTye7ZjeX6Hc29+nTB35+fth1oRS/n7sK4Poxebyf/i3GwGBPjL5h3M6NncUtOaKO3Mze3h4dO3ZEx44dwXGc8PNZWFhoUB3UH5JOiDWgAEhESalUCmf6mroixx8fZ6oKEz+s+nxOEUrtO+NgWj10XB06ejhiRDcffH+iEGlXauFoZwMbqQTHcytx8WodPngkEuEdGz82rSn3yV/2NUX4MxV+b1ZZWRk0Gg2ioqKg0+mE6gtjTHix9fX1taq9Wfa2UnRwa/4lX/3O5piYGKHKvTX5KqSS6/sJ9Ukl1//txgBo8DE3hEEAVB00AqlUCg8PD3h4eCAsLAwqlUoYQl1YWAgbGxthb6uXlxdVB4lFUQAkolNbW4tz586hQ4cOJt3zdePxcabAbyovq6xBDgJxpVKNAHcH2EglKK5W4vNDl5FTIUcHNwehauTuaIuSWhV+P1eCpff3bPZ96ld+xBT+gOuPV3p6Oq5du4bY2FhhuHdAQAAYY8IRdUVFRUhPT4e7u7sQBsW4N0ur1eL8+fNQqVQ3dTZXKzQ3hT/geiCsUjS9u/jGvYBUHTQeBwcHBAYGIjAwEBzHoba2VjivOD09HR4eHsKlYhcXF9H9fBJxowBIRKW8vBypqano1q0bQkJCTFqRM+fxca5dInD13FWE+TrD9n/NHCH2Nsgqq0eDljO4ZCiRSOBkJ8WF4tpm3R8/MJh/QRdb+FOr1UKVLzY29qbqnkQiabT6wl+Ok0gk8PX1FU3nZkNDA5KTk2Fvb4+YmJibqkUxwZ7IrZBD10gFMKZLy4dXNzaEmg+DVB1sOalUKhyh2K1bNzQ0NAjVwby8PNjZ2Qk/m15eXia7qkEIj37CiGjwFbk+ffqgY8eOJrkPSx0fty9LBsYghD/gf6NS7G3AcczgjFoA0OgYPJybfvlI/0Wc/9piCn+3GntyO41VX2QyGfLz82+qDrq5uVnV49GUzubpg4OwPbUUKo1OCIE2EsDZ3hZPDmrd8XU8cx1R1x45OjqiU6dO6NSpEziOQ01NDSorK5GbmwulUglPT08hEDo7O1vVzydpG+g3lYjCpUuXcOnSJcTExJgs/KnVapw+fRoNDQ0mDX/V1dU4efIk/P390a9fP9jY2MDd0Q4Mhpv5AcDdyRZOdjaoqFeD+18Fr75BC8YYxkbc+YgzwLDZAxBf5a+mpganTp2Cn59fi89a5qsv3bt3x5AhQzB8+HBhnMeZM2dw5MgRpKenC3sLLUkmk+HMmTPo3LnzbZuOgryc8POM/hgU6gUJrg+XHhrmjc3P9EdHd9M0REmlUtjZ2cHe3l74z8bGRjiSTqvVQq1WQ6PRGPzMkduTSqXw9vZG9+7dMXjwYAwaNAh+fn6orq7G6dOnceLECWRlZUEmkwkV2NZYt24dQkJChD3Up06duu3Hr127Fj179oSTkxOCgoLw0ksvoaGhQfh3nU6HpUuXIjQ0FE5OTggLC8PKlSubfEQhsQyqABJR4GfEmbIiZ8nj4yID3NDJ0wm5FXJ09nKCrVSCsjoVvF3s8cywYGxPvYqyayoA15sJ4iI6YELUnfcl6lf+xBb8AKC0tBTp6eno0aOHUYd7N1Z9kclkyM3NxYULF+Dp6SlUB825N6u4uBhZWVmIiIho0r7Tnv6u+PbJflBpdZBA0uqj65qDqoOm4+zsDGdnZ3Tu3Bk6nQ7V1dWorKxEdnY23nrrLUilUgQGBiIvLw/R0dHN+tq//fYbXn75Zaxfvx6DBg3C2rVrMXbsWGRlZTV6bvbmzZuxaNEifP/99xg6dCiys7Px9NNPQyKRYM2aNQCA999/H19++SU2btyIyMhInDlzBjNmzICHhwdefPFFozwmxPgkjCI6EQGdTmeUd768y5cvo66uDlFRUSY9Pi47OxsajQYRERGNHh9Xr9LiZF4ViqsboNFyKKtrQI1SCx3H4ONijzG9/BAb4oWKejVOXK6CSsOhdyc39OpoeMkyIyMDNjY26Nnz/5tCTD3mxZQaG3tiLkqlEjKZDDKZDFVVVbC3txc6i729vU2yN4sxhpycHFy5cgVRUVEm23dqLvpDqPVPJAGubz/Izs6Gs7MzQkNDLbjK5jl//jy8vb2FY/csgTGG1NRUbN26Fd988w3UajVCQ0Nx//33Y968eejWrdsdv8agQYMwcOBAfP755wCuP1dBQUF44YUXsGjRops+fv78+bh48SL2798v3PbKK6/g33//xbFjxwAA48ePh7+/P7777jvhYyZNmgQnJyds2rSptd82MRGqAJJ2zRzHxzHGkJ6eftPxcWXXVPhw7yXkVNQL3ZxeznaY2C8AfTp5IMDDEc7/O7+3g5tDkyp++vcp1vDHcRwyMzNRUVFhMPbEXPjLXEFBQcJ8QZlMhkuXLkGpVMLLy0uoDhpjb5Z+Z/PAgQNNVuU2p9tVB9VqNerr6+Hk5AS1Wk3VwWaQSCTo168fQkJCsHbtWhQWFuLcuXNISEiAUqm84+er1WqcPXsWb775pnCbVCrF6NGjceLEiUY/Z+jQodi0aRNOnTqF2NhYXL58GQkJCZg2bZrBx3z99dfIzs5Gjx49kJqaimPHjgkVQmKdKACSdok/7L2iosKkx8dxHAeZTAY7O7ubhlVvOVuMrPI6BHs7w87m+h6q4mol9qSVYVR4ByH8teQ+xXrZ93ZjTyzBxsZG2Ijfs2dPyOVyobM4JycHDg4OQhj08vJq9tYBtVqNlJQUAGi0s7mt4ANeQ0MDLly4AAcHB3Tq1AkSicSgOYn/eaXO4qZxc3PDhAkTMGHChCZ9vEwmg06ng7+/v8Ht/v7+yMzMbPRzHn/8cchkMgwfPlzY5zlnzhwsXrxY+JhFixbh2rVrCA8Ph42NDXQ6HVatWoUnnnii5d8cMTkKgKTd4TgOZWVlkMvlGDx4sEmPjyspKYFUKr1pWHW9SoszBTXwcraH3f86fyUSCQI8nVBUpcCFK7UYGubTrPu7ce+V2MLfncaeWAMXFxe4uLigS5cu0Ol0whF1Fy9ehFqtFob8+vr63jG8yuVyJCcnw83NrcmdzWLGdzb7+voiPDzcYNSM/hBq/U51GjNjeYcOHcK7776LL774AoMGDUJOTg4WLFiAlStXYunSpQCALVu24Oeff8bmzZsRGRmJlJQULFy4EIGBgZg+fbqFvwNyKxQASbvCHx+nUqmE4cCmwB8f5+DgAA8Pj5v2jWl1DBwDbKWGAe1/R7pCc+Nwtya4ccafmDRl7Im1sbGxgZ+fH/z8/MAYg1wuh0wmQ3l5ObKysuDs7CzsHfTy8jL4nmpqapCSkoLAwEB0795dVEG9JWQyGc6fP4/Q0NCb5nc2NneQD4Q3NpJQdbB1fH19YWNjg7KyMoPby8rKbjldYenSpZg2bRpmzpwJAOjTpw/kcjlmz56NJUuWQCqV4rXXXsOiRYvw2GOPCR9TUFCA1atXUwC0YhQASbuhf3xcUFAQ5HK5Se5H//g4jUbTaPOKh5MtundwwZmCGng42QoviJVyNdydbNHT37XJ98cPeOYvNfv5+YnqVIHbhQOxkEgkcHV1haurK0JCQqDVaoXqYHp6OrRarVAd5DgOly5dMnpns7XiO5sjIyPvOMLpVnsHqTpoHPb29hgwYAD279+Phx9+GMD1x3j//v2YP39+o5+jUChueoz554fvIb3Vx9AYIOtGAZC0CzceH5efn2+S+7nx+Ljs7OxGP04ikWBy/0DkVypwWaaAs70NVFoONlIJJkcHoqNH0+a48dWS4OBguLi4QCaT4fLly2bpXDWG5o49EQtbW1thdBG/31QmkyEvLw8NDQ1wdHREQ0MDqqur4eHh0SZDjH5nc//+/VvU2dyc6qB+hZDc2ssvv4zp06cjJiYGsbGxWLt2LeRyOWbMmAEAeOqpp9CpUyesXr0aAPDggw9izZo1iI6OFi4BL126FA8++KAQBB988EGsWrUKXbp0QWRkJJKTk7FmzRo888wzFvs+yZ1Z56sCIUZkrcfHRQS4Y8l9PfH3xXJcKquHt6s97u7ui2Fh3k2+T76zkq9qmqtztbWMEQ7EQiKRwMXFBUVFRWCMYcCAAVCr1ULlk+M4g72DDg4Oll5yq5mis/lO1UE6oq5ppkyZgoqKCixbtgylpaXo168fkpKShMaQwsJCg8ftrbfegkQiwVtvvYUrV67Az89PCHy8zz77DEuXLsXcuXNRXl6OwMBAPPfcc1i2bJnZvz/SdDQHkIhCS+cA3ur4OP05gMZYG3983IABAwxe7Pg5gJGRka2+H33N6fTV71ytrq5udedqa+mHg+jo6DYx9uR29Dubo6OjDTrBGWO4du0aZDIZKisrUVtbCzc3N+H58fDwsHhYby79zuZ+/fqZpbNZ//eBD4Q8Y42ZsYY5gLyamhp06dIF1dXV8PT0tPRyiEhRBZC0SYwxZGVl4cqVK02uyLWEWq3GuXPnAACDBw82+Ysdv9+vOZ2+Te1c5c8cNaX2MvaEx3c2Ozg4YODAgTddipdIJPDw8ICHhwfCwsKgVquFsM4/TvylfB8fH6t/vPjOZnd3d0RGRprtzUVjl4r1wyBVBwm5GQVA0ubodDqcP38edXV1Jj3TVy6X4+zZs3B3dzfp8XE8/Rc1AC3a73SnzlUnJyeD6qAxXyRp7MmdH0t7e3sEBAQgICAAjDHU1tZCJpOhoKAA6enpcHd3FwKhu7u7VVUHq6urkZqaik6dOqFbt24WW1tjl4r1/6Mj6gi5jgIgaVNUKhXOnTsHqVRq0opcY8fHMcZwWaZAfqUC7o62iOrsYbT709/vBxhnzEtzOld9fX0NLl02Fx8OaOxJ00kkEnh6esLT0xPdunWDSqUSjqjj92npVwctOTfx6tWryMjIQM+ePa3iEqk+qg4S0jgKgKTNqK+vx9mzZ+Hh4WHSilxjx8c1aHT4/OBlHMutglKjhY1UiiAvJ0zubotAl9aFHf0XLFMOd75V5+rVq1eRmZkJFxcXIWx4eno2+UWytLQU6enp7WbsSVFREbKzs5s09qQ5+NMzOnXqBI7jhOpgXl4e0tLS4OHhIYR1V1dXs4Rsxhjy8/ORl5eHqKgo+Pr6mvw+W+N2R9RRdZC0NxQASZvAV+SCgoJMVmFijOHy5cvIy8u76fi4389ewd+ZFfBysoWfqxM0OoZ8mRwb6hleHezZqvu0xJm+EokEbm5ucHNzQ2hoKDQajbA37cKFC03qXNUPB3379jXZcXvWgjGGS5cuoaSkxOSdzVKpFF5eXvDy8kL37t3R0NAgVAfz8vJga2srPDemGgPEcRwuXryIyspKDBw4EG5ubka/D1O71ZgZfq+tfnWQv42QtoICIBG9xipyxsZxHDIyMlBRUYHY2FiDE0TUWg5/Z1bAyU4Kd6frl+HsbSUI8HBEUWUdMivV6N+C+7RU+GuMnZ0dOnbsiI4dOxp0rl65cgUZGRk3da4yxpCZmQmZTIaYmBiTnbhiLXQ6HdLS0lBXV2e0sSfN4ejoiM6dO6Nz587gOA7V1dXCecUKhQJeXl7C5WJjDAnXaDQ4f/481Go1YmNjW7U9wFrcrjrY0NAAuVwOLy8vqNVqqg6SNoECIBEt/YpcdHS0yS4/8cfHqdVqDBky5KYXO6VGB4VKBwdbwxcDOxsJGAPqVM2fht+cMS/mdqfOVcaYsOZ+/fq1+fBnbZ3N/N5AH5/rZ0krFArh+cnNzYW9vb1BdbC5WyXu1NncVvABTy6X4/z583B3dxeGles3Y9ERdUSs2uZvLmnzOI5Deno6KisrMWjQIJNdftI/Pm7QoEGNvti5OdgiwMMBuRVyeDj9/0Z8hVoHOxsJOro2/QW2JWNeLE2/c5V/vIDrlZR///0XHh4eVtu52lqWGnvSHM7OznB2dhaGhPPVwaysLKhUqpuGhN/OtWvXkJycDD8/vyZ3NovZrTqbb3dEHR8E2/pjQ8SPAiARHb4ip9FoMHjwYJNdfrrx+Lhb/UGXSiWYGB2IT/bn4kqNEu6OdlBpOdSrtIjwc0BXr6Z1Z5qi09ecGgsH1ty52lrWMvakOWxsbISwxxiDQqGATCZDRUUFsrOzDcYAeXp6GgTaiooKXLhwAV27dkVwcLAovt/WuF1n8+2OqKPqIBELCoBEVPgKk5OTE2JjY012+am5x8fd08MXHGPYeq4EpXUqONhKMaZXAAb7qCGV6G77uYB17fdrCT4c3Dj2xBo7V43BmseeNBV/RJ2LiwuCg4MNxgBlZGQYDAnXaDTIz89HRESEUTubrRFjDHl5eSgoKGhSZ/OdjqjTrw7SmBliTSgAEtFoakWutW51fNztSCQSjA7vgJHdfVGl0MDZ3gauDrb/Owru9gFQ7OGvqWNPrKFztbXENvakOW4cAySXy1FRUYG8vDyoVCo4OTnh2rVrsLe3b9YYIDHR72yOiYlp0daS21UHGxszw/8/IeZmfX9hCWlEWVkZzp071+SKXEsY4/g4WxspOrjdPBLldvfJX/YVW/jTH3syYMCAZp9Jau7O1dZqC2NPmkoikQiBz8bGBoMGDYJSqRTGAOl0OoNL+W2hC5jvbNZoNEbrbL5TdZCGUBNLogBIREGtVjerItdc5jo+Tp81d/reibHHnpi6c7W12uLYk9vhO5slEgkGDhwIe3t7uLu7w9/fH4wx1NXVCWOALl68CFdXV+H5cXd3F12IUSqVSElJgaOjI2JiYkxWfb6xOkhH1BFLogBIRCEoKEh4t2xs5jo+jifGTl995hh7YszO1dbiw0FbH3vCu1Nns0Qigbu7O9zd3dG1a1dhDFBlZaUwBoivDvr6+lp8LM6d8M1LHTp0QM+ePc0Wum4MgwCoOkjMqm3/JSPkDsx1fBxP/1g34P/HRoiFJcaetKZztbXa49iTlJQUdO7cucmdzfpjgPSHhBcVFSE9PR3u7u4G1UFr+nm3ls7mG/cC3qk6yP/9IKQ1KACSdkulUuHff/816fFx+sQ+5qUl4cDYmtO56uvrCycnpxbfl7WEA3MxRmfzjUPCVSqVcCm/sLAQEolEeG4sPQaoqKgIly5dQmRkJPz9/S22jsY01kjCh0G+EQm4/oasuXtvCeFJGB1uSERAp9MZ9RJwSkoKysrKEBERYbLj4wD8rwtYg4iICOGdvNgu+QLiGHvCd67yncU1NTVwdnY2qA42NXRbczgwNv2xJ3369DFZZ7P+GCCZTAa5XG5QHXRzczPL7wVjDNnZ2bh69Sr69esnugB18uRJxMfHo6qqClVVVSY9c5q0bRQAiSgYKwDyx8fl5ubC09MTsbGxRljdrfEBsGfPnqJs9jBXODAFjUYjVAdlMlmTOlf1O5vFGA6aS7+zOTo62qydzQ0NDUJ1sLKy0uBSv7e3t0mqg3zzUn19PaKjo02+f9SYGGPYvn07nnvuOaxYsQIzZ860ukvqRFwoABJRMEYA1D8+zt/fH2q1GlFRUUZaYeOys7NRV1eHiIgI2NnZieqPtSXDgbHpd67KZDJcu3YNrq6uQiD08PAAY0y04aAl9Mee9OvXz6KdzRzHoaamRnh+FAoFPD09hUBojDFAKpUKKSkpkEqliIqKsvrmFH0cx+Gzzz7Du+++i40bN2LixImi+ltCrBMFQCIKrQ2A+sfH9e/fHyUlJairqzNZAOQ7fcvLyy3Sudpa1hQOTEG/c1Umk4ExBolEAjs7O0RFRcHV1dXSSzQppVKJ5ORkODk5oU+fPlbX2czPHJTJZKiqqoK9vb0Q1lsyJJxvXvLw8EBkZKSo9t9qNBq8+uqr2LlzJ3bs2IHBgwdbekmkjaAASEShNQFQ//i4qKgo2Nra4vLlyyYLgPyGbblKg9wKBTQ6Dr5OAJTXuyOrq6tN2rnaWnw4cHR0RN++fa0uHBhbfX09zp07B1tbW0ilUtTV1Vl152prWWrsSUvpdDqD6qBSqbzpzdTtnp+qqiqkpqYiKCgIYWFhonou6+rqMH36dBQWFmLXrl0ICwuz9JJIG0IBkIhCSwPgrY6PM1UA5Dt9L5bWYVvKVZReU4NjDB5OdrirmzfGRnQAp9MJe9MqKyuN2rnaWmILB63VWDjQ71ytrKwUOlf5QdViunR4o7bQ2SyXy4Xnp7q6Gg4ODsLvjpeXl8GbKb55KTw8HJ06dbLgqpuvpKQEkydPhqenJ7Zu3Qpvb29LL4m0MRQAiSi0JACWl5cjNTW10ePjTBEA+fBXVa/C50cKUCVXI8jLCTZSCSrlatSrdHgytjNigj0NPsdYnaut1RbCQXM0pbPZWjpXjaGwsBA5OTltqrNZp/dmSiaTCW+mfHx8oFAocPXqVfTt21c4YUYsLly4gMmTJ2PkyJH49ttv4eDQ9OMlCWkqCoBEFJobAAsKCpCdnX3L4+OMHQD1D3w/mV+DzaevoJufC6R64SCvUoFwf1fMGRFyy6/Tks5VY2ivY0+aGw4aGhqEyqC5OldbS+xjT5qKfzNVUVGBwsJCqNVqODo6okOHDkJ1UAwV7X379uGpp57CggULsHz5clGsmYhT297cQ9odxhgyMzNx9epVDBw40CwvdvyxTYwxSKVSKNQcAIlB+AMAR1spqpWa234tOzs7+Pv7m+3MVf1w0L9//zYbDnj6nc0xMTHN7mx2dHRE586d0blzZ4PO1dzcXFy4cMHonautpT/2JDY21uqbj1pDIpHAwcEBVVVVcHBwwIABA4RTY9LT06HVag22WlhbYxNjDD/88ANef/11rFu3DtOnT7f4zw9p2ygAkjZDp9MhNTUVcrkcgwcPNsuLnf50fn7GXwc3e9hIAZVWBwfb6/uRGGOoU2nRL8ijyV/b1GeutqdwABh2NsfGxrY6AEilUnh7e8Pb2xs9evQw6FzNzc1tdedqa+mPPYmNjbXK6qQx6Xc2x8TEwNbWFq6urujQoQMYY6ivr4dMJsPVq1eRmZkJFxcX4XfHw8PDopU2juOwYsUKfPfdd9i5cydGjRplsbWQ9oMuARNRuNMlYJVKhXPnzkEqlSI6OvqOYai1l4D5MS/8GZ36Z/qqtRy++acAaSV18HG2g62NFLJ6Fbxc7PHs0C4I8Wl90NI/c5Wfa9eczlUxz0RrCXOPPdHpdKiurhaen4aGhmZ1rrZWfX09kpOT4enpKbqxJy1RW1uLlJQU+Pv7o0ePHnf8fjUajUGjD8dxBlstzLnnrqGhAc899xzOnDmDXbt2oXfv3ma7b9K+UQAkonC7AFhfX4+zZ8/C09MTffr0adKLXWsCoP65nIBh+OPVKDXYn1mB1OJr0HEMwd7OuKenL7p3cGn2/TXFrTpXGztzVT8cREREWNUIGlPgw4ElO5ub07naWmIee9IS5eXlSEtLQ1hYGLp06dLs71f/zVRlZSVqa2vh5uZmUB001WMok8kwdepUqNVq7Nq1q9H9yoSYCgVAIgq3CoCVlZVITk5GcHAwunXr1uQ/1C0NgHzVj/+1uVOYUGp00Og4uDnYmu2FuLHOVQ8PD/j6+sLOzg7Z2dno0qVLuwgH1tjZfKvOVWOMASopKcHFixdFOfakJUzR2cxvteADIQCD6qCxquU5OTmYNGkSIiIi8PPPP7f54ePE+lAAJKLQWAC8cuUKMjIy0KtXr1uO8biVlgRAvvKn0+lEdaYvf+ZqcXExrl27BltbW6Ez0lo7V41BDGNP9McAVVZWorq6Gs7OzkLgaGrnKn/GdWFhoSjHnjSXfvNSdHQ0PDyavre2ufej/2aqvr7eKGOATpw4gSlTpuCJJ57Af//73zY/bJ1YJwqARBT0AyBjDLm5ucjPz0e/fv3g6+vb7K/X3ACoP+ZFTOEPMAwHvXv3ho2NjUnPXLU0MY890Wq1BtXBpnSuchyHjIwMVFdXIzo6us1XknQ6HS5cuAC5XG72M5tVKpXBEXVSqdSgOninN1OMMWzduhXPP/88Vq1ahRdffFH0v29EvCgAElHgAyDHcUhLS0NVVRUGDBjQ7DEevOYEQH7Mi6xeBQ0HdHBzgJ2NODbV82NPqqqq0K9fv5seL2OfuWpplgwHxqbfuSqTyVBbW3tT5yrf+a7Vatvkmc034puXbGxsEBUVZdHq9e22Wvj6+sLV1dUg3HEch7Vr1+L999/HTz/9hAkTJlD4IxZFAZCIgk6nEzo5tVot+vfv36oXu6YEQL7Tt6xWiW0pV3GxrB5aDvB3c8B9kR0MTvSwRvpjT5oSDlp75qql6Xc29+vXr81d2r6xc5XvQHdyckLfvn3h4mKaBiNrwTcveXl5ISIiwuo6m/kh4fybKf7NU2FhIeLi4rBy5Urs2bMHO3bswKBBgyy8WkIoABKRqKurw7///gtnZ2dERUW1ujJ1pwDI7/dTqDT45GAessrk6ODuAHsbCSrq1XCwleK54SGIDGxZBdLUjDH2xJydq63V3sae1NTUIDk5WahwXrt2zWydq5Ygts5mjuNQXV2Nffv2YdmyZbh69SocHR2xYMECPPnkkwgPD7f674G0feK6vkParfz8fPj4+KBXr14m/8Op3+mbVlKHXJkCob7OsLe9HipcHGyRUy7H0ZxKqwyAxhp74uLiAhcXF3Tp0sWgc/XixYtG7VxtLbGFg9ZqbOyJfudqcnIyJBKJSTpXLYHvbO7VqxcCAwMtvZwm4fcGDh8+HF5eXggLC8MDDzyAQ4cOYc2aNRg9ejR27dpl6WWSdo4qgEQUtFottFqt0V7cb1UBvLHZ46+LFdhytuSm+X3ldSo42kqx+uEIo6zHWFo7E60pjNW5agw09uRmN3au1tXVwcPDQ3h+7jQk3FqIvbP5/PnzmDRpEsaMGYOvv/5aCOFKpRLFxcXo3r27hVdI2juqABJRaGzYsrE11unr7mgLCQAtx2Ar/f/7l6t06OJluapXY8w19kQikcDV1RWurq4ICQkx6Fw115mr+uGgX79+ogsHzcUYQ1ZWFkpLSzFgwIDbjj2RSCTw9PSEp6cnunXrZtC5WlhY2OzOVUvQ72weOHCgqDqbGWPYu3cvnn76abz88stYunSpwRsiJycnCn/EKlAFkIjCnY6Ca64bK4C3GvNSr9Liw79zUFTdgM6ejrD73x5AtZbDM0O7IDbEy2hrailrGnvSlM7V1lYHaexJyzubOY5DTU2NcLn4Tp2rlqDRaITO5ujoaLMey9ZajDF8//33WLRoEb788ktMmzbN4o8nIbdCAZCIgikDIH+s261m/OXJFPj17BUUVimh0XHwcrbD6HA/xPXys/gfd2sfe2LsM1fFHA5awtRjT5RKpfD88J2rfBi0xBgg/ealvn37WlWj0Z3odDosX74cP/zwA/7880/cc889ll4SIbdFAZCIgqkCYJ8+fYRxGre7zKzlOOTJlFBrOXT2coSHk+Uvm4lt7Elrz1w1RmezmJh77AnfuXrjGCA+sJt6SDjfvOTv74+ePXta/M1VcyiVSsyePRvJycnYvXs3IiKsa28wIY2hAEhEwdgBMDc3F3V1dYiMjARgnj2GxtQWxp4058xVMYeDluA7m7t06YKuXbta5PtVKBRCGKyuroa9vb1BddCY1Tm+ealbt27o0qWL0b6uOVRUVOCxxx4Dx3HYuXOn1R47SMiNKAASUTBmAOQbCPLz8xEQEGD2ztXWaotjT2535qpUKkVubq4QDtrC93s71jj2hB8DxAd2lUp105DwlmCMobCwELm5uejduzc6dOhg5JWbVnZ2NiZNmoS+ffti06ZNbX4YN2lbKAASUTBWAOQHPKvValRXVwsvaOboXDWG9jL2hO9cLSwsRH19PWxtbdGhQweh+mTtl7tbQixjTxhjN1UHnZychN8dT0/PJlUH+c7msrIy9OvX77adzdbon3/+wWOPPYbp06fjww8/FNV+RUIACoBEJIwRABljUKjU2J8pw4m8aijUOkQEuGF0T1/4OHAm7VxtLbGEA2PRH3sSFRUFxphVd662lpg7m/XHAMlkMmg0mjsOCdfpdDh//jyUSiWio6MtOki8uRhj+OOPPzBv3jysXr0a8+fPF/3PH2mfKAASUWhtAOQ4DlqdDl8dzcex3GrY20phbyNFbYMGHd0csPDeMIT6Xr+MZezO1dYSczhoCb6zWaFQoF+/fjddXmzszFVLdq62Ft/ZrNPp0K9fP1F3NvNjgPjfn5qaGjg7OxtUBzUaDZKTk2Fra2uSzmZT4jgOa9aswUcffYRNmzbhwQcfpPBHRIsCIBGFlgZAxpgw4y+ztB4f/J0LT2c7uDnaCv+eU6HAPT188NxdIY1+fms6V1uLxp7cPhzcqnNVf2+aNb9A853Nzs7O6NOnT5u7jKjRaAyqg/wRi25ubujTp4+oKn8ajQYLFy5EUlISdu7ciYEDB1p6SYS0CgVAIgotCYD8fj+O4wAASRkV2HSqGGF+Nx/r5mArxdr43pDeISzod67KZDKTnrkq5ploLWGMsScKhcJgrp0pO1dbq711NstkMpw/fx7u7u7gOO6mN1Pu7u4W32pxK7W1tZg2bRpKS0uxe/duhISEWHpJhLSauK6VENJEfNWPf38jlUrhYCcFYwDHmEHQ0+gYPJ1s0JSXX3t7ewQEBCAgIAAcxwnVwYKCAqSlpRnsTXNzc2vxi3p7CwfGGnvi7OwMZ2dnBAUFQafTCdXBrKwso3WuGoOYx560xJUrV5CZmWnQ2cy/maqsrERKSgoYY8KbKV9fX6O+mWqN4uJiTJo0Cf7+/jh27JhFT9ohxJioAkhEoTkVQL7yp9PpDE72qKhXYcXubNSrtejk6QipRAK5SourtSpMHdgJD/Xt2Ko16p+5WlVV1eIzV9tbODDH2BNjda4aYx1iHnvSXIwx5ObmoqioCFFRUfD29r7lx/FvpmQyGa5duyaMAeKrg5Z4E5SSkoLJkydj3LhxWL9+vdWEUkKMgQIgEYWmBsBbnenLO365Cj+fKkaVXAMAsLORoH8XD8weHgJne+MFgJacudoew4GlOptb0rnaWmIfe9JcHMchPT0dNTU1zW5eUqlUBo1YEolEeG6a82aqpRhjSEpKwowZM/D6669j8eLFVnt5mpCWogBIRKEpAfBO4Y9XXqdCSnEtGjQcgr2dEBnoBlsT/3G/05mrNjY27S4cWEtnM2MMcrlcCIONda629sVfq9XiwoULohx70hIajQYpKSngOK7Vnc38fkH++ZHL5QbVwdZstWgMYwzffvstFi9ejK+++gpPPPFEm9+CQdonCoBEFO4UAPlmjzuFP2vQWOeqra0tJBIJevfuDW9vb6tef2tZ+9iTGztXOY4TqoM+Pj7NHhKuUqlEO/akJRQKBZKTk+Hi4mKSzmZ+DBC/f9DGxsbgzVRrHl+dToelS5fixx9/xNatWzFy5EjjLZwQK0MBkIjCrQKg/pgXQHxn+qpUKpw9exYcx8HJyQk1NTVW3bnaWmIbe8IYQ11dncHeNFdX1yZ3rhqjs1lMampqkJKSgoCAAPTo0cPkv4v8Vgv++VEoFPD09BSeHxcXlyavQaFQYNasWTh//jz27NmD8PBwk669qXQ6Hd5++21s2rQJpaWlCAwMxNNPP4233npLVH/riPWhAEhEobEAeOOYF7GFv8bCganOXLUGbaGzWb9zVSaT3bZztbKyEufPn291Z7NYlJWVIT093aLNS0ql0qARy97eXnh+bjckvLy8HFOmTIFUKsX27dvh7+9v5pXf2rvvvos1a9Zg48aNiIyMxJkzZzBjxgysWrUKL774oqWXR0SMAiARhRsDoP5+P4lEIrrKSlPCgbV0rhpDW+xsvl3nKmMM+fn5iIiIMFlns7Ww1uYl/TFAMpkMDQ0NwpspHx8fODs7QyqVIisrC5MmTUJ0dDQ2bdpkdfszx48fD39/f3z33XfCbZMmTYKTkxM2bdpkwZURsaM5gER0mtrsYa0am4nWGIlEAhcXF7i4uCA4ONigczU9Pd0snautZa3hwBgkEgk8PDzg4eGBsLAwYQxQQUEB5HI5bG1tDcYBtcW9fxzHISsrC+Xl5YiJiYG7u7ullyTQ3xsIAHK5XKjc7ty5E5988gkGDBiAI0eO4Omnn8aaNWus8g3V0KFD8fXXXyM7Oxs9evRAamoqjh07hjVr1lh6aUTkqAJIRIGvAIo5/DV1JlpTv9adzly1dFW0PY896devH7RarUHn6p3GAImNmDubr127hg8++AAJCQkoLy9HQ0MD7rnnHkycOBEzZ8609PIMcByHxYsX44MPPoCNjQ10Oh1WrVqFN99809JLIyJHFUAiGmLq9L2RfjgYOHBgq8eeSCQSuLm5wc3NDSEhIQadqxcuXIBOpzMYQt3cztXW0g8HsbGxogoHLaE/9iQ2NlbobPby8kL37t0NOlfz8vKM2rlqCQ0NDUhJSYGdnR0GDhwoqvVzHIf169fj22+/xebNm3H//fcjMzMTCQkJuHz5sqWXd5MtW7bg559/xubNmxEZGYmUlBQsXLgQgYGBmD59uqWXR0SMKoBEFNLT0xEUFCQEPzGFP2PORGuK1nauthaNPbn9ZURjdq5aQl1dHVJSUuDt7Y1evXpZvNLcHGq1GgsWLMC+ffuwc+dODBgwwNJLuqOgoCAsWrQI8+bNE2575513sGnTJmRmZlpwZUTsqAJIrJ5CocCwYcPg4uKC0aNHY+zYsbj33nuNPgDWFEw9E60xEokE7u7ucHd3R9euXc165iqNPbnzz6NUKoW3tze8vb3Ro0cPg87V3Nxcqx4DxDcvBQcHIzQ01Op///TV1NTgySefREVFBY4fP47g4GBLL6lJFArFTb9HNjY2wvQDQlqKKoBEFJRKJY4ePYo9e/YgKSkJeXl5GDJkCMaOHYu4uDiEh4dbXdgw90y0pjDlmas09qT1Gutc1R9C7eLiYpT7aQm+eSkiIgIBAQEWW0dLFBYWYvLkyQgMDMSWLVvg6elp6SU12dNPP419+/bhq6++QmRkJJKTkzF79mw888wzeP/99y29PCJiFACJ6DDGkJOTg4SEBCQmJuLIkSPw8/PDmDFjEBcXh5EjR1r8Mpo1zERrCmOdudrUzua2gDGGgoICXL582eSdzfqdq9XV1XBwcBCeHy8vL7NUB43ZvGQJ586dQ3x8PMaPH48vvvhCdFsS6urqsHTpUmzbtg3l5eUIDAzE1KlTsWzZMqNW70n7QwGQiJ5cLsfBgweRkJCApKQklJSUYPjw4YiLi8PYsWPRrVs3s4VBc4YDY2vszNU7da6KPRw0l/7Yk+joaLOOPeGHhPPPj1qtNvkYIL55qba2FtHR0RatQDYXYwwJCQl49tlnsWjRIixatMjqrhIQYkkUAEmbwr9A79mzB4mJiTh27BiCgoIwZswYjB07FnfddZfJOlL1w0FbGHtypzNXbWxshM7m6OjoVnc2WztrGnvCGINcLhfCID8GiN/b6eXl1eqwo1arkZqaCsYY+vXrJ6pqE2MMX331FZYtW4avv/4aU6dObfNbEghpLgqApM3iu2H379+PxMREJCYmoqqqCiNGjEBcXBzi4uIQEhJilBcGawoHptBY56qNjQ1sbGzQu3dveHl5tekXWP2xJ3379rW6y4hardbgiDqtVmtQHWzuGCC+ecnV1RW9e/e2qkaUO9HpdFi8eDE2b96Mbdu2YcSIEZZeEiFWiQIgaTc4jsOFCxeES8XHjx9Ht27dMGbMGIwbNw5Dhgxp0YgWaw8HxqZQKHD27FnY2trCwcEB1dXVVt252lp1dXVITk6Gj4+PKMae8EPC+bBeW1sLFxcX4fnx8PC47fdgjc1LTaVQKPDss88iIyMDu3fvRs+ePS29JEKsFgVA0i4xxlBTU4O9e/ciMTERf/31F+RyOUaOHClUBzt16nTHFz8xz0RricbCwe3OXPX19YWzs7OoQoQ+MY894Wk0GoNGH47jDIaE67/p4ZuXunfvjqCgIAuuuvnKysowZcoU2NnZYfv27fDz87P0kqwSP0ifEAqAhOD6H8Vz584Jl4pPnTqFiIgIYe/goEGDbqrstYVw0BxN7Wy2hs5VYyguLkZWVpYox57civ4YoMrKStTW1sLNzQ2+vr7QaDQoKSlB3759RReeMjMz8cgjjyA2NhYbN25sc1swjIExJvyNOnv2LE6cOIFp06aJfq8yaTkKgITcgDGGyspKJCUlCdVBrVaLUaNGCdXBzZs34+LFi1ixYkWbCQe3ot/Z3KdPn2aFA0t0rrYWP2aouLi4zXc2q9VqVFRUIC8vD0qlEra2tgZjgMTQ+HHkyBFMnToVs2bNwurVq0XzBsNSfvrpJyxYsAATJ07Eq6++il69ell6ScRCKAAScgc6nQ7//vuvMHcwLS0Ntra2ePzxx/H4449jwIABsLVtm4fqGHPsiTk6V1tLp9MhPT0d165dE93Yk5bQarU4f/48VCoVoqKioFarheenvr7eYEi4tZ28wxjDL7/8ggULFuCjjz7CnDlzrGp91uj333/HrFmz8M033yA+Pt7SyyEWRgGQkCZqaGjAjBkzcPz4ccyePRupqanYt28fpFIpRo8ejbi4OIwePRo+Pj5t4oXI1J3Nxu5cbS0xjz1piTs1L6lUKiEMVlVVQSqVGjT6WLLZieM4vP/++/j000+xefNm3H///W3id87YtFqtwZvTZcuWobi4GN9//z1qa2uRlpaGhIQE+Pv746677kJ0dLQFV0vMjQIgIU20Z88erFy5Ejt37hQGPGs0Ghw/flzoLE5PT0dMTIwwhDoqKsriVa2WMHdnc2s7V1tLzGNPWqK5nc38GCA+rDdlSLipqNVqvPDCCzh48CB27tyJ/v37m+V+xUZ/z9/999+Pd999F1999RW2bt2K999/H1u2bIFGo0FZWRk4jkNMTAw+/fRTsw43J5ZFAZCQZrjxHbU+xhiKioqQmJiIpKQk7N+/Hy4uLkJ1cNSoUfDw8LD6SoU1jD1pTudqa/GdzYGBgejevbvVPz+tJZPJcOHCBYSEhLR4DqZSqRSen6qqKoO9g97e3ibbElFTU4MnnngCVVVV2L17t+g6lc2F7/TlOA4ffPABNm/ejCNHjsDFxQWTJk1CdnY2Hn74Ydxzzz0YO3YsPvjgA/z55584duxYmx9jRf4fBUBCTKShoQH//PMP9uzZg6SkJFy6dAmDBw8WqoMRERFWVx20xs7m23Wu8tXBlq5TzGNPWsIUnc0cxxmMAVIqlSYZA5Sfn4/JkyejS5cu+O2336h79Q4KCgowf/58dOjQAdOnTzcYiF1bW2vw+M2fPx/l5eXYsGGDqMc2keahAEiIGTDGkJeXJzSSHDp0CN7e3sKYmZEjR5r1MlpjxDL2RK1WC9UnmUwGiURiUB1syt691nQ2ixHf2XzlyhVERUXBy8vLZPelUCiE50Z/DJCPj0+Lh4SfPXsW8fHxeOihh7Bu3TqqUjXBvn378Nxzz6GkpATJyckIDw+HWq0Wfj8qKyuRnJyMDRs2YN++fTh8+DDCw8MtvGpiThQACbEAhUKBQ4cOISEhAXv37kVBQQGGDh0qVAd79OhhtuqgmMeecBwnVAdlMhnq6uoM9qY11rnKcRwyMzNRUVHR6s5mMbBkZzM/BogP7CqV6qbq4O0wxrBnzx48++yzWLJkCV5//XWrqppfuXIFb7zxBhITE6FQKNCtWzds2LABMTExZl2HTqe7KVjL5XIkJiZi1qxZmDJlCtavXw/g//cGnjhxAkuXLoWNjQ1++eUXUf3eE+OgAEiIhTHGkJ2dLVQHjxw5goCAACEMjhgx4o4vlC3V1sae3KlzVSKRCGNPoqOjzd5pbG7W1NnMGLupOujk5GQwJFw/3DHG8OWXX+Ltt9/Gt99+iylTpljVpcnq6mpER0fjnnvuwfPPPw8/Pz9cunQJYWFhCAsLM9s69MPf0aNHYWdnh44dOyIkJAQajQbffPMNXnvtNaxatQoLFy40+Nz09HRERkaaba3EulAAJMSK8LPy9u/fLzSTlJWV4a677hICYdeuXY3yQmhN4cAUGutclUgkcHBwQGRkJDw9Pa0qUBibXC5HcnIy3NzcrLKzWavVGgwJ12q1sLe3x4kTJzB+/Hhs2LABv/76K7Zv347hw4dberk3WbRoEf755x8cPXrUYmvQ7/R95JFHcObMGTDGUF1djTfffBMzZ86El5cX3n33XaxZswY//vgjHn744UYrhqT9oQBIiBXjOA4ZGRlCdfCff/5BSEiIEAaHDRvWoipWexx7cu7cOTg5OcHOzg7V1dVm61y1BLF1NvNjgM6cOYPFixcjLS0NdnZ2ePLJJ/Hkk09i2LBhVrfvLyIiAmPHjkVxcTEOHz6MTp06Ye7cuZg1a5ZZ18EYw+zZs5GcnIxNmzbB1dUVv/76K7799ltMnjwZb775JuRyOd555x2sX78eR48exaBBg8y6RmKdKAASIhJ8N+zff/8tVAdra2sxcuRI4Yi6oKCgO77Yiy0ctJZMJsP58+cRGhoqjD0xV+eqJZSWliI9PR09evQQXWdzaWkpHn30UTg6OmLGjBn4559/kJCQAC8vL1y8eNHSyzPAv/F6+eWXER8fj9OnT2PBggVYv349pk+fbpL75F+uOY4T3rRptVrcddddiI+Px8svvyx87LvvvovvvvsO33//Pe6++26kp6djxYoVmDlzJuLi4kyyPiIuFAAJESmO45CSkoLExEQkJibi5MmTCA8PFzqLBw8efNNlXRp70jhTdK6aG2MM+fn5yMvLE2Vnc0ZGBiZNmoQhQ4bghx9+EAIWx3G4cuWK1f282tvbIyYmBsePHxdue/HFF3H69GmcOHHCJPdZUlKCwMBAAEBWVhZsbW3h7e2NgQMHYsmSJZgxYwaUSqVwak///v0RExODr7/+GgAM/o0Q62mnIoQ0i1QqRf/+/bFkyRIcPXoUZWVlWLx4MSorKzF9+nQEBwfj8ccfx8aNG1FcXIylS5di5cqV6NOnj9W9mBobYwyXLl1CTk4O+vfvf8exNs7OzujSpQv69++PkSNHomfPngCuv8geOnQI586dQ2FhIRQKhTmW32wcx+HixYsoKipCTEyM6MLf4cOHMWbMGDz++OPYvHmzwbYGqVRqlT+vAQEBiIiIMLitV69eKCwsNMn9nTlzBmFhYThz5gy2bNmCYcOGobS0FF5eXhg2bBjeeecdAICTkxM0Gg0AICwszGBoOoU/oq/tbHohpB3jZ+E9/vjjePzxx6HT6XDmzBkkJCRgw4YNeOmll+Do6IgpU6YgJycHXl5ebWrPmz79zuaBAwc2u7PZxsYGfn5+8PPzM+hcraioQHZ29m07Vy1Bq9UKnc2xsbGi6mxmjOHnn3/GSy+9hI8//hizZs0SzaX3YcOGISsry+C27OxsBAcHm+T+/P398dRTT2HMmDFQqVTYtm0bhg0bBuB6Q8qkSZMwevRo7Nq1C4wxVFZWIiUlBXPnzjXJeoj40SVgQtqwa9eu4dFHH0VhYSFmzpyJU6dOYe/evQCAUaNGIS4uDmPGjIGfn59oXnhvR61WIyUlBQBM0tl8Y+eqRqOBj4+PMIja3BWWhoYGJCcnw8HBAX379hVVqOc4DqtXr8a6devw66+/Yty4cZZeUrOcPn0aQ4cOxYoVK/Doo4/i1KlTmDVrFr7++ms88cQTJrnPV155BR9//DGCgoKQl5cHqVQKxhg4jsPx48cxffp0MMbQsWNHFBcXIzY2Fn/++adJ1kLEjwIgIW3Yr7/+ig0bNuD3338XBh5rtVqcPHkSCQkJSEpKQmpqKvr37y90FkdHR4tiz9uNzD32hO9c5cfM1NTUwNnZWagOenp6mrQ6yJ/Z7Ovri/DwcItXIptDpVJh/vz5OHLkCHbv3o2oqChLL6lFdu/ejTfffBOXLl1CaGgoXn75ZaN2AfNn+gLXK9spKSm4evUq3nvvPSH0Af8/Dqa6uhq//PILGhoa4Ofnh2nTphltLaTtoQBISBun/yJyI8YYSkpKkJSUhISEBOzfvx/29vYYM2YM4uLiMGrUKHh5eVl9dbC6uhqpqano1KkTunXrZpH1ajQag+ogx3Hw9vYWmkmMeWm2sc5msaiursbUqVNRV1eHnTt3WuX+PmvAz+praGiATqeDVCoVKsxJSUlYsGABevfubVDhq66uNukxf6RtoQBICBGoVCocP34ce/bsQVJSEjIzMxEbGytUB/v06WN1lSZrHHvCGENdXZ0QBq9duwZXV1ehOuju7t7ix7GoqAiXLl1CREQEOnbsaOSVm1ZeXh4mT56M0NBQ/Prrr23+GL6W4it6KSkpeOONN1BTUwNfX1/MnTsXDzzwAJRKJXbv3o0FCxZg4sSJWLduHd58803k5eVh/fr18PDwENWbAmIZFAAJIY1ijKGgoEAYM3PgwAF4eHhg9OjRGDt2LO69995Gz9o15/r4sSd9+/aFr6+vRdbRFGq1GpWVlcLlYsaYsG/Q19e3SXsV+c7mkpISREVFia7Sc+bMGcTHx2PixIn4/PPPRbVf0RL++usvxMfHY/bs2ejduzfS09Px2WefYd++fRg+fDiuXbuGbdu24fnnn0dISAjKy8tx6NAh9O7d29JLJyJBAZAQ0iRKpRJHjx4VqoN5eXkYOnSoMITanPvQOI5DZmYmZDIZoqOj4ebmZpb7NQZ+oLd+ddDd3d2gOnhjqBbzmc2MMezatQuzZs3CsmXL8Morr1hdFdna5OfnY968eRg9ejReeuklAMDo0aNx5MgRODk54cSJE4iIiIBGo0FOTg7Onj2Lhx9+GK6urhZeORETCoCEkGZjjCEnJ0c4ou7IkSPw8/MT9g6OHDkSLi4uJqkO6o89iY6OFtXYk8aoVCqhMlhZWQmJRCKEQR8fHzDGTNrZbEqMMXz++edYuXIlvv/+e8THx9OlyUbon+kLXO/e/+KLLzBr1ixoNBqMHz8ePj4+eO+99/Dcc89BpVLh4MGD8Pb2tuCqidhRACSEtJpcLsfBgweFzuKSkhIMHz5c2DtorMYMMY89aQqO41BbWytUB+vr6yGVSuHs7IxevXqJam+XVqvFG2+8gT/++APbt28XZtYRQ1qtttGfY74yPH/+fBQWFmLTpk1wd3fHU089hU2bNqFnz55WdzweERcKgIQQo+I4DllZWdizZw8SExNx7NgxBAUFCWFw+PDhLZqXJ+axJy1RXV2NlJQUeHh4QCqVoqqqCra2tsLeQR8fH6sNwPX19XjmmWeQnZ2NPXv2oHv37pZeklXiO/QVCgU+/vhjAMCjjz6KkJAQ2NnZoaamBqNGjcK0adOwcOFCANfPHo6IiICrqysee+wxC66eiB0FQNLurV69Glu3bkVmZiacnJwwdOhQvP/++8JxYKTl+G7Y/fv3C80kVVVVGDFihBAIg4OD71jVqqiowIULF0Q59qQlrl69ioyMDPTs2ROdO3cGcD0s1NTUCNVBhUIBT09P4XKxqS65N1dpaSkmT54MV1dXbN261aqbc6xBWVkZhg4dCj8/PxQUFKBjx46YN28enn32WUgkEowfPx55eXn45ptvsHv3bmzevBl79uxBZGSkpZdORI4CIGn3xo0bh8ceewwDBw6EVqvF4sWLkZaWhoyMDFFtthcDjuNw4cIF4VLx8ePH0a1bN4wZMwbjxo3DkCFDDM4uBa6PPcnOzkZkZKToxp40F9/ZnJ+fjz59+tw2PCmVSiEMVlVVwd7eXgiD3t7eFhnmnZGRgUmTJmHYsGH4/vvvRb8/0xRunMv5999/4/fff8fXX38NuVyO2bNno7CwELNmzcJTTz2FlJQUPPvss6ipqQEAbNq0CUOGDLHQ6klbQgGQkBtUVFSgQ4cOOHz4MEaMGGHp5bRZjDHU1NRg7969SExMRFJSEhQKBUaOHCkMoX7//ffh4uKCJUuWwNPT09JLNimO43Dx4kVUVlY2u7NZp9OhurpaCIQNDQ0GQ6jN8Ubm4MGDeOKJJzBv3jysXLmyzV+ibwn9Zo+DBw+iuroa2dnZkEqleP311wFcrwjOmjULCoUCr7/+OuLi4qDRaJCVlYUuXbrQ7ERiNBQACblBTk4OunfvjgsXLtBMLTPiOA5nz55FYmIi9uzZg9TUVLi7u2PSpEmYOHEiBg0aBDs7O0sv0yQ0Gg3Onz8PtVptlM5muVwudBZXV1fDwcFBqA56eXkZtTrIGMNPP/2EV155BZ988olw6ZIYBj7+ZA8AWL58OT766CP4+vqiqKgIDz30ELZv3y583sWLFzF//ny4ubnhhRdewKhRoyyxfNLGUQAkRA/HcXjooYdQU1ODY8eOWXo57VJFRQUmTJgArVaLGTNm4NixY/jrr7+g1WoxatQoYe5ghw4d2kTQUCqVSElJMVlns06nMziiTq1WC9VBX1/fFjXk8DiOwzvvvIP169fjt99+w9ixY4248rZD/7JvSkoKPvnkE8yePRtdu3bFRx99hL179+Lxxx/HG2+8IXzOoUOHMGvWLCxZsgRPP/20hVZO2jIKgIToef7554XOVX7zPTGvb7/9Fn///Tc2btwoVMJ0Oh3+/fdfYe9gSkoK+vbtKzSSDBgwwGo7Ym/n2rVrSE5Ohp+fn1k6mxljkMvlQhisqamBs7OzEAY9PT2bvAaVSoW5c+fin3/+we7du9G3b1+Trr0l3nvvPbz55ptYsGAB1q5da9b7/uGHH7B792788ccfwm2rVq3CunXr0Lt3b+zYsQNOTk6orq7G8uXLcerUKcycORMzZ84UPj4zMxPh4eFmXTdpPygAEvI/8+fPx44dO3DkyBGEhoZaejntFv8n6VbVPcYYSktLkZSUhMTEROzbtw9SqRSjR49GXFwcRo8eDR8fH6uvDvKdzV27dm1SJ7QpaLVagyPqtFqtQXXwVpeiq6qq8Pjjj0Mul2PXrl0IDAw088rv7PTp03j00Ufh7u6Oe+65x6wBUKfTYfv27XBzc0NcXJxw+4YNG/D111+jsrIS2dnZwu35+flYvnw5CgsLMXfuXMTHx5ttraT9ogBI2j3GGF544QVs27YNhw4dopllIqPRaHD8+HGhOpieno6YmBihOhgVFWV1DQlFRUW4dOkSIiMj4e/vb+nlALj+e1BfXy9UB2tra+Hi4mIwZsbe3h6XL1/GpEmT0L17d/zyyy9WeQxffX09+vfvjy+++ALvvPMO+vXrZ/YKIL//Ly0tDceOHcOcOXOg0WiwadMmrFixAg888ADWrVsnfHxKSgpeffVVODs74+eff7bKx5W0LRQASbs3d+5cbN68GTt27DCY/efh4dGq/VHE/BhjKCoqEmYOHjhwAC4uLkJ1cNSoURY9TYMxhkuXLqGkpAT9+vWz6s5mjUYjVAbT0tLw4osvon///rh48SLGjx+Pb775xmovu0+fPh3e3t74+OOPMXLkSJMHQP1mjxuPdVuxYgVWrFiB33//HZMmTUJtbS2++eYbfP/993jiiSewZMkS4WOPHz+O0NBQBAQEmGythPAoAJJ271ZhYMOGDbT5WuQaGhrwzz//YM+ePUhKSsKlS5cwePBgoToYERFhtuqgTqdDWloa6uvrER0dDWdnZ7PcrzFotVp89tln+O2331BTU4MrV64gOjoaDzzwAJYvX25VFdZff/0Vq1atwunTp+Ho6GiWAMhLSEhA165dER4ejtWrVwuDzleuXIkff/wRCQkJGDx4MK5cuYIvv/wS27Ztw6uvvooZM2aYfG2E3Mg6374RYkb0HqjtcnR0xKhRozBq1Cj897//RV5eHhISEpCYmIj33nsP3t7eGDNmDMaOHYuRI0fC1dXVJNVBtVqNlJQUSCQSDBw4EPb29ka/D1PhOA7r1q3De++9hw0bNmDSpEmQyWT466+/kJ6eblXhr6ioCAsWLMDff/9t9iHUmZmZiI+Px/PPP4/y8nJs2rQJw4YNg4+PD+bNm4eSkhLEx8fj+PHjCAoKwrRp01BdXY3XXnsN/fv3R1RUlFnXSwhVAAkh7ZJCocChQ4eQkJCAvXv3oqCgAEOHDhWqgz169DBKuJHL5UhOToa7uzsiIyMtckJHS2m1Wrz22mvYtm0bduzYYfUnUGzfvh0TJ040eIx1Oh0kEgmkUilUKpVJH//Nmzdj9uzZsLOzQ0JCgsHjlZKSgpdeeglVVVU4c+YM7OzscPLkSRQUFGDKlCkmWxMht0IBkBDS7jHGkJ2dLVQHjxw5goCAACEMjhgxokWXbKuqqpCamoqgoCCEhYVZfWeyvrq6Ojz99NPIz8/H7t27ERYWZukl3VFdXR0KCgoMbpsxYwbCw8PxxhtvmGSwu/6Mv08++QSfffYZVCoVli9fjvj4eHh4eAgfe+TIEbz00ktwdHTEP//8Y/S1ENIc1lO7J4S02HvvvQeJRIKFCxdaeimiJJFI0LNnT7z00kv466+/IJPJsHbtWkgkErz88ssICgrCxIkT8eWXXyI3N7dJ2wauXr2K5ORkdO/eHd26dRNV+Lt69SrGjRsHhUKBY8eOiSL8AYCbmxt69+5t8J+Liwt8fHyMHv4YY0L4Ky4uxsGDB7FgwQLk5ORg4sSJ+PDDD7F7926o1Wrhc4YMGYK33noLxcXFOH/+PG0/IRZFAZAQkTt9+jS++uorqxzEK0YSiQSurq6YMGEC1q9fj8uXL+P06dO49957sXv3bgwYMADR0dF4/fXXsX//fjQ0NBh8PsdxuHz5MjIzM9GvXz/RDRRPS0vDPffcg8jISOzduxc+Pj6WXpJV4i8r79u3D0OHDsWGDRtw5swZAMCnn36KyMhIrFmzBgcOHBA+Z//+/Zg4caIwyFxMbwpI20OXgAkRMWuYd9aeMMZw7do1/P3330hMTERSUhJqa2sxcuRIxMXF4e6778Zbb72Fnj174rXXXhPdLLf9+/dj2rRpeOGFF7BixQqravCwpBtHu/CVv127dmHq1KlYsWIF5syZAxcXF+FjlEolxo0bB61Wi4kTJ2L//v04cuQIZDIZjZciVoF+uwkRsXnz5uGBBx7A6NGjLb2UdkEikcDDwwOTJ0/Gd999h6KiIhw5cgRDhgzB5s2bMWjQICQnJ0OhUCA5Odng8p81Y4xh48aNeOyxx7BmzRr85z//ofD3PxzHCeHv22+/RWVlJaRSKbRaLf7880/MnTsXr7zyCiQSCQoKCrBlyxYkJCTAyckJmzdvRqdOnbBz5044Ojri2rVrFP6I1aAxMISI1K+//opz587h9OnTll5KuyWVStG/f3/4+Pjgl19+wYgRI/DYY4/h0KFDmD59OhoaGnDPPfdg7NixGDNmDAICAqzush/HcfjPf/6Db775Bjt27KA3E3p0Op3QNTxu3DgUFBTgwQcfBADY2tpCp9Ph+PHjOH/+PD7//HPk5eUhLS0NlZWV+O9//4sXXngB33//PVQqFV1KJ1aH3uIRIkL8vLOff/7Z7PPOyM22bt2KESNGICEhAc888wx+/PFHlJSUYO/evYiKisIPP/yA8PBwDBs2DG+//TZOnDgBrVZr6WWjoaEBzzzzDLZs2YKjR49S+NPDcRxsbGwgl8sRFRUFmUyGY8eOGRzd98gjj0AikWDAgAFQKpV48sknkZ+fj1mzZuGnn36CSqWCq6srhT9ilWgPICEiZOl5Z8QQ/2f0VtU9xhjKy8uRlJSExMRE7N27FwAwevRojBkzBmPGjIGfn59Zq4OVlZWYOnUqGhoasGvXLjp+rBF5eXkYPHgwRo4ciY0bNwpvturq6pCfn48+ffqgvr4ehYWFiIiIED5vzpw5sLe3x9q1a+lSOrFaFAAJESFLzDsjxqPVanHy5EkkJCQgKSkJqamp6N+/vzB3MDo62qQBPjc3F5MmTUJ4eDg2b94MV1dXk92XWJWXl+OBBx6ATCbD5cuXhXCelpaG++67Dy+//DJefPFF4XlSqVQoLCzEF198gR9//BG7d++2+sHZpH2jAEhIG2HOM0+J8TDGUFJSgqSkJCQkJGD//v2wt7fHmDFjEBcXh1GjRsHLy8to1cGTJ09iypQpeOyxx/Dxxx/D1pa2gjeGMYa33noLR44cQVxcHJYuXYp9+/ZhypQpmDZtGtasWSNU9zQaDX7//Xds2bIFubm5+OOPP9CzZ08LfweE3B4FQELaCAqAbYNKpcLx48exZ88eJCUlITMzE7GxsUJ1sE+fPi26rMgYw7Zt2zBnzhysXLkSCxcutLqGFGvBj3mpq6vDsmXLcPr0aQQGBuKvv/7CO++8gxdeeAGA4XiYqqoqHD16FHFxcdTpS0SBAiAhhFgpxhgKCgqQmJiIxMREHDhwAB4eHhg9ejTGjh2Le++9F25ubncMchzH4dNPP8Xq1auxceNGTJw4kcLfHeif8rF8+XJs3boVM2bMwJo1awD8f4dwZmYmXnrpJWzcuBEdOnSw8KoJaToKgIQQIhJKpRJHjx4VqoN5eXkYOnQo4uLiEBcXh/Dw8JuqgxqNBq+88gp2796NHTt2YNCgQRZavfjwFb6MjAwsX74c1dXVWLJkCe655x4AwIEDB/Dwww8jPj4e3333nYVXS0jzUAAkhBARYowhJycHCQkJSExMxJEjR+Dn54cxY8Zg7NixuPvuu8EYw1NPPYWioiLs3r0bXbt2tfSyRevIkSPCmdtffPEFzp07h/j4ePznP//B4sWLLb08QpqNAiAhxGyuXLmCN954A4mJiVAoFOjWrRs2bNiAmJgYSy9N9ORyOQ4ePCh0Fl+5cgUODg7o27cvdu7cCW9vb0sv0eo0Nr7nxmPf9G3fvh1ffPEFsrOzUVhYiJ9//hlTp041y1oJMTYKgIQQs6iurkZ0dDTuuecePP/88/Dz88OlS5cQFhaGsLAwSy+vTeE4DhcvXsSKFSuwceNGakq4g7S0NBQWFiI8PLzRKql+KPzyyy+xZcsW/Pe//0X//v3NvVRCjIYCICHELBYtWoR//vkHR48etfRSiAWsXr0aW7duRWZmJpycnDB06FC8//77Fh+X8sMPP2DOnDno0qULiouL8dlnn+GRRx6Bl5eXwcfxTSHA9RNU6AQeInY0opwQEeA4DmJ/r7Zz507ExMQgPj4eHTp0QHR0NL755htLL4uYyeHDhzFv3jycPHkSf//9NzQaDeLi4iCXy826Dp1OB+B6Va++vh5//PEHfvzxR5w8eRLz58/Hf/7zH/z222/CuvjfO6lUKvw/hT/SFlAFkBArxRjDxYsXDY6Y4m8Hbn3smLXiXzRffvllxMfH4/Tp01iwYAHWr1+P6dOnW3h1xNwqKirQoUMHHD58GCNGjDDLffKjWwAgNTUVtra2+Prrr/HOO+/Azc0NADB79mwcO3YMy5Ytw+TJk2Fra3vbfYGEiBUFQEKsVFlZGWJjY1FUVITo6GhMnToVU6dORadOnQDcfrO6NbK3t0dMTAyOHz8u3Pbiiy/i9OnTOHHihAVXRiwhJycH3bt3x4ULF8xydCH/+6LT6XDXXXehtLQU+fn56NmzJ5KSkhAcHCx87EMPPYTKykq8+eabGD9+vMnXRogl0CVgQqxUSkoKgoKC8P3332PGjBnYunUr7r33XrzzzjtQq9WiCn8AEBAQcFM1s1evXigsLLTQioilcByHhQsXYtiwYWYNf0qlEp988gl8fHzw559/YvHixVAoFFi3bh0qKyuFj//ll19QW1uLtWvXGtxOSFtCh0ASYqUSEhLg4uKC+Ph4uLi4YM6cOdi2bRtef/11cByHZcuWWXqJzTJs2DBkZWUZ3JadnW1QeSHtw7x585CWloZjx46Z5f4kEgkKCgrw1ltvoaSkBIsWLUJ0dDSio6Nha2uL3bt3w8fHBwsXLoSDgwNcXFywZ88eVFVVwcfHxyxrJMTcqAJIiBVSKpXIzMxEz5494eLiAo7jYGtri/j4eMydOxdr1qxBSUkJgOvVFJ5OpxM2uVubl156CSdPnsS7776LnJwcbN68GV9//TXmzZtn6aURM5o/fz52796NgwcPonPnzia7nxt3N2VmZiInJwenTp2Cvb29cPvbb7+N2NhY7NixAz/++KNwe3BwMKKjo022PkIsjQIgIVYoJycHtbW1wrFdjDEh2A0ZMgQKhQKnTp0CcL07MS0tDWq1GjY2NsImd2szcOBAbNu2Db/88gt69+6NlStXYu3atXjiiScsvTRiBowxzJ8/H9u2bcOBAwcQGhpq0vvjt0gkJiYCAMaOHYtFixahW7du+PDDD4U3UADw4YcfokuXLli7di0OHTpk0nURYi0oABJihQ4cOAB7e3shAEqlUuEFraioCF5eXrCzs0NGRgaeeuopTJ06Fb6+vhgxYgQOHz58y6+r0+luOU5Gv5JoKuPHj8eFCxfQ0NCAixcvYtasWSa/T2Id5s2bh02bNmHz5s1wc3NDaWkpSktLoVQqTXafqampePrpp/HMM88AACZMmIA5c+agpqYGK1euFO7bxcUF7733HmbMmIGRI0eabD2EWBMKgIRYGY7jcPToUXTq1AndunUDcL2awQfAtLQ02NnZAQBmzpyJTp064ffff8eFCxfQq1cv/Pe//8XVq1cBXO8kPn/+vPC1bWxsbtk8wg+5JcQUvvzyS9TW1mLkyJEICAgQ/vvtt9+Mdh83vonp2rUrli1bhsOHD2PFihUAgOeeew73338/kpOT8d577wkfGxISgldffdVoayHE2lETCCFWpry8HFVVVZgwYQIAQKvVwtbWFhKJBJWVldi/fz86d+6M/Px8nDp1CuPGjQNjDMHBwfjqq68QEBCA06dP46GHHsKhQ4fwxhtvYNq0aXB1dYVGo8EzzzyDwMBAaDQaoYr46aefIj4+HqNGjRLWUVNTA8bYTSciENISppg4pj8Tkz+pQ6VSwcHBAQDg5uaGKVOmoLq6GuvXr0fnzp3x7LPPYsGCBairq8Off/4JNzc3Cn6kXaK3/IRYmRMnTuDMmTOoq6sDANja2qKhoQFlZWV45513cPnyZUyYMAGpqano2bMnTp8+jbvuugsBAQF49NFHoVQqUVFRAeD65eKqqirs2bMHSqUSO3bsQFxcHPLy8mBnZweFQoFz587h9OnT0Gq1AACNRgMAWLVqFaKjo6FSqSzzQFgBnU6HpUuXIjQ0FE5OTggLC8PKlStFfypLWyGRSFBdXS38f01NDSZMmIAXX3xR+BhfX19MmzYNkydPxvLly3HgwAG4uLhg7ty5uPvuu3HXXXdZavmEWBYjhFiVnJwc9sILLzAfHx/m5OTEhg8fzmbNmsWCg4OZh4cH++STT1hNTQ2LjY1lq1atYowxVlFRwZKSktjzzz/P7r//frZjxw6mVCrZxIkTWY8ePVhlZSVjjLGSkhIWHh7O3nrrLcYYY+vXr2cuLi7M3d2dLV26lF29elVYx+DBg9n8+fMZY4zpdDrGcZyZHwnLW7VqFfPx8WG7d+9meXl57Pfff2eurq7sk08+sfTSCGPs0qVLzM7Oju3cuZMxxlhZWRl74403WGRkJPv8888NPvbcuXMsLCyMRUREsNTUVMYYYyqVyuxrJsRa0EkghFixvLw8JCQkoLi4GH369MHAgQPRvXt3AMB9990H4PrQWk9PT+Fz+EthZ86cwaxZszB58mQsWbJEuJT86quv4ujRo/j3339RXl6OKVOmoL6+HsD1/YX79+9HWFgYgoKCsH37dtx///1m/76txfjx4+Hv74/vvvtOuG3SpElwcnLCpk2bLLgyAlw/Tu7VV1/Ftm3bcOLECURGRuLy5ctYt24d9uzZg1WrVmHSpEkAAJVKhbFjx+LSpUu4++67sXnzZtGdpkOIMdElYEKsDMdx0Gq1YIwhNDQU8+bNw+rVq/H444+je/fuwqXajz76CBUVFfjggw+QmZmJ0tJSnDhxAgqFAsD1MJeXl4dx48YBgPB52dnZwvy1lJQUqNVqzJkzB6dPn0ZpaSkGDx6M48ePw8bGBnZ2dnjuueeEDfyNrdVa5w4aw9ChQ7F//35kZ2cDuN5VeuzYMSF8E/NprEvdz88P77zzDkaOHIl7770XNTU16Nq1K5566ikMGzYMy5Ytw8mTJwEAly9fhr+/P37++Wds3rwZgPjO0ybEmCgAEmJlpFKp0PTB/jf/T79Qb2t7vXcrMjISS5cuxcGDBzFgwACMHTsW3333HWQyGdRqNZKTkyGXy9GhQwcAgKOjI3Q6HY4cOYK7774bwPVAw3Ec+vbtCwBwdXWFVCpFUlISVCoVtmzZgk6dOuHDDz/EM888A7lcftNa+bmDbfFiwqJFi/DYY48hPDwcdnZ2iI6OxsKFC2l2oZkxxoQu9YMHD+LKlSvCvwUFBeG9995DUFCQsJ8vKioKzz77LKKiojB06FA88sgjGDx4MDp27EhjXgjhWe7qMyHEWFQqFTt8+DA7efIkY4yxjIwMNn78eNaxY0e2cOFCxhhjxcXFbNGiRczV1ZVVVlYytVrNpk2bxh566CGDvVAqlYp17NiRvfLKK6y0tJQxxtiBAweYl5cX27ZtG2OMsWvXrrFt27axuXPnsu+++45VVVWZ9xs2k19++YV17tyZ/fLLL+z8+fPsxx9/ZN7e3uyHH36w9NLaHY1Gw+677z4mkUhYUFAQe++999ju3buFfz937hwLCQlho0ePFm67evUq+/TTT9lLL73EvvrqK0ssmxCrRWNgCBEx/vKrvb09RowYIdyenZ2NoqIiLF68GCdPnkTXrl3h7u4OtVqNDz74AN7e3khLS8PVq1cxePBg2NvbQ6fTwcbGBikpKaioqMD06dPh7+8PABg8eDCUSiVcXFwAAC+//DLOnDmDHj164NNPP8Wrr76Kt956C88//zycnJzM/0CYyGuvvSZUAQGgT58+KCgowOrVqzF9+nQLr659aWhoQEBAALp37w6pVIqzZ89ixYoVGDVqFIYNG4aZM2fiq6++wowZM/D888/jyy+/RMeOHfHCCy8IP9uEkP9HAZAQEdN/UeObPwDg4sWLYIxh5syZmDdvHn7++WcUFRXh0UcfFYZLM8Zw9epVYT8g/7V27dqFHj16CM0mAHD27FnodDp07dpVuLz86KOP4s033wQA7N27F9XV1W1uT5VCobhpQLaNjY1ZTk0hhlxdXbF8+XIsX74cMpkMkyZNwttvv41Nmzbho48+wtatW+Hm5oYJEyZg/fr1CA8Px4IFCwCAwh8hjaA9gIS0EXxQKS0txeHDh+Ht7Q0nJydIpVJMmzYNixcvFsIfcL2aFRkZibVr1+K1115DWVkZAOCvv/7CfffdB0dHR2Ff359//ok+ffqgQ4cOkEqlGD58OD744AP89NNPqKqqQlxcHMaNGwdHR0fzf+Mm9OCDD2LVqlXYs2cP8vPzsW3bNqxZswYTJ0609NLapS5dumD+/Pmwt7fH+vXrodFo8O677yI9PR1vvvkmbG1tceTIEQDXm6QaGhra5N5UQoyBxsAQ0gadOnUK9fX1uPfee6HRaIQj4G6s0CmVSvz666/49ddfsXz5cgQFBSE4OBh79uzBfffdJ4zJ6NmzJyZNmoT//Oc/sLW1hUajwccff4zDhw9j4MCBeOONN9rUpV9eXV0dli5dim3btqG8vByBgYGYOnUqli1bBnt7e0svr906cOAAPvjgA9jb22P16tWIjIwU/u3y5cs4duwY4uPj2+TPJCHGQgGQECKoqanB+vXrMWfOHGG2YFFREYKDg7Fv3z7ce++9yM/PR0hICOrq6rB//37MnDkTTz75JN5//33hCC5CTO2PP/7AunXrEBgYiI8//hgdOnSguX6ENANdAiakndMfM+Pp6YlFixYZDJbOzMxEaGgooqKiUFxcjFdffRWnT5+Gm5sbHn74YcyePRvHjx+/aa8cIaY0efJkPPbYYyguLsaSJUvQ0NBA4Y+QZqAmEELauRsbSW68VDxmzBjk5uYCuF4NdHJywgMPPIDg4GB069YN58+fR1xcHOzs7AwaUQgxteeeew4lJSXYuXMnMjIy0L9/f0sviRDRoEvAhJDbamyERmlpKf744w/k5ubioYcewtChQ+Hg4ECX4IjZKRQKlJSUGDQ4EULujAIgIaTJGqsQEkIIER8KgISQZmOMCZd7KQwSQoj4UAAkhBBCCGlnaLc2IYQQQkg7QwGQEEIIIaSdoQBICCGEENLOUAAkhBBCCGlnKAASQgghhLQzFAAJIYQQQtoZCoCEEEIIIe0MBUBCCCGEkHaGAiAhhBBCSDtDAZAQQgghpJ2hAEgIIYQQ0s5QACSEEEIIaWcoABJCCCGEtDMUAAkhhBBC2hkKgIQQQggh7QwFQEIIIYSQdoYCICGEEEJIO0MBkBBCCCGknaEASAghhBDSzlAAJIQQQghpZygAEkIIIYS0MxQACSGEEELaGQqAhBBCCCHtDAVAQgghhJB2hgIgIYQQQkg7QwGQEEIIIaSdoQBICCGEENLOUAAkhBBCCGlnKAASQgghhLQzFAAJIYQQQtoZCoCEEEIIIe0MBUBCCCGEkHaGAiAhhBBCSDtDAZAQQgghpJ2hAEgIIYQQ0s5QACSEEEIIaWcoABJCCCGEtDMUAAkhhBBC2hkKgIQQQggh7QwFQEIIIYSQdoYCICGEEEJIO0MBkBBCCCGknaEASAghhBDSzlAAJIQQQghpZygAEkIIIYS0MxQACSGEEELaGQqAhBBCCCHtDAVAQgghhJB2hgIgIYQQQkg7QwGQEEIIIaSdoQBICCGEENLOUAAkhBBCCGlnKAASQgghhLQzFAAJIYQQQtoZCoCEEEIIIe3M/wGLLGNIkQhhuQAAAABJRU5ErkJggg==' width=640.0/>\n",
       "            </div>\n",
       "        "
      ],
      "text/plain": [
       "Canvas(toolbar=Toolbar(toolitems=[('Home', 'Reset original view', 'home', 'home'), ('Back', 'Back to previous …"
      ]
     },
     "metadata": {},
     "output_type": "display_data"
    }
   ],
   "source": [
    "fig = plt.figure()\n",
    "ax = fig.add_subplot(projection='3d')\n",
    "\n",
    "\n",
    "ax.set_proj_type('ortho')\n",
    "ax.scatter(outputs[:, 2], outputs[:, 1], outputs[:, 0])\n",
    "\n",
    "ax.set_xlabel('Depths')\n",
    "ax.set_ylabel('Num Estimators')\n",
    "ax.set_zlabel('Accuracy')\n",
    "\n",
    "plt.show()\n"
   ]
  },
  {
   "attachments": {},
   "cell_type": "markdown",
   "id": "ace737d8",
   "metadata": {},
   "source": [
    "<head>\n",
    "It appears that\n",
    "\n",
    "depth = 5\n",
    "Number Estimators = 3\n",
    "\n",
    "Is optimal for the SAMME method that we are using.\n",
    "<head>"
   ]
  },
  {
   "cell_type": "markdown",
   "id": "212f5a65",
   "metadata": {},
   "source": [
    "4.12 b [1 point] What are your observations with respect to `max_depth` in the base model? "
   ]
  },
  {
   "attachments": {},
   "cell_type": "markdown",
   "id": "a5caa826",
   "metadata": {},
   "source": [
    "% Write-up for 4.12.b <br>\n",
    "#BEGIN <br>\n",
    "The accuracy seems to be roughly logarithmic in the depth of the decision tree. However, above a depth of 5 or so the \n",
    "accuracy improvements are marginal.\n",
    "\n",
    "#END<br>"
   ]
  },
  {
   "cell_type": "markdown",
   "id": "f2d7d022",
   "metadata": {},
   "source": [
    "4.12 c [1 point] What are your observations with respect to `n_estimators`?"
   ]
  },
  {
   "attachments": {},
   "cell_type": "markdown",
   "id": "6cdb860a",
   "metadata": {},
   "source": [
    "% Write-up for 4.12.c <br>\n",
    "#BEGIN <br>\n",
    "The number of estimators seems to have a very sharp performance improvement dropoff past around 3 or 4.\n",
    "\n",
    "#END<br>"
   ]
  },
  {
   "cell_type": "code",
   "execution_count": null,
   "id": "26233356",
   "metadata": {},
   "outputs": [],
   "source": []
  }
 ],
 "metadata": {
  "kernelspec": {
   "display_name": "Python 3",
   "language": "python",
   "name": "python3"
  },
  "language_info": {
   "codemirror_mode": {
    "name": "ipython",
    "version": 3
   },
   "file_extension": ".py",
   "mimetype": "text/x-python",
   "name": "python",
   "nbconvert_exporter": "python",
   "pygments_lexer": "ipython3",
   "version": "3.11.0"
  },
  "vscode": {
   "interpreter": {
    "hash": "c718e4dbc7da5f98605c5aef82b47d5d7eaed2439bc4570c06419e9ffefa11f0"
   }
  }
 },
 "nbformat": 4,
 "nbformat_minor": 5
}
