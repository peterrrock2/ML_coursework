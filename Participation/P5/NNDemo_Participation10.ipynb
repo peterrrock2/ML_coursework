{
 "cells": [
  {
   "cell_type": "markdown",
   "metadata": {},
   "source": [
    "# Neural Networks\n",
    "\n",
    "This week we're going to do some simple exploration of the feature space of Neural Networks."
   ]
  },
  {
   "cell_type": "code",
   "execution_count": 2,
   "metadata": {
    "id": "B7z57Ageb0N0"
   },
   "outputs": [],
   "source": [
    "# Building On Example from https://machinelearningmastery.com/tensorflow-tutorial-deep-learning-with-tf-keras/\n",
    "# Building On Example from https://www.tensorflow.org/tutorials/images/cnn\n",
    "# Building On Example from https://www.guru99.com/rnn-tutorial.html\n",
    "# Building On Example from https://machinelearningmastery.com/prepare-univariate-time-series-data-long-short-term-memory-networks/\n",
    "# Building On Example from TensorFlow Documentation\n",
    "# For a multi-feature example, see: https://github.com/Hvass-Labs/TensorFlow-Tutorials/blob/master/23_Time-Series-Prediction.ipynb\n",
    "\n",
    "\n",
    "%matplotlib inline\n",
    "import matplotlib\n",
    "import matplotlib.pyplot as plt\n",
    "import pandas as pd\n",
    "import numpy as np\n",
    "import tensorflow as tf\n",
    "from tensorflow import keras\n",
    "from tensorflow.keras import layers\n",
    "import sklearn.datasets\n",
    "import sklearn.model_selection"
   ]
  },
  {
   "cell_type": "markdown",
   "metadata": {
    "id": "aSY4FLyaG_jG"
   },
   "source": [
    "First, let's set up a dataset that should be simple enough for us to solve, but complex enough for a variety of Neural Network tasks, including CNNs. We know digits already, and it's a good, usable set of images, so let's start there."
   ]
  },
  {
   "cell_type": "code",
   "execution_count": 3,
   "metadata": {
    "colab": {
     "base_uri": "https://localhost:8080/"
    },
    "id": "X-uOIWORtXLz",
    "outputId": "0085c091-1367-4b1d-fb4f-ce69781befb1"
   },
   "outputs": [
    {
     "name": "stdout",
     "output_type": "stream",
     "text": [
      "(1437, 64) (360, 64) [6 0 0 ... 2 7 1] [6 9 3 7 2 1 5 2 5 2 1 9 4 0 4 2 3 7 8 8 4 3 9 7 5 6 3 5 6 3 4 9 1 4 4 6 9\n",
      " 4 7 6 6 9 1 3 6 1 3 0 6 5 5 1 9 5 6 0 9 0 0 1 0 4 5 2 4 5 7 0 7 5 9 5 5 4\n",
      " 7 0 4 5 5 9 9 0 2 3 8 0 6 4 4 9 1 2 8 3 5 2 9 0 4 4 4 3 5 3 1 3 5 9 4 2 7\n",
      " 7 4 4 1 9 2 7 8 7 2 6 9 4 0 7 2 7 5 8 7 5 7 7 0 6 6 4 2 8 0 9 4 6 9 9 6 9\n",
      " 0 3 5 6 6 0 6 4 3 9 3 9 7 2 9 0 4 5 3 6 5 9 9 8 4 2 1 3 7 7 2 2 3 9 8 0 3\n",
      " 2 2 5 6 9 9 4 1 5 4 2 3 6 4 8 5 9 5 7 8 9 4 8 1 5 4 4 9 6 1 8 6 0 4 5 2 7\n",
      " 4 6 4 5 6 0 3 2 3 6 7 1 5 1 4 7 6 8 8 5 5 1 6 2 8 8 9 9 7 6 2 2 2 3 4 8 8\n",
      " 3 6 0 9 7 7 0 1 0 4 5 1 5 3 6 0 4 1 0 0 3 6 5 9 7 3 5 5 9 9 8 5 3 3 2 0 5\n",
      " 8 3 4 0 2 4 6 4 3 4 5 0 5 2 1 3 1 4 1 1 7 0 1 5 2 1 2 8 7 0 6 4 8 8 5 1 8\n",
      " 4 5 8 7 9 8 5 0 6 2 0 7 9 8 9 5 2 7 7 1 8 7 4 3 8 3 5]\n"
     ]
    }
   ],
   "source": [
    "images = sklearn.datasets.load_digits()\n",
    "X_train, X_test, y_train, y_test = sklearn.model_selection.train_test_split(images.data, images.target, test_size=0.2, random_state=42)\n",
    "print(X_train.shape, X_test.shape, y_train, y_test)"
   ]
  },
  {
   "cell_type": "markdown",
   "metadata": {
    "id": "_8Etj755HOV0"
   },
   "source": [
    "Next, let's make a Feed-Forward Neural Network. We're using the TensorFlow package[https://www.tensorflow.org/learn] to allow us to build these networks by components. See below for the description of each component."
   ]
  },
  {
   "cell_type": "code",
   "execution_count": 57,
   "metadata": {
    "colab": {
     "base_uri": "https://localhost:8080/"
    },
    "id": "53Rl7kkB_gi1",
    "outputId": "b2c0bd18-050f-4383-903b-ca18e7e43de8"
   },
   "outputs": [
    {
     "name": "stdout",
     "output_type": "stream",
     "text": [
      "Epoch 1/20\n",
      "45/45 [==============================] - 1s 14ms/step - loss: 0.7579 - accuracy: 0.8156\n",
      "Epoch 2/20\n",
      "45/45 [==============================] - 0s 9ms/step - loss: 0.1727 - accuracy: 0.9603\n",
      "Epoch 3/20\n",
      "45/45 [==============================] - 0s 8ms/step - loss: 0.0989 - accuracy: 0.9847\n",
      "Epoch 4/20\n",
      "45/45 [==============================] - 0s 8ms/step - loss: 0.0747 - accuracy: 0.9889\n",
      "Epoch 5/20\n",
      "45/45 [==============================] - 0s 8ms/step - loss: 0.0641 - accuracy: 0.9903\n",
      "Epoch 6/20\n",
      "45/45 [==============================] - 0s 8ms/step - loss: 0.0479 - accuracy: 0.9930\n",
      "Epoch 7/20\n",
      "45/45 [==============================] - 0s 8ms/step - loss: 0.0372 - accuracy: 0.9958\n",
      "Epoch 8/20\n",
      "45/45 [==============================] - 0s 9ms/step - loss: 0.0307 - accuracy: 0.9972\n",
      "Epoch 9/20\n",
      "45/45 [==============================] - 0s 8ms/step - loss: 0.0289 - accuracy: 0.9958\n",
      "Epoch 10/20\n",
      "45/45 [==============================] - 0s 8ms/step - loss: 0.0230 - accuracy: 0.9965\n",
      "Epoch 11/20\n",
      "45/45 [==============================] - 0s 8ms/step - loss: 0.0206 - accuracy: 0.9993\n",
      "Epoch 12/20\n",
      "45/45 [==============================] - 0s 8ms/step - loss: 0.0185 - accuracy: 0.9986\n",
      "Epoch 13/20\n",
      "45/45 [==============================] - 0s 8ms/step - loss: 0.0165 - accuracy: 0.9986\n",
      "Epoch 14/20\n",
      "45/45 [==============================] - 0s 8ms/step - loss: 0.0148 - accuracy: 1.0000\n",
      "Epoch 15/20\n",
      "45/45 [==============================] - 0s 9ms/step - loss: 0.0143 - accuracy: 0.9993\n",
      "Epoch 16/20\n",
      "45/45 [==============================] - 0s 9ms/step - loss: 0.0121 - accuracy: 1.0000\n",
      "Epoch 17/20\n",
      "45/45 [==============================] - 0s 8ms/step - loss: 0.0113 - accuracy: 1.0000\n",
      "Epoch 18/20\n",
      "45/45 [==============================] - 0s 8ms/step - loss: 0.0102 - accuracy: 1.0000\n",
      "Epoch 19/20\n",
      "45/45 [==============================] - 0s 8ms/step - loss: 0.0097 - accuracy: 1.0000\n",
      "Epoch 20/20\n",
      "45/45 [==============================] - 0s 8ms/step - loss: 0.0091 - accuracy: 1.0000\n"
     ]
    },
    {
     "data": {
      "text/plain": [
       "<keras.callbacks.History at 0x1853e27b750>"
      ]
     },
     "execution_count": 57,
     "metadata": {},
     "output_type": "execute_result"
    }
   ],
   "source": [
    "hidden_layers_count = 3 #default 1\n",
    "hidden_nodes_count = 1000 #default 10\n",
    "hidden_activations = 'relu' #default 'relu'\n",
    "epochs = 20 #default 10\n",
    "\n",
    "FFmodel = keras.Sequential()\n",
    "FFmodel.add(layers.Dense(hidden_nodes_count, input_shape = (64,), activation=hidden_activations)) #Need at least 1 hidden layer\n",
    "for i in range(hidden_layers_count - 1):\n",
    "        FFmodel.add(layers.Dense(hidden_nodes_count, activation=hidden_activations))\n",
    "FFmodel.add(layers.Dense(10, activation='softmax')) #Our output layer\n",
    "\n",
    "FFmodel.compile(optimizer='sgd', loss='sparse_categorical_crossentropy', metrics=['accuracy'])\n",
    "FFmodel.fit(X_train, y_train, epochs=epochs, batch_size=32) \n"
   ]
  },
  {
   "cell_type": "markdown",
   "metadata": {
    "id": "nbripjDfHXBs"
   },
   "source": [
    "\"Sequential\" is the object that allows us to add layers in sequence (hence the name) to build our model piece by piece.\n",
    "\n",
    "\"Dense\" is a fully connected layer of nodes. I set how many nodes I want in the layer and the activation function. In the starting layer, I also have to specify the size and shape of my input. In future layers, whatever is output from the previous layer is used as the input to this next layer.\n",
    "\n",
    "We compile a model to set up the metrics we will use in the fitting process as well as any evaluation metrics.\n",
    "\n",
    "We fit on the training set.\n",
    "\n",
    "### Q1: With the default values for number of (1) Hidden Layers, (10) Nodes per layer, ('relu') Activation, and (10) epochs, what do you get for Accuracy? \n",
    "#### Q1A: Run it a few times, at least three. What is your highest accuracy and your lowest accuracy after each set of 10 epochs?\n",
    "*Here you should be able to see whether this process is fully deterministic and always fits to the same results, or has some sort of randomness in it. Does this match your expectation for fitting a NN?*\n",
    "#### Q1B: What's the trend in your accuracy here?\n",
    "*Here it should match to your understanding of achieving convergence. Have we converged to an optimal set of internal weights yet?*"
   ]
  },
  {
   "attachments": {},
   "cell_type": "markdown",
   "metadata": {},
   "source": [
    "\n",
    "*Q1 Response Here*\n",
    "\n",
    "Here were the three test accuracies:\n",
    "- 0.6994\n",
    "- 0.8566\n",
    "- 0.7550\n",
    "\n",
    "So the highest accuracy after 10 epochs was 85.66\\% and the lowest was 69.94\\%\n",
    "\n",
    "As the number of epochs increases, it seems that the accuracy on the test set tends to increase. We haven't converged\n",
    "on the optimal set of internal weights yet, though, since there is still a lot of variability after each run of 10\n",
    "epochs."
   ]
  },
  {
   "cell_type": "markdown",
   "metadata": {},
   "source": [
    "Now, let's evaluate on the test set."
   ]
  },
  {
   "cell_type": "code",
   "execution_count": 58,
   "metadata": {
    "colab": {
     "base_uri": "https://localhost:8080/"
    },
    "id": "4Z6I17-nI53F",
    "outputId": "09d61d3c-74c8-4650-96b4-5c77c5973237"
   },
   "outputs": [
    {
     "name": "stdout",
     "output_type": "stream",
     "text": [
      "12/12 [==============================] - 0s 3ms/step - loss: 0.0628 - accuracy: 0.9778\n",
      "Test Accuracy FFNN 0.9777777791023254\n"
     ]
    }
   ],
   "source": [
    "loss, acc = FFmodel.evaluate(X_test, y_test)\n",
    "print('Test Accuracy FFNN ' + str(acc))"
   ]
  },
  {
   "cell_type": "markdown",
   "metadata": {},
   "source": [
    "### Q2: What is your test accuracy? How does it compare to your training accuracy?\n",
    "*This should be connecting to your understanding of training goodness and testing goodness, and the implications of underfitting and overfitting.*"
   ]
  },
  {
   "attachments": {},
   "cell_type": "markdown",
   "metadata": {},
   "source": [
    "*Q2 Response Here*\n",
    "\n",
    "I ran this a few times, and it appears that the accuracy on the testing set is the within 2\\% or so of the accuracy on\n",
    "the training set. This is actually pretty good, since this means that the model is relatively well-fit to the data in \n",
    "the sense that how well the model fits to our training set appears to be representative of how well we can expect\n",
    "a particular model to behave in general."
   ]
  },
  {
   "cell_type": "markdown",
   "metadata": {},
   "source": [
    "### Q3: Tune your hyperparameters (number of hidden layers, number of nodes per layer, activation function, epochs) to achieve 100% Training Accuracy. Find *at least two combinations* of hyperparameters that achieve this objective. List the hyperparameter values and Test Accuracy results below, replacing the defaults."
   ]
  },
  {
   "attachments": {},
   "cell_type": "markdown",
   "metadata": {},
   "source": [
    "*Q3 Responses Here*\n",
    "\n",
    "__FIRST FITTED MODEL__\n",
    " - hidden_layers_count = 3\n",
    " - hidden_nodes_count = 1000\n",
    " - hidden_activations = 'relu'\n",
    " - epochs = 20 \n",
    " - Test Accuracy = 0.978\n",
    "\n",
    "__SECOND FITTED MODEL__\n",
    " - hidden_layers_count = 7\n",
    " - hidden_nodes_count = 20\n",
    " - hidden_activations = 'relu'\n",
    " - epochs = 70 \n",
    " - Test Accuracy = 0.952"
   ]
  },
  {
   "cell_type": "markdown",
   "metadata": {},
   "source": [
    "### Q4: What do your results above tell you about fitting a Feed-Forward Neural Network? For example...\n",
    "#### What relationships did you see between hyperparameters?\n",
    "#### What impacts did hyperparameters have on resulting overfitting or underfitting?\n",
    "#### Which hyperparameters made the model take longer to train?"
   ]
  },
  {
   "attachments": {},
   "cell_type": "markdown",
   "metadata": {},
   "source": [
    "*Q4 Responses Here*\n",
    "\n",
    "Increasing the number of hidden layers helped to a certain extent, but it also made it so that the model took more epochs\n",
    "to train to a high degree of accuracy on the training set. The increase in training time became especially pronounced \n",
    "when you took into consideration the number of hidden nodes. The number of hidden nodes seemed to act as a multiplying \n",
    "factor for how long the model took to fit in each step, so adding a few hidden nodes while keeping the other \n",
    "hyperparameters fixed didn't seem to affect training time all that much, but if you added a few hidden nodes and then\n",
    "increased the layer count by 1, the model would take much longer to train. You could also increase the number of hidden \n",
    "nodes to help decrease the number of epochs it took to reach a high degree of accuracy on the training set, but the\n",
    "increase needed to be by a factor of 10 or so before it became noticeable."
   ]
  },
  {
   "cell_type": "markdown",
   "metadata": {
    "id": "2Fi4V2Z-IKiX"
   },
   "source": [
    "## BONUS 30 Points\n",
    "\n",
    "Now, let's try a Convolutional Neural Net! \n",
    "\n",
    "_hint: You will need to do the following steps:\n",
    " - Reshape your X_train and X_test samples into 2d arrays that are 8\\*8 using tensorflow's reshape.\n",
    " - add a 2D convolution layer for our input using the keras layer's Conv2D() object.\n",
    " - Add a 2D pooling layer for the result of our convolution using something like the keras layer's MaxPooling2D() object.\n",
    " - Flatten your layer so it is no longer a bunch of convolved, pooled 2D representations but instead is 1D to fit in a dense layer.\n",
    " - End the model in the same way as the FC network above.\n",
    "\n",
    "### Q 5: What hyperparameters did you use to get 100% accuracy on the training dataset?\n",
    " - Description of your 2D Convolution layer - Size of Convolution overlay? Stride Length? Activation?\n",
    " - Description of your Pooling layer - size?\n",
    " - Description of the number of Convolution + Pooling steps you added.\n",
    " - Description of the Dense layers you added after flattening.\n",
    " - Description of how many epochs it took to fit."
   ]
  },
  {
   "cell_type": "code",
   "execution_count": null,
   "metadata": {},
   "outputs": [],
   "source": [
    "#A Cell for building a CNN model"
   ]
  },
  {
   "cell_type": "markdown",
   "metadata": {},
   "source": [
    "*Q5 Responses Here*"
   ]
  },
  {
   "cell_type": "code",
   "execution_count": null,
   "metadata": {},
   "outputs": [],
   "source": []
  }
 ],
 "metadata": {
  "colab": {
   "collapsed_sections": [],
   "provenance": []
  },
  "kernelspec": {
   "display_name": "Python 3",
   "language": "python",
   "name": "python3"
  },
  "language_info": {
   "codemirror_mode": {
    "name": "ipython",
    "version": 3
   },
   "file_extension": ".py",
   "mimetype": "text/x-python",
   "name": "python",
   "nbconvert_exporter": "python",
   "pygments_lexer": "ipython3",
   "version": "3.11.0"
  }
 },
 "nbformat": 4,
 "nbformat_minor": 1
}
