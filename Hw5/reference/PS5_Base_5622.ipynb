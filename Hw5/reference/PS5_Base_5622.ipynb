{
 "cells": [
  {
   "cell_type": "markdown",
   "metadata": {
    "deletable": false,
    "editable": false,
    "nbgrader": {
     "cell_type": "markdown",
     "checksum": "36c0621390c0191cdb1fd134b5a32cdb",
     "grade": false,
     "grade_id": "title",
     "locked": true,
     "schema_version": 3,
     "solution": false,
     "task": false
    }
   },
   "source": [
    "# Problem Set 5 - K-Means, SVM , Neural Networks, and Q-learning\n",
    "## CSCI 5622 - Spring 2022"
   ]
  },
  {
   "cell_type": "markdown",
   "metadata": {},
   "source": [
    "***\n",
    "**Name**: $<$insert name here$>$\n",
    "***"
   ]
  },
  {
   "cell_type": "markdown",
   "metadata": {
    "deletable": false,
    "editable": false,
    "nbgrader": {
     "cell_type": "markdown",
     "checksum": "954b4e0f40c950adf0cee100802f90c9",
     "grade": false,
     "grade_id": "syllabus",
     "locked": true,
     "schema_version": 3,
     "solution": false,
     "task": false
    }
   },
   "source": [
    "This assignment is due on Canvas by **11.59 PM on Wednesday, April 27th**.\n",
    "Submit only this Jupyter notebook to Canvas. Do not compress it using tar, rar, zip, etc.\n",
    "The last bonus problem will require additional files to be submitted. We'll explain its submission format later.\n",
    "\n",
    "Your solutions to analysis questions should be done in Markdown directly below the associated question.\n",
    "Remember that you are encouraged to discuss the problems with your classmates and instructors,\n",
    "but **you must write all code and solutions on your own**, and list any people or sources consulted."
   ]
  },
  {
   "cell_type": "code",
   "execution_count": null,
   "metadata": {
    "pycharm": {
     "name": "#%%\n"
    }
   },
   "outputs": [],
   "source": [
    "#!pip install -r requirements.txt #uncomment to install all required packages\n",
    "import numpy as np\n",
    "import matplotlib.pyplot as plt\n",
    "import tests\n",
    "import data"
   ]
  },
  {
   "cell_type": "markdown",
   "metadata": {
    "deletable": false,
    "editable": false,
    "nbgrader": {
     "cell_type": "markdown",
     "checksum": "794849a95b638c6c9cfed4aaac65d84d",
     "grade": false,
     "grade_id": "dataset_description",
     "locked": true,
     "schema_version": 3,
     "solution": false,
     "task": false
    }
   },
   "source": [
    "# Assignment Setup\n",
    "\n",
    "For this problem set, we'll be using three synthetic datasets plotted below. From left to right: co-centric circles `circles`, blobs with 5 centers `multi_blobs`, and blobs with 2 centers `binary_blobs`.\n",
    "\n",
    "Each of the dataset instances has (`X`, `labels`) attributes that are split into `train` and `test` partitions.\n",
    "In the first problem, we'll be implementing K-means and evaluate it on the `multi_blobs` data.\n",
    "In the second problem, we'll be implementing Support Vector Machines (SVM) with the kernel trick and test it on `circles` and `binary_blobs`.\n",
    "And in the last problem, we'll implement our Multi-Layer Perceptron from scratch and test it on the `circles` dataset.\n",
    "\n",
    "All different problems are entirely independent and could be solved in any order you deem fitting.\n",
    "\n",
    "For this semester, we've also added a bonus problem on deep reinforcement learning (Deep Q-Learning) to get you familiar with its concepts and some of its practical limitations.\n"
   ]
  },
  {
   "cell_type": "code",
   "execution_count": null,
   "metadata": {
    "deletable": false,
    "editable": false,
    "nbgrader": {
     "cell_type": "code",
     "checksum": "c47fc79669905f45e67afacb364828ae",
     "grade": false,
     "grade_id": "dataset_plots",
     "locked": true,
     "schema_version": 3,
     "solution": false,
     "task": false
    },
    "pycharm": {
     "name": "#%%\n"
    }
   },
   "outputs": [],
   "source": [
    "%matplotlib inline\n",
    "# Do not modify this cell\n",
    "circles = data.Circles()\n",
    "multi_blobs = data.DataBlobs(centers=5, std=1.5)\n",
    "binary_blobs = data.DataBlobs(centers=2, std=2.5)\n",
    "\n",
    "fig, axs = plt.subplots(1, 3)\n",
    "fig.set_figheight(4), fig.set_figwidth(14)\n",
    "for i, (dataset, name) in enumerate([(circles, \"Co-centric circles\"),\n",
    "                                     (multi_blobs, \"multi-blobs\"),\n",
    "                                     (binary_blobs, \"binary blobs\")]):\n",
    "    axs[i].set_title(name)\n",
    "    axs[i].scatter(dataset.X[:, 0], dataset.X[:, 1], c=dataset.labels)\n",
    "plt.show()"
   ]
  },
  {
   "cell_type": "markdown",
   "metadata": {
    "deletable": false,
    "editable": false,
    "nbgrader": {
     "cell_type": "markdown",
     "checksum": "95a5f6ad05319cf49aaecdf5afe86c45",
     "grade": false,
     "grade_id": "k_means_intro",
     "locked": true,
     "schema_version": 3,
     "solution": false,
     "task": false
    }
   },
   "source": [
    "# Problem 1 : K-means (30 points)\n",
    "\n",
    "The goal of K-means is to partition the data into $k$ clusters such that the sum of intra-cluster variances is minimal.\n",
    "We will be using Euclidean distance as our variance measure, so for cluster $C_i = \\{x_1,x_2,... x_{m_i}\\}$, its intra-cluster variance $V(C_i)$ is defined as:\n",
    "\n",
    "$$\n",
    "V(C_i) = \\sum_{j=1}^{m_i} ||x_j - \\mu_i||^2\n",
    "$$\n",
    "\n",
    "where $\\mu_i = \\frac{1}{m} \\sum_{i=1}^{m_i} x_i$. $\\mu_i$ is called the centroid of cluster $C_i$.\n",
    "\n",
    "So for $k$ clusters, K-means objective is:\n",
    "$$\n",
    "\\min_{C_1,C_2\\ldots C_k}\\sum_{i=1}^{k}V(C_i) = \\min_{C_1,C_2\\ldots C_k} \\sum_{i=1}^{k} \\sum_{j=1}^{m_i} ||x_j - \\mu_i||^2\n",
    "$$\n",
    "\n",
    "Each sample $x_i$ is assigned to the cluster of the closest centroid. Hence, finding the optimal partition $\\{C_1,C_2...C_k\\}$ that minimizes the objective is equivalent to finding the optimal centroids.\n",
    "\n",
    "Unfortunately, there is no algorithm that reaches the global optima for K-means, but we'll be implementing the most famous heuristic for the problem: Llyod algorithm. It works as follows:\n",
    "\n",
    "- Initialize the centroids with **unique** random samples (`initialize_centroids`), initial objective = $+\\infty$\n",
    "- Repeat until convergence:\n",
    "    - Compute the distances matrix $D$ between samples and centroids (`compute_distances`)\n",
    "    - Use $D$ to assign each sample to the cluster with the closest centroid (`computes_assignments`)\n",
    "    - Update the centroids as centers of the new cluster assignments (`compute_centroids`)\n",
    "    - Compute the new objective (`compute_objective`)\n",
    "    - Stop if the improvement ratio of the objective is less than $\\epsilon$\n",
    "\n",
    "The improvement ratio equal to `|new_objective - previous_objective|/|previous_objective|`.\n",
    "\n",
    "\n",
    "- **1.1 [2 points]** `initialize_centroids` : select K **distinct** samples from the matrix data `X` and use them as the initial centroids. Store these centroids in the class attribute `self.centroids` as an `np.array` of shape $k \\times d$.\n",
    "- **1.2 [4 points]** `compute_distances` : compute the distance of each sample $x_i$ to every centroid $c_j$ and return the result as a matrix `distances_matrix` of size $N \\times k$ where `N` is the number of samples and `k` is the chosen number of clusters to be found. The cell `(i,k)` shall contain the euclidean distance between sample $x_i$ and centroid $m_k$.\n",
    "- **1.3 [2 points]** `compute_assignments` : given the distances matrix of size $N \\times k$ return an array of labels in which each element is an integer in the range $[0, k-1]$ and it represents which centroid it's closest to.\n",
    "- **1.4 [4 points]** `compute_centroids` : Compute the new centroids depending on the new set of samples that has been alloted to each cluster.\n",
    "- **1.5 [6 points]** `fit` : This shall contain your main loop which implements the algorithm described above. You'll sequentially call the methods above to find the $k$ centroids. Break the loop when the improvement ratio of the objective is within `rtol`. At the end (or start, depending on how you code it) of each iteration, call the method `save_plot` to save the current clustering status and save the current objective value in the `history` list.\n",
    "- **1.6 [3 points]** `predict` : Given new samples, return their assigned clusters that were learned in the `fit` step.\n",
    "\n",
    "While we're working on 2-d data (d=2) for visualization purposes, your implementation should handle any number of features."
   ]
  },
  {
   "cell_type": "code",
   "execution_count": null,
   "metadata": {
    "deletable": false,
    "nbgrader": {
     "cell_type": "code",
     "checksum": "87fc74015342dff10888ee3dc8e89bc0",
     "grade": true,
     "grade_id": "kmeans_code",
     "locked": false,
     "points": 21,
     "schema_version": 3,
     "solution": true,
     "task": false
    },
    "pycharm": {
     "name": "#%%\n"
    }
   },
   "outputs": [],
   "source": [
    "class KMeans:\n",
    "    def __init__(self, k, rtol=1e-3):\n",
    "        \"\"\"\n",
    "        :param k: (int) number of means/centroids to evaluate\n",
    "        :param rtol: (float) relative tolerance, `epsilon` from the markdown\n",
    "        \"\"\"\n",
    "        self.k = k\n",
    "        self.centroids = None\n",
    "        self.snapshots = []  # buffer for progress plots\n",
    "        self.rtol = rtol\n",
    "\n",
    "    def initialize_centroids(self, X):\n",
    "        \"\"\"\n",
    "        Randomly select k **distinct** samples from the dataset in X as centroids\n",
    "        @param X: np.ndarray of dimension (num_samples, num_features)\n",
    "        @return: centroids array of shape (k, num_features)\n",
    "        \"\"\"\n",
    "        centroids = None\n",
    "        # Workspace 1.1\n",
    "        #BEGIN \n",
    "        # code here\n",
    "        #END\n",
    "        return centroids\n",
    "\n",
    "    def compute_distances(self, X):\n",
    "        \"\"\"\n",
    "        Compute a distance matrix of size (num_samples, k) where each cell (i, j) represents the distance between\n",
    "        i-th sample and j-th centroid. We shall use Euclidean distance here.\n",
    "        :param X: np.ndarray of shape (num_samples, num_features)\n",
    "        :return: distances_matrix : (np.ndarray) of the dimension (num_samples, k)\n",
    "        \"\"\"\n",
    "        distances_matrix = np.zeros((X.shape[0], self.k))\n",
    "        # Workspace 1.2\n",
    "        #BEGIN \n",
    "        # code here\n",
    "        #END\n",
    "        return distances_matrix\n",
    "\n",
    "    @staticmethod\n",
    "    def compute_assignments(distances_to_centroids):\n",
    "        \"\"\"\n",
    "        Compute the assignment array of shape (num_samples,) where assignment[i] = j if and only if\n",
    "        sample i belongs to the cluster of centroid j\n",
    "        :param distances_to_centroids: The computed pairwise distances matrix of shape (num_samples, k)\n",
    "        :return: assignments array of shape (num_samples,)\n",
    "        \"\"\"\n",
    "\n",
    "        assignments = np.zeros((distances_to_centroids.shape[0],))\n",
    "\n",
    "        # Workspace 1.3\n",
    "        #BEGIN \n",
    "        # code here\n",
    "        #END\n",
    "        return assignments\n",
    "\n",
    "    def compute_centroids(self, X, assignments):\n",
    "        \"\"\"\n",
    "        Given the assignments array for the samples, compute the new centroids\n",
    "        :param X: data matrix of shape (num_samples, num_features)\n",
    "        :param assignments: array of shape (num_samples,) where assignment[i] is the current cluster of sample i\n",
    "        :return: The new centroids array of shape (k, num_features)\n",
    "        \"\"\"\n",
    "        # Workspace 1.4\n",
    "        centroids = np.zeros((self.k, X.shape[1]))\n",
    "        #BEGIN \n",
    "        # code here\n",
    "        #END\n",
    "        return centroids\n",
    "\n",
    "    def compute_objective(self, X, assignments):\n",
    "        return np.sum(np.linalg.norm(X - self.centroids[assignments], axis=1) ** 2)\n",
    "\n",
    "    def fit(self, X):\n",
    "        \"\"\"\n",
    "        Implement the K-means algorithm here as described above. Loop until the improvement ratio of the objective\n",
    "        is lower than rtol. At the end of each iteration, save the k-means objective and return the objective values\n",
    "        at the end\n",
    "\n",
    "        @param X:\n",
    "        @return:\n",
    "        \"\"\"\n",
    "        self.centroids = self.initialize_centroids(X)\n",
    "        objective = np.inf\n",
    "        assignments = np.zeros((X.shape[0],))\n",
    "        history = []\n",
    "\n",
    "        # Workspace 1.5\n",
    "\n",
    "        while True:\n",
    "            self.save_snapshot(X, assignments)\n",
    "            #BEGIN \n",
    "            # code here\n",
    "            #END\n",
    "        return history\n",
    "\n",
    "    def predict(self, X):\n",
    "        # Workspace 1.6\n",
    "        assignments = np.zeros((X.shape[0],))\n",
    "        #BEGIN \n",
    "        # code here\n",
    "        #END\n",
    "        return assignments\n",
    "\n",
    "    def save_snapshot(self, X, assignments):\n",
    "        \"\"\"\n",
    "        Saves plot image of the current asssignments\n",
    "        \"\"\"\n",
    "        if X.shape[1] == 2:\n",
    "            self.snapshots.append(tests.create_buffer(X, assignments))"
   ]
  },
  {
   "cell_type": "code",
   "execution_count": null,
   "metadata": {
    "pycharm": {
     "name": "#%%\n"
    }
   },
   "outputs": [],
   "source": [
    "%matplotlib notebook\n",
    "# show progress code\n",
    "k_means = KMeans(5)\n",
    "objective_history = k_means.fit(multi_blobs.X)\n",
    "tests.show_progress(k_means.snapshots)"
   ]
  },
  {
   "cell_type": "markdown",
   "metadata": {
    "deletable": false,
    "editable": false,
    "nbgrader": {
     "cell_type": "markdown",
     "checksum": "a89d5a9ef16455d6bc66e89a49c44c4c",
     "grade": false,
     "grade_id": "q1_7",
     "locked": true,
     "schema_version": 3,
     "solution": false,
     "task": false
    }
   },
   "source": [
    "## Evaluating K-means\n",
    "The easiest way to evaluate the clustering quality is to use the true labels. The natural question here is: which cluster corresponds to which label?\n",
    "\n",
    "Let's first formulate the question using `multi_blobs` dataset. We have 5 clusters and 5 classes in our data. Let's create a _confusion matrix_ $C$ between the clusters and the labels so that $ C_{i,j} = \\text{size}(\\text{cluster}_i \\cap \\text{class}_j)$.\n",
    "\n",
    "We model the unknown mapping using the $5\\times 5$ boolean matrix $X$ such that $X_{i,j}=1$ if and only if $\\text{cluster}_i$ is mapped to $\\text{class}_j$.\n",
    "\n",
    "To avoid having a cluster assigned to multiple classes, each row of $X$ is constrained to have only one non-zero entry.\n",
    "\n",
    "Now, given a mapping $X$ and confusion matrix $C$, the number of correctly \"classified\" samples (not really classification, more of clustering here) is:\n",
    "\n",
    "\\begin{align}\n",
    "\\#\\text{correct} = \\sum_i \\sum_j C_{i,j} X_{i,j}\n",
    "\\end{align}\n",
    "The goal is to find $\\hat{X}$ that maximizes $\\#\\text{correct}$. To solve for $X$ we're going to use `scipy`'s `linear_sum_assignment`\n",
    "([documentation](https://docs.scipy.org/doc/scipy/reference/generated/scipy.optimize.linear_sum_assignment.html)).\n",
    "\n",
    "- **1.7 [5 points]** Complete `evaluate_clustering` to return the accuracy of K-means using the optimal mapping $\\hat{X}$\n",
    "defined above."
   ]
  },
  {
   "cell_type": "code",
   "execution_count": null,
   "metadata": {
    "deletable": false,
    "nbgrader": {
     "cell_type": "code",
     "checksum": "c1ab376987d2bb1c46a7004a4c0f160a",
     "grade": true,
     "grade_id": "a1_7",
     "locked": false,
     "points": 5,
     "schema_version": 3,
     "solution": true,
     "task": false
    },
    "pycharm": {
     "name": "#%%\n"
    }
   },
   "outputs": [],
   "source": [
    "from scipy.optimize import linear_sum_assignment\n",
    "\n",
    "\n",
    "def evaluate_clustering(trained_model, X, labels):\n",
    "    \"\"\"\n",
    "    Compute the ratio of correct matches between clusters from the trained model and the true labels\n",
    "    :param trained_model: Unsupervised learning model that predicts clusters\n",
    "    :param X: samples array, shape (num_samples, num_features)\n",
    "    :param labels: true labels array, shape (num_samples,\n",
    "    :return:\n",
    "    \"\"\"\n",
    "    # We can assume that the number of clusters and the number of class labels are the same\n",
    "    clusters = trained_model.predict(X)\n",
    "    # Workspace 1.7\n",
    "    #BEGIN \n",
    "    # code here\n",
    "    #END\n",
    "    return accuracy"
   ]
  },
  {
   "cell_type": "markdown",
   "metadata": {
    "deletable": false,
    "editable": false,
    "nbgrader": {
     "cell_type": "markdown",
     "checksum": "f2b602e09c7b1bd6bae2d7582ad8aaa0",
     "grade": false,
     "grade_id": "q1_8",
     "locked": true,
     "schema_version": 3,
     "solution": false,
     "task": false
    },
    "pycharm": {
     "name": "#%% md\n"
    }
   },
   "source": [
    "- **1.8 [4 points]** Run K-means on the full `multi_blobs` for 20 times. Plot the histogram (`plt.hist`) of the clustering evaluation from `evaluate_clustering`. Also report the mean clustering performance"
   ]
  },
  {
   "cell_type": "code",
   "execution_count": null,
   "metadata": {
    "deletable": false,
    "nbgrader": {
     "cell_type": "code",
     "checksum": "c3c53c216f13313a101d9db67ae9f5ae",
     "grade": true,
     "grade_id": "a1_8",
     "locked": false,
     "points": 4,
     "schema_version": 3,
     "solution": true,
     "task": false
    },
    "pycharm": {
     "name": "#%%\n"
    }
   },
   "outputs": [],
   "source": [
    "%matplotlib inline\n",
    "accuracies = []\n",
    "# Workspace 1.8\n",
    "#BEGIN \n",
    "# code here\n",
    "#END"
   ]
  },
  {
   "cell_type": "markdown",
   "metadata": {
    "deletable": false,
    "editable": false,
    "nbgrader": {
     "cell_type": "markdown",
     "checksum": "84e0ee6c0976b08521f7e17c4c291dea",
     "grade": false,
     "grade_id": "q1_9",
     "locked": true,
     "schema_version": 3,
     "solution": false,
     "task": false
    }
   },
   "source": [
    "\n",
    "## K-means++ (Bonus)\n",
    "We have used a random centroid initialization in K-means. In K-means++, we initialize the centroids\n",
    "in a (slightly) smarter way, and it works as the following:\n",
    "- Choose the first centroid uniformly at random from the data samples\n",
    "- For the subsequent centroids:\n",
    "    - compute the distances $(d_i)$ between the data samples and the current centroids (distance between a sample and its nearest centroid)\n",
    "    - Pick a new centroid randomly with probability proportional to $d_i ^2$ (not $d_i$!).\n",
    "\n",
    "\n",
    "The rest of _K-means++_'s algorithm is exactly the same as _K-means_\n",
    "\n",
    "- **1.9 (Bonus question) [4 points]**  Complete the `initialize_centroids` of K-means++ class and report K-means++ performance in a similar way to 1.8. Which model is better?\n",
    "\n",
    " You do not have to implement other methods. `KMeansPP(Kmeans)` implies that `KMeansPP` will inherit all the methods of `Kmeans` unless we choose to _override_ them (redefinition).\n",
    "\n",
    "_Hint_: The weighted sampling can be done using `numpy`'s `choice` and its argument `p`. You do not have to worry about excluding the already picked centroids from the data. Once they're picked, their sampling weight should be equal to $0$. Make sure the probabilities sum to $1$.\n"
   ]
  },
  {
   "cell_type": "code",
   "execution_count": null,
   "metadata": {
    "deletable": false,
    "nbgrader": {
     "cell_type": "code",
     "checksum": "ca7e54f3d0a64b7dad031546be889952",
     "grade": true,
     "grade_id": "a1_9_1",
     "locked": false,
     "points": 0,
     "schema_version": 3,
     "solution": true,
     "task": false
    },
    "pycharm": {
     "name": "#%%\n"
    }
   },
   "outputs": [],
   "source": [
    "class KMeansPP(KMeans):\n",
    "\n",
    "    def initialize_centroids(self, X):\n",
    "        #Workspace 1.9.a\n",
    "        # Complete K-means++ centroid initialization. The first step (first centroid) is provided in the next line\n",
    "        # Hint: You can modify self.centroids and use self.compute_distances to avoid re-coding distances computations\n",
    "        centroids = X[np.random.choice(range(X.shape[0]), size=1)]\n",
    "        #BEGIN \n",
    "        # code here\n",
    "        #END\n",
    "        return centroids"
   ]
  },
  {
   "cell_type": "code",
   "execution_count": null,
   "metadata": {
    "pycharm": {
     "name": "#%%\n"
    }
   },
   "outputs": [],
   "source": [
    "%matplotlib notebook\n",
    "k_means_pp = KMeansPP(5)\n",
    "objective_history = k_means_pp.fit(multi_blobs.X)\n",
    "tests.show_progress(k_means_pp.snapshots)"
   ]
  },
  {
   "cell_type": "code",
   "execution_count": null,
   "metadata": {
    "deletable": false,
    "nbgrader": {
     "cell_type": "code",
     "checksum": "ec29f9221731a01e4e4b3ba2f57439d7",
     "grade": true,
     "grade_id": "a1_9_2",
     "locked": false,
     "points": 0,
     "schema_version": 3,
     "solution": true,
     "task": false
    },
    "pycharm": {
     "name": "#%%\n"
    }
   },
   "outputs": [],
   "source": [
    "%matplotlib inline\n",
    "accuracies = []\n",
    "# Workspace 1.9.b\n",
    "# Redo 1.8 using KMeansPP\n",
    "#BEGIN \n",
    "# code here\n",
    "#END"
   ]
  },
  {
   "cell_type": "markdown",
   "metadata": {},
   "source": [
    "### Workspace 1.9.c\n",
    "% Which model is better?\n",
    "\n",
    "% BEGIN\n",
    "\n",
    "% END"
   ]
  },
  {
   "cell_type": "markdown",
   "metadata": {
    "deletable": false,
    "editable": false,
    "nbgrader": {
     "cell_type": "markdown",
     "checksum": "357f2a925257653479afc7128d6785d1",
     "grade": false,
     "grade_id": "SVM_intro",
     "locked": true,
     "schema_version": 3,
     "solution": false,
     "task": false
    }
   },
   "source": [
    "# Problem 2: Classification using Support Vector Machines and Kernel Trick (25 points)\n",
    "\n",
    "We have seen during the class the dual form of the Support Vector Machine problem using a kernel $K$:\n",
    "\n",
    "\\begin{aligned}\n",
    " \\max_{\\alpha} \\Big[ \\sum_i^m \\alpha_i &- \\frac{1}{2} \\sum_{i,j}^m y^{(i)}y^{(j)} \\alpha_i \\alpha_j K(x^{(i)},x^{(j)}) \\Big]\n",
    "    \\\\\n",
    "      s.t. \\text{   } \\alpha_i &\\geq 0 \\\\\n",
    "      \\sum_i^m \\alpha_i y^{(i)} &= 0\n",
    "\\end{aligned}\n",
    "\n",
    "The simplest kernel $K$ is the linear kernel \n",
    "\\begin{align}\n",
    "K_{lin}(x^{(i)},x^{(j)}) = <x^{(i)}, x^{(j)}>\n",
    "\\end{align}\n",
    " with $<.,.>$ being the scalar product.\n",
    "\n",
    " We'll be also using the radial kernel $K_{rad}$:\n",
    "\\begin{align}\n",
    " K_{rad, \\gamma}(x^{(i)},x^{(j)})  = \\exp \\big[-\\gamma ||x^{(i)} - x^{(j)}||^2]\n",
    "\\end{align}\n",
    "And the polynomial kernel $K_{poly, c, p}$ with parameters $c$ (offset) and $p$ (degree).\n",
    "\\begin{align}\n",
    " K_{poly, c, p}(x^{(i)},x^{(j)})  = (<x^{(i)}, x^{(j)}> + c)^p\n",
    "\\end{align}\n",
    "\n",
    "- **2.1. [6 pts]** Complete the implementation of the three kernels defined above"
   ]
  },
  {
   "cell_type": "code",
   "execution_count": null,
   "metadata": {
    "deletable": false,
    "nbgrader": {
     "cell_type": "code",
     "checksum": "f7c34dd8635d91d306c5bb02a4889f78",
     "grade": true,
     "grade_id": "a2_1",
     "locked": false,
     "points": 6,
     "schema_version": 3,
     "solution": true,
     "task": false
    },
    "pycharm": {
     "name": "#%%\n"
    }
   },
   "outputs": [],
   "source": [
    "class LinearKernel(object):\n",
    "\n",
    "    def __init__(self, **kwargs):\n",
    "        pass\n",
    "    def compute_kernel(self, X1, X2):\n",
    "        \"\"\"\n",
    "        Compute the kernel matrix\n",
    "        @param X1: array of shape (m1, d)\n",
    "        @param X2: array of shape(m2, d)\n",
    "        @return: K of shape (m1, m2) where K[i,j] = <X1[i], X2[j]>\n",
    "        \"\"\"\n",
    "        # Workspace 2.1.a\n",
    "        K = np.zeros((X1.shape[0], X2.shape[0]))\n",
    "        #BEGIN \n",
    "        # code here\n",
    "        #END\n",
    "        return K\n",
    "\n",
    "\n",
    "class RadialKernel(object):\n",
    "\n",
    "    def __init__(self, gamma, **kwargs):\n",
    "        self.gamma = gamma\n",
    "\n",
    "    def compute_kernel(self, X1, X2):\n",
    "        \"\"\"\n",
    "        Compute the kernel matrix. Hint: computing the squared distances is similar to compute_distances in K-means\n",
    "        @param X1: array of shape (m1, d)\n",
    "        @param X2: array of shape(m2, d)\n",
    "        @return: K of shape (m1,m2) where K[i,j] = K_rad(X1[i],X2[j]) = exp(-gamma * ||X1[i] - X2[j]||^2)\n",
    "        \"\"\"\n",
    "        # Workspace 2.1.b\n",
    "        K = np.zeros((X1.shape[0], X2.shape[0]))\n",
    "        #BEGIN \n",
    "        # code here\n",
    "        #END\n",
    "        return K\n",
    "\n",
    "\n",
    "class PolynomialKernel(object):\n",
    "\n",
    "    def __init__(self, c, p, **kwargs):\n",
    "        self.c = c\n",
    "        self.p = p\n",
    "\n",
    "    def compute_kernel(self, X1, X2):\n",
    "        \"\"\"\n",
    "        Compute the kernel matrix.\n",
    "        @param X1: array of shape (m1, d)\n",
    "        @param X2: array of shape(m2, d)\n",
    "        @return: K of shape (m1,m2) where K[i,j] = (X1[i].X2[j] + c)^p\n",
    "        \"\"\"\n",
    "        # Workspace 2.1.b\n",
    "        K = np.zeros((X1.shape[0], X2.shape[0]))\n",
    "        #BEGIN \n",
    "        # code here\n",
    "        #END\n",
    "        return K"
   ]
  },
  {
   "cell_type": "markdown",
   "metadata": {
    "deletable": false,
    "editable": false,
    "nbgrader": {
     "cell_type": "markdown",
     "checksum": "3077c7ae65267526c1f8dd3c5cff93e4",
     "grade": false,
     "grade_id": "cvxopt",
     "locked": true,
     "schema_version": 3,
     "solution": false,
     "task": false
    }
   },
   "source": [
    "We add a ridge regularization of $\\alpha$ with coefficient $\\beta$, this time there is a minus $-$ since we're maximizing (so that $\\beta ||\\alpha||^2$ is minimized).\n",
    "\\begin{aligned}\n",
    " \\max_{\\alpha} \\Big[ \\sum_i^m \\alpha_i &- \\frac{1}{2} \\sum_{i,j}^m y^{(i)}y^{(j)} \\alpha_i \\alpha_j K(x^{(i)},x^{(j)}) - \\frac{\\beta}{2} ||\\alpha||^2 \\Big]\n",
    "    \\\\\n",
    "      s.t. \\text{   } \\alpha_i &\\geq 0 \\\\\n",
    "      \\sum_i^m \\alpha_i y^{(i)} &= 0\n",
    "\\end{aligned}\n",
    "\n",
    "\n",
    "Now we'll solve for $\\alpha$ of the dual form  using the quadratic solver from [`cvxopt` package](https://cvxopt.org/userguide/coneprog.html#quadratic-programming) (we're using version 1.3.0, it might affect the sanity checks if its different).\n",
    "To match the solver API, we need to rewrite the problem as:\n",
    "\n",
    "\\begin{aligned}\n",
    "    \\min \\frac{1}{2} x^TPx + q^Tx\n",
    "    \\\\\n",
    "     s.t. \\ Gx \\leq h\n",
    "    \\\\\n",
    "    \\ Ax = b\n",
    "\\end{aligned}\n",
    "\n",
    "So we'll define $P, q, G, h, A, b$  as:\n",
    "\n",
    "\\begin{align}\n",
    "\\mathrm{P}_{i,j} &= y^{(i)}y^{(j)} \\mathrm{K}(x^{(i)},x^{(j)}) + \\beta \\delta_{i,j} \\text{,  matrix $\\mathrm{P}$ is of shape $m\\times m$}\\\\\n",
    "q &= -\\overline{1} \\text{,  vector of size m where are elements = -1} \\\\\n",
    "\\mathrm{G} &= diag(-\\overline{1}) = -I_m\\text{, diagonal matrix of -1} \\\\\n",
    "h &= \\overline{0} \\text{,  vector of size m  where are elements = 0} \\\\\n",
    "\\mathrm{A} &= y \\text{, the labels array in \\{-1, 1\\}} \\\\\n",
    "b &= 0 \\text{, a scalar (not to confused with the intercept of SVM)}\n",
    "\\end{align}\n",
    "\n",
    "$\\delta_{i,j} = 1$ if $i=j$ and $0$ otherwise.\n",
    "\n",
    "Hint: We're basically computing $\\mathrm{P}$ so that $ \\mathrm{P}_{i,j} = y^{(i)}y^{(j)} \\mathrm{K}(x^{(i)},x^{(j)})$ and then we add $\\beta. \\mathrm I$ where $\\mathrm I$ is the identity matrix.\n",
    "\n",
    "- **2.2 [4 points]** Complete `quadratic_solver` by defining the different arrays $P, q, G, h, A$ and the scalar $b$. Make sure all arrays have the correct shape.\n"
   ]
  },
  {
   "cell_type": "code",
   "execution_count": null,
   "metadata": {
    "deletable": false,
    "nbgrader": {
     "cell_type": "code",
     "checksum": "2aa0302bdcfaddfefc3530b5b28274f4",
     "grade": true,
     "grade_id": "a2_2",
     "locked": false,
     "points": 4,
     "schema_version": 3,
     "solution": true,
     "task": false
    },
    "pycharm": {
     "name": "#%%\n"
    }
   },
   "outputs": [],
   "source": [
    "from cvxopt import matrix\n",
    "from cvxopt import solvers\n",
    "import numpy as np\n",
    "\n",
    "solvers.options['show_progress'] = False\n",
    "solvers.options['abstol'] = 1e-10\n",
    "solvers.options['reltol'] = 1e-10\n",
    "solvers.options['feastol'] = 1e-10\n",
    "\n",
    "\n",
    "def quadratic_solver(K, y, beta):\n",
    "    \"\"\"\n",
    "\n",
    "    :param K: Kernel matrix K of shape (m,m)\n",
    "    :param y: array of binary labels {-1, 1} of shape (m,)\n",
    "    :param beta: ridge regularization coefficient\n",
    "    :return: optimal alphas of shape (m,)\n",
    "    \"\"\"\n",
    "\n",
    "    # Workspace 2.2\n",
    "    m = K.shape[0]\n",
    "    #P = ? # shape (m,m)\n",
    "    #q = ? # shape(m,1)\n",
    "    #G = ? # shape(m,m)\n",
    "    #h = ? # shape (m,)\n",
    "    #A = ? # shape (1,m)\n",
    "    #b = ? # scalar\n",
    "    #BEGIN \n",
    "    # code here\n",
    "    #END\n",
    "    sol = solvers.qp(P=matrix(P.astype(float)),\n",
    "                     q=matrix(q.astype(float)),\n",
    "                     G=matrix(G.astype(float)),\n",
    "                     h=matrix(h.astype(float)),\n",
    "                     A=matrix(A.astype(float)),\n",
    "                     b=matrix(b))\n",
    "    alphas = np.array(sol['x'])\n",
    "    alphas = alphas * (np.abs(alphas) > 1e-8)  # zeroing out the small values\n",
    "    return alphas.reshape(-1)"
   ]
  },
  {
   "cell_type": "markdown",
   "metadata": {
    "deletable": false,
    "editable": false,
    "nbgrader": {
     "cell_type": "markdown",
     "checksum": "1a54a11ce9a29cdf01a08fc44999bc92",
     "grade": false,
     "grade_id": "svm_desc",
     "locked": true,
     "schema_version": 3,
     "solution": false,
     "task": false
    }
   },
   "source": [
    "Once we get the optimal $\\alpha$, then we can get the indices of the support vectors $S = \\{i | \\alpha_i >0 \\}$. The intercept $b$ is computed as:\n",
    "\n",
    "\\begin{align}\n",
    "b = \\frac{1}{|S|}\\sum_{m\\in S}\\big[ y^{(m)} - \\sum_{i\\in S} \\alpha_i  y^{(i)}K(x^{(i)}, x^{(m)})\\big]\n",
    "\\end{align}\n",
    "\n",
    "and the prediction for a point $x$ would be:\n",
    "\n",
    "\\begin{align}\n",
    "\\hat{y} = \\text{sign}\\big[\\sum_i y^{(i)}\\alpha_i K(x,x^{(i)}) + b \\big]\n",
    "\\end{align}\n",
    "\n",
    "(you can see that we only need the features to compute the kernel $K$ and everything else is done as a function of the kernel. That's the beauty of kernel methods!).\n",
    "\n",
    "- **2.3 [4 points]** Complete the `fit` method of SVM. _Hint_: Make sure to use the labels stored in `SVM.y` that have values (-1,1) instead of the (0,1) training labels\n",
    "\n",
    "- **2.4 [3 points]** Complete the `predict` method to return the predicted $\\{0,1\\}$ labels of the provided samples.\n"
   ]
  },
  {
   "cell_type": "code",
   "execution_count": null,
   "metadata": {
    "deletable": false,
    "nbgrader": {
     "cell_type": "code",
     "checksum": "ed443dae71d98cbd49186be9c5822c3f",
     "grade": true,
     "grade_id": "svm_code",
     "locked": false,
     "points": 7,
     "schema_version": 3,
     "solution": true,
     "task": false
    },
    "pycharm": {
     "name": "#%%\n"
    }
   },
   "outputs": [],
   "source": [
    "class SVM(object):\n",
    "\n",
    "    def __init__(self, kernel, beta=0.001):\n",
    "        self.kernel = kernel\n",
    "        self.X = None  # training features\n",
    "        self.y = None  # training labels\n",
    "        self.intercept = None\n",
    "        self.alphas = None\n",
    "        self.beta = beta  # ridge regularization coefficient\n",
    "\n",
    "    def fit(self, X, y):\n",
    "        \"\"\"\n",
    "        Transform y to (-1,1) and use self.kernel to compute K\n",
    "        Solve for alphas and compute the intercept using the provided expression\n",
    "        Keep track of X and y since you'll need them for the prediction\n",
    "        @param X: data points of shape (num_samples, num_features)\n",
    "        @param y: (0,1) labels of shape (num_samples,)\n",
    "        @return: self\n",
    "        \"\"\"\n",
    "        # Workspace 2.3\n",
    "        self.X = X\n",
    "        self.y = 2 * y - 1  # transforms 0,1 to -1, 1\n",
    "        #BEGIN \n",
    "        # code here\n",
    "        #END\n",
    "        return self\n",
    "\n",
    "    def predict(self, X):\n",
    "        \"\"\"\n",
    "        Predict the labels of points in X\n",
    "        @param X: samples array of shape (num_samples, num_features)\n",
    "        @return: predicted 0-1 labels of shape (m,)\n",
    "        \"\"\"\n",
    "        # Workspace 2.4\n",
    "        predicted_labels = np.zeros((X.shape[0],))\n",
    "        #BEGIN \n",
    "        # code here\n",
    "        #END\n",
    "        return predicted_labels"
   ]
  },
  {
   "cell_type": "markdown",
   "metadata": {
    "deletable": false,
    "editable": false,
    "nbgrader": {
     "cell_type": "markdown",
     "checksum": "72c7d30255a3d3716050982f37bb532e",
     "grade": false,
     "grade_id": "q2_5",
     "locked": true,
     "schema_version": 3,
     "solution": false,
     "task": false
    }
   },
   "source": [
    "We provide below an example of the expected plots for this problem using the linear kernel. \n",
    "\n",
    "- **2.5 [2 points]** Edit the cell to report the accuracy on the test sets for each of the two datasets visualized in the plots. How do you explain the obtained accuracies?"
   ]
  },
  {
   "cell_type": "code",
   "execution_count": null,
   "metadata": {
    "deletable": false,
    "nbgrader": {
     "cell_type": "code",
     "checksum": "607d1045e1990bdff5ed846664121a7d",
     "grade": true,
     "grade_id": "a2_5_1",
     "locked": false,
     "points": 2,
     "schema_version": 3,
     "solution": true,
     "task": false
    },
    "pycharm": {
     "name": "#%%\n"
    }
   },
   "outputs": [],
   "source": [
    "%matplotlib inline\n",
    "fig, axs = plt.subplots(1, 2)\n",
    "fig.set_figheight(6), fig.set_figwidth(12)\n",
    "svm_linear = SVM(LinearKernel())\n",
    "# Workspace 2.5.a\n",
    "for i, dataset in enumerate([binary_blobs, circles]):\n",
    "    svm_linear.fit(dataset.X_train, dataset.y_train)\n",
    "    tests.show_decision_surface(svm_linear, dataset.X, dataset.labels, axs[i])\n",
    "    # Compute and print the accuracy, you can use axs[i].set_title to show it on the plot\n",
    "    #BEGIN \n",
    "    # code here\n",
    "    #END\n",
    "plt.show()"
   ]
  },
  {
   "cell_type": "markdown",
   "metadata": {},
   "source": [
    "### Workspace 2.5.b\n",
    "% Explain the observed performance\n",
    "\n",
    "%BEGIN\n",
    "\n",
    "%END"
   ]
  },
  {
   "cell_type": "markdown",
   "metadata": {
    "deletable": false,
    "editable": false,
    "nbgrader": {
     "cell_type": "markdown",
     "checksum": "d93e8991d06301ebc87c68be54fd2a31",
     "grade": false,
     "grade_id": "q2_6",
     "locked": true,
     "schema_version": 3,
     "solution": false,
     "task": false
    }
   },
   "source": [
    "- **2.6 [3 points]** Plot and report SVM performance on the same datasets as in 2.5 using the radial kernel with $\\gamma=2.0$. Describe the model performance and compare it to the linear kernel."
   ]
  },
  {
   "cell_type": "code",
   "execution_count": null,
   "metadata": {
    "deletable": false,
    "nbgrader": {
     "cell_type": "code",
     "checksum": "6e86e69fe805619f39cf2a0220d7ddfe",
     "grade": true,
     "grade_id": "a2_6_1",
     "locked": false,
     "points": 3,
     "schema_version": 3,
     "solution": true,
     "task": false
    },
    "pycharm": {
     "name": "#%%\n"
    }
   },
   "outputs": [],
   "source": [
    "%matplotlib inline\n",
    "fig, axs = plt.subplots(1, 2)\n",
    "fig.set_figheight(6), fig.set_figwidth(12)\n",
    "#Workspace 2.6.a\n",
    "#BEGIN \n",
    "# code here\n",
    "#END"
   ]
  },
  {
   "cell_type": "markdown",
   "metadata": {},
   "source": [
    "### Workspace 2.6.b\n",
    "% Explain the observed performance\n",
    "\n",
    "%BEGIN\n",
    "\n",
    "%END"
   ]
  },
  {
   "cell_type": "markdown",
   "metadata": {
    "deletable": false,
    "editable": false,
    "nbgrader": {
     "cell_type": "markdown",
     "checksum": "fa08e8566afbe9abafd02bc917a5d017",
     "grade": false,
     "grade_id": "q2_7",
     "locked": true,
     "schema_version": 3,
     "solution": false,
     "task": false
    }
   },
   "source": [
    "- **2.7 [3 points]** Plot and report SVM performance on the same datasets as in 2.5 using the polynomial kernel with $(c,p) = (1,5)$. Describe the model performance and compare it to the two previous kernels"
   ]
  },
  {
   "cell_type": "code",
   "execution_count": null,
   "metadata": {
    "deletable": false,
    "nbgrader": {
     "cell_type": "code",
     "checksum": "f87201ef3cd3b0308bdf192df6f37395",
     "grade": true,
     "grade_id": "a2_7_1",
     "locked": false,
     "points": 3,
     "schema_version": 3,
     "solution": true,
     "task": false
    },
    "pycharm": {
     "name": "#%%\n"
    }
   },
   "outputs": [],
   "source": [
    "%matplotlib inline\n",
    "fig, axs = plt.subplots(1, 2)\n",
    "fig.set_figheight(6), fig.set_figwidth(12)\n",
    "#Workspace 2.7.a\n",
    "#BEGIN \n",
    "# code here\n",
    "#END"
   ]
  },
  {
   "cell_type": "markdown",
   "metadata": {},
   "source": [
    "### Workspace 2.7.b\n",
    "% Explain the observed performance\n",
    "\n",
    "%BEGIN\n",
    "\n",
    "%END"
   ]
  },
  {
   "attachments": {
    "network.png": {
     "image/png": "[encoded data removed]"
    }
   },
   "cell_type": "markdown",
   "metadata": {
    "deletable": false,
    "editable": false,
    "nbgrader": {
     "cell_type": "markdown",
     "checksum": "af26a3b96b7614769a6d6e9f0dc33871",
     "grade": false,
     "grade_id": "deep_intro",
     "locked": true,
     "schema_version": 3,
     "solution": false,
     "task": false
    },
    "pycharm": {
     "name": "#%% md\n"
    }
   },
   "source": [
    "# Problem 3: Neural Networks (45 points)\n",
    "\n",
    "\n",
    "In this final problem, we'll be implementing our own Neural Networks framework and use it to build a Multi-Layer Perceptron.\n",
    "The MLP is a sequence of linear projections and activation functions, each of which will be implemented as a layer.\n",
    "\n",
    "Each layer will have its own parameters (none for the activations), a `forward` method that applies the transformation,\n",
    "and a `backward` method that back-propagates the gradient and computes the parameters gradients.\n",
    "\n",
    "![network.png](attachment:network.png)\n",
    "To understand how the mechanism works, let's consider the neural network that consists of one layer $f_\\theta:  \\mathbb{R}^d \\mapsto \\mathbb{R}^q$ where the parameter is optimized to minimize the loss $L$.\n",
    "\n",
    "Our dataset consists of samples $(x_i)$ with $d$ features and a q-dimensional targets $(y_i)$. $f_\\theta$ transforms  $(x_i)$ into $(z_i)$. We'll be using the Mean Squared Error (MSE) for the loss function $L$.\n",
    "\n",
    "The neural network will have two passes:\n",
    " - forward pass where we transform the input into output,\n",
    " - and backward pass where we backpropagates the gradient and compute the gradient of the loss w.r.t to parameters.\n",
    " \n",
    "Note that the gradient computation might require saving the input data from the forward pass since we won't be providing any data during the backward pass. We'll deal with that later.\n",
    "\n",
    "Now, let's start from the layer $f_\\theta: \\mathbb{R}^d \\mapsto \\mathbb{R}^q$, with parameter $\\theta$.\n",
    "\n",
    "In order to compute the gradient for $\\theta$, we first need the derivative of the loss w.r.t the layer's output $\\frac{\\partial L}{\\partial z}$\n",
    "\n",
    "We'll only deal with MSE loss defined as:\n",
    "\\begin{align}\n",
    "MSE(y, z) = \\frac{1}{m} \\sum_{i=1}^{m} ||f_\\psi(x_i) - y_i ||^2\n",
    "\\end{align}\n",
    ", where $m$ is the sample size and $z_i = f_\\theta(x_i)$.\n",
    "\n",
    "The gradient of the loss w.r.t to its input $z$:\n",
    "\n",
    "\\begin{align}\n",
    " \\frac{\\partial MSE(y, z)}{\\partial z}  = \\frac{2}{m} (z - y)\n",
    "\\end{align}\n",
    "\n",
    "- **3.1 [2 points]** Complete `MSE`'s `forward` method that returns the MSE between `y_pred` and `y_true`\n",
    "- **3.2 [3 points]** Complete `MSE`'s `backward` method that returns the derivative w.r.t to the input `z`.\n",
    "\n",
    "_Hint_: Notice that no argument is provided for the loss backward pass. You'll have to cache `y_pred` and `y_true` into your object-level `saved_arrays` variable during the `forward` call"
   ]
  },
  {
   "cell_type": "code",
   "execution_count": null,
   "metadata": {
    "deletable": false,
    "nbgrader": {
     "cell_type": "code",
     "checksum": "d2b7087fa8a52a22eb5f4708f97d317f",
     "grade": true,
     "grade_id": "mse_code",
     "locked": false,
     "points": 5,
     "schema_version": 3,
     "solution": true,
     "task": false
    },
    "pycharm": {
     "name": "#%%\n"
    }
   },
   "outputs": [],
   "source": [
    "class MSE:\n",
    "    saved_arrays = []\n",
    "\n",
    "    def forward(self, y_pred, y_true):\n",
    "        \"\"\"\n",
    "        Compute the MSE loss\n",
    "        @param y_pred: shape (m,q)\n",
    "        @param y_true: shape (m,q)\n",
    "        @return: scalar\n",
    "        \"\"\"\n",
    "        # Workspace 3.1\n",
    "        mse = 0\n",
    "        #BEGIN \n",
    "        # code here\n",
    "        #END\n",
    "        return mse\n",
    "\n",
    "    def backward(self):\n",
    "        \"\"\"\n",
    "        Compute the gradient w.r.t to the prediction y_pred\n",
    "        You'll have to cache the necessary quantities into your object-level \n",
    "            `saved_arrays` variable during the forward pass\n",
    "        @return: shape (m,q)\n",
    "        \"\"\"\n",
    "        # Workspace 3.2\n",
    "        grad_input = None\n",
    "        #BEGIN \n",
    "        # code here\n",
    "        #END\n",
    "        return grad_input"
   ]
  },
  {
   "cell_type": "code",
   "execution_count": null,
   "metadata": {},
   "outputs": [],
   "source": [
    "# Testing MSE\n",
    "mock_X = np.array([[-0.4838731, 0.08083195], [0.93456167, -0.50316134]])\n",
    "expected_mse = 0.17090547876852463\n",
    "expected_grad = np.array([[-0.24193655, 0.04041597], [0.46728084, -0.25158067]])\n",
    "mse = MSE()\n",
    "assert np.isclose(mse.forward(mock_X, mock_X / 2), expected_mse)\n",
    "assert np.alltrue(np.isclose(mse.backward(), expected_grad))\n"
   ]
  },
  {
   "cell_type": "markdown",
   "metadata": {
    "deletable": false,
    "editable": false,
    "nbgrader": {
     "cell_type": "markdown",
     "checksum": "4201d32335d43a203ed02677a1a4b2f5",
     "grade": false,
     "grade_id": "gradients",
     "locked": true,
     "schema_version": 3,
     "solution": false,
     "task": false
    }
   },
   "source": [
    "Now that we have the `grad_input` of `MSE`,  it's going to be `grad_output` from the perspective of the layer $f_\\theta$.\n",
    "- `grad_output` of layer $f_\\theta$ is the derivative of the loss w.r.t to the layer's output (which is the next layer's input)\n",
    "- `grad_input` of layer $f_\\theta$ is the derivative of the loss w.r.t the layer's input\n",
    "\n",
    "The `forward` method of a layer applies the transformation and keeps track of any relevant quantity for the gradient backpropagation.\n",
    "\n",
    "The `backward` method is expected to return the gradient of the loss w.r.t to the layer's input using the chain rule.\n",
    "\n",
    "In our implementation, we want to compute in each layer $f_\\theta$:\n",
    "- $\\frac{\\partial L }{\\partial \\theta} = \\frac{\\partial L }{\\partial z} \\frac{\\partial z }{\\partial \\theta}$ is the `parameter.gradient` (if any)\n",
    "- $\\frac{\\partial L }{\\partial x} = \\frac{\\partial L}{\\partial z} \\frac{\\partial f_\\theta(x)}{\\partial x}$, the the `grad_input` of layer $f$ and return it\n",
    "\n",
    "The backward pass consists of sequentially doing what we've just mentioned for $f_\\theta$\n",
    "\n",
    "1. get the initial `grad_output` from loss layer (top layer)\n",
    "2. In reverse order:\n",
    "    - pass current `grad_output` to the next layer's backward\n",
    "    - inside the layer's backward: compute `grad_input` and `parameter.gradient` (if there are any parameters)\n",
    "    - `grad_output` <- `grad_input`\n",
    "    - repeat 2\n",
    "3. Loop through the parameters and apply the gradient\n",
    "\n",
    "We'll apply this to our first layers: `sigmoid` and `ReLU`.\n",
    "We don't have to worry about `parameter.gradient` since they don't have any parameters.\n",
    "\n",
    "- **3.3 [5 points]** Complete the Sigmoid activation layer. `forward` method applies the activation and `backward` should use the\n",
    "chain rule to compute `grad_input` of the layer. You'll need to save the activation values to use them in `backward` call, for that you should use `self.saved_arrays` to cache them.\n",
    "\n",
    "- **3.4 [5 points]** In a similar way, complete the ReLU activation layer. Note that $\\frac{\\partial \\text{ReLU}(x)}{\\partial x} = 1_{x\\geq 0}$."
   ]
  },
  {
   "cell_type": "code",
   "execution_count": null,
   "metadata": {
    "deletable": false,
    "nbgrader": {
     "cell_type": "code",
     "checksum": "e2e021237b180a2331934e8357ce3ab1",
     "grade": true,
     "grade_id": "activations_code",
     "locked": false,
     "points": 10,
     "schema_version": 3,
     "solution": true,
     "task": false
    },
    "pycharm": {
     "name": "#%%\n"
    }
   },
   "outputs": [],
   "source": [
    "import numpy as np\n",
    "\n",
    "\n",
    "class Layer(object):\n",
    "    \"\"\"\n",
    "    Template Layer that will be used to implement all other layers\n",
    "    \"\"\"\n",
    "\n",
    "    def __init__(self, name=\"\"):\n",
    "        self.saved_arrays = []  # You might need them for the backward pass\n",
    "        self.parameters = []\n",
    "        self.name = name  # to identify the layer\n",
    "\n",
    "    def forward(self, x):\n",
    "        \"\"\"\n",
    "        In the forward pass we receive an array containing the input and return an array containing the output.\n",
    "        You can cache arbitrary objects for use in the backward pass in self.saved_arrays\n",
    "        @param x: input array of size (batch_size, d)\n",
    "        @return: output array\n",
    "        \"\"\"\n",
    "        pass\n",
    "\n",
    "    def backward(self, grad_output):\n",
    "        \"\"\"\n",
    "        In the backward pass we receive an array containing the gradient of the loss with respect to the output,\n",
    "        and we need to compute the gradient of the loss with respect to the input and the gradient of the weights (default as 0)\n",
    "        @param grad_output:\n",
    "        @return: grad\n",
    "        \"\"\"\n",
    "        pass\n",
    "\n",
    "\n",
    "class Sigmoid(Layer):\n",
    "\n",
    "    def forward(self, x):\n",
    "        \"\"\"\n",
    "        Apply the sigmoid function to x. Don't forget to clip x to the interval [-25.0, 25.]\n",
    "         before applying the activation\n",
    "        @param x: input array of shape (batch_size, q)\n",
    "        @return: element-size sigmoid of shape (batch_size, q)\n",
    "        \"\"\"\n",
    "        sigmoid = np.zeros_like(x)\n",
    "        # Workspace 3.3.a\n",
    "        #BEGIN \n",
    "        # code here\n",
    "        #END\n",
    "        return sigmoid\n",
    "\n",
    "    def backward(self, grad_output):\n",
    "        \"\"\"\n",
    "        Compute the grad_input and grad_parameters. Activations don't have parameters\n",
    "        @param grad_output: input array of shape (batch_size, q)\n",
    "        @return: grad_input of shape (batch_size, q)\n",
    "        \"\"\"\n",
    "        grad_parameters = 0\n",
    "        grad_input = 0\n",
    "\n",
    "        # Workspace 3.3.b\n",
    "        #BEGIN \n",
    "        # code here\n",
    "        #END\n",
    "        return grad_input\n",
    "\n",
    "\n",
    "class ReLU(Layer):\n",
    "\n",
    "    def forward(self, x):\n",
    "        \"\"\"\n",
    "        Apply the ReLU function to x.\n",
    "        @param x: input array of shape (batch_size, q)\n",
    "        @return: element-size ReLU of shape (batch_size, q)\n",
    "        \"\"\"\n",
    "        relu = 0\n",
    "        # Workspace 3.4.a\n",
    "        #BEGIN \n",
    "        # code here\n",
    "        #END\n",
    "        return relu\n",
    "\n",
    "    def backward(self, grad_output):\n",
    "        \"\"\"\n",
    "        Compute the grad_input and grad_parameters. Activations don't have parameters\n",
    "        @param grad_output: input array of shape (batch_size, q)\n",
    "        @return:grad_input: of shape (batch_size, q)\n",
    "        \"\"\"\n",
    "        grad_input = 0\n",
    "        grad_parameters = 0\n",
    "        # Workspace 3.4.b\n",
    "        #BEGIN \n",
    "        # code here\n",
    "        #END\n",
    "        return grad_input"
   ]
  },
  {
   "cell_type": "code",
   "execution_count": null,
   "metadata": {},
   "outputs": [],
   "source": [
    "# Sigmoid Tests\n",
    "mock_X = np.array([[-0.4838731, 0.08083195], [0.93456167, -0.50316134]])\n",
    "grad_output = np.array([[0.19960269, 0.20993069], [-0.85814751, -0.41418101]])\n",
    "sig_x = np.array([[0.38133797, 0.52019699], [0.71799983, 0.37679803]])\n",
    "grad_sig_x = np.array([[0.04709013, 0.05239704], [-0.17375434, -0.09725851]])\n",
    "sigmoid = Sigmoid()\n",
    "assert np.alltrue(np.isclose(sigmoid.forward(mock_X), sig_x))\n",
    "assert np.alltrue(np.isclose(sigmoid.backward(grad_output), grad_sig_x))"
   ]
  },
  {
   "cell_type": "code",
   "execution_count": null,
   "metadata": {},
   "outputs": [],
   "source": [
    "# ReLU Tests\n",
    "relu_x = np.array([[-0., 0.08083195], [0.93456167, -0.]])\n",
    "grad_relu_x = np.array([[0., 0.20993069], [-0.85814751, -0.]])\n",
    "relu = ReLU()\n",
    "assert np.alltrue(np.isclose(relu.forward(mock_X), relu_x))\n",
    "assert np.alltrue(np.isclose(relu.backward(grad_output), grad_relu_x))"
   ]
  },
  {
   "cell_type": "markdown",
   "metadata": {
    "pycharm": {
     "name": "#%% md\n"
    }
   },
   "source": [
    "Now we'll move to the exciting part. We'll implement our own _dense_ (linear) layer that has two parameters $\\theta=(w,b)$,\n",
    "with $w$ being the weights array and $b$ the bias.\n",
    "This layer $f_\\theta$ projects a $d$ dimensional input into an $q$ dimensional space as follows:\n",
    "\n",
    "\\begin{align}\n",
    "f_\\theta(x) = xw + b\n",
    "\\end{align}\n",
    "\n",
    "and its derivatives are:\n",
    "\n",
    "\\begin{align}\n",
    "\\frac{\\partial f_\\theta}{\\partial x} &= w \\\\\n",
    "\\frac{\\partial f_\\theta}{\\partial w} &= x^T \\\\\n",
    "\\frac{\\partial f_\\theta}{\\partial b} &= 1_m\n",
    "\\end{align}\n",
    "\n",
    "where $1_q$ is the ones vector with the same dimension as $b$\n",
    "\n",
    "\n",
    "To help you keep track of the gradient, we will be wrapping the parameters numpy arrays using the `Parameter` class.\n",
    "`Parameter` instances are an extension of numpy arrays, but they have additional:\n",
    " - attribute `gradient`: initialized with zeros and has the same shape as the array\n",
    " - method `zero_gradient`: resets the gradient values to zero\n",
    " - method `apply_gradient(grad)`: adds `grad` to the array\n",
    " - optional attribute `name`: This is going to be useful when implementing the bonus `Adam` optimizer\n",
    "\n",
    "_Hint_: At this level, our implementation imitates Pytorch"
   ]
  },
  {
   "cell_type": "code",
   "execution_count": null,
   "metadata": {
    "deletable": false,
    "editable": false,
    "nbgrader": {
     "cell_type": "code",
     "checksum": "833cbafd619836abcf00b9ae8e005baa",
     "grade": false,
     "grade_id": "parameter_class",
     "locked": true,
     "schema_version": 3,
     "solution": false,
     "task": false
    },
    "pycharm": {
     "name": "#%%\n"
    }
   },
   "outputs": [],
   "source": [
    "class Parameter(np.ndarray):\n",
    "    def __new__(cls, input_array, name=\"\"):\n",
    "        array = np.asarray(input_array).view(cls)\n",
    "        array.gradient = np.zeros(array.shape)\n",
    "        array.name = name\n",
    "        return array\n",
    "\n",
    "    def __array_finalize__(self, array):\n",
    "        if array is None: return\n",
    "        self.gradient = getattr(array, \"gradient\", None)\n",
    "        self.name = getattr(array, \"name\", None)\n",
    "\n",
    "    def zero_gradient(self):\n",
    "        self.gradient = self.gradient * 0.0\n",
    "\n",
    "    def apply_gradient(self, grad):\n",
    "        self[:] = self[:] + grad[:]\n"
   ]
  },
  {
   "cell_type": "code",
   "execution_count": null,
   "metadata": {
    "pycharm": {
     "name": "#%%\n"
    }
   },
   "outputs": [],
   "source": [
    "# demo on how to use Parameter\n",
    "w = Parameter(np.ones(3, ), name=\"W_0\")\n",
    "print(\"Initial w:\", w, id(w))  # object memory identifier, same id = same object\n",
    "print(\"Name of w:\", w.name)\n",
    "print(\"Initial gradient:\", w.gradient)\n",
    "w.gradient = np.array([0.1, 0.2, 0.3])\n",
    "print(\"Gradient:\", w.gradient)\n",
    "w.apply_gradient(-0.2*w.gradient) # learning rate 0.2\n",
    "w.zero_gradient()\n",
    "print(\"Final w:\", w, id(w))\n",
    "print(\"Final gradient:\", w.gradient)"
   ]
  },
  {
   "cell_type": "markdown",
   "metadata": {
    "deletable": false,
    "editable": false,
    "nbgrader": {
     "cell_type": "markdown",
     "checksum": "b5964cab26f5285fc4f2cca2861088e3",
     "grade": false,
     "grade_id": "q35",
     "locked": true,
     "schema_version": 3,
     "solution": false,
     "task": false
    },
    "pycharm": {
     "name": "#%% md\n"
    }
   },
   "source": [
    "- **3.5 [6 points]** Complete the `Dense` layer"
   ]
  },
  {
   "cell_type": "code",
   "execution_count": null,
   "metadata": {
    "deletable": false,
    "nbgrader": {
     "cell_type": "code",
     "checksum": "791a15cb876dfe38ca0db8d51fb24af3",
     "grade": true,
     "grade_id": "a3_5",
     "locked": false,
     "points": 6,
     "schema_version": 3,
     "solution": true,
     "task": false
    },
    "pycharm": {
     "name": "#%%\n"
    }
   },
   "outputs": [],
   "source": [
    "class Dense(Layer):\n",
    "\n",
    "    def __init__(self, input_dimension, output_dimension, name=\"\"):\n",
    "        \"\"\"\n",
    "        Initialize the layer's parameters\n",
    "        :param input_dimension: The dimension of the input data\n",
    "        :param output_dimension: the dimension of the output\n",
    "        :param name: optional, name to identify the layer\n",
    "        \"\"\"\n",
    "        super().__init__(name)\n",
    "        # Do not change the initialization method\n",
    "        self.bias = Parameter(np.random.randn(1, output_dimension) / output_dimension ** 0.5)\n",
    "        self.weights = Parameter(np.random.randn(input_dimension, output_dimension) /\n",
    "                                 (output_dimension * input_dimension) ** 0.5)\n",
    "        self.parameters = [self.bias, self.weights]\n",
    "\n",
    "    def forward(self, x):\n",
    "        \"\"\"\n",
    "        Apply the linear projection and save the necessary objects for the backward pass\n",
    "        @param x of shape (m, input_dimension)\n",
    "        @param z = xw + b of shape (m, output_dimension)\n",
    "        \"\"\"\n",
    "        output = 0\n",
    "        # Workspace 3.5.a\n",
    "        #BEGIN \n",
    "        # code here\n",
    "        #END\n",
    "        return output\n",
    "\n",
    "    def backward(self, grad_output):\n",
    "        \"\"\"\n",
    "        Compute the gradients using the aforementioned formulas. Do not change the return signature\n",
    "        Update the parameters gradient attribute directly\n",
    "        @param grad_output: shape (m, output_dimension)\n",
    "        @return: grad_input of shape (m, input_dimension)\n",
    "        \"\"\"\n",
    "        self.weights.zero_gradient()\n",
    "        self.bias.zero_gradient()\n",
    "        # Workspace 3.5.b\n",
    "        #BEGIN \n",
    "        # code here\n",
    "        #END\n",
    "        return grad_input\n"
   ]
  },
  {
   "cell_type": "code",
   "execution_count": null,
   "metadata": {},
   "outputs": [],
   "source": [
    "# Dense layer test\n",
    "mock_X = np.array([[-0.4838731, 0.08083195], [0.93456167, -0.50316134]])\n",
    "np.random.seed(42)\n",
    "dense = Dense(2, 2)\n",
    "dense.forward(mock_X)\n",
    "gradient_input = dense.backward(grad_output)\n",
    "dense_x = np.array([[0.18506688, -0.47570709], [0.71279085, 0.67281937]])\n",
    "grad_dense_x = np.array([[0.22450554, -0.04794509], [-0.59331118, 0.14895661]])\n",
    "grad_dense_weights = np.array([[-0.89857414, -0.48865751], [0.44792093, 0.22536898]])\n",
    "grad_dense_bias = np.array([[-0.65854482, -0.20425032]])\n",
    "assert np.alltrue(np.isclose(dense_x, dense.forward(mock_X)))\n",
    "assert np.alltrue(np.isclose(grad_dense_x, gradient_input))\n",
    "assert np.alltrue(np.isclose(grad_dense_weights, dense.weights.gradient))\n",
    "assert np.alltrue(np.isclose(grad_dense_bias, dense.bias.gradient))"
   ]
  },
  {
   "cell_type": "markdown",
   "metadata": {
    "deletable": false,
    "editable": false,
    "nbgrader": {
     "cell_type": "markdown",
     "checksum": "aac3947fdf9a77ccb04a49ee9ab494df",
     "grade": false,
     "grade_id": "q3_6",
     "locked": true,
     "schema_version": 3,
     "solution": false,
     "task": false
    }
   },
   "source": [
    "Now that we implemented the layers, we need 2 more ingredients:\n",
    "   - Optimizer: to manage how to update the layers parameters using the computed gradients\n",
    "   - Network: to store our stack of layers and manage the forward and backward passes\n",
    "\n",
    "<br>\n",
    "\n",
    "- **3.6 [4 points]** Complete the `SGD` class following the details provided in the docstring"
   ]
  },
  {
   "cell_type": "code",
   "execution_count": null,
   "metadata": {
    "deletable": false,
    "nbgrader": {
     "cell_type": "code",
     "checksum": "3f77f4e761733948fae2b0a3f8b8123d",
     "grade": true,
     "grade_id": "a3_6",
     "locked": false,
     "points": 4,
     "schema_version": 3,
     "solution": true,
     "task": false
    },
    "pycharm": {
     "name": "#%%\n"
    }
   },
   "outputs": [],
   "source": [
    "class SGD(object):\n",
    "\n",
    "    def __init__(self, learning_rate):\n",
    "        self.learning_rate = learning_rate\n",
    "        self.layers = None\n",
    "\n",
    "    def set_layers(self, layers):\n",
    "        \"\"\"\n",
    "        Saves the layers stack\n",
    "        @param layers: list of Layer instances (the same stack stored in the network)\n",
    "        @return: None\n",
    "        \"\"\"\n",
    "        self.layers = layers\n",
    "\n",
    "    def apply_gradients(self):\n",
    "        \"\"\"\n",
    "        Multiply the gradients by the learning_rate before applying then to the layers' parameters\n",
    "        It's good practive to zero out the parameter gradient after the update\n",
    "        @return: None\n",
    "        \"\"\"\n",
    "        # Workspace 3.6\n",
    "        #BEGIN \n",
    "        # code here\n",
    "        #END\n"
   ]
  },
  {
   "cell_type": "markdown",
   "metadata": {
    "deletable": false,
    "editable": false,
    "nbgrader": {
     "cell_type": "markdown",
     "checksum": "38d4175ec83bc8707c9b2fefa96c92a1",
     "grade": false,
     "grade_id": "q3_7",
     "locked": true,
     "schema_version": 3,
     "solution": false,
     "task": false
    }
   },
   "source": [
    "- **3.7 [9 points]** Complete the `forward` and `backward` methods of the `Network` class\n",
    "\n",
    "We're providing the rest of the methods as a sanity check for the previous questions.\n",
    "The network forward and backward pass should work without raising an error"
   ]
  },
  {
   "cell_type": "code",
   "execution_count": null,
   "metadata": {
    "deletable": false,
    "nbgrader": {
     "cell_type": "code",
     "checksum": "7d3d050672ba99c805efd2ea94750f0b",
     "grade": true,
     "grade_id": "a3_7",
     "locked": false,
     "points": 9,
     "schema_version": 3,
     "solution": true,
     "task": false
    },
    "pycharm": {
     "name": "#%%\n"
    }
   },
   "outputs": [],
   "source": [
    "class Network(object):\n",
    "\n",
    "    def __init__(self, optimizer, loss):\n",
    "        self.optimizer = optimizer\n",
    "        self.loss = loss\n",
    "        self.layers = []\n",
    "        self.optimizer.set_layers(self.layers)\n",
    "\n",
    "    def add_layer(self, layer):\n",
    "        self.layers.append(layer)\n",
    "\n",
    "    def predict(self, x):\n",
    "        return self.forward(x)\n",
    "\n",
    "    def forward(self, x):\n",
    "        \"\"\"\n",
    "        Given input x, apply the self.layers in the natural order and return the output\n",
    "        @param x: shape (m,d)\n",
    "        @return: array of shape (m,p) where p is the output dimension of the last linear layer\n",
    "        \"\"\"\n",
    "        output = x\n",
    "        # Workspace 3.7.a\n",
    "        #BEGIN \n",
    "        # code here\n",
    "        #END\n",
    "        return output\n",
    "\n",
    "    def backward(self):\n",
    "        \"\"\"\n",
    "        Perform the backward pass, starts with the loss to get the first grad_output\n",
    "        Loop through the layers in backward pass by providing the grad_output\n",
    "        Warning: should only be called after a forward call\n",
    "        @return: None\n",
    "        \"\"\"\n",
    "        grad_output = self.loss.backward()\n",
    "        # Workspace 3.7.b\n",
    "        #BEGIN \n",
    "        # code here\n",
    "        #END\n",
    "\n",
    "\n",
    "    def fit_batch(self, batch_x, batch_y):\n",
    "        \"\"\"\n",
    "        Perform single batch fit.\n",
    "        First, forward pass using batch_x\n",
    "        Compute the loss using the output and batch_y\n",
    "        Then call self.backward and self.optimzer to apply the gradient\n",
    "        @param x: input sample of shape (batch_size, m)\n",
    "        @param y: target array of shape (batch_size, 1)\n",
    "        @return: Loss value\n",
    "        \"\"\"\n",
    "        # Workspace 3.7.c\n",
    "        \n",
    "        output = self.forward(batch_x)\n",
    "        loss = 0\n",
    "        #BEGIN \n",
    "        # code here\n",
    "        #END\n",
    "        return loss\n",
    "\n",
    "    def fit(self, X, y, batch_size=32, epochs=1, shuffle=True):\n",
    "        \"\"\"\n",
    "        Multiple fit passes over the data\n",
    "        \n",
    "        @param x: input sample of shape (batch_size, m)\n",
    "        @param y: target array of shape (batch_size, 1)\n",
    "        @return: Loss value\n",
    "        \"\"\"\n",
    "        permutation = np.arange(X.shape[0])\n",
    "        losses = []\n",
    "        for _ in range(epochs):\n",
    "            n_batches = 0\n",
    "            loss = 0.0\n",
    "            if shuffle:\n",
    "                np.random.shuffle(permutation)\n",
    "            for start_idx in range(0, permutation.shape[0], batch_size):\n",
    "                batch_idxs = permutation[start_idx:start_idx+batch_size]\n",
    "                batch_x = X[batch_idxs]\n",
    "                batch_y = y[batch_idxs]\n",
    "                loss += self.fit_batch(batch_x, batch_y)\n",
    "                n_batches += 1\n",
    "            losses.append(loss/n_batches)\n",
    "        return losses"
   ]
  },
  {
   "cell_type": "code",
   "execution_count": null,
   "metadata": {},
   "outputs": [],
   "source": [
    "# Testing SGD optimizer\n",
    "mock_X = np.array([[-0.4838731, 0.08083195], [0.93456167, -0.50316134]])\n",
    "mock_y = 0 * mock_X + 1\n",
    "expected_weights = np.array([[0.25573477, 0.5835771], [-0.12784404, -0.10800216]])\n",
    "sgd_network = Network(SGD(1e-1), MSE())\n",
    "np.random.seed(42); sgd_network.add_layer(Dense(2, 2))\n",
    "for _ in range(4):\n",
    "    sgd_network.fit_batch(mock_X, mock_y)\n",
    "assert np.alltrue(np.isclose(sgd_network.layers[0].weights, expected_weights))"
   ]
  },
  {
   "cell_type": "markdown",
   "metadata": {
    "deletable": false,
    "editable": false,
    "nbgrader": {
     "cell_type": "markdown",
     "checksum": "3f12b3ca6c621b3ac26b141f9b305c6b",
     "grade": false,
     "grade_id": "q3_8",
     "locked": true,
     "schema_version": 3,
     "solution": false,
     "task": false
    }
   },
   "source": [
    "- **3.8 [6 points]** Create a neural network with your own choice of layers and activations. The last output should have dimension 1 to match that of our target. Since our target variable is either 0 or 1, you should use Sigmoid activation as the last layer to get outpouts in interval $[0,1]$. You'll be tweaking this to find a good choice of layers for the next questions"
   ]
  },
  {
   "cell_type": "code",
   "execution_count": null,
   "metadata": {
    "deletable": false,
    "nbgrader": {
     "cell_type": "code",
     "checksum": "186c0233d99911ee67b2c59d25608395",
     "grade": true,
     "grade_id": "a3_8",
     "locked": false,
     "points": 6,
     "schema_version": 3,
     "solution": true,
     "task": false
    },
    "pycharm": {
     "name": "#%%\n"
    }
   },
   "outputs": [],
   "source": [
    "# Workspace 3.8\n",
    "network = Network(optimizer=SGD(learning_rate=0.2), loss=MSE())\n",
    "#BEGIN \n",
    "# code here\n",
    "#END"
   ]
  },
  {
   "cell_type": "markdown",
   "metadata": {
    "deletable": false,
    "editable": false,
    "nbgrader": {
     "cell_type": "markdown",
     "checksum": "39ee969b9494921c2a0be801b19ac199",
     "grade": false,
     "grade_id": "q3_9",
     "locked": true,
     "schema_version": 3,
     "solution": false,
     "task": false
    }
   },
   "source": [
    "- **3.9 [5 points]** Using a batch size of 16, train for 200 epochs on circles' training parition to minimize the MSE. Plot the MSE at the end of each epoch on the entire dataset (using `circles.X` and `circles.labels`). You might need to go back and tweak the neural network (layers, learning rate of SGD) to get good performance.\n",
    "\n",
    "You'll have to try different learning rates to find the right one. You should expect an MSE ~ 0.1 at the end of the training."
   ]
  },
  {
   "cell_type": "code",
   "execution_count": null,
   "metadata": {
    "deletable": false,
    "nbgrader": {
     "cell_type": "code",
     "checksum": "557ac579c691e8ed74e088469f82f410",
     "grade": true,
     "grade_id": "cell-7512b0c741f87886",
     "locked": false,
     "points": 5,
     "schema_version": 3,
     "solution": true,
     "task": false
    },
    "pycharm": {
     "name": "#%%\n"
    }
   },
   "outputs": [],
   "source": [
    "batch_size = 16\n",
    "epochs = 200\n",
    "losses = []\n",
    "# Workspace 3.9\n",
    "#BEGIN \n",
    "# code here\n",
    "#END\n",
    "tests.show_decision_surface(network, circles.X, circles.labels)"
   ]
  },
  {
   "cell_type": "markdown",
   "metadata": {
    "deletable": false,
    "editable": false,
    "nbgrader": {
     "cell_type": "markdown",
     "checksum": "4f3b731d3406ead368df82635fdf154c",
     "grade": false,
     "grade_id": "adam",
     "locked": true,
     "schema_version": 3,
     "solution": false,
     "task": false
    }
   },
   "source": [
    "### Adam : Adaptive moment estimation (Bonus)\n",
    "SGD optimizer the simplest we can use. However, the batch estimation of the gradient can be noisy. [Adam](https://arxiv.org/pdf/1412.6980.pdf) optimizer smoothes out the gradient\n",
    "using a moving average of past gradients (first moment) and scales them using a moving average estimate of their norm (second moment).\n",
    "It works as follows:\n",
    "\n",
    "- Parameters: learning rate $\\alpha$, decay rates $\\beta_1$ and $\\beta_2$.\n",
    "- Initialize: $t=0$, $m = 0$, $v = 0$ (each network parameter should have its corresponding $m$ and $v$)\n",
    "- For each `apply_gradient` call given gradient $g$ do:\n",
    "    - $t \\leftarrow t+1$\n",
    "    - $m \\leftarrow \\beta_1 m + (1-\\beta_1) g$\n",
    "    - $v \\leftarrow \\beta_2 v + (1-\\beta_2) g^2$\n",
    "    - $\\hat{m} \\leftarrow \\frac{1}{1 - \\beta_1 ^ t} m$\n",
    "    - $\\hat{v} \\leftarrow \\frac{1}{1 - \\beta_2 ^ t} v$\n",
    "    - apply gradient $\\alpha .\\hat{m} / (\\sqrt{\\hat{v}} + \\epsilon)$ (division and sqrt are element wise, epsilon is a small constant to avoid zero division, we'll use $\\epsilon =10^{-8}$)\n",
    "Refer to the original paper is there is any confusion around the iterations\n",
    "\n",
    "**3.10 (Bonus Question) [5 points]** Complete Adam optimizer class and redo 3.9 using Adam optimizer instead. Try a learning rate that gave a bad performance using SGD.\n",
    "Which optimizer is better? why?"
   ]
  },
  {
   "cell_type": "code",
   "execution_count": null,
   "metadata": {
    "deletable": false,
    "nbgrader": {
     "cell_type": "code",
     "checksum": "771a3945b441c2a412872682f742b431",
     "grade": true,
     "grade_id": "a3_10_1",
     "locked": false,
     "points": 0,
     "schema_version": 3,
     "solution": true,
     "task": false
    },
    "pycharm": {
     "name": "#%%\n"
    }
   },
   "outputs": [],
   "source": [
    "class Adam(SGD):\n",
    "    def __init__(self, learning_rate, beta_1, beta_2):\n",
    "        super(Adam, self).__init__(learning_rate)\n",
    "        self.beta_1 = beta_1\n",
    "        self.beta_2 = beta_2\n",
    "        self.first_moment = None\n",
    "        self.second_moment = None\n",
    "        self.time_step = 0\n",
    "        self.gradients = []\n",
    "\n",
    "    def apply_gradients(self):\n",
    "        # Workspace 3.10.a\n",
    "        #BEGIN \n",
    "        # code here\n",
    "        #END\n",
    "        self.gradients = None"
   ]
  },
  {
   "cell_type": "code",
   "execution_count": null,
   "metadata": {},
   "outputs": [],
   "source": [
    "# Testing Adam optimizer\n",
    "mock_X = np.array([[-0.4838731, 0.08083195], [0.93456167, -0.50316134]])\n",
    "mock_y = 0 * mock_X + 1\n",
    "expected_weights = np.array([[-0.07104128, 0.36260954], [-0.50247728, -0.46956692]])\n",
    "adam_network = Network(Adam(1e-1, 0.9, 0.99), MSE())\n",
    "np.random.seed(42), adam_network.add_layer(Dense(2, 2))\n",
    "for _ in range(4):\n",
    "    adam_network.fit(mock_X, mock_y)\n",
    "assert np.alltrue(np.isclose(adam_network.layers[0].weights, expected_weights))\n"
   ]
  },
  {
   "cell_type": "code",
   "execution_count": null,
   "metadata": {
    "deletable": false,
    "nbgrader": {
     "cell_type": "code",
     "checksum": "fe44fdb1eaea76cb8310274402e2f372",
     "grade": true,
     "grade_id": "cell-b8511b5d5947a05b",
     "locked": false,
     "points": 0,
     "schema_version": 3,
     "solution": true,
     "task": false
    },
    "pycharm": {
     "name": "#%%\n"
    }
   },
   "outputs": [],
   "source": [
    "batch_size = 16\n",
    "epochs = 200\n",
    "losses = []\n",
    "network = Network(optimizer=Adam(1e-1, 0.9, 0.99), loss=MSE())\n",
    "# Workspace 3.10.b\n",
    "#BEGIN \n",
    "# code here\n",
    "#END\n",
    "tests.show_decision_surface(network, circles.X, circles.labels)"
   ]
  },
  {
   "cell_type": "markdown",
   "metadata": {},
   "source": [
    "### Workspace 3.10.c\n",
    "% Which optimizer is better\n",
    "\n",
    "%BEGIN\n",
    "\n",
    "%END"
   ]
  },
  {
   "cell_type": "markdown",
   "metadata": {
    "pycharm": {
     "name": "#%% md\n"
    }
   },
   "source": [
    "### Bonus Problem: Deep Q-Learning (10 points)\n",
    "\n",
    "This problem has a low [#points / effort] ratio, but we promise it's going to be fun and rewarding.\n",
    "We'll start first by explaining two elements of Markov Decision Process (MDP): policy $\\pi$ and its state-action functions $Q_\\pi$."
   ]
  },
  {
   "cell_type": "code",
   "execution_count": null,
   "metadata": {
    "deletable": false,
    "editable": false,
    "nbgrader": {
     "cell_type": "code",
     "checksum": "f2b8e3acc4bee749ee7c9cec74c2b944",
     "grade": false,
     "grade_id": "rl_imports",
     "locked": true,
     "schema_version": 3,
     "solution": false,
     "task": false
    },
    "pycharm": {
     "name": "#%%\n"
    }
   },
   "outputs": [],
   "source": [
    "import numpy as np\n",
    "import data\n",
    "import tests\n",
    "import tqdm.notebook\n",
    "import matplotlib.pyplot as plt"
   ]
  },
  {
   "cell_type": "code",
   "execution_count": null,
   "metadata": {
    "pycharm": {
     "name": "#%%\n"
    }
   },
   "outputs": [],
   "source": [
    "environment = data.GRID(grid_size=16, max_time=2000)\n",
    "environment.reset()\n",
    "environment.render()"
   ]
  },
  {
   "cell_type": "markdown",
   "metadata": {
    "pycharm": {
     "name": "#%% md\n"
    }
   },
   "source": [
    "\n",
    "We'll be using a _4-rooms_ environment where the goal of the agent (white square) is to reach the target (red square).\n",
    "The grid is 16 by 16, so there are 256 states. Not all the states are accessible, since the agent can't cross the blue walls.\n",
    "Each state $s$ is represented as a tuple $(x_s, y_s)$ that reflects the position of the agent.\n",
    "\n",
    "There are 4 possible actions at each state (clockwise): Up (0), Right(1), Down(2), Left(3).\n",
    "The agent gets a penalty (reward = -1) if it hits the blue walls and a reward = 1 if it reaches the target.\n",
    "The episode ends (game over) when the target is reached or the agent has taken 2000 steps.\n",
    "\n",
    "We will be using Q-learning to find a good policy that will allow us to reach the target before the time runs out.\n",
    "\n",
    "At step $t$, the agent is located at state $s_t$ and chooses an action $a_t = \\pi(s_t)$ following the policy $\\pi$\n",
    "\n",
    "The agent then gets reward $r_t$ and moves to state $s_{t+1}$. The process repeats until we reach a final state $s_T$ (`game_over == True`)\n",
    "\n",
    "We'll call a replay a sequence of tuples $(s_t, a_t, r_t, s_{t+1})$."
   ]
  },
  {
   "cell_type": "code",
   "execution_count": null,
   "metadata": {
    "pycharm": {
     "name": "#%%\n"
    }
   },
   "outputs": [],
   "source": [
    "# How to create a replay with one element\n",
    "# repeat as long as game_over is false\n",
    "replay = []\n",
    "current_state = environment.reset()\n",
    "action = 2\n",
    "print(\"Initial state:{}\".format(current_state))\n",
    "new_state, reward, game_over = environment.step(action)  # down\n",
    "replay.append((current_state, action, reward, new_state))\n",
    "current_state = new_state\n",
    "print(\"Took action: {}\".format(data.grid.ACTIONS_NAMES[action]))\n",
    "print(\"New state: {}\\nReward: {}\\nGame over:{}\".format(new_state, reward, game_over))\n",
    "environment.render()"
   ]
  },
  {
   "cell_type": "markdown",
   "metadata": {
    "pycharm": {
     "name": "#%% md\n"
    }
   },
   "source": [
    "Starting at time $t=0$, The agent's goal is to maximize the expected discounted rewards:\n",
    "\\begin{align}\n",
    "\\eta_\\pi = \\sum_{t | a_t =\\pi(s_t)} \\gamma^t r_t\n",
    "\\end{align}\n",
    "$0<\\gamma<1$ is the discount rate. We'll be using $\\gamma = 0.95$\n",
    "\n",
    "The main role of discounting the rewards is to motivate the agent to achieve the goal as early as possible (no procrastination).\n",
    "\n",
    "It makes reaching the goal at $t=1$, for example, more desirable than at $t=100$: $r_1=1$ contributes $\\gamma^1 =0.95$ while $r_{100} = 1$ will only count as $\\gamma^{100} =0.006$ in $\\eta_\\pi$.\n",
    "\n",
    "$Q_\\pi(s_t, a_t)$ is defined as the expected discounted rewards if we start at state $s_t$, take an initial actions $a_t$, and\n",
    "follow the policy $\\pi$ to decide the remaining action $(a_{t+1},..... a_{T-1})$.\n",
    "\n",
    "\\begin{align}\n",
    "Q_\\pi(s,a) = \\eta_\\pi, \\text{ such that } s_0 = s \\text{ and } a_0 = a\n",
    "\\end{align}\n",
    "\n",
    "The principle behind Q-learning, as the name suggests, is to learn the optimal $Q^*$.\n",
    "Since at each instant $t$, we want to pick the action that yields the best expected rewards, the optimal policy $\\pi^*$ would be:\n",
    "\\begin{align}\n",
    "\\pi^*(s) = \\arg\\max_a Q^*(s, a)\n",
    "\\end{align}\n",
    "\n",
    "__So how do we learn the optimal $Q^*$?__\n",
    "\n",
    "By exploring the environment and saving a replay $\\text{Replay} = \\{(s_t, a_t, r_t, s_{t+1})| t\\leq T\\}$ (one that reaches the goal, hopefully),\n",
    "\n",
    "we can use _Bellman equations_ to update our estimate of the $Q$ function in the following way:\n",
    "\\begin{align}\n",
    "Q_{new}(s_t, a_t) \\leftarrow r_t + \\gamma \\max_a Q_{old}(s_{t+1}, a), \\;\\;\\; \\forall \\; (s_t, a_t, r_t, s_{t+1})\\in \\text{Replay}\n",
    "\\end{align}\n",
    "\n",
    "We can prove that repeating this update will make our estimate converge to a unique optimal state-action value function $Q^*$.\n",
    "\n",
    "Instead of \"brutally\" updating Q, we'll use a learning rate $\\alpha$, so that the update would be :\n",
    "\\begin{align}\n",
    "Q_{new}(s_t, a_t) \\leftarrow  (1-\\alpha)Q_{old}(s_t, a_t) + \\alpha\\big[r_t + \\gamma \\max_a Q_{old}(s_{t+1}, a) \\big]\n",
    "\\end{align}\n",
    "\n",
    "In this first part, we'll use an array `Q` of shape (16 x 16 x 4) to store $Q$, and the value $Q(s,a)$ would be accessed via `Q[x_s, y_s, a]`.\n",
    "\n",
    "- 4.1 **[3 points]** Complete the class method `TabularQ.update` to apply _Bellman_ updates provided a replay"
   ]
  },
  {
   "cell_type": "code",
   "execution_count": null,
   "metadata": {
    "deletable": false,
    "nbgrader": {
     "cell_type": "code",
     "checksum": "972003c3038066ec3f5148682ec01a1f",
     "grade": true,
     "grade_id": "tabularq",
     "locked": false,
     "points": 0,
     "schema_version": 3,
     "solution": true,
     "task": false
    },
    "pycharm": {
     "name": "#%%\n"
    }
   },
   "outputs": [],
   "source": [
    "class TabularQ:\n",
    "    def __init__(self, gamma=0.95, learning_rate=0.01):\n",
    "        self.Q = np.zeros((16, 16, 4))\n",
    "        self.gamma = gamma\n",
    "        self.alpha = learning_rate\n",
    "\n",
    "    def update(self, replay):\n",
    "        for s_t, a_t, r_t, s_t_p_1 in replay:\n",
    "            # Workspace 4.1\n",
    "            #BEGIN \n",
    "            # code here\n",
    "            #END\n",
    "\n",
    "    def best_action(self, s):\n",
    "        action = np.argmax(self.Q[s[0], s[1]])\n",
    "        return action\n",
    "\n",
    "    def save(self, checkpoint_name):\n",
    "        np.savez_compressed(checkpoint_name, Q=self.Q)\n",
    "\n",
    "    def load(self, checkpoint_name):\n",
    "        self.Q = np.load(checkpoint_name +\".npz\" )[\"Q\"]\n",
    "\n",
    "class Policy():\n",
    "\n",
    "    def __init__(self, Q, epsilon=1):\n",
    "        self.Q = Q\n",
    "        self.epsilon = epsilon\n",
    "\n",
    "    def act(self, state):\n",
    "        if np.random.uniform(0, 1) <= self.epsilon:\n",
    "            return np.random.choice([0, 1, 2, 3])\n",
    "        else:\n",
    "            return self.Q.best_action(state)"
   ]
  },
  {
   "cell_type": "markdown",
   "metadata": {
    "pycharm": {
     "name": "#%% md\n"
    }
   },
   "source": [
    "Now we have to address a different question: when we explore the environment, how should we choose the actions?\n",
    "\n",
    "One approach is to follow a $\\epsilon$-greedy policy, where we choose a random action with probability $\\epsilon$ and the best action according to Q with probability $1-\\epsilon$.\n",
    "\n",
    "For instance, if $\\epsilon=1$, all actions are chosen randomly. For $\\epsilon=0$, all actions are chosen _greedily_.\n",
    "A common practice is to start with $\\epsilon=1$ and decay it to 0 as we generate replays. How fast we decay it is related to the famous _exploration-exploitation_ dilemma in Reinforcement Learning.\n",
    "\n",
    "4.2 **[2 points]** Complete the cell below to generate replays and update `tabular_Q` for `n_episodes`. You're free to choose your own decaying rate for $epsilon$ (including a 0 decay)\n"
   ]
  },
  {
   "cell_type": "code",
   "execution_count": null,
   "metadata": {},
   "outputs": [],
   "source": [
    "tabular_Q = TabularQ()"
   ]
  },
  {
   "cell_type": "code",
   "execution_count": null,
   "metadata": {
    "deletable": false,
    "nbgrader": {
     "cell_type": "code",
     "checksum": "919ab5bd9f0fc91f03a2a91712b10806",
     "grade": true,
     "grade_id": "a42",
     "locked": false,
     "points": 0,
     "schema_version": 3,
     "solution": true,
     "task": false
    },
    "pycharm": {
     "name": "#%%\n"
    }
   },
   "outputs": [],
   "source": [
    "n_episodes = 20\n",
    "greedy_policy = Policy(tabular_Q, epsilon=1.0)\n",
    "decay = 0.995\n",
    "def play(environment, policy):\n",
    "    # Returns one episode's replay and the total accumulated rewards\n",
    "    replay = []\n",
    "    current_state = environment.reset()\n",
    "    game_over = False\n",
    "    total_rewards = 0\n",
    "    while not game_over:\n",
    "        action = policy.act(current_state)\n",
    "        new_state, reward, game_over = environment.step(action)\n",
    "        replay.append((current_state, action, reward, new_state))\n",
    "        current_state = new_state\n",
    "        total_rewards += reward\n",
    "    return replay, total_rewards\n",
    "\n",
    "for _ in range(n_episodes):\n",
    "    # Workspace 4.2\n",
    "    #BEGIN \n",
    "    # code here\n",
    "    #END"
   ]
  },
  {
   "cell_type": "markdown",
   "metadata": {
    "pycharm": {
     "name": "#%% md\n"
    }
   },
   "source": [
    "Now let's examine how the agent behaves a following random policy vs our Q-learning policy.\n",
    "\n",
    "You should notice that if you run Q-learning multiple times, you might get different policies (different ways to reach the target) : we've mentioned before that $Q^*$ is unique, it's not the case for $\\pi^*$"
   ]
  },
  {
   "cell_type": "code",
   "execution_count": null,
   "metadata": {
    "pycharm": {
     "name": "#%%\n"
    }
   },
   "outputs": [],
   "source": [
    "_ = play(environment, Policy(tabular_Q, epsilon=1.0)) # completely random policy\n",
    "tests.save_frames(environment.episode, target_mp4=\"uniform\") # saves the episode to uniform.mp4\n",
    "tests.display_video(\"uniform\") # display uniform.mp4"
   ]
  },
  {
   "cell_type": "markdown",
   "metadata": {},
   "source": [
    "_Hint_ : if trained properly, you should expect \"Best policy reached target after\" < 30 steps"
   ]
  },
  {
   "cell_type": "code",
   "execution_count": null,
   "metadata": {
    "pycharm": {
     "name": "#%%\n"
    }
   },
   "outputs": [],
   "source": [
    "episode_length = len(play(environment, Policy(tabular_Q, epsilon=0.0))[0]) # optimal policy\n",
    "tests.save_frames(environment.episode, target_mp4=\"best_tabular\")\n",
    "tests.display_video(\"best_tabular\") # best_tabular.mp4\n",
    "print(\"Best policy reached target after {} steps\".format(episode_length))"
   ]
  },
  {
   "cell_type": "markdown",
   "metadata": {
    "pycharm": {
     "name": "#%% md\n"
    }
   },
   "source": [
    "- 4.3 **[1 point]** To get the full credit of the previous questions, you'll have to submit a zip file `q_learning.zip` that includes `uniform.mp4`, `best_tabular.mp4` from previous cells and `best_tabular.npz` from the cell below\n",
    "\n",
    "_Hint_:  If cells ran correctly, the files should appear in the same path as the notebook"
   ]
  },
  {
   "cell_type": "code",
   "execution_count": null,
   "metadata": {
    "pycharm": {
     "name": "#%%\n"
    }
   },
   "outputs": [],
   "source": [
    "tabular_Q.save(\"best_tabular\")"
   ]
  },
  {
   "cell_type": "markdown",
   "metadata": {
    "pycharm": {
     "name": "#%% md\n"
    }
   },
   "source": [
    "What made the tabular Q-learning more approachable is our knowledge of the state space. Our grid is 16 by 16, so there are 256 states in total (not all of them are accessible, due to the environment restrictions.)\n",
    "\n",
    "In the next Deep Q-learning section, we add randomness to our environment. In our _random_ grid, the target and the agents are randomly located, that yields $256^2 = 65536$ states. Not outside the realm of a tabular Q, but we will try to avoid that.\n",
    "\n",
    "When the grid is _random_, the state is no longer the (x,y) coordinates, but a 16x16 image of the environment\n"
   ]
  },
  {
   "cell_type": "code",
   "execution_count": null,
   "metadata": {
    "pycharm": {
     "name": "#%%\n"
    }
   },
   "outputs": [],
   "source": [
    "random_environment = data.GRID(grid_size=16, random=True, max_time=200)\n",
    "s = random_environment.reset()\n",
    "print(s.shape, s.max(), s.min())\n",
    "plt.imshow(s)"
   ]
  },
  {
   "cell_type": "markdown",
   "metadata": {
    "pycharm": {
     "name": "#%% md\n"
    }
   },
   "source": [
    "In Deep Q learning, we model Q as neural network $Q_\\theta$ where $\\theta$ represent the network parameters.\n",
    "The neural network takes the state image as input and outputs a 4-dimensional array $Q(s)$ where $Q(s)_i = Q(s, i) $ for $i\\in[0,1,2,3]$.\n",
    "\n",
    "Given a replay $Replay$, we will call an iteration:\n",
    "- Get the current $Q$ values of the states $s_t$ : `Q_s`\n",
    "- Get the current $Q$ values of the states $s_{t+1}$: `Q_s_p`\n",
    "- Updates the element of `Q_s` following __Bellman__ method (you'll have to use `Q_s_p`, the replay actions and the rewards)\n",
    "- Fit the neural network using the replays states and the computed `Q_s` for a single epoch\n",
    "\n",
    "A single update might consist of several iterations ( do not confuse this with the neural network fit's epoch)\n",
    "\n",
    "We'll be minimizing the objective\n",
    "\\begin{align}\n",
    "    \\mathcal{L}_\\theta(\\text{Replay}) = \\sum_{(s_t, a_t, r_t, s_{t+1}) \\in \\text{Replay}} \\mathcal{L}\\big(Q_{\\theta}(s_t, a_t) - \\big[r_t + \\gamma \\max_a Q_\\theta(s_{t+1}, a) \\big] \\big)\n",
    "\\end{align}\n",
    "where $\\mathcal{L}$ is a loss function.\n",
    "\n",
    "In our implementation, we'll be using `Huber` loss. You're free to change the loss, the learning rate, and the network architecture. The ones provided bellow have been tested, and they're guaranteed to work\n",
    "\n",
    "- 4.4 **[4 points]** Complete `DeepQ.update` to perform _Bellman_ iterations"
   ]
  },
  {
   "cell_type": "code",
   "execution_count": null,
   "metadata": {
    "deletable": false,
    "nbgrader": {
     "cell_type": "code",
     "checksum": "d75aac719b448c6fcfcb65d1e8ce7641",
     "grade": true,
     "grade_id": "a44",
     "locked": false,
     "points": 0,
     "schema_version": 3,
     "solution": true,
     "task": false
    }
   },
   "outputs": [],
   "source": [
    "from keras import models\n",
    "from keras import layers\n",
    "from keras import optimizers\n",
    "from keras import losses\n",
    "\n",
    "class DeepQ:\n",
    "    def __init__(self, gamma=0.95):\n",
    "        self.neural_net = models.Sequential([layers.InputLayer(input_shape=(16, 16, 3)),\n",
    "                                             data.get_inception_layer(32, 32, 32),\n",
    "                                             layers.Conv2D(64, 2, 2, activation=\"relu\"),\n",
    "                                             data.get_inception_layer(32, 32, 32),\n",
    "                                             layers.Conv2D(128, 2, 2, activation=\"relu\"),\n",
    "                                             layers.Conv2D(256, 2, 2, activation=\"relu\"),\n",
    "                                             layers.Flatten(),\n",
    "                                             layers.Dense(256, activation=\"tanh\"),\n",
    "                                             layers.Dense(512),\n",
    "                                             layers.Dense(4)])  # Do not change the model\n",
    "        optimizer = optimizers.adam_v2.Adam(learning_rate=1e-4)  # You can change the learning rate\n",
    "        self.neural_net.compile(loss=losses.Huber(), optimizer=optimizer)  # You can also change the loss function\n",
    "        self.neural_net.summary()\n",
    "        self.gamma = gamma\n",
    "\n",
    "    def update(self, replay, iterations=2, batch_size=32):\n",
    "        current_states = np.array([r[0] for r in replay])\n",
    "        actions = np.array([r[1] for r in replay])\n",
    "        rewards = np.array([r[2] for r in replay])\n",
    "        next_states = np.array([r[3] for r in replay])\n",
    "\n",
    "        loss = 0\n",
    "        for _ in range(iterations):\n",
    "            # Workspace 4.4\n",
    "            # Todo: predict Q_s and Q_s_p\n",
    "            # Use Q_s_p, actions, rewards to update Q_s and fit self.neural_network for one epoch\n",
    "            Q_s = None\n",
    "            \n",
    "            #BEGIN \n",
    "            # code here\n",
    "            #END\n",
    "            history = self.neural_net.fit(current_states, Q_s, epochs=1, batch_size=batch_size)\n",
    "            loss += history.history[\"loss\"][0]\n",
    "        print(\"Loss:\", loss / iterations)\n",
    "\n",
    "    def best_action(self, s):\n",
    "        # We want to allow some noise in the estimation\n",
    "        q = self.neural_net.predict(s[None, :])[0]\n",
    "        q_max = np.max(q)\n",
    "        possible_actions = np.where(np.abs(q - q_max) < 0.05 * np.std(q))[0]\n",
    "        return np.random.choice(possible_actions)\n",
    "\n",
    "    def checkpoint(self, checkpoint_path):\n",
    "        self.neural_net.save_weights(checkpoint_path)\n",
    "\n",
    "    def load(self, checkpoint_path):\n",
    "        self.neural_net.load_weights(checkpoint_path)\n"
   ]
  },
  {
   "cell_type": "code",
   "execution_count": null,
   "metadata": {
    "pycharm": {
     "name": "#%%\n"
    }
   },
   "outputs": [],
   "source": [
    "deep_Q = DeepQ()"
   ]
  },
  {
   "cell_type": "markdown",
   "metadata": {
    "pycharm": {
     "name": "#%% md\n"
    }
   },
   "source": [
    "Feel free to tweak the training parameters if you think it would improve learning. The provided ones have been tested and they should work."
   ]
  },
  {
   "cell_type": "code",
   "execution_count": null,
   "metadata": {
    "pycharm": {
     "name": "#%%\n"
    }
   },
   "outputs": [],
   "source": [
    "greedy_policy = Policy(deep_Q, epsilon=1.0)\n",
    "# Tweak the next parameters to improve the learning\n",
    "n_episodes = 75\n",
    "steps_per_replay = 8000\n",
    "decay= 0.995"
   ]
  },
  {
   "cell_type": "code",
   "execution_count": null,
   "metadata": {
    "pycharm": {
     "name": "#%%\n"
    }
   },
   "outputs": [],
   "source": [
    "for e in range(n_episodes):\n",
    "    replay = []\n",
    "    episode = []\n",
    "    rewards = 0\n",
    "    pbar = tqdm.notebook.tqdm(desc=\"Generating replay\", total=steps_per_replay)\n",
    "    while len(replay) < steps_per_replay:\n",
    "        rep, rew = play(random_environment, greedy_policy)\n",
    "        episode += random_environment.episode\n",
    "        replay += rep\n",
    "        rewards += rew\n",
    "        pbar.update(len(rep))\n",
    "    pbar.close()\n",
    "    tests.save_frames(episode, \"currently_training\") # save video of last episodes played\n",
    "\n",
    "    print(\"episode\", e + 1,\"/\",n_episodes,\", eps:\", greedy_policy.epsilon, \"total rewards:\", rewards)\n",
    "    deep_Q.update(replay, iterations=4)\n",
    "    greedy_policy.epsilon *= decay"
   ]
  },
  {
   "cell_type": "markdown",
   "metadata": {
    "pycharm": {
     "name": "#%% md\n"
    }
   },
   "source": [
    "4.5 [**1 point**] To be considered for full credit, include `deep_q.mp4` and the `checkpoint` folder in your submitted `q_learning.zip`\n",
    "\n",
    "_Hint_ : if trained properly, you should expect `\"Total rewards over 10 episodes` > 75"
   ]
  },
  {
   "cell_type": "code",
   "execution_count": null,
   "metadata": {
    "pycharm": {
     "name": "#%%\n"
    }
   },
   "outputs": [],
   "source": [
    "short_random_environment = data.GRID(random=True, max_time=100)\n",
    "episodes = []\n",
    "deep_best_policy = Policy(deep_Q, epsilon=0)\n",
    "rewards = 0\n",
    "for _ in tqdm.notebook.tqdm(range(10)):\n",
    "    rewards += play(short_random_environment, deep_best_policy)[1]\n",
    "    episodes += short_random_environment.episode\n",
    "print(\"Total rewards over 10 episodes:\", rewards)\n",
    "tests.save_frames(episodes, \"deep_q\")"
   ]
  },
  {
   "cell_type": "code",
   "execution_count": null,
   "metadata": {
    "pycharm": {
     "name": "#%%\n"
    }
   },
   "outputs": [],
   "source": [
    "tests.display_video(\"deep_q\")"
   ]
  },
  {
   "cell_type": "code",
   "execution_count": null,
   "metadata": {
    "pycharm": {
     "name": "#%%\n"
    }
   },
   "outputs": [],
   "source": [
    "deep_Q.checkpoint(\"checkpoint/deep_q\")"
   ]
  }
 ],
 "metadata": {
  "kernelspec": {
   "display_name": "Python 3 (ipykernel)",
   "language": "python",
   "name": "python3"
  },
  "language_info": {
   "codemirror_mode": {
    "name": "ipython",
    "version": 3
   },
   "file_extension": ".py",
   "mimetype": "text/x-python",
   "name": "python",
   "nbconvert_exporter": "python",
   "pygments_lexer": "ipython3",
   "version": "3.8.12"
  }
 },
 "nbformat": 4,
 "nbformat_minor": 2
}
